{
 "cells": [
  {
   "cell_type": "markdown",
   "metadata": {},
   "source": [
    "Midterm 1, Exercise 1, Example 1, 2, 3"
   ]
  },
  {
   "cell_type": "markdown",
   "metadata": {},
   "source": [
    "Make Dictionaries"
   ]
  },
  {
   "cell_type": "code",
   "execution_count": null,
   "metadata": {},
   "outputs": [],
   "source": [
    "import re"
   ]
  },
  {
   "cell_type": "code",
   "execution_count": 1,
   "metadata": {},
   "outputs": [],
   "source": [
    "# ex frequency dictionary, example 1\n",
    "debug_text = 'Amazing amazing IS this    amaZing beauTiful   world'\n",
    "def count_words(text):\n",
    "    text = text.lower()\n",
    "    list_words = text.split()\n",
    "    word_dict = {}\n",
    "    for word in list_words:\n",
    "        word_dict[word] = word_dict.get(word, 0) + 1\n",
    "    return (word_dict)"
   ]
  },
  {
   "cell_type": "code",
   "execution_count": 2,
   "metadata": {},
   "outputs": [
    {
     "data": {
      "text/plain": [
       "{'amazing': 3, 'is': 1, 'this': 1, 'beautiful': 1, 'world': 1}"
      ]
     },
     "execution_count": 2,
     "metadata": {},
     "output_type": "execute_result"
    }
   ],
   "source": [
    "count_words(debug_text)"
   ]
  },
  {
   "cell_type": "markdown",
   "metadata": {},
   "source": [
    "Summarizing Dictionary Items"
   ]
  },
  {
   "cell_type": "code",
   "execution_count": 3,
   "metadata": {},
   "outputs": [
    {
     "name": "stdout",
     "output_type": "stream",
     "text": [
      "[{'playlists': [{'name': 'Starred',\n",
      "                 'tracks': [{'artist': 'André Rieu',\n",
      "                             'title': 'Once Upon A Time In The West - Main '\n",
      "                                      'Title Theme'},\n",
      "                            {'artist': 'André Rieu',\n",
      "                             'title': 'The Second Waltz - From Eyes Wide '\n",
      "                                      'Shut'}]}],\n",
      "  'user_id': '0c8435917bd098dce8df8f62b736c0ed'},\n",
      " {'playlists': [{'name': 'Liked from Radio',\n",
      "                 'tracks': [{'artist': 'The Police',\n",
      "                             'title': 'Every Breath You Take'},\n",
      "                            {'artist': 'Lucio Battisti',\n",
      "                             'title': 'Per Una Lira'},\n",
      "                            {'artist': 'Alicia Keys ft. Jay-Z',\n",
      "                             'title': 'Empire State of Mind'}]},\n",
      "                {'name': 'Starred',\n",
      "                 'tracks': [{'artist': 'U2', 'title': 'With Or Without You'}]}],\n",
      "  'user_id': 'fc799d71e8d2004377d6d8e861479559'}]\n"
     ]
    }
   ],
   "source": [
    "# ex 1, example 2\n",
    "ex0_demo_users = [{'user_id': '0c8435917bd098dce8df8f62b736c0ed',\n",
    " 'playlists': [{'name': 'Starred',\n",
    " 'tracks': [{'artist': 'André Rieu',\n",
    " 'title': 'Once Upon A Time In The West - Main Title Theme'},\n",
    " {'artist': 'André Rieu',\n",
    " 'title': 'The Second Waltz - From Eyes Wide Shut'}]}]},\n",
    " {'user_id': 'fc799d71e8d2004377d6d8e861479559',\n",
    " 'playlists': [{'name': 'Liked from Radio',\n",
    " 'tracks': [{'artist': 'The Police', 'title': 'Every Breath You Take'},\n",
    " {'artist': 'Lucio Battisti', 'title': 'Per Una Lira'},\n",
    " {'artist': 'Alicia Keys ft. Jay-Z', 'title': 'Empire State of Mind'}]},\n",
    " {'name': 'Starred', 'tracks': [{'artist': 'U2', 'title': 'With Or Without You'}]}]}]\n",
    "\n",
    "from pprint import pprint\n",
    "\n",
    "pprint(ex0_demo_users)"
   ]
  },
  {
   "cell_type": "code",
   "execution_count": 24,
   "metadata": {},
   "outputs": [],
   "source": [
    "def count_playlists(users):\n",
    " ### BEGIN SOLUTION\n",
    " return sum(len(user['playlists']) for user in users)\n"
   ]
  },
  {
   "cell_type": "code",
   "execution_count": 25,
   "metadata": {},
   "outputs": [
    {
     "data": {
      "text/plain": [
       "3"
      ]
     },
     "execution_count": 25,
     "metadata": {},
     "output_type": "execute_result"
    }
   ],
   "source": [
    "count_playlists(ex0_demo_users)"
   ]
  },
  {
   "cell_type": "code",
   "execution_count": 27,
   "metadata": {},
   "outputs": [
    {
     "data": {
      "text/plain": [
       "5"
      ]
     },
     "execution_count": 27,
     "metadata": {},
     "output_type": "execute_result"
    }
   ],
   "source": [
    "# count artisit distinct artist names\n",
    "def count_artists(users):\n",
    "    artists_set = set()\n",
    "    for user in users:\n",
    "        for playlist in user['playlists']:\n",
    "            for track in playlist['tracks']:\n",
    "                artists_set |= {track['artist'].lower()}\n",
    "    return len(artists_set)\n",
    "\n",
    "count_artists(ex0_demo_users)"
   ]
  },
  {
   "cell_type": "code",
   "execution_count": 30,
   "metadata": {},
   "outputs": [],
   "source": [
    "# clean data\n",
    "def extract_artists(artist):\n",
    "    ### BEGIN SOLUTION\n",
    "    import re\n",
    "    artist = artist.lower() # convert to lowercase\n",
    "    for space_equivalent in '-.?!_':\n",
    "        artist = artist.replace(space_equivalent, ' ')\n",
    "    for separator_word in ['featuring', 'feat', 'ft', 'and', 'with', 'vs', 'x']:\n",
    "        artist = artist.replace(f' {separator_word} ', ' & ')\n",
    "    for and_equivalent in '/&,;()[]{}':\n",
    "        artist = artist.replace(and_equivalent, ' & ')\n",
    "    artists = artist.split('&')\n",
    "    artists = set(re.sub('\\s+', ' ', a).strip() for a in artists)\n",
    "    return {a for a in artists if a} # prune empty strings\n",
    "    ### END SOLUTION"
   ]
  },
  {
   "cell_type": "code",
   "execution_count": 31,
   "metadata": {},
   "outputs": [
    {
     "name": "stdout",
     "output_type": "stream",
     "text": [
      "'Alicia Keys ft. Jay-Z' ==> {'jay z', 'alicia keys'}\n",
      "'A-Trak x Kanye x Jay-Z' ==> {'kanye', 'a trak', 'jay z'}\n",
      "'JAY Z Featuring Beyoncé' ==> {'beyoncé', 'jay z'}\n",
      "'Jay-Z Featuring Beyoncé Knowles' ==> {'jay z', 'beyoncé knowles'}\n",
      "'Jay-Z/Kanye West/Lil Wayne/T.I.' ==> {'kanye west', 'jay z', 'lil wayne', 't i'}\n",
      "'Young Jeezy Ft. Jay-Z & Fat Joe' ==> {'jay z', 'young jeezy', 'fat joe'}\n",
      "'Lil Wayne Drake Jay-Z And Gif Majorz' ==> {'lil wayne drake jay z', 'gif majorz'}\n",
      "'Timbaland & Magoo feat Jay-Z' ==> {'jay z', 'magoo', 'timbaland'}\n",
      "'OutKast/Jay-Z/Killer Mike' ==> {'killer mike', 'jay z', 'outkast'}\n",
      "'Jay-Z Ft.Rihanna And Kanye West' ==> {'jay z', 'kanye west', 'rihanna'}\n",
      "'Pat Benetar vs. Beyonce vs. 3OH!3 Feat. Britney Spears, Christina Aguilera, & M.I.A.' ==> {'3oh 3', 'm i a', 'christina aguilera', 'britney spears', 'pat benetar', 'beyonce'}\n",
      "'jay z with the roots. s' ==> {'jay z', 'the roots s'}\n"
     ]
    }
   ],
   "source": [
    "ex0_inputs = ['Alicia Keys ft. Jay-Z',\n",
    " 'A-Trak x Kanye x Jay-Z',\n",
    " 'JAY Z Featuring Beyoncé',\n",
    " 'Jay-Z Featuring Beyoncé Knowles',\n",
    " 'Jay-Z/Kanye West/Lil Wayne/T.I.',\n",
    " 'Young Jeezy Ft. Jay-Z & Fat Joe',\n",
    " 'Lil Wayne Drake Jay-Z And Gif Majorz',\n",
    " 'Timbaland & Magoo feat Jay-Z',\n",
    " 'OutKast/Jay-Z/Killer Mike',\n",
    " 'Jay-Z Ft.Rihanna And Kanye West',\n",
    " 'Pat Benetar vs. Beyonce vs. 3OH!3 Feat. Britney Spears, Christina Aguilera, & M.I.A.',\n",
    " 'jay z with the roots. s']\n",
    "\n",
    "for a in ex0_inputs:\n",
    " print(f\"'{a}' ==> {extract_artists(a)}\")"
   ]
  },
  {
   "cell_type": "code",
   "execution_count": 34,
   "metadata": {},
   "outputs": [
    {
     "data": {
      "text/plain": [
       "[{'André Rieu'},\n",
       " {'Alicia Keys ft. Jay-Z', 'Lucio Battisti', 'The Police'},\n",
       " {'U2'}]"
      ]
     },
     "execution_count": 34,
     "metadata": {},
     "output_type": "execute_result"
    }
   ],
   "source": [
    "# extract from dictionary\n",
    "def extract_playlists(users):\n",
    "    ### BEGIN SOLUTION\n",
    "    playlists = []\n",
    "    for user in users:\n",
    "        for playlist in user['playlists']:\n",
    "            artists = set()\n",
    "            for tracks in playlist['tracks']:\n",
    "                artists |= {tracks['artist']}\n",
    "            playlists.append(artists)\n",
    "    return playlists\n",
    "    ### END SOLUTION\n",
    "    \n",
    "extract_playlists(ex0_demo_users)"
   ]
  },
  {
   "cell_type": "code",
   "execution_count": 38,
   "metadata": {},
   "outputs": [
    {
     "ename": "KeyError",
     "evalue": "'Lucio Battisti'",
     "output_type": "error",
     "traceback": [
      "\u001b[1;31m---------------------------------------------------------------------------\u001b[0m",
      "\u001b[1;31mKeyError\u001b[0m                                  Traceback (most recent call last)",
      "Cell \u001b[1;32mIn[38], line 11\u001b[0m\n\u001b[0;32m      7\u001b[0m     \u001b[38;5;28;01mreturn\u001b[39;00m output_set\n\u001b[0;32m      8\u001b[0m     \u001b[38;5;66;03m### END SOLUTION\u001b[39;00m\n\u001b[0;32m      9\u001b[0m     \n\u001b[0;32m     10\u001b[0m \u001b[38;5;66;03m# Demo cell:\u001b[39;00m\n\u001b[1;32m---> 11\u001b[0m \u001b[43mnormalize_artist_set\u001b[49m\u001b[43m(\u001b[49m\u001b[43m{\u001b[49m\u001b[38;5;124;43m'\u001b[39;49m\u001b[38;5;124;43mAlicia Keys ft. Jay-Z\u001b[39;49m\u001b[38;5;124;43m'\u001b[39;49m\u001b[43m,\u001b[49m\u001b[43m \u001b[49m\u001b[38;5;124;43m'\u001b[39;49m\u001b[38;5;124;43mLucio Battisti\u001b[39;49m\u001b[38;5;124;43m'\u001b[39;49m\u001b[43m,\u001b[49m\u001b[43m \u001b[49m\u001b[38;5;124;43m'\u001b[39;49m\u001b[38;5;124;43mThe Police\u001b[39;49m\u001b[38;5;124;43m'\u001b[39;49m\u001b[43m}\u001b[49m\u001b[43m)\u001b[49m\n\u001b[0;32m     12\u001b[0m \u001b[38;5;66;03m# expected output: `{'alicia keys', 'jay z', 'lucio battisti', 'the police'}`\u001b[39;00m\n",
      "Cell \u001b[1;32mIn[38], line 6\u001b[0m, in \u001b[0;36mnormalize_artist_set\u001b[1;34m(artist_set)\u001b[0m\n\u001b[0;32m      4\u001b[0m output_set \u001b[38;5;241m=\u001b[39m \u001b[38;5;28mset\u001b[39m()\n\u001b[0;32m      5\u001b[0m \u001b[38;5;28;01mfor\u001b[39;00m a \u001b[38;5;129;01min\u001b[39;00m artist_set:\n\u001b[1;32m----> 6\u001b[0m     output_set \u001b[38;5;241m|\u001b[39m\u001b[38;5;241m=\u001b[39m \u001b[43martist_translation_table\u001b[49m\u001b[43m[\u001b[49m\u001b[43ma\u001b[49m\u001b[43m]\u001b[49m\n\u001b[0;32m      7\u001b[0m \u001b[38;5;28;01mreturn\u001b[39;00m output_set\n",
      "\u001b[1;31mKeyError\u001b[0m: 'Lucio Battisti'"
     ]
    }
   ],
   "source": [
    "def normalize_artist_set(artist_set):\n",
    "    ### BEGIN SOLUTION\n",
    "    artist_translation_table = {} # not strictly necessary, but self-documenting\n",
    "    output_set = set()\n",
    "    for a in artist_set:\n",
    "        output_set |= artist_translation_table[a]\n",
    "    return output_set\n",
    "    ### END SOLUTION\n",
    "    \n",
    "# Demo cell:\n",
    "normalize_artist_set({'Alicia Keys ft. Jay-Z', 'Lucio Battisti', 'The Police'})\n",
    "# expected output: `{'alicia keys', 'jay z', 'lucio battisti', 'the police'}`"
   ]
  }
 ],
 "metadata": {
  "kernelspec": {
   "display_name": "Python 3",
   "language": "python",
   "name": "python3"
  },
  "language_info": {
   "codemirror_mode": {
    "name": "ipython",
    "version": 3
   },
   "file_extension": ".py",
   "mimetype": "text/x-python",
   "name": "python",
   "nbconvert_exporter": "python",
   "pygments_lexer": "ipython3",
   "version": "3.11.2"
  }
 },
 "nbformat": 4,
 "nbformat_minor": 2
}
