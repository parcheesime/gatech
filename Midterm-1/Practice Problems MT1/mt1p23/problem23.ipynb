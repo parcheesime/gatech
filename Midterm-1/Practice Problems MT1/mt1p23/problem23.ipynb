{
    "cells": [
        {
            "cell_type": "markdown",
            "metadata": {
                "deletable": false,
                "editable": false,
                "nbgrader": {
                    "grade": false,
                    "locked": true,
                    "solution": false
                }
            },
            "source": [
                "# Problem 23: How partisan is the US Congress?\n",
                "\n",
                "_Version 1.1b_\n",
                "\n",
                "This problem is about basic data processing using Python. It exercises your fundamental knowledge of Python data structures, such as lists, dictionaries, and strings. It has seven exercises, numbered 0-6.\n",
                "\n",
                "Each exercise builds on the previous one. However, they may be completed independently. That is, if you can't complete an exercise, we provide some code that can run to load precomputed results for the next exercise. That way, you can keep moving even if you get stuck.\n",
                "\n",
                "**Pro-tips.**\n",
                "- If your program behavior seem strange, try resetting the kernel and rerunning everything.\n",
                "- If you mess up this notebook or just want to start from scratch, save copies of all your partial responses and use `Actions` $\\rightarrow$ `Reset Assignment` to get a fresh, original copy of this notebook. _(Resetting will wipe out any answers you've written so far, so be sure to stash those somewhere safe if you intend to keep or reuse them!)_\n",
                "- If you generate excessive output (e.g., from an ill-placed `print` statement) that causes the notebook to load slowly or not at all, use `Actions` $\\rightarrow$ `Clear Notebook Output` to get a clean copy. The clean copy will retain your code but remove any generated output. **However**, it will also **rename** the notebook to `clean.xxx.ipynb`. Since the autograder expects a notebook file with the original name, you'll need to rename the clean notebook accordingly.\n",
                "\n",
                "**Good luck!**"
            ]
        },
        {
            "cell_type": "markdown",
            "metadata": {
                "deletable": false,
                "editable": false,
                "nbgrader": {
                    "grade": false,
                    "locked": true,
                    "solution": false
                }
            },
            "source": [
                "## Background ##\n",
                "\n",
                "The United States Congress is the part of the US government that makes laws for the entire country. It is dominated by two rival political parties, the Democrats and the Republicans. You would expect that these parties oppose each other on most issues but occasionally agree.\n",
                "\n",
                "Some have conjectured that, over time, the two parties agree less and less, which would reflect a perceived growing ideological or political divide in the US. But is that the real trend? In this problem, you'll explore this question using data collected by [ProPublica](https://www.propublica.org/), a nonprofit investigative media organization."
            ]
        },
        {
            "cell_type": "markdown",
            "metadata": {
                "deletable": false,
                "editable": false,
                "nbgrader": {
                    "grade": false,
                    "locked": true,
                    "solution": false
                }
            },
            "source": [
                "## Setup and data loading ##\n",
                "\n",
                "Run the code cells below to load the data. This code will hold the data in two variables, one named `votes` and another named `positions`."
            ]
        },
        {
            "cell_type": "code",
            "execution_count": 1,
            "metadata": {
                "deletable": false,
                "editable": false,
                "nbgrader": {
                    "grade": false,
                    "locked": true,
                    "solution": false
                }
            },
            "outputs": [],
            "source": [
                "import sys\n",
                "print(f\"* Python version: {sys.version}\")\n",
                "\n",
                "from testing_tools import load_json, save_json, load_pickle, save_pickle\n",
                "\n",
                "votes = load_json(\"votes.json\")\n",
                "vote_positions = [p for p in load_json(\"positions.json\") if p['positions']]\n",
                "    \n",
                "print(\"\\n==> Data loading complete.\")\n",
                "\n",
                "###\n",
                "### AUTOGRADER TEST - DO NOT REMOVE\n",
                "###\n"
            ]
        },
        {
            "cell_type": "markdown",
            "metadata": {
                "deletable": false,
                "editable": false,
                "nbgrader": {
                    "grade": false,
                    "locked": true,
                    "solution": false
                }
            },
            "source": [
                "## Part 0: Analyzing vote results ##\n",
                "\n",
                "The Congress votes on various things, like new laws or political nominations. The results of these votes are stored in the `votes` variable loaded above. Let's look at it. First, note that `votes` is a list:"
            ]
        },
        {
            "cell_type": "code",
            "execution_count": 2,
            "metadata": {
                "deletable": false,
                "editable": false,
                "nbgrader": {
                    "grade": false,
                    "locked": true,
                    "solution": false
                }
            },
            "outputs": [],
            "source": [
                "print(type(votes))\n",
                "print(\"Length:\", len(votes))"
            ]
        },
        {
            "cell_type": "markdown",
            "metadata": {
                "deletable": false,
                "editable": false,
                "nbgrader": {
                    "grade": false,
                    "locked": true,
                    "solution": false
                }
            },
            "source": [
                "**Vote results.** What is `votes` a list of? Each element is one **vote result.** Let's look at the first entry."
            ]
        },
        {
            "cell_type": "code",
            "execution_count": 3,
            "metadata": {
                "deletable": false,
                "editable": false,
                "nbgrader": {
                    "grade": false,
                    "locked": true,
                    "solution": false
                }
            },
            "outputs": [],
            "source": [
                "from testing_tools import inspect_data\n",
                "\n",
                "inspect_data(votes[0]) # View the first element of the list, `votes`"
            ]
        },
        {
            "cell_type": "markdown",
            "metadata": {
                "deletable": false,
                "editable": false,
                "nbgrader": {
                    "grade": false,
                    "locked": true,
                    "solution": false
                }
            },
            "source": [
                "**Observation 0.** This first entry of the list is a dictionary, and the data structure is nested even more. For instance, the `\"bill\"` key has another dictionary as its value.\n",
                "\n",
                "Remember that what you see above is `votes[0]`, the first entry of the `votes` list. For the rest of this problem, you may assume that all other entries of `votes` have the same keys and nesting structure."
            ]
        },
        {
            "cell_type": "markdown",
            "metadata": {
                "deletable": false,
                "editable": false,
                "nbgrader": {
                    "grade": false,
                    "locked": true,
                    "solution": false
                }
            },
            "source": [
                "**Exercise 0** (2 points). Let's pick out a subset of the data to analyze. Complete the function below, `filter_votes(votes)`.\n",
                "\n",
                "- The input, `votes`, is a list of vote results like the one above.\n",
                "- Your function should return a copy of this list, keeping _only_ vote results meeting the following criteria:\n",
                "    1. The `'vote_type'` is one of the following: `\"1/2\"`, `\"YEA-AND-NAY\"`, `\"RECORDED VOTE\"`\n",
                "    2. Notice that the `'total'` key is a dictionary. Retain only the vote results where this dictionary has _all_ of the fields `'yes'`, `'no'`, `'present'`, and `'not_voting'`.\n",
                "    \n",
                "Your copy should include vote results in the same order as the input list.\n",
                "\n",
                "> _Note 0:_ The reason for Condition 2 above is that for some vote results, the `'total'` dictionary does not have those fields. For an example, see `votes[18319]`. You would not include that vote result in your output.\n",
                ">\n",
                "> _Note 1:_ The test cell does not use real vote results, but randomly generated synthetic ones. Your solution should _not_ depend on the presence of any specific keys other than the ones you need for filtering, namely, `'vote_type'` and `'total'`.\n",
                "\n",
                "As an example, suppose `V` is the following vote results list (only the salient keys are included):\n",
                "\n",
                "```python\n",
                "V = [ {'vote_type': \"1/2\", 'total': {'yes': 5, 'no': 8, 'present': 0, 'not_voting': 2}, ...},\n",
                "      {'vote_type': \"RECORDED VOTE\", 'total': {'yes': 12, 'present': 2, 'not_voting': 1}, ...},\n",
                "      {'vote_type': \"3/5\", 'total': {'yes': 50, 'no': 14, 'present': 0, 'not_voting': 0}, ...},\n",
                "      {'vote_type': \"YEA-AND-NAY\", 'total': {'yes': 25, 'no': 3, 'present': 3, 'not_voting': 0}, ...} ]\n",
                "```\n",
                "\n",
                "Then running `filter_votes(V)` would return the following new list:\n",
                "\n",
                "```python\n",
                "[ {'vote_type': \"1/2\", 'total': {'yes': 5, 'no': 8, 'present': 0, 'not_voting': 2}, ...},\n",
                "  {'vote_type': \"YEA-AND-NAY\", 'total': {'yes': 25, 'no': 3, 'present': 3, 'not_voting': 0}, ...} ]\n",
                "```\n",
                "\n",
                "In this case, `V[1]` is omitted because its `'total'` key is missing the `'no'` key; and `V[2]` is omitted because the `'vote_type'` is not one of `\"1/2\"`, `\"YEA-AND-NAY\"`, or `\"RECORDED VOTE\"`."
            ]
        },
        {
            "cell_type": "code",
            "execution_count": 1,
            "metadata": {
                "collapsed": true
            },
            "outputs": [],
            "source": [
                "def filter_votes(votes):\n",
                "    assert isinstance(votes, list) and len(votes) >= 1\n",
                "    assert isinstance(votes[0], dict)\n",
                "    tlist = []\n",
                "    for v in votes:\n",
                "        # Check if 'vote_type' is one of the specified values\n",
                "        valid_vote_types = {\"1/2\", \"YEA-AND-NAY\", \"RECORDED VOTE\"}\n",
                "        if v['vote_type'] in valid_vote_types:\n",
                "            # Corrected access to 'total' keys for the current vote dictionary (v)\n",
                "            if {'yes', 'no', 'present', 'not_voting'} == set(v['total'].keys()):\n",
                "                tlist.append(v)\n",
                "    return tlist\n"
            ]
        },
        {
            "cell_type": "code",
            "execution_count": 5,
            "metadata": {},
            "outputs": [],
            "source": [
                "# Demo cell (feel free to use and edit for debugging)\n",
                "V = [ {'vote_type': \"1/2\", 'total': {'yes': 5, 'no': 8, 'present': 0, 'not_voting': 2}},\n",
                "      {'vote_type': \"RECORDED VOTE\", 'total': {'yes': 12, 'present': 2, 'not_voting': 1}},\n",
                "      {'vote_type': \"3/5\", 'total': {'yes': 50, 'no': 14, 'present': 0, 'not_voting': 0}},\n",
                "      {'vote_type': \"YEA-AND-NAY\", 'total': {'yes': 25, 'no': 3, 'present': 3, 'not_voting': 0}} ]\n",
                "inspect_data(filter_votes(V))\n",
                "\n",
                "print(len(filter_votes(votes)))"
            ]
        },
        {
            "cell_type": "code",
            "execution_count": 6,
            "metadata": {
                "deletable": false,
                "editable": false,
                "nbgrader": {
                    "grade": true,
                    "grade_id": "ex0__filter_votes",
                    "locked": true,
                    "points": "2",
                    "solution": false
                }
            },
            "outputs": [],
            "source": [
                "# Test cell: ex0__filter_votes (2 points)\n",
                "\n",
                "###\n",
                "### AUTOGRADER TEST - DO NOT REMOVE\n",
                "###\n",
                "\n",
                "from testing_tools import ex0__check\n",
                "print(\"Testing...\")\n",
                "for trial in range(10):\n",
                "    ex0__check(filter_votes)\n",
                "    \n",
                "print(\"\\n(Passed.)\")"
            ]
        },
        {
            "cell_type": "markdown",
            "metadata": {
                "deletable": false,
                "editable": false,
                "nbgrader": {
                    "grade": false,
                    "locked": true,
                    "solution": false
                }
            },
            "source": [
                "**Precomputed filtered vote results.** In case Exercise 0 does not pass, we've precomputed the filtered subset of `votes` we'll need in the remainder of the problem. Whether or not you passed, please run the following cell now to load this result, which will be stored in the variable, `votes_subset`."
            ]
        },
        {
            "cell_type": "code",
            "execution_count": 7,
            "metadata": {
                "deletable": false,
                "editable": false,
                "nbgrader": {
                    "grade": false,
                    "locked": true,
                    "solution": false
                }
            },
            "outputs": [],
            "source": [
                "votes_subset = load_json(\"votes_subset.json\")\n",
                "print(len(votes_subset))"
            ]
        },
        {
            "cell_type": "markdown",
            "metadata": {
                "deletable": false,
                "editable": false,
                "nbgrader": {
                    "grade": false,
                    "locked": true,
                    "solution": false
                }
            },
            "source": [
                "**Observation 1-A: A _passing_ vote.** Recall the first vote result from above, which is present in `votes_subset` as `votes_subset[0]`. Here is how to interpret it."
            ]
        },
        {
            "cell_type": "code",
            "execution_count": 8,
            "metadata": {
                "deletable": false,
                "editable": false,
                "nbgrader": {
                    "grade": false,
                    "locked": true,
                    "solution": false
                }
            },
            "outputs": [],
            "source": [
                "inspect_data(votes_subset[0])"
            ]
        },
        {
            "cell_type": "markdown",
            "metadata": {
                "deletable": false,
                "editable": false,
                "nbgrader": {
                    "grade": false,
                    "locked": true,
                    "solution": false
                }
            },
            "source": [
                "It concerns a vote on November 19, 1999 (`\"date\": \"1999-11-19\"`). There were a total of 74 \"yes\" votes, 24 \"no\" votes, and 2 non-votes (abstentions or absences). Since there was a simple majority of \"yes\" votes---meaning strictly more \"yes\" votes than \"no\" votes---the result is considered to be _passing_.\n",
                "\n",
                "Of the \"yes\" votes, 32 were cast by Democrats and 42 by Republicans; of the \"no\" votes, 12 were by Democrats and 12 by Republicans.\n",
                "\n",
                "**Observation 1-B: A _failing_ vote.** Let's take a look at a vote with a different result, `votes_subset[8]`:"
            ]
        },
        {
            "cell_type": "code",
            "execution_count": 9,
            "metadata": {
                "deletable": false,
                "editable": false,
                "nbgrader": {
                    "grade": false,
                    "locked": true,
                    "solution": false
                }
            },
            "outputs": [],
            "source": [
                "inspect_data(votes_subset[8])"
            ]
        },
        {
            "cell_type": "markdown",
            "metadata": {
                "deletable": false,
                "editable": false,
                "nbgrader": {
                    "grade": false,
                    "locked": true,
                    "solution": false
                }
            },
            "source": [
                "This vote took place on November 18, 1999. There were a total of 207+2+0+3 = 212 votes by Democrats and 4+217+0+1 = 222 votes by Republicans. The measure did _not_ pass: there were more \"no\" votes (219) than \"yes\" votes (212). Of the 219 \"no\" votes, 217 were cast by Republicans and 2 by Democrats."
            ]
        },
        {
            "cell_type": "markdown",
            "metadata": {
                "deletable": false,
                "editable": false,
                "nbgrader": {
                    "grade": false,
                    "locked": true,
                    "solution": false
                }
            },
            "source": [
                "**Exercise 1** (2 points). Suppose you are given a _single_ voting result, `v` (e.g., `v == votes_subset[0]` or `v == votes_subset[8]`). Complete the function `is_passing(v)` so that it returns `True` if the vote \"passed\" and `False` otherwise.\n",
                "\n",
                "To determine if a vote is passing or not, check whether the number of `\"yes\"` votes associated with the `\"total\"` key is **strictly greater than** the number of `\"no\"` votes.\n",
                "\n",
                "> _Note:_ The test cell does not use real vote results but rather randomly generated synthetic ones. Your implementation should not depend on the presence of any specific keys other than the ones mentioned in the statement of this exercise."
            ]
        },
        {
            "cell_type": "code",
            "execution_count": 2,
            "metadata": {
                "collapsed": true,
                "nbgrader": {
                    "grade": false,
                    "locked": false,
                    "solution": false
                }
            },
            "outputs": [],
            "source": [
                "def is_passing(v):\n",
                "    return v['total']['yes']>v['total']['no']"
            ]
        },
        {
            "cell_type": "code",
            "execution_count": 11,
            "metadata": {},
            "outputs": [],
            "source": [
                "# Demo cell\n",
                "print(is_passing(votes_subset[0])) # Should return `True`\n",
                "print(is_passing(votes_subset[8])) # Should return `False`"
            ]
        },
        {
            "cell_type": "code",
            "execution_count": 12,
            "metadata": {},
            "outputs": [],
            "source": [
                "# Another demo cell\n",
                "num_passing = sum([is_passing(v) for v in votes_subset])\n",
                "print(f\"Of {len(votes_subset)} vote results, {num_passing} passed.\")"
            ]
        },
        {
            "cell_type": "code",
            "execution_count": 13,
            "metadata": {
                "deletable": false,
                "editable": false,
                "nbgrader": {
                    "grade": true,
                    "grade_id": "ex1__is_passing",
                    "locked": true,
                    "points": "2",
                    "solution": false
                }
            },
            "outputs": [],
            "source": [
                "# Test cell: ex1__is_passing (2 points)\n",
                "\n",
                "###\n",
                "### AUTOGRADER TEST - DO NOT REMOVE\n",
                "###\n",
                "\n",
                "from testing_tools import ex1__check\n",
                "print(\"Testing...\")\n",
                "for trial in range(1000):\n",
                "    ex1__check(is_passing)\n",
                "\n",
                "print(\"\\n(Passed.)\")"
            ]
        },
        {
            "cell_type": "markdown",
            "metadata": {
                "deletable": false,
                "editable": false,
                "nbgrader": {
                    "grade": false,
                    "locked": true,
                    "solution": false
                }
            },
            "source": [
                "**Passing and failing votes.** In case your code for Exercise 1 does not pass the test cell, we've precomputed a list of vote results annotated with the result. Whether or not you passed, please run the following code cell, which produces a list of vote results named `votes_pf`, where `votes_pf[\"passed\"]` is `True` if the outcome is a \"pass,\" and `False` otherwise."
            ]
        },
        {
            "cell_type": "code",
            "execution_count": 14,
            "metadata": {
                "deletable": false,
                "editable": false,
                "nbgrader": {
                    "grade": false,
                    "locked": true,
                    "solution": false
                }
            },
            "outputs": [],
            "source": [
                "votes_pf = load_json('votes_pf.json')\n",
                "num_passed = sum([1 for v in votes_pf if v[\"passed\"]])\n",
                "print(f\"{num_passed} vote results were passing, {len(votes_pf) - num_passed} were failing.\")"
            ]
        },
        {
            "cell_type": "markdown",
            "metadata": {
                "deletable": false,
                "editable": false,
                "nbgrader": {
                    "grade": false,
                    "locked": true,
                    "solution": false
                }
            },
            "source": [
                "**Definition: The partisan \"vote\" gap.** Given a voting result, let's define a measure of how well the Democrats and Republicans agree. \n",
                "\n",
                "Suppose a bill has some outcome, either \"pass\" or \"fail.\" Let $d$ be the proportion of Democrats who voted for that outcome, and let $r$ be the proportion of Republicans who voted for that outcome. Then the _partisan vote gap_ for that bill is the absolute difference between $d$ and $r$, or $|d - r|$. The more Democrats and Republicans agree, the closer this value is to zero. But when they disagree strongly, this value could be $1$.\n",
                "\n",
                "For example, recall that in the first example, `votes_subset[0]`, the bill passed with 74 \"yes\" votes, 32 from Democrats and 42 from Republicans. Since there were 45 Democrats (32 yes, 12 no, and 1 non-voting), then $d=\\frac{32}{45} \\approx 0.711$. And since there were 55 Republicans (42 yes, 12 no, and 1 non-voting), then $r=\\frac{42}{55} \\approx 0.764$. Thus, the partisan vote gap is $|d - r| = \\left|\\frac{32}{45} - \\frac{42}{55}\\right| \\approx 0.0525$.\n",
                "\n",
                "In the second example, `votes_subset[8]`, recall that the vote failed with 219 \"no\" votes, 217 by Republicans out of 222 total, and 2 by Democrats out of 212 total. Thus, $|d - r| = \\left|\\frac{2}{212} - \\frac{217}{222}\\right| \\approx 0.968$.\n",
                "\n",
                "Comparing the two cases, the first is an example of reasonable agreement, whereas the second shows strong disagreement."
            ]
        },
        {
            "cell_type": "markdown",
            "metadata": {
                "deletable": false,
                "editable": false,
                "nbgrader": {
                    "grade": false,
                    "locked": true,
                    "solution": false
                }
            },
            "source": [
                "**Exercise 2** (2 points). Given one voting result, `v`, complete the function `calc_partisan_vote_gap(v)` so that it returns the partisan voting gap as defined above. Assume that `v[\"passed\"]` is `True` if the vote was a passing vote (majority \"yes\"), or `False` otherwise (majority \"no\").\n",
                "\n",
                "> _Note 0:_ To determine the total number of Democrats or Republicans, add together all of their `\"yes\"`, `\"no\"`, `\"present\"`, and `\"not_voting\"` values using the appropriate party's object in `v`.\n",
                ">\n",
                "> _Note 1:_ If a vote result has _no_ Democrats or Republicans, then use $d=0$ or $r=0$, respectively. This scenario can happen if the sum of Democratic or Republican `\"yes\"`, `\"no\"`, `\"present\"`, and `\"not_voting\"` values is 0.\n",
                ">\n",
                "> _Note 2:_ You do not need to round your results. The test cell accounts for possible rounding errors when comparing your computed result against the expected one.\n",
                ">\n",
                "> _Note 3:_ The test cell does not use real vote results, but rather randomly generated synthetic ones. Your code should only depend on the presence of the relevant keys, namely, the party votes (`\"democratic\"` and `\"republican\"`) and `\"passed\"`."
            ]
        },
        {
            "cell_type": "code",
            "execution_count": 4,
            "metadata": {
                "collapsed": true
            },
            "outputs": [],
            "source": [
                "def calc_partisan_vote_gap(v):\n",
                "    assert isinstance(v, dict)\n",
                "    assert \"passed\" in v and \"democratic\" in v and \"republican\" in v\n",
                "    R = sum([num for num in v['republican'].values() if type(num) is int])\n",
                "    D = sum([num for num in v['democratic'].values() if type(num) is int])\n",
                "    y_n = 'yes' if v['passed'] else 'no'\n",
                "    r = v['republican'][y_n]/R if R > 0 else 0\n",
                "    d = v['democratic'][y_n]/D if D > 0 else 0\n",
                "    return abs(r-d)"
            ]
        },
        {
            "cell_type": "code",
            "execution_count": 16,
            "metadata": {},
            "outputs": [],
            "source": [
                "# Demo cell to help you debug\n",
                "print(calc_partisan_vote_gap(votes_pf[0])) # should be about 0.0525\n",
                "print(calc_partisan_vote_gap(votes_pf[8])) # ~ 0.968"
            ]
        },
        {
            "cell_type": "code",
            "execution_count": 17,
            "metadata": {
                "deletable": false,
                "editable": false,
                "nbgrader": {
                    "grade": true,
                    "grade_id": "ex2__calc_partisan_vote_gap",
                    "locked": true,
                    "points": "2",
                    "solution": false
                }
            },
            "outputs": [],
            "source": [
                "# Test cell: ex2__calc_partisan_vote_gap (2 points)\n",
                "\n",
                "###\n",
                "### AUTOGRADER TEST - DO NOT REMOVE\n",
                "###\n",
                "\n",
                "from testing_tools import ex2__check\n",
                "print(\"Testing...\")\n",
                "for trial in range(2500):\n",
                "    ex2__check(calc_partisan_vote_gap)\n",
                "\n",
                "print(\"\\n(Passed.)\")"
            ]
        },
        {
            "cell_type": "markdown",
            "metadata": {
                "deletable": false,
                "editable": false,
                "nbgrader": {
                    "grade": false,
                    "locked": true,
                    "solution": false
                }
            },
            "source": [
                "**Precomputed partisan vote gaps.** In case your Exercise 2 did not pass the test cell, we've precomputed a list of vote results with their partisan vote gaps. Whether or not you passed, please run the following cell to load this result, which will be stored in the variable, `votes_gap`. Each entry `v` of `votes_gap` will have a key, `v[\"gap\"]`, that holds the vote gap."
            ]
        },
        {
            "cell_type": "code",
            "execution_count": 18,
            "metadata": {
                "deletable": false,
                "editable": false,
                "nbgrader": {
                    "grade": false,
                    "locked": true,
                    "solution": false
                }
            },
            "outputs": [],
            "source": [
                "votes_gap = load_json(\"votes_gap.json\")\n",
                "from statistics import mean\n",
                "overall_gap = mean([v[\"gap\"] for v in votes_gap])\n",
                "print(f\"Average overall vote gap: {overall_gap}\")"
            ]
        },
        {
            "cell_type": "code",
            "execution_count": 19,
            "metadata": {},
            "outputs": [],
            "source": [
                "type(votes_gap)"
            ]
        },
        {
            "cell_type": "markdown",
            "metadata": {
                "deletable": false,
                "editable": false,
                "nbgrader": {
                    "grade": false,
                    "locked": true,
                    "solution": false
                }
            },
            "source": [
                "**Exercise 3** (2 points): We are now ready to calculate the voting gap over time. Complete the function, `tally_gaps(votes_gap)`, below, where:\n",
                "\n",
                "- the input `votes_gap` is a list of vote results augmented with the `\"gap\"` key as defined in Exercise 2;\n",
                "- the function returns a list of tuples holding the year-by-year average vote gaps, as follows.\n",
                "\n",
                "For example, suppose you run `gaps_over_time = tally_gaps(votes_gap)` is the output. Then,\n",
                "\n",
                "- `gaps_over_time` is a list.\n",
                "- Each element is a pair, `(yyyy, g)`, where `yyyy` is the year represented as an _integer_ (`int`) and `g` is the _average_ vote gap across all votes that took place in that year.\n",
                "\n",
                "To determine the year of a vote, recall that each vote result has a `\"date\"` field. You may assume each vote result `v` in `votes_gap` has a key, `v[\"gap\"]` holding its vote gap.\n",
                "\n",
                "> _Note:_ The test cell does not use real vote results, but rather randomly generated synthetic ones. Your solution should not depend on any particular keys in a vote result other than `\"date\"` and `\"gap\"`."
            ]
        },
        {
            "cell_type": "code",
            "execution_count": 7,
            "metadata": {
                "collapsed": true
            },
            "outputs": [],
            "source": [
                "def tally_gaps(votes_gap):\n",
                "    from collections import defaultdict\n",
                "    from statistics import mean\n",
                "    year_gaps = defaultdict(list)\n",
                "    for v in votes_gap:\n",
                "        year = int(v['date'][:4])\n",
                "        year_gaps[year].append(v['gap'])\n",
                "    return [(y, mean(g)) for y,g in year_gaps.items()]\n"
            ]
        },
        {
            "cell_type": "code",
            "execution_count": 21,
            "metadata": {},
            "outputs": [],
            "source": [
                "# Demo cell you can use for debugging\n",
                "gaps_over_time = tally_gaps(votes_gap)\n",
                "\n",
                "for yyyy, g_avg in sorted(gaps_over_time, key=lambda x: x[0]):\n",
                "    print(f\"{yyyy}: {g_avg:.3f}\")"
            ]
        },
        {
            "cell_type": "code",
            "execution_count": 22,
            "metadata": {
                "deletable": false,
                "editable": false,
                "nbgrader": {
                    "grade": true,
                    "grade_id": "ex3__tally_gaps",
                    "locked": true,
                    "points": "2",
                    "solution": false
                }
            },
            "outputs": [],
            "source": [
                "# Test cell: ex3__tally_gaps (2 points)\n",
                "\n",
                "from testing_tools import ex3__check\n",
                "print(\"Testing...\")\n",
                "for trial in range(100):\n",
                "    ex3__check(tally_gaps)\n",
                "\n",
                "print(\"\\n(Passed.)\")"
            ]
        },
        {
            "cell_type": "markdown",
            "metadata": {
                "deletable": false,
                "editable": false,
                "nbgrader": {
                    "grade": false,
                    "locked": true,
                    "solution": false
                }
            },
            "source": [
                "**Gaps over time.** If your demo worked correctly, you should have seen a steady trend in which the vote gap increases over time, starting at around 0.41 in 1991 and increasing to 0.76 in 2020. That is one quantitative indicator of growing partisanship in the US Congress."
            ]
        },
        {
            "cell_type": "markdown",
            "metadata": {
                "deletable": false,
                "editable": false,
                "nbgrader": {
                    "grade": false,
                    "locked": true,
                    "solution": false
                }
            },
            "source": [
                "## Part 1: Finding \"compatible\" lawmakers from opposing parties\n",
                "\n",
                "Are there any pairs of lawmakers from opposing parties---that is, one Democrat and one Republican---who tend to vote similarly to one another? Perhaps such pairs can help bridge the divide between the two parties.\n",
                "\n",
                "To help find such a pair, here is one final dataset, stored in the list, `vote_positions`. It consists of vote results from the last two years (2019-2020) along with _how each lawmaker voted_ (yes or no). There are 278 such vote results available, which we can confirm by printing the length of the `vote_positions` list:"
            ]
        },
        {
            "cell_type": "code",
            "execution_count": 23,
            "metadata": {
                "deletable": false,
                "editable": false,
                "nbgrader": {
                    "grade": false,
                    "locked": true,
                    "solution": false
                }
            },
            "outputs": [],
            "source": [
                "print(len(vote_positions))"
            ]
        },
        {
            "cell_type": "markdown",
            "metadata": {
                "deletable": false,
                "editable": false,
                "nbgrader": {
                    "grade": false,
                    "locked": true,
                    "solution": false
                }
            },
            "source": [
                "Let's inspect one of these vote results, `vote_positions[0]`:"
            ]
        },
        {
            "cell_type": "code",
            "execution_count": 24,
            "metadata": {
                "deletable": false,
                "editable": false,
                "nbgrader": {
                    "grade": false,
                    "locked": true,
                    "solution": false
                }
            },
            "outputs": [],
            "source": [
                "inspect_data(vote_positions[0])"
            ]
        },
        {
            "cell_type": "markdown",
            "metadata": {
                "deletable": false,
                "editable": false,
                "nbgrader": {
                    "grade": false,
                    "locked": true,
                    "solution": false
                }
            },
            "source": [
                "It is a vote result with some more keys. The most important new key is `'positions'`. Its value is a list of everyone and what vote they cast. For example, for the vote result stored in `vote_positions[0]`, above, you can verify that\n",
                "\n",
                "- `\"Lamar Alexander\"` is a Republican who voted yes (`'name'`: `\"Lamar Alexander\"`, `'party': \"R\"`, `'vote_position': \"Yes\"`); and\n",
                "- `\"Tammy Baldwin\"` is a Democrat who voted no (`'name'`: `\"Tammy Baldwin\"`, `'party': \"D\"`, `'vote_position': \"No\"`).\n",
                "\n",
                "> _Note:_ The `'vote_position'` key can take on a third value, which is `\"Not Voting\"`. In this example, that is the case for `\"Cindy Hyde-Smith\"`."
            ]
        },
        {
            "cell_type": "markdown",
            "metadata": {
                "deletable": false,
                "editable": false,
                "nbgrader": {
                    "grade": false,
                    "locked": true,
                    "solution": false
                }
            },
            "source": [
                "**Exercise 4** (2 points). Complete the function, `get_parties(vps)`, below. It should take as input a vote results list `vps` similar to `vote_positions` above. It should return a _dictionary,_ where each key is the name of a lawmaker and the corresponding value is that person's party, taken from the `'party'` key.\n",
                "\n",
                "For example, suppose you run `parties = get_parties(vote_positions)`. Then,\n",
                "\n",
                "- `parties[\"Lamar Alexander\"] == \"R\"`\n",
                "- `parties[\"Tammy Baldwin\"] == \"D\"`\n",
                "- `parties[\"Angus King\"] == \"ID\"`\n",
                "\n",
                "> _Note 0:_ You may assume that the party of a member does not change and that member names are unique.\n",
                ">\n",
                "> _Note 1:_ You may assume there are only three possible party values in the data: `\"R\"` for Republican, `\"D\"` for Democrat, and `\"ID\"` for Independent.\n",
                ">\n",
                "> _Note 2:_ Do _not_ assume that every name appears in every vote result. Therefore, to ensure you get all the names, your solution needs to sweep all vote results. The test code may check whether you've done so.\n",
                ">\n",
                "> _Note 3:_ The test cell does not use real data; rather, it uses randomly generated synthetic data. Your solution should not depend on the existence of any keys other than `'positions'` and, for each element of positions, `'name'` and `'party'`."
            ]
        },
        {
            "cell_type": "code",
            "execution_count": 8,
            "metadata": {
                "collapsed": true
            },
            "outputs": [],
            "source": [
                "def get_parties(vps):\n",
                "    return {d['name']: d['party'] for vp in vps for d in vp['positions']}"
            ]
        },
        {
            "cell_type": "code",
            "execution_count": 26,
            "metadata": {},
            "outputs": [],
            "source": [
                "# Demo cell you can use for debugging\n",
                "parties_demo = get_parties(vote_positions)\n",
                "print(parties_demo[\"Lamar Alexander\"]) # \"R\"\n",
                "print(parties_demo[\"Tammy Baldwin\"]) # \"D\"\n",
                "print(parties_demo[\"Angus King\"]) # \"ID\""
            ]
        },
        {
            "cell_type": "code",
            "execution_count": 27,
            "metadata": {
                "deletable": false,
                "editable": false,
                "nbgrader": {
                    "grade": true,
                    "grade_id": "ex4__get_parties",
                    "locked": true,
                    "points": "2",
                    "solution": false
                },
                "scrolled": false
            },
            "outputs": [],
            "source": [
                "# Test cell: ex4__get_parties (2 points)\n",
                "\n",
                "###\n",
                "### AUTOGRADER TEST - DO NOT REMOVE\n",
                "###\n",
                "\n",
                "from testing_tools import ex4__check\n",
                "print(\"Testing...\")\n",
                "for trial in range(1000):\n",
                "    ex4__check(get_parties)\n",
                "\n",
                "print(\"\\n(Passed.)\")"
            ]
        },
        {
            "cell_type": "markdown",
            "metadata": {
                "deletable": false,
                "editable": false,
                "nbgrader": {
                    "grade": false,
                    "locked": true,
                    "solution": false
                }
            },
            "source": [
                "**Precomputed parties.** Whether your solution to the previous exercise passes or not, we have precomputed the party affiliations of the members for you. Run the following code cell, which defines a dictionary named `parties` holding these affiliations. You'll need `parties` in a subsequent exercise."
            ]
        },
        {
            "cell_type": "code",
            "execution_count": 28,
            "metadata": {
                "deletable": false,
                "editable": false,
                "nbgrader": {
                    "grade": false,
                    "locked": true,
                    "solution": false
                }
            },
            "outputs": [],
            "source": [
                "parties = load_pickle('parties.pickle')\n",
                "for member in [\"Lamar Alexander\", \"Tammy Baldwin\", \"Angus King\"]:\n",
                "    print(member, \"=>\", parties[member])"
            ]
        },
        {
            "cell_type": "markdown",
            "metadata": {
                "deletable": false,
                "editable": false,
                "nbgrader": {
                    "grade": false,
                    "locked": true,
                    "solution": false
                }
            },
            "source": [
                "**Voting vectors.** To help us compare voting records between lawmakers, let's construct their _voting vectors_.\n",
                "\n",
                "Each lawmaker will be represented by one voting vector. A voting vector is a Python _list_. Each element of the list is for a voting result and holds one of three values: `True` for a `\"Yes\"` vote, `False` for a `\"No\"` vote, and `None` for `\"Not Voting\"`.\n",
                "\n",
                "For example, since there are 278 vote results in this `vote_positions` list, the length of a voting vector will be 278. Now suppose Lamar Alexander's voting vector is `x`, Tammy Baldwin's is `y`, and Cindy Hyde-Smith's is `z`. Then for the example voting position above, we would have `x[0] == True`, `y[0] == False`, and `z[0] == None`."
            ]
        },
        {
            "cell_type": "markdown",
            "metadata": {
                "deletable": false,
                "editable": false,
                "nbgrader": {
                    "grade": false,
                    "locked": true,
                    "solution": false
                }
            },
            "source": [
                "**Exercise 5** (2 points). Complete the function, `build_voting_vectors(vps)`. It should take as input a vote results list `vps` like `vote_positions` above. It should return a _dictionary_ where each key is the name of a lawmaker and the corresponding value is a voting vector. Recall that a voting vector is a Python list of `True` or `False` values.\n",
                "\n",
                "For example, suppose you run `results = build_voting_vectors(vote_positions)`. Then, from the example of `vote_positions[0]`, we would expect the following:\n",
                "\n",
                "- `results[\"Lamar Alexander\"][0] == True`\n",
                "- `results[\"Tammy Baldwin\"][0] == False`\n",
                "- `results[\"Cindy Hyde-Smith\"][0] == None`\n",
                "\n",
                "> _Note 0:_ The test cell does not use real vote results, but rather randomly generated synthetic ones. Your code should not assume the existence of keys other than the ones directly relevant to this exercise's problem statement, namely, `'positions'`, and for each lawmaker's vote, `'name'` and `'vote_position'`.\n",
                ">\n",
                "> _Note 1:_ Although the sample voting dataset has 278 vote results, each synthetic test cases might have a different number.\n",
                ">\n",
                "> _Note 2:_ Your code should not assume that every lawmaker voted in every vote result. See `Demo cell 0`, below, where `\"Anita Borg\"` did not vote in the first vote result, and in one instance, `\"Alan Turing\"` is marked as `\"Not Voting\"`."
            ]
        },
        {
            "cell_type": "code",
            "execution_count": 10,
            "metadata": {
                "collapsed": true
            },
            "outputs": [],
            "source": [
                "def build_voting_vectors(vps):\n",
                "    from collections import defaultdict\n",
                "    result = defaultdict(lambda: [None]*len(vps))\n",
                "    vote_map = {'Yes': True, 'No': False}\n",
                "    for i, vote in enumerate(vps):\n",
                "        for p in vote['positions']:\n",
                "            name = p['name']\n",
                "            v = p['vote_position']\n",
                "            result[name][i] = vote_map.get(v,None)\n",
                "    return result\n"
            ]
        },
        {
            "cell_type": "code",
            "execution_count": 30,
            "metadata": {},
            "outputs": [],
            "source": [
                "# Demo cell 0, which you can use for debugging\n",
                "\n",
                "# Example with three vote results and three different lawmakers:\n",
                "vps_example = [{'positions': [{'name': 'Grace Hopper', 'vote_position': 'Yes'},\n",
                "                              {'name': 'Alan Turing', 'vote_position': 'No'}]},\n",
                "               {'positions': [{'name': 'Anita Borg', 'vote_position': 'Yes'},\n",
                "                              {'name': 'Alan Turing', 'vote_position': 'Not Voting'},\n",
                "                              {'name': 'Grace Hopper', 'vote_position': 'No'}]},\n",
                "               {'positions': [{'name': 'Grace Hopper', 'vote_position': 'No'},\n",
                "                              {'name': 'Anita Borg', 'vote_position': 'Yes'},\n",
                "                              {'name': 'Alan Turing', 'vote_position': 'Yes'}]}\n",
                "              ]\n",
                "\n",
                "build_voting_vectors(vps_example)\n",
                "\n",
                "# Should print something like\n",
                "#     {'Grace Hopper': [True, False, False],\n",
                "#      'Alan Turing': [False, None, True],\n",
                "#      'Anita Borg': [None, True, True]}"
            ]
        },
        {
            "cell_type": "code",
            "execution_count": 31,
            "metadata": {},
            "outputs": [],
            "source": [
                "# Demo cell 1\n",
                "results = build_voting_vectors(vote_positions)\n",
                "\n",
                "# Lamar Alexander cast 236 \"Yes\" votes, 7 \"No\" votes, and did not vote 35 times.\n",
                "# The collections.Counter object can help verify that fact from your results.\n",
                "Lamars_votes = results[\"Lamar Alexander\"]\n",
                "from collections import Counter\n",
                "Counter(Lamars_votes)"
            ]
        },
        {
            "cell_type": "code",
            "execution_count": 32,
            "metadata": {
                "deletable": false,
                "editable": false,
                "nbgrader": {
                    "grade": true,
                    "grade_id": "ex5__build_voting_vectors",
                    "locked": true,
                    "points": "2",
                    "solution": false
                }
            },
            "outputs": [],
            "source": [
                "# Test cell: ex5__build_voting_vectors (2 points)\n",
                "\n",
                "###\n",
                "### AUTOGRADER TEST - DO NOT REMOVE\n",
                "###\n",
                "\n",
                "from testing_tools import ex5__check\n",
                "for trial in range(1000):\n",
                "    ex5__check(build_voting_vectors)\n",
                "\n",
                "print(\"\\n(Passed.)\")"
            ]
        },
        {
            "cell_type": "markdown",
            "metadata": {
                "deletable": false,
                "editable": false,
                "nbgrader": {
                    "grade": false,
                    "locked": true,
                    "solution": false
                }
            },
            "source": [
                "**Precomputed voting vectors.** Whether or not your previous solution passed, we've precomputed the voting vectors for this dataset. The following code cell loads these results into the object `voting_vectors`, which you'll need in subsequent exercises."
            ]
        },
        {
            "cell_type": "code",
            "execution_count": 33,
            "metadata": {
                "deletable": false,
                "editable": false,
                "nbgrader": {
                    "grade": false,
                    "locked": true,
                    "solution": false
                }
            },
            "outputs": [],
            "source": [
                "voting_vectors = load_pickle('voting_vectors.pickle')\n",
                "from collections import Counter\n",
                "for example in [\"Lamar Alexander\", \"Tammy Baldwin\"]:\n",
                "    example_vv = voting_vectors[example]\n",
                "    print(example, \"==>\", Counter(example_vv))"
            ]
        },
        {
            "cell_type": "markdown",
            "metadata": {},
            "source": [
                "**Exercise 6** (2 points). For this last exercise, complete the function `opposing_pairs(voting_vectors, parties)`. This function takes two inputs:\n",
                "\n",
                "- `voting_vectors` is the dictionary that maps each member of Congress to their voting vector\n",
                "- `parties` is the dictonary that holds the party affiliation of each member\n",
                "\n",
                "It should then do the following:\n",
                "\n",
                "- Consider every pair of opposing members. That is, let `(a, b)` be a pair of names, where `a` is some Republican and `b` is some Democrat. (`a` must be a Republican and `b` a Democrat; do not flip these.) Ignore any Independents.\n",
                "- Use their voting vectors to count how many times `a` and `b` cast _identical_ and _non-`None`_ votes. That is, if they both voted `\"Yes\"` or they both voted `\"No\"`, those are identical votes. However, if either or both has `None` recorded for a vote, that should _not_ be counted.\n",
                "- Denote the count between `a` and `b` by `c`. Then, the function should return a list of all tuples, `(a, b, c)`.\n",
                "\n",
                "For example, suppose you run the following:\n",
                "\n",
                "```python\n",
                "P = {\"alice\": \"R\", \"bob\": \"D\", \"carol\": \"D\", \"dale\": \"ID\"}\n",
                "V = {\"alice\": [True, True, False, True, None],\n",
                "     \"bob\": [True, False, None, True, True],\n",
                "     \"carol\": [False, False, False, None, None],\n",
                "     \"dale\": [False, None, None, False, False]}\n",
                "pairs = opposing_pairs(V, P)\n",
                "```\n",
                "\n",
                "Then `pairs` should be the following list:\n",
                "\n",
                "```python\n",
                "[('alice', 'bob', 2), ('alice', 'carol', 1)]\n",
                "```\n",
                "\n",
                "For instance, the result contains `('alice', 'bob', 2)`, since `'alice'` is a Republican, `'bob'` is a Democrat, and they cast the same vote twice (entries 0 and 3 of their voting vectors). It also contains `('alice', 'carol', 1)`, since `'alice'` is a Republican and `'carol'` is a Democrat, and they cast the same non-`None` votes just once.\n",
                "\n",
                "> _Note:_ Your function does not have to return the list with entries in the same _order_ as above; any permutation is fine, as long as it contains all valid pairs."
            ]
        },
        {
            "cell_type": "code",
            "execution_count": 12,
            "metadata": {
                "collapsed": true
            },
            "outputs": [],
            "source": [
                "def opposing_pairs(voting_vectors, parties):\n",
                "    def count_common(x,y):\n",
                "        return sum([(xi==yi) for xi,yi in zip(x,y) if (xi is not None) and (yi is not None)])\n",
                "    R = {name for name, party in parties.items() if party == 'R'}\n",
                "    D = {name for name, party in parties.items() if party == 'D'}\n",
                "    pairs = []\n",
                "    for r in R:\n",
                "        for d in D:\n",
                "            r_vec = voting_vectors[r]\n",
                "            d_vec = voting_vectors[d]\n",
                "            c = count_common(r_vec, d_vec)\n",
                "            pairs.append((r,d,c))\n",
                "    return pairs\n"
            ]
        },
        {
            "cell_type": "code",
            "execution_count": 35,
            "metadata": {},
            "outputs": [],
            "source": [
                "# Demo cell\n",
                "P = {\"alice\": \"R\", \"bob\": \"D\", \"carol\": \"D\", \"dale\": \"ID\"}\n",
                "V = {\"alice\": [True, True, False, True, None],\n",
                "     \"bob\": [True, False, None, True, True],\n",
                "     \"carol\": [False, False, False, None, None],\n",
                "     \"dale\": [False, None, None, False, False]}\n",
                "pairs = opposing_pairs(V, P)\n",
                "pairs"
            ]
        },
        {
            "cell_type": "code",
            "execution_count": 36,
            "metadata": {
                "deletable": false,
                "editable": false,
                "nbgrader": {
                    "grade": true,
                    "grade_id": "ex6__opposing_pairs",
                    "locked": true,
                    "points": "2",
                    "solution": false
                },
                "scrolled": true
            },
            "outputs": [],
            "source": [
                "# Test cell: ex6__opposing_pairs (2 points)\n",
                "\n",
                "from testing_tools import ex6__check\n",
                "for trial in range(1000):\n",
                "    ex6__check(opposing_pairs)\n",
                "\n",
                "print(\"\\n(Passed.)\")"
            ]
        },
        {
            "cell_type": "markdown",
            "metadata": {
                "deletable": false,
                "editable": false,
                "nbgrader": {
                    "grade": false,
                    "locked": true,
                    "solution": false
                }
            },
            "source": [
                "**Most and least \"compatible\" opposing pairs.** If your `opposing_pair` implementation works, then the following code should print the \"most compatible\" opposing pairs. (If it doesn't work, that's okay -- the cell below will fail, but it shouldn't affect your final score.)"
            ]
        },
        {
            "cell_type": "code",
            "execution_count": 37,
            "metadata": {
                "deletable": false,
                "editable": false,
                "nbgrader": {
                    "grade": false,
                    "locked": true,
                    "solution": false
                },
                "scrolled": true
            },
            "outputs": [],
            "source": [
                "congress_pairs = opposing_pairs(voting_vectors, parties)\n",
                "print(\"Top opposing pairs:\")\n",
                "sorted(congress_pairs, key=lambda x: x[-1], reverse=True)[:11]"
            ]
        },
        {
            "cell_type": "code",
            "execution_count": 38,
            "metadata": {
                "deletable": false,
                "editable": false,
                "nbgrader": {
                    "grade": false,
                    "locked": true,
                    "solution": false
                }
            },
            "outputs": [],
            "source": [
                "print(\"Most polar (least compatible) opposing pairs:\")\n",
                "sorted(congress_pairs, key=lambda x: x[-1], reverse=True)[-11:]"
            ]
        },
        {
            "cell_type": "markdown",
            "metadata": {
                "deletable": false,
                "editable": false,
                "nbgrader": {
                    "grade": false,
                    "locked": true,
                    "solution": false
                }
            },
            "source": [
                "**Epilogue.** The analysis contained herein is just the tip of the iceberg of what you could do with this data, as well as all the other data available through [ProPublica's Congress APIs](https://projects.propublica.org/api-docs/congress-api/). If you live in the US and are civic-minded, consider mining it for even more interesting information!"
            ]
        },
        {
            "cell_type": "markdown",
            "metadata": {
                "deletable": false,
                "editable": false,
                "nbgrader": {
                    "grade": false,
                    "locked": true,
                    "solution": false
                }
            },
            "source": [
                "**Fin!** You’ve reached the end of Midterm 1. Don’t forget to restart and run all cells again to make sure it’s all working when run in sequence; and make sure your work passes the submission process. Good luck!"
            ]
        }
    ],
    "metadata": {
        "kernelspec": {
            "display_name": "Python 3",
            "language": "python",
            "name": "python3"
        },
        "language_info": {
            "codemirror_mode": {
                "name": "ipython",
                "version": 3
            },
            "file_extension": ".py",
            "mimetype": "text/x-python",
            "name": "python",
            "nbconvert_exporter": "python",
            "pygments_lexer": "ipython3",
            "version": "3.11.2"
        }
    },
    "nbformat": 4,
    "nbformat_minor": 4
}
