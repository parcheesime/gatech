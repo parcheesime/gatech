{
 "cells": [
  {
   "cell_type": "markdown",
   "metadata": {
    "deletable": false,
    "editable": false,
    "nbgrader": {
     "grade": false,
     "locked": true,
     "solution": false
    },
    "tags": [
     "notebook_header"
    ]
   },
   "source": [
    "# Part 1 of 2: Processing an HTML file\n",
    "\n",
    "\n",
    "**Exercise ordering:** Each exercise builds logically on previous exercises, but you may solve them in any order. That is, if you can't solve an exercise, you can still move on and try the next one. Use this to your advantage, as the exercises are **not** necessarily ordered in terms of difficulty. Higher point values generally indicate more difficult exercises. \n",
    "\n",
    "**Demo cells:** Code cells starting with the comment `### define demo inputs` load results from prior exercises applied to the entire data set and use those to build demo inputs. These must be run for subsequent demos to work properly, but they do not affect the test cells. The data loaded in these cells may be rather large (at least in terms of human readability). You are free to print or otherwise use Python to explore them, but we did not print them in the starter code.\n",
    "\n",
    "**Debugging your code:** Right before each exercise test cell, there is a block of text explaining the variables available to you for debugging. You may use these to test your code and can print/display them as needed (careful when printing large objects, you may want to print the head or chunks of rows at a time).\n",
    "\n",
    "**Exercise point breakdown:**\n",
    "\n",
    "- Exercise 0: 5 points\n",
    "\n",
    "**Final reminders:** \n",
    "\n",
    "- Submit after **every exercise**\n",
    "- Review the generated grade report after you submit to see what errors were returned\n",
    "- Stay calm, skip problems as needed, and take short breaks at your leisure\n"
   ]
  },
  {
   "cell_type": "markdown",
   "metadata": {
    "deletable": false,
    "editable": false,
    "nbgrader": {
     "grade": false,
     "locked": true,
     "solution": false
    },
    "tags": [
     "topic_intro"
    ]
   },
   "source": [
    "## Topic Introduction\n",
    "\n",
    "One of the richest sources of information is [the Web](http://www.computerhistory.org/revolution/networking/19/314)! In this notebook, we ask you to use string processing and regular expressions to mine a web page, which is stored in HTML format.\n",
    "\n",
    "> **Note 0.** The exercises below involve processing of HTML files. However, you don't need to know anything specific about HTML; you can solve (and we have solved) all of these exercises assuming only that the data is a semi-structured string, amenable to simple string manipulation and regular expression processing techniques. In Notebook 6 (optional), you'll see a different method that employs the [Beautiful Soup module](https://www.crummy.com/software/BeautifulSoup/bs4/doc/).\n",
    ">\n",
    "> **Note 1.** Following Note 0, there are some outspoken people who believe you should never use regular expressions on HTML. Your instructor finds these arguments to be overly pedantic. For an entertaining take on the subject, see [this blog post](https://blog.codinghorror.com/parsing-html-the-cthulhu-way/).\n",
    ">\n",
    "> **Note 2.** The data below is a snapshot from an older version of the Yelp! site. Therefore, you should complete the exercises using the data we've provided, rather than downloading a copy directly from Yelp!."
   ]
  },
  {
   "cell_type": "markdown",
   "metadata": {
    "deletable": false,
    "editable": false,
    "nbgrader": {
     "grade": false,
     "locked": true,
     "solution": false
    }
   },
   "source": [
    "**The data: Yelp! reviews.** The data you will work with is a snapshot of a recent search on the [Yelp! site](https://yelp.com) for the best fried chicken restaurants in Atlanta. That snapshot is hosted here: https://cse6040.gatech.edu/datasets/yelp-example\n",
    "\n",
    "If you go ahead and open that site, you'll see that it contains a ranked list of places:\n",
    "\n",
    "![Top 10 Fried Chicken Spots in ATL as of September 12, 2017](https://cse6040.gatech.edu/datasets/yelp-example/ranked-list-snapshot.png)"
   ]
  },
  {
   "cell_type": "markdown",
   "metadata": {
    "deletable": false,
    "editable": false,
    "nbgrader": {
     "grade": false,
     "locked": true,
     "solution": false
    }
   },
   "source": [
    "**Your task.** In this part of this assignment, we'd like you to write some code to extract this list."
   ]
  },
  {
   "cell_type": "markdown",
   "metadata": {
    "deletable": false,
    "editable": false,
    "nbgrader": {
     "grade": false,
     "locked": true,
     "solution": false
    }
   },
   "source": [
    "## Getting the data\n",
    "\n",
    "First things first: you need an HTML file. The following Python code opens a copy of the sample Yelp! page from above."
   ]
  },
  {
   "cell_type": "code",
   "execution_count": 1,
   "metadata": {
    "deletable": false,
    "editable": false,
    "nbgrader": {
     "grade": false,
     "locked": true,
     "solution": false
    },
    "tags": [
     "global_imports"
    ]
   },
   "outputs": [
    {
     "name": "stdout",
     "output_type": "stream",
     "text": [
      "'yelp.htm' is ready!\n"
     ]
    }
   ],
   "source": [
    "### Global Imports\n",
    "\n",
    "# Use this cell to import anything common, e.g. numpy, pandas, sqlite3\n",
    "# Use this cell to bring in the starter data\n",
    "import hashlib\n",
    "\n",
    "with open('resource/asnlib/publicdata/yelp.htm', 'r', encoding='utf-8') as f:\n",
    "    yelp_html = f.read().encode(encoding='utf-8')\n",
    "    checksum = hashlib.md5(yelp_html).hexdigest()\n",
    "    assert checksum == \"4a74a0ee9cefee773e76a22a52d45a8e\", \"Downloaded file has incorrect checksum!\"\n",
    "    \n",
    "print(\"'yelp.htm' is ready!\")"
   ]
  },
  {
   "cell_type": "markdown",
   "metadata": {
    "deletable": false,
    "editable": false,
    "nbgrader": {
     "grade": false,
     "locked": true,
     "solution": false
    }
   },
   "source": [
    "**Viewing the raw HTML in your web browser.** The file you just downloaded is the raw HTML version of the data described previously. Before moving on, you should go back to that site and use your web browser to view the HTML source for the web page. Do that now to get an idea of what is in that file.\n",
    "\n",
    "> If you don't know how to view the page source in your browser, try the instructions on [this site](http://www.wikihow.com/View-Source-Code)."
   ]
  },
  {
   "cell_type": "markdown",
   "metadata": {
    "deletable": false,
    "editable": false,
    "nbgrader": {
     "grade": false,
     "locked": true,
     "solution": false
    }
   },
   "source": [
    "**Reading the HTML file into a Python string.** Let's also open the file in Python and read its contents into a string named, `yelp_html`."
   ]
  },
  {
   "cell_type": "code",
   "execution_count": 2,
   "metadata": {},
   "outputs": [
    {
     "name": "stdout",
     "output_type": "stream",
     "text": [
      "*** type(yelp_html) == <class 'str'> ***\n",
      "*** Contents (first 40000 characters) ***\n",
      "<!DOCTYPE html>\n",
      "<!-- saved from url=(0079)https://www.yelp.com/search?find_desc=fried+chicken&find_loc=Atlanta%2C+GA&ns=1 -->\n",
      "<html xmlns:fb=\"http://www.facebook.com/2008/fbml\" class=\"js gr__yelp_com\" lang=\"en\"><!--<![endif]--><head data-component-bound=\"true\"><meta http-equiv=\"Content-Type\" content=\"text/html; charset=UTF-8\"><link type=\"text/css\" rel=\"stylesheet\" href=\"./Best Fried chicken in Atlanta, GA - Yelp_files/css\"><style type=\"text/css\">.gm-style .gm-style-cc span,.gm-style .gm-style-cc a,.gm-style .gm-style-mtc div{font-size:10px}\n",
      "</style><style type=\"text/css\">@media print {  .gm-style .gmnoprint, .gmnoprint {    display:none  }}@media screen {  .gm-style .gmnoscreen, .gmnoscreen {    display:none  }}</style><style type=\"text/css\">.gm-style-pbc{transition:opacity ease-in-out;background-color:rgba(0,0,0,0.45);text-align:center}.gm-style-pbt{font-size:22px;color:white;font-family:Roboto,Arial,sans-serif;position:relative;margin:0;top:50%;-webkit-transform:translateY(-50%);-ms-transform:translateY(-50%);transform:translateY(-50%)}\n",
      "</style><script src=\"./Best Fried chicken in Atlanta, GA - Yelp_files/rules-p-M4yfUTCPeS3vn.js\" style=\"\"></script><script src=\"./Best Fried chicken in Atlanta, GA - Yelp_files/segments.json\" async=\"\" type=\"text/javascript\"></script>\n",
      "\n",
      "\n",
      "    <script src=\"./Best Fried chicken in Atlanta, GA - Yelp_files/102029836881428\" async=\"\"></script><script async=\"\" src=\"./Best Fried chicken in Atlanta, GA - Yelp_files/fbevents.js\"></script><script async=\"\" src=\"./Best Fried chicken in Atlanta, GA - Yelp_files/async-ads.js\"></script><script async=\"\" src=\"./Best Fried chicken in Atlanta, GA - Yelp_files/analytics.js\"></script><script>            window.yPageStart = new Date().getTime();\n",
      "</script>\n",
      "\n",
      "    <script>            var initialVisibilityState = document.webkitVisibilityState;\n",
      "\n",
      "                yPerfTimings = [];\n",
      "\n",
      "                ySitRepParams = {\"b3Sampled\": null, \"edgeStartTime\": 1505255565245572, \"site\": \"main\", \"uniqueRequestID\": \"f2da9c903fcf056d\", \"isLoggedIn\": false, \"clientIP\": \"76.20.254.8\", \"servlet\": \"search\", \"zipkinTraceID\": \"f2da9c903fcf056d\", \"datacenter\": \"us-east-1\", \"cfRayID\": null, \"serverStartTime\": 1505255565272, \"action\": \"search_html\", \"yuv_record\": \"WZD9cdROxjIbbAxurlTGZAvM4H4Tb3yahub1Mx34vjgM5OvLvcHrctoizFPNkLM3nOyCpaGokHa5xijxqgBR0L6aE_fwB1EN\"};\n",
      "                window.ySitRepParams['initialVisibilityState'] = initialVisibilityState;\n",
      "                window.ySitRepParams['seoCohorts'] = null;\n",
      "\n",
      "\n",
      "            (function(H){H.className=H.className.replace(/\\bno-js\\b/,'js');})(document.documentElement);\n",
      "</script>\n",
      "\n",
      "            <script>            (function(i,s,o,g,r,a,m){i['GoogleAnalyticsObject']=r;i[r]=i[r]||function(){(i[r].q=i[r].q||[]).push(arguments)},i[r].l=1*new Date();a=s.createElement(o),m=s.getElementsByTagName(o)[0];a.async=1;a.src=g;m.parentNode.insertBefore(a,m)})(window,document,'script','//www.google-analytics.com/analytics.js','ga');\n",
      "</script>\n",
      "\n",
      "\n",
      "            <script>\n",
      "            (function() {\n",
      "                var main = null;\n",
      "\n",
      "                var d=this;function h(a,b){var c=a.split(\".\"),e=d;c[0]in e||!e.execScript||e.execScript(\"var \"+c[0]);for(var f;c.length&&(f=c.shift());)c.length||void 0===b?e[f]?e=e[f]:e=e[f]={}:e[f]=b};function k(a,b){for(var c=0;c<a.length;c++)if(a[c]===b)return c;return-1};function l(a){var b=$(window);function c(a,b){return 0<=a&&a<=b}function e(a,b){return 0>=a.left&&a.right>=b.width()||0>=a.top&&a.bottom>=b.height()}function f(a,b){return c(a.left,b.width())&&!(a.top>=b.height()||0>=a.bottom)}function g(a,b){return c(a.right,b.width())&&!(a.top>=b.height()||0>=a.bottom)}function n(a,b){return c(a.bottom,b.height())&&!(a.left>=b.width()||0>=a.right)}a=a.getBoundingClientRect();return function(a,b){return c(a.top,b.height())&&!(a.left>=b.width()||0>=a.right)}(a,b)||\n",
      "f(a,b)||g(a,b)||n(a,b)||e(a,b)};function m(){this.a=[];this.hasOwnProperty(\"value_\")&&delete this.value_}m.prototype.J=function(a){var b=this;this.hasOwnProperty(\"value_\")?setTimeout(function(){a.call(this,b.value_)},0):this.a.push(a)};m.prototype.getInstance=m.prototype.J;function q(a){window.ga||(window.ga=function(){});this.U=(new Date).getTime();this.reload(a)}var r;h(\"yelp_google_analytics.google_analytics\",q);var u=new m,v=[\"global\",\"m\",\"www\",\"biz\",\"webview\"];function w(a,b,c){if(c)for(var e in c[b])c[b].hasOwnProperty(e)&&(a.g[b][e]=c[b][e][0])}q.prototype.F=function(a,b){window.ga(x(\"set\",b),\"page\",a)};q.prototype.setPage=q.prototype.F;q.prototype.K=function(){return window.ga.getAll()};q.prototype.getTrackers=q.prototype.K;\n",
      "q.prototype.s=function(a){for(var b in this.a)this.a.hasOwnProperty(b)&&y(this,String(b),a)};q.prototype.firePageviews=q.prototype.s;q.prototype.H=function(a){for(var b in this.a)this.a.hasOwnProperty(b)&&(\"global\"!==b||this.l)&&y(this,String(b),a)};q.prototype.firePageviewsWithGlobalTrackerSampled=q.prototype.H;function y(a,b,c){c&&a.F(c,b);window.ga(x(\"send\",b),\"pageview\")}\n",
      "function x(a,b){if(0<=k(v,b))return[b,a].join(\".\");throw Error(\"google analytics attempted to set \"+a+\" to an unrecognized tracker alias: \"+b);}q.prototype.N=function(a,b,c){a=this.g[c][a];\"undefined\"!=typeof a&&null!==b&&(this.b[c][\"dimension\"+a]=b.toString())};q.prototype.setDimensionOneEvent=q.prototype.N;q.prototype.j=function(a,b,c){a=this.g[c][a];\"undefined\"!=typeof a&&null!==b&&window.ga(x(\"set\",c),\"dimension\"+a,b.toString())};q.prototype.setDimension=q.prototype.j;\n",
      "q.prototype.O=function(a,b){for(var c in a)a.hasOwnProperty(c)&&this.j(c,a[c],b)};q.prototype.setDimensions=q.prototype.O;q.prototype.D=function(a,b,c){window.ga(x(\"set\",c),\"metric\"+a,b)};q.prototype.setMetric=q.prototype.D;q.prototype.P=function(a,b,c){this.c[c][a]=b};q.prototype.setMetricOneEvent=q.prototype.P;\n",
      "q.prototype.i=function(a,b,c,e,f){for(var g in this.a)if(this.a.hasOwnProperty(g)){var n={hitType:\"event\",eventCategory:a,eventAction:b,eventLabel:c,eventValue:e,hitCallback:f,nonInteraction:!0},p;for(p in this.b[g])this.b[g].hasOwnProperty(p)&&(n[p]=this.b[g][p]);for(var t in this.c[g])this.c[g].hasOwnProperty(t)&&(n[\"metric\"+t]=this.c[g][t]);this.b[g]={};this.c[g]={};\"global\"!==g&&window.ga(x(\"send\",String(g)),n)}};q.prototype.trackEvent=q.prototype.i;\n",
      "q.prototype.T=function(a,b,c,e){a={hitType:\"timing\",timingCategory:a,timingVar:b,timingValue:c,timingLabel:e};for(var f in this.a)this.a.hasOwnProperty(f)&&(b=a,window.ga(x(\"send\",String(f)),b))};q.prototype.trackTiming=q.prototype.T;q.prototype.G=function(a,b,c,e,f){this.l&&this.i(a+\" / 10\",b,c,e,f)};q.prototype.trackEventHighVolume=q.prototype.G;q.prototype.M=function(a,b){return b in this.g[a]};q.prototype.isExperimentSet=q.prototype.M;\n",
      "q.prototype.v=function(){var a=this;$(window).on(\"beforeunload\",function(){a.j(\"viewport_tracking\",a.m.join(\",\"),\"www\");var b=Math.round(((new Date).getTime()-a.U)/1E3),c=\"240+\";0>=b?c=\"5\":30>=b?c=(5*Math.ceil(b/5)).toString():120>=b?c=(15*Math.ceil(b/15)).toString():240>=b&&(c=(30*Math.ceil(b/30)).toString());a.G(\"time on page\",\"unload\",c,b)})};q.prototype.initTimeOnPageEvent=q.prototype.v;q.prototype.u=function(){var a=this;setTimeout(function(){a.i(\"dwell time\",\"dwell\",\"30 seconds\")},3E4)};\n",
      "q.prototype.initDwellTimeEvent=q.prototype.u;q.prototype.o=function(){for(var a=document.getElementsByClassName(\"js-ga-widget\"),b=0;b<a.length;b++){var c=a[b],e=c.getAttribute(\"data-ga-widget-name\")||\"Unnamed Widget\";0>k(this.m,e)&&l(c)&&this.m.push(e)}};q.prototype.addNewlyVisibleWidgets_=q.prototype.o;q.prototype.L=function(){if(Function.prototype.bind&&document.getElementsByClassName&&window.addEventListener){var a=this.o.bind(this);a();window.addEventListener(\"scroll\",a)}};\n",
      "q.prototype.initViewportEvent=q.prototype.L;q.init=function(a){z(new q(a))};function z(a){r=a;u.value_=a;for(a=0;a<u.a.length;a++)u.a[a].call(u,u.value_)}q.setInstance=z;function A(){var a=r;if(void 0===a)throw Error(\"yelp_google_analytics.google_analytics not initialized. Call a site specific GA init!\");return a}q.getInstance=A;\n",
      "q.prototype.reload=function(a){this.a=a.trackers;this.domain=a.domain;this.w=a.clientID;this.C=a.user_id;this.f=a.dimensions;this.h=a.metrics;this.A=a.js_dimensions;this.l=a.enable_high_volume_events;this.B=a.site_speed_sample_rate;this.m=[];this.g={};this.b={};this.c={};for(var b in this.a)if(this.a.hasOwnProperty(b)){a=String(b);var c=String(this.a[b]),e={cookieDomain:this.domain,name:a,clientId:this.w,siteSpeedSampleRate:this.B||1};this.C&&(e.userId=this.C);window.ga(\"create\",c,e);this.g[a]={};\n",
      "this.b[a]={};this.c[a]={};w(this,a,this.f);w(this,a,this.A);c=void 0;for(c in this.f[a])this.f[a].hasOwnProperty(c)&&this.j(String(c),this.f[a][c][1],a);c=void 0;for(c in this.h[a])this.h[a].hasOwnProperty(c)&&this.D(this.h[a][c][0],this.h[a][c][1],a)}};q.prototype.reload=q.prototype.reload;q.prototype.I=function(){return{trackers:this.a,domain:this.domain,clientID:this.w,user_id:this.W,dimensions:this.f,metrics:this.h,js_dimensions:this.A,enable_high_volume_events:this.l,site_speed_sample_rate:this.B}};\n",
      "q.prototype.getGaConfig=q.prototype.I;function B(a,b,c,e){a(b,function(){0<e?B(a,b,c,e-1):c()})};function C(a){q.call(this,a)}(function(){function a(){}a.prototype=q.prototype;C.b=q.prototype;C.prototype=new a;C.prototype.constructor=C;C.a=function(a,c,e){for(var f=Array(arguments.length-2),g=2;g<arguments.length;g++)f[g-2]=arguments[g];return q.prototype[c].apply(a,f)}})();h(\"yelp_google_analytics.www.google_analytics\",C);\n",
      "C.prototype.R=function(){for(var a=this,b=[\".js-main-header\",\".js-header-nav\"],c=0;c<b.length;c++)$(b[c]).on(\"click\",\".js-analytics-click\",function(b){b.stopPropagation();b=$(b.currentTarget).data(\"analyticsLabel\");a.i(\"header\",\"click\",b)})};C.prototype.trackHeaderNavClicks=C.prototype.R;\n",
      "C.prototype.S=function(){var a=!1;return function(){if(!a){var b=this;$.each({logo:\"logo\",\"home-link\":\"home\",\"about-me\":\"about_me\",\"write-review\":\"write_a_review\",\"find-friends\":\"find_friends\",messaging:\"messaging\",talk:\"talk\",events:\"events\",delivery:\"delivery\",\"member-search\":\"member_search\",\"biz-owner-link\":\"biz owner\",\"notifications-icon\":\"notifications_icon\",\"messages-icon\":\"messages_icon\",\"header-sign-up\":\"signup\",\"header-log-in\":\"login\",Zprofile:\"account_settings\",\"header-log-out\":\"logout\",\n",
      "\"dropdown_user-name\":\"about_me\",\"dropdown_find-friends\":\"find_friends\",\"dropdown_about-me\":\"about_me\",\"dropdown_user-photo\":\"about_me\"},function(a,e){$(\"#\"+a).click(function(){b.i(\"header\",\"click\",e)})})}a=!0}}();C.prototype.trackNavClicks=C.prototype.S;\n",
      "function D(a){B(function(a,c){var e=new XMLHttpRequest;e.onreadystatechange=function(){this.readyState===XMLHttpRequest.DONE&&(200===this.status?a(JSON.parse(this.responseText)):c())};e.open(\"GET\",\"/yuv\",!0);try{e.send()}catch(f){c()}},function(b){a(b.X)},function(){throw Error(\"Failed to fetch YUV from /yuv, Google Analytics is not going to be initialized.\");},3)}C.fetchClientId=D;C.getInstance=function(){return A()};h(\"yelp_google_analytics.www.google_analytics.deferredInstance\",u);\n",
      "h(\"yelp_google_analytics.www.google_analytics.SITE\",\"www\");function E(a,b,c){function e(){z(new C(a));var c=A();c.s(b);c.u()}c?D(function(b){a.V=b;e()}):e()}h(\"yelp_google_analytics.www.init.initGoogleAnalytics\",E);h(\"yelp_google_analytics.www.init.initTimeOnPageAnalytics\",function(){A().v()});null===main&&(main=E); //# sourceMappingURL=\n",
      "\n",
      "\n",
      "                if (main === null) {\n",
      "                    throw 'invalid inline script, missing main declaration.';\n",
      "                }\n",
      "                main({\"metrics\": {\"www\": {\"mtb-reply-rate-shown\": [4, null], \"mtb-response-time-shown\": [1, null]}, \"global\": {}}, \"site_speed_sample_rate\": null, \"domain\": \"yelp.com\", \"user_id\": null, \"dimensions\": {\"www\": {\"ynra_suggestion_algo_changes\": [108, \"status_quo\"], \"promote_ads_to_non_advertiser_on_search_impression_shown\": [147, \"False\"], \"eat24_free_delivery_banner\": [45, \"disabled\"], \"query_words_number\": [52, \"2\"], \"search_page_title_case\": [43, \"desc_city\"], \"biz_page_actions\": [188, \"status_quo\"], \"payment.cde.www.rewards\": [171, \"enabled\"], \"yr_diner.www.direct_checkout_for_exact_match\": [163, \"disabled\"], \"ytp_eat24_yelp_style_to_iframe\": [136, \"enabled\"], \"www_education_banner\": [190, \"disabled\"], \"distil\": [53, 1], \"internal_ip\": [27, \"False\"], \"www_search_snippets_in_sync_with_ads\": [112, \"status_quo_8\"], \"yr_diner.www.reservations_notify_me\": [149, \"enabled\"], \"traffic_search_internal_linking_experiment_v2\": [19, \"giver\"], \"pinterest_share_on_biz_photo\": [80, \"status_quo\"], \"ytp_delivery_landing\": [125, \"platform_pages\"], \"password_meter\": [99, \"meter_2\"], \"growth.www.phone_number_signup\": [198, \"second_page\"], \"payment.ux.card_formatting.www.rewards\": [56, \"enabled\"], \"account_level\": [1, \"anon\"], \"traffic_search_title_varying_rpp_experiment\": [118, \"no_cohort\"], \"www_current_location_suggestion\": [185, \"enabled\"], \"service\": [107, \"yelp-main\"], \"page_depth\": [41, \"0\"], \"pagelet_mode_www_home\": [23, \"allow_async\"], \"content_country\": [15, \"US\"], \"integration\": [14, \"\"], \"payment.cde.www.checkout\": [195, \"enabled\"], \"www_fixed_header_v2\": [13, \"status_quo\"], \"hierarchy_breadcrumbs\": [82, \"False\"], \"traffic_search_url_normalization_experiment_page_family_role\": [40, \"giver\"], \"ytp_order_confirmation_page\": [143, \"enabled\"], \"txn_growth.www.reservation_button_color_experiment\": [104, \"green_button\"], \"has_canonical\": [36, \"True\"], \"full_url\": [34, \"/search?find_desc=fried+chicken\\u0026find_loc=Atlanta%2C+GA\\u0026ns=1\"], \"nav_show_message_count\": [59, \"show_message_count\"], \"distil_js_enabled\": [138, true], \"payment.ux.exp_date_input_type.www.rewards\": [32, \"textbox_field\"], \"review_actions_dropdown\": [2, \"disabled\"], \"www_signup_redesign\": [92, \"status_quo\"], \"yr_diner.www.reservation_sticky_bar\": [126, \"status_quo_embedded\"], \"www_biz_details_raq_sticky\": [84, \"enabled\"], \"business_id\": [141, \"\"], \"ynra_ui_homepage_designs_round_two\": [16, \"composer_expand_inline\"], \"traffic_search_within_x_miles_experiment\": [146, \"no_cohort\"], \"is_indexable\": [42, \"True\"], \"list_details_service\": [116, \"enabled\"], \"www_asymetrica\": [119, \"status_quo\"], \"traffic_search_year_title_experiment\": [130, \"no_cohort\"], \"traffic_descriptive_search_urls\": [187, \"no_cohort\"], \"lower_promoted_delivery_threshold\": [58, \"reduced_to_fifteen\"], \"traffic_index_new_pages_cross_validation\": [177, \"test_group\"], \"viewport_tracking\": [29, null], \"pagelet_mode_www_biz_details\": [24, \"allow_async\"], \"traffic_varied_rpp_search_content_experiment\": [150, \"inactive_status_quo_02\"], \"traffic_search_photos_experiment\": [121, \"inactive_first_result_2\"], \"exact_name_match\": [50, \"False\"], \"embeddable_reviews\": [98, \"enabled\"], \"decrypted_yuv_id\": [3, \"9BF44709B38A0F50\"], \"search_city\": [49, \"Atlanta\"], \"traffic_search_internal_linking_related_categories\": [26, \"no_cohort\"], \"referrer\": [64, \"yelp\"], \"results_on_page\": [51, \"10\"], \"mtb_weekly_growth_1\": [85, \"txn_growth.request_an_appointment_separated_search-enabled\"], \"top_level_categories\": [11, \"\"], \"is_biz_user\": [129, \"False\"], \"business_features_raq\": [160, \"services_only\"], \"ytp_start_orders_cta_btn_color_exp\": [65, \"green_button\"], \"platform_pickup_filter\": [20, \"enabled\"], \"payment.braintree_tokenization_key.paypal\": [199, \"enabled\"], \"traffic_rev_last_update_search_title_experiment\": [30, \"inactive_removed_last_updated_01\"], \"txn_hydra_cash_back_injection\": [153, \"status_quo\"], \"contributions.www.master_holdback\": [31, \"enabled\"], \"remote_ip\": [4, \"76.20.254.8\"], \"yr_diner.www.autosearch_on_load\": [54, \"enabled\"], \"search_accuracy\": [48, \"4\"]}, \"global\": {\"distil_js_enabled\": [13, true], \"search_page_title_case\": [32, \"desc_city\"], \"exact_name_match\": [14, \"False\"], \"results_on_page\": [29, \"10\"], \"search_city\": [31, \"Atlanta\"], \"is_indexable\": [19, \"True\"], \"referrer\": [28, \"yelp\"], \"has_canonical\": [16, \"True\"], \"content_country\": [11, \"US\"], \"query_words_number\": [25, \"2\"], \"integration\": [17, \"\"], \"top_level_categories\": [7, \"\"], \"distil\": [12, 1], \"internal_ip\": [18, \"False\"], \"search_accuracy\": [30, \"4\"], \"full_url\": [15, \"/search?find_desc=fried+chicken\\u0026find_loc=Atlanta%2C+GA\\u0026ns=1\"], \"account_level\": [1, \"anon\"]}}, \"enable_high_volume_events\": false, \"trackers\": {\"www\": \"UA-30501-24\", \"global\": \"UA-30501-1\"}, \"js_dimensions\": {\"www\": {\"platform_order_type\": [127, null], \"js_vertical_search_type\": [39, null]}, \"global\": {}}, \"ga_enabled\": true, \"clientID\": \"9BF44709B38A0F50\"},null,false);\n",
      "            })();\n",
      "    </script>\n",
      "\n",
      "        \n",
      "\n",
      "\n",
      "            <script>        (function (d, w) {\n",
      "            if (('ontouchstart' in w) || w.DocumentTouch && d instanceof w.DocumentTouch){\n",
      "                var html = d.getElementsByTagName(\"html\")[0];\n",
      "                html.classList.add(\"touch\");\n",
      "            }\n",
      "        }(document, window));\n",
      "</script>\n",
      "\n",
      "\n",
      "                \n",
      "    <meta http-equiv=\"Content-Language\" content=\"en\">\n",
      "\n",
      "\n",
      "                    <meta name=\"description\" content=\"Reviews on Fried chicken in Atlanta, GA - Gus&#39;s World Famous Fried Chicken, South City Kitchen - Midtown, Mary Mac&#39;s Tea Room, Busy Bee Cafe, Richards&#39; Southern Fried, Greens &amp; Gravy, Colonnade Restaurant, South City Kitchen Buckhead, Poor…\">\n",
      "\n",
      "\n",
      "                <meta name=\"keywords\" content=\"Yelp,recommendation,San Francisco, bay area, local,business,review,friend,restaurant,dentist,doctor,salon,spa,shopping,store,share,community,massage,sushi,pizza,nails,New York,Los Angeles\">\n",
      "\n",
      "\n",
      "                    <meta name=\"viewport\" content=\"width=1020\">\n",
      "\n",
      "            \n",
      "    <meta name=\"application-name\" content=\"Yelp\">\n",
      "\n",
      "    <meta name=\"msapplication-TileImage\" content=\"https://s3-media3.fl.yelpcdn.com/assets/2/www/img/7f906850f02b/ico/win8-tile.png\">\n",
      "    <meta name=\"msapplication-TileColor\" content=\"#c41200\">\n",
      "\n",
      "    <meta name=\"msapplication-starturl\" content=\"https://www.yelp.com/\">\n",
      "    <meta name=\"msapplication-navbutton-color\" content=\"#c41200\">\n",
      "    <meta name=\"msapplication-window\" content=\"width=1024;height=768\">\n",
      "    <meta name=\"msapplication-tooltip\" content=\"Go to Yelp.com\">\n",
      "\n",
      "    <meta name=\"msapplication-task\" content=\"name=Find Reviews; action-uri=/; icon-uri=https://s3-media1.fl.yelpcdn.com/assets/2/www/img/a6bbc59c7458/ico/favicon-16x16.ico\">\n",
      "\n",
      "    <meta name=\"msapplication-task\" content=\"name=Hot New Businesses; action-uri=/openings; icon-uri=https://s3-media1.fl.yelpcdn.com/assets/2/www/img/a6bbc59c7458/ico/favicon-16x16.ico\">\n",
      "\n",
      "    <meta name=\"msapplication-task\" content=\"name=Yelp Deals; action-uri=/search?find_desc=deals; icon-uri=https://s3-media1.fl.yelpcdn.com/assets/2/www/img/a6bbc59c7458/ico/favicon-16x16.ico\">\n",
      "\n",
      "\n",
      "                                <meta name=\"apple-itunes-app\" content=\"app-id=284910350, app-argument=yelp:///search?location=Atlanta%2C%20GA&amp;terms=fried%20chicken&amp;utm_campaign=default&amp;utm_source=www\">\n",
      "\n",
      "\n",
      "                            <link href=\"android-app://com.yelp.android/yelp-app-indexing/search?find_desc=fried%20chicken&amp;find_loc=Atlanta%2C%20GA&amp;utm_campaign=search&amp;utm_medium=organic&amp;utm_source=google\" rel=\"alternate\">\n",
      "        <link href=\"ios-app://284910350/yelp//search?location=Atlanta%2C%20GA&amp;terms=fried%20chicken&amp;utm_campaign=search&amp;utm_medium=organic&amp;utm_source=google\" rel=\"alternate\">\n",
      "\n",
      "\n",
      "                            <meta property=\"al:ios:app_name\" content=\"Yelp\">\n",
      "        <meta property=\"al:ios:app_store_id\" content=\"284910350\">\n",
      "        <meta property=\"al:ios:url\" content=\"https://www.yelp.com/search?find_desc=fried+chicken&amp;find_loc=Atlanta%2C+GA&amp;utm_campaign=search&amp;utm_medium=organic&amp;utm_source=apple\">\n",
      "\n",
      "\n",
      "                <link rel=\"mask-icon\" sizes=\"any\" href=\"https://s3-media1.fl.yelpcdn.com/assets/srv0/yelp_styleguide/4374c8fd03d1/assets/img/logos/yelp_burst.svg\" content=\"#c41200\">\n",
      "    <link rel=\"shortcut icon\" href=\"https://s3-media2.fl.yelpcdn.com/assets/srv0/yelp_styleguide/118ff475a341/assets/img/logos/favicon.ico\">\n",
      "\n",
      "\n",
      "                <link rel=\"search\" type=\"application/opensearchdescription+xml\" href=\"https://www.yelp.com/opensearch\" title=\"Yelp\">\n",
      "\n",
      "\n",
      "\n",
      "            \n",
      "        <link rel=\"canonical\" href=\"https://www.yelp.com/search?find_desc=best+fried+chicken&amp;find_loc=Atlanta%2C+GA\">\n",
      "            <link href=\"https://en.yelp.be/search?find_desc=fried+chicken&amp;find_loc=Atlanta%2C+GA\" hreflang=\"en-be\" rel=\"alternate\">\n",
      "            <link href=\"https://www.yelp.fr/search?find_desc=fried+chicken&amp;find_loc=Atlanta%2C+GA\" hreflang=\"fr-fr\" rel=\"alternate\">\n",
      "            <link href=\"https://en.yelp.com.ph/search?find_desc=fried+chicken&amp;find_loc=Atlanta%2C+GA\" hreflang=\"en-ph\" rel=\"alternate\">\n",
      "            <link href=\"https://fi.yelp.fi/search?find_desc=fried+chicken&amp;find_loc=Atlanta%2C+GA\" hreflang=\"fi-fi\" rel=\"alternate\">\n",
      "            <link href=\"https://www.yelp.pt/search?find_desc=fried+chicken&amp;find_loc=Atlanta%2C+GA\" hreflang=\"pt-pt\" rel=\"alternate\">\n",
      "            <link href=\"https://en.yelp.my/search?find_desc=fried+chicken&amp;find_loc=Atlanta%2C+GA\" hreflang=\"en-my\" rel=\"alternate\">\n",
      "            <link href=\"https://www.yelp.it/search?find_desc=fried+chicken&amp;find_loc=Atlanta%2C+GA\" hreflang=\"it-it\" rel=\"alternate\">\n",
      "            <link href=\"https://nl.yelp.be/search?find_desc=fried+chicken&amp;find_loc=Atlanta%2C+GA\" hreflang=\"nl-be\" rel=\"alternate\">\n",
      "            <link href=\"https://nz.yelp.com/search?find_desc=fried+chicken&amp;find_loc=Atlanta%2C+GA\" hreflang=\"en-nz\" rel=\"alternate\">\n",
      "            <link href=\"https://www.yelp.nl/search?find_desc=fried+chicken&amp;find_loc=Atlanta%2C+GA\" hreflang=\"nl-nl\" rel=\"alternate\">\n",
      "            <link href=\"https://www.yelp.com/search?find_desc=fried+chicken&amp;find_loc=Atlanta%2C+GA\" hreflang=\"en-us\" rel=\"alternate\">\n",
      "            <link href=\"https://www.yelp.com.sg/search?find_desc=fried+chicken&amp;find_loc=Atlanta%2C+GA\" hreflang=\"en-sg\" rel=\"alternate\">\n",
      "            <link href=\"https://fr.yelp.be/search?find_desc=fried+chicken&amp;find_loc=Atlanta%2C+GA\" hreflang=\"fr-be\" rel=\"alternate\">\n",
      "            <link href=\"https://www.yelp.ie/search?find_desc=fried+chicken&amp;find_loc=Atlanta%2C+GA\" hreflang=\"en-ie\" rel=\"alternate\">\n",
      "            <link href=\"https://www.yelp.com.au/search?find_desc=fried+chicken&amp;find_loc=Atlanta%2C+GA\" hreflang=\"en-au\" rel=\"alternate\">\n",
      "            <link href=\"https://en.yelp.com.hk/search?find_desc=fried+chicken&amp;find_loc=Atlanta%2C+GA\" hreflang=\"en-hk\" rel=\"alternate\">\n",
      "            <link href=\"https://de.yelp.ch/search?find_desc=fried+chicken&amp;find_loc=Atlanta%2C+GA\" hreflang=\"de-ch\" rel=\"alternate\">\n",
      "            <link href=\"https://www.yelp.cl/search?find_desc=fried+chicken&amp;find_loc=Atlanta%2C+GA\" hreflang=\"es-cl\" rel=\"alternate\">\n",
      "            <link href=\"https://www.yelp.co.jp/search?find_desc=fried+chicken&amp;find_loc=Atlanta%2C+GA\" hreflang=\"ja-jp\" rel=\"alternate\">\n",
      "            <link href=\"https://fil.yelp.com.ph/search?find_desc=fried+chicken&amp;find_loc=Atlanta%2C+GA\" hreflang=\"fil-ph\" rel=\"alternate\">\n",
      "            <link href=\"https://www.yelp.com.ar/search?find_desc=fried+chicken&amp;find_loc=Atlanta%2C+GA\" hreflang=\"es-ar\" rel=\"alternate\">\n",
      "            <link href=\"https://www.yelp.es/search?find_desc=fried+chicken&amp;find_loc=Atlanta%2C+GA\" hreflang=\"es-es\" rel=\"alternate\">\n",
      "            <link href=\"https://www.yelp.co.uk/search?find_desc=fried+chicken&amp;find_loc=Atlanta%2C+GA\" hreflang=\"en-gb\" rel=\"alternate\">\n",
      "            <link href=\"https://www.yelp.ca/search?find_desc=fried+chicken&amp;find_loc=Atlanta%2C+GA\" hreflang=\"en-ca\" rel=\"alternate\">\n",
      "            <link href=\"https://zh.yelp.com.hk/search?find_desc=fried+chicken&amp;find_loc=Atlanta%2C+GA\" hreflang=\"zh-hk\" rel=\"alternate\">\n",
      "            <link href=\"https://www.yelp.at/search?find_desc=fried+chicken&amp;find_loc=Atlanta%2C+GA\" hreflang=\"de-at\" rel=\"alternate\">\n",
      "            <link href=\"https://www.yelp.com.br/search?find_desc=fried+chicken&amp;find_loc=Atlanta%2C+GA\" hreflang=\"pt-br\" rel=\"alternate\">\n",
      "            <link href=\"https://en.yelp.ch/search?find_desc=fried+chicken&amp;find_loc=Atlanta%2C+GA\" hreflang=\"en-ch\" rel=\"alternate\">\n",
      "            <link href=\"https://www.yelp.dk/search?find_desc=fried+chicken&amp;find_loc=Atlanta%2C+GA\" hreflang=\"da-dk\" rel=\"alternate\">\n",
      "            <link href=\"https://www.yelp.com.tw/search?find_desc=fried+chicken&amp;find_loc=Atlanta%2C+GA\" hreflang=\"zh-tw\" rel=\"alternate\">\n",
      "            <link href=\"https://www.yelp.cz/search?find_desc=fried+chicken&amp;find_loc=Atlanta%2C+GA\" hreflang=\"cs-cz\" rel=\"alternate\">\n",
      "            <link href=\"https://ms.yelp.my/search?find_desc=fried+chicken&amp;find_loc=Atlanta%2C+GA\" hreflang=\"ms-my\" rel=\"alternate\">\n",
      "            <link href=\"https://www.yelp.com.tr/search?find_desc=fried+chicken&amp;find_loc=Atlanta%2C+GA\" hreflang=\"tr-tr\" rel=\"alternate\">\n",
      "            <link href=\"https://fr.yelp.ch/search?find_desc=fried+chicken&amp;find_loc=Atlanta%2C+GA\" hreflang=\"fr-ch\" rel=\"alternate\">\n",
      "            <link href=\"https://www.yelp.de/search?find_desc=fried+chicken&amp;find_loc=Atlanta%2C+GA\" hreflang=\"de-de\" rel=\"alternate\">\n",
      "            <link href=\"https://www.yelp.com.mx/search?find_desc=fried+chicken&amp;find_loc=Atlanta%2C+GA\" hreflang=\"es-mx\" rel=\"alternate\">\n",
      "            <link href=\"https://sv.yelp.fi/search?find_desc=fried+chicken&amp;find_loc=Atlanta%2C+GA\" hreflang=\"sv-fi\" rel=\"alternate\">\n",
      "            <link href=\"https://fr.yelp.ca/search?find_desc=fried+chicken&amp;find_loc=Atlanta%2C+GA\" hreflang=\"fr-ca\" rel=\"alternate\">\n",
      "            <link href=\"https://www.yelp.se/search?find_desc=fried+chicken&amp;find_loc=Atlanta%2C+GA\" hreflang=\"sv-se\" rel=\"alternate\">\n",
      "            <link href=\"https://it.yelp.ch/search?find_desc=fried+chicken&amp;find_loc=Atlanta%2C+GA\" hreflang=\"it-ch\" rel=\"alternate\">\n",
      "            <link href=\"https://www.yelp.pl/search?find_desc=fried+chicken&amp;find_loc=Atlanta%2C+GA\" hreflang=\"pl-pl\" rel=\"alternate\">\n",
      "            <link href=\"https://www.yelp.no/search?find_desc=fried+chicken&amp;find_loc=Atlanta%2C+GA\" hreflang=\"nb-no\" rel=\"alternate\">\n",
      "\n",
      "\n",
      "\n",
      "                    <link rel=\"alternate\" media=\"only screen and (max-width: 640px)\" href=\"https://m.yelp.com/search?find_desc=fried+chicken&amp;find_loc=Atlanta%2C+GA\">\n",
      "\n",
      "\n",
      "\n",
      "\n",
      "                <meta name=\"critical_css_middleware\">\n",
      "\n",
      "                        <meta property=\"fb:app_id\" content=\"97534753161\">\n",
      "        <meta property=\"og:site_name\" content=\"Yelp\">\n",
      "        <meta property=\"og:type\" content=\"website\">\n",
      "        <meta property=\"og:image\" content=\"https://s3-media3.fl.yelpcdn.com/assets/srv0/seo_metadata/f9149736ad8d/assets/img/logos/yelp_og_image.png\">\n",
      "        <meta property=\"og:image:height\" content=\"1080\">\n",
      "        <meta property=\"og:image:width\" content=\"1920\">\n",
      "\n",
      "\n",
      "\n",
      "        \n",
      "            <title>Best Fried chicken in Atlanta, GA - Yelp</title>\n",
      "\n",
      "\n",
      "            <!--[if (IE 9)|(lt IE 9) ]> <link rel=\"stylesheet\" type=\"text/css\" media=\"all\" href=\"https://s3-media2.fl.yelpcdn.com/assets/2/www/css/69fab8d61e90/www-pkg-main.css\">\n",
      "            <link rel=\"stylesheet\" type=\"text/css\" media=\"all\" href=\"https://s3-media4.fl.yelpcdn.com/assets/2/www/css/86ebae39a475/www-pkg-more.css\"> <![endif]-->\n",
      "            <!--[if (gt IE 9)|!(IE)]><!--> <!--<![endif]-->\n",
      "    \n",
      "\n",
      "\n",
      "    <script></script>\n",
      "\n",
      "\n",
      "                    <link href=\"https://www.facebook.com/yelp\" itemprop=\"sameAs\" id=\"sitelink-profile-facebook\">\n",
      "        <link href=\"https://twitter.com/yelp\" itemprop=\"sameAs\" id=\"sitelink-profile-twitter\">\n",
      "        <link href=\"https://www.linkedin.com/company/31517\" itemprop=\"sameAs\" id=\"sitelink-profile-linkedin\">\n",
      "        <link href=\"https://instagram.com/yelp\" itemprop=\"sameAs\" id=\"sitelink-profile-instagram\">\n",
      "\n",
      "    <meta itemscope=\"\" itemtype=\"http://schema.org/WebSite\" itemref=\"sitename sitelink  sitelink-profile-facebook sitelink-profile-twitter sitelink-profile-linkedin sitelink-profile-instagram\">\n",
      "    <meta itemprop=\"name\" content=\"Yelp\" id=\"sitename\">\n",
      "    <link href=\"https://www.yelp.com/\" itemprop=\"url\" id=\"sitelink\">\n",
      "\n",
      "\n",
      "            <style id=\"middleware_injected\">html,body,div,span,applet,object,iframe,h1,h2,h3,h4,h5,h6,p,blockquote,pre,a,abbr,acronym,address,big,cite,code,del,dfn,em,img,ins,kbd,q,s,samp,small,strike,strong,sub,sup,tt,var,b,u,i,center,dl,dt,dd,ol,ul,li,fieldset,form,label,legend,table,caption,tbody,tfoot,thead,tr,th,td,article,aside,canvas,details,embed,figure,figcaption,footer,header,hgroup,menu,nav,output,ruby,section,summary,time,mark,audio,video{margin:0;padding:0;border:0;font-size:100%;font:inherit;vertical-align:baseline;}article,aside,details,figcaption,figure,footer,header,hgroup,menu,nav,section{display:block;}body{line-height:1;}ol,ul{list-style:none;}blockquote,q{quotes:none;}blockquote:before,blockquote:after{content:\"\";content:none;}q:before,q:after{content:\"\";content:none;}table{border-collapse:collapse;border-spacing:0;}body:before{z-index:10000;}button,input,optgroup,select,textarea{color:inherit;font:inherit;margin:0;font-weight:normal;}th,td{vertical-align:middle;}button::-moz-focus-inner,input::-moz-focus-inner{border:0;padding:0;}button{overflow:visible;}img{vertical-align:middle;}.hidden{display:none;}.inline-block{display:-moz-inline-stack;display:inline-block;}.align-middle{vertical-align:middle !important;}.no-js .no-js-hidden,.js .js-hidden{display:none !important;}.offscreen{clip:rect(0 0 0 0);position:absolute;left:-9999px;top:auto;overflow:hidden;width:1px;height:1px;}.clearfix{}.clearfix:before,.clearfix:after{content:\" \";display:table;}.clearfix:after{clear:both;}.media-block{position:relative;display:-webkit-box;display:-moz-box;display:-ms-flexbox;display:-webkit-flex;display:flex;}.media-title a{font-weight:bold;}.media-story{-webkit-box-flex:1;-moz-box-flex:1;-webkit-flex:1;-ms-flex:1;flex:1;min-width:0;min-height:0;}.media-block>.media-avatar{border-right:6px solid transparent;border-left:none;}.media-block--12>.media-avatar{border-right:12px solid transparent;border-left:none;}.ie .media-block{display:table;width:100%;}.ie .media-avatar,.ie .media-story{display:table-cell;vertical-align:top;}.ie .media-story{width:100%;}.nowrap{white-space:nowrap;}.u-pseudo-link{margin:0;padding:0;background:none;border:0;outline:0;color:#0073bb;cursor:pointer;}.u-pseudo-link:hover,.u-pseudo-link:focus{text-decoration:underline;}h1,.h1,h2,.h2,h3,.h3,h4,.h4{font-weight:bold;color:#d32323;margin:0 0 6px;}h1,.h1{font-size:18px;}h2,.h2{font-size:16px;}h3,.h3{font-size:14px;}h4,.h4{font-size:12px;margin:0 0 3px;}.events .content ul{margin-bottom:10px;overflow:hidden;width:100%;}.events .content ul li{zoom:1;float:left;line-height:14px;margin:0 0 10px;width:155px;}.events .content ul li *{position:relative;}.events .content ul li strong,.events .content ul li span.date{float:right;font-weight:normal;margin:0;width:100%;}@media print{.rating{background:transparent;text-indent:0em !important;}}@media only screen and (max-width: 989px){.responsive .section-header_block{margin:0 auto;}}@media only screen and (max-width: 989px){.responsive .section-header_block-main{float:none;width:auto;clear:both;margin:15px 0 0;padding:0;border:0;-webkit-box-shadow:none;box-shadow:none;}}@media only screen and (max-width: 989px){.responsive .section-header_block-side{float:none;width:auto;clear:both;margin:15px 0 0;padding:0;border:0;-webkit-box-shadow:none;box-shadow:none;}}@media only screen and (max-width: 989px){.responsive .section-header--complex .section-header_block-main,.responsive .section-header--complex .section-header_block-side{width:auto;}}body{font-size:14px;line-height:1.28571em;font-family:'Helvetica Neue', Helvetica, Arial, sans-serif;color:#333;}h1,.h1,h2,.h2,h3,.h3,h4,.h4{margin-bottom:6px;word-wrap:break-word !important;word-break:break-word !important;overflow-wrap:break-word !important;}h1 b,.h1 b,h2 b,.h2 b,h3 b,.h3 b,h4 b,.h4 b{font-weight:normal;color:#333;}h2,.h2,h3,.h3{color:#d32323;}h1,.h1{padding-top:6px;font-size:30px;line-height:1.2em;color:#333;}@media only screen and (max-width: 989px){.responsive h1,.responsive .h1{font-size:21px;line-height:1.28571em;}}@media only screen and (max-width: 479px){.responsive h1,.responsive .h1{font-size:24px;line-height:1.25em;}}h2,.h2{font-size:21px;line-height:1.28571em;}h3,.h3{font-size:16px;line-height:1.3125em;}@media only screen and (max-width: 479px){.responsive h3,.responsive .h3{font-size:18px;line-height:1.33333em;}}h4,.h4{font-size:14px;line-height:1.28571em;color:#333;}@media only screen and (max-width: 479px){.responsive{font-size:16px;line-height:1.5em;}}p{margin-bottom:12px;}a{color:#0073bb;text-decoration:none;}a:hover{text-decoration:underline;}b,strong,h1,h2,h3,h4,h5{font-weight:bold;}small{font-size:12px;line-height:1.5em;}@media only screen and (max-width: 479px){.responsive small{font-size:14px;line-height:1.28571em;}}address{display:block;font-style:normal;}pre{font-family:Monaco, Consolas, 'Courier New', monospace;}@media only screen and (max-width: 479px){.responsive .time-stamp{font-size:14px;line-height:1.28571em;}}@media only screen and (max-width: 479px){.responsive .legal-copy{font-size:14px;line-height:1.28571em;}}.bullet-before:before,.bullet-after:after{content:\"•\";position:relative;top:-1px;margin:0 3px;color:#999;font-size:10px;line-height:18px;}blockquote,.pull-quote{padding-left:18px;margin-bottom:12px;}blockquote{border-left:6px solid;border-color:#e6e6e6;border-color:rgba(0,0,0,0.1);}input::-webkit-input-placeholder,textarea::-webkit-input-placeholder{color:#999;}input:-moz-placeholder,textarea:-moz-placeholder{color:#999;}.layout-block{margin:0 -15px;}.layout-block:before,.layout-block:after{content:\" \";display:table;}.layout-block:after{clear:both;}.layout-full .column-alpha{float:left;padding:0 15px;min-height:1px;-webkit-box-sizing:border-box;-moz-box-sizing:border-box;box-sizing:border-box;width:100%;}.layout-a .column-alpha{float:left;padding:0 15px;min-height:1px;-webkit-box-sizing:border-box;-moz-box-sizing:border-box;box-sizing:border-box;width:66.66667%;}.layout-a .column-beta{float:left;padding:0 15px;min-height:1px;-webkit-box-sizing:border-box;-moz-box-sizing:border-box;box-sizing:border-box;width:33.33333%;}.hidden-non-responsive-inline,.hidden-non-responsive-inline-block,.hidden-non-responsive-block,.hidden-non-responsive-table-cell{display:none !important;}@media only screen and (max-width: 479px){.responsive .responsive-small-display-inline-block{display:inline-block !important;}.responsive .responsive-small-display-block{display:block !important;}.responsive .responsive-small-display-inline{display:inline !important;}}@media only screen and (max-width: 989px){.responsive .responsive-medium-display-inline-block{display:inline-block !important;}.responsive .responsive-medium-display-block{display:block !important;}.responsive .responsive-medium-display-inline{display:inline !important;}}@media only screen and (min-width: 990px){.responsive .responsive-large-display-inline-block{display:inline-block !important;}.responsive .responsive-large-display-block{display:block !important;}.responsive .responsive-large-display-inline{display:inline !important;}}@media only screen and (max-width: 479px){.responsive .responsive-visible-small-inline{display:inline !important;}.responsive .responsive-visible-small-inline-block{display:inline-block !important;}.responsive .responsive-visible-small-block{display:block !important;}.responsive .responsive-visible-small-table-cell{display:table-cell !important;}}@media only screen and (min-width: 480px) and (max-width: 989px){.responsive .responsive-visible-medium-only-inline{display:inline !important;}.responsive .responsive-visible-medium-only-inline-block{display:inline-block !important;}.responsive .responsive-visible-medium-only-block{display:block !important;}.responsive .responsive-visible-medium-only-table-cell{display:table-cell !important;}}@media only screen and (max-width: 989px){.responsive .responsive-visible-medium-inline{display:inline !important;}.responsive .responsive-visible-medium-inline-block{display:inline-block !important;}.responsive .responsive-visible-medium-block{display:block !important;}.responsive .responsive-visible-medium-table-cell{display:table-cell !important;}}@media only screen and (min-width: 990px){.responsive .responsive-visible-large-inline{display:inline !important;}.responsive .responsive-visible-large-inline-block{display:inline-block !important;}.responsive .responsive-visible-large-block{display:block !important;}.responsive .responsive-visible-large-cell{display:table-cell !important;}}@media only screen and (max-width: 479px){.responsive .responsive-hidden-small{display:none !important;}}@media only screen and (min-width: 480px) and (max-width: 989px){.responsive .responsive-hidden-medium-only{display:none !important;}}@media only screen and (max-width: 989px){.responsive .responsive-hidden-medium{display:none !important;}}@media only screen and (min-width: 990px){.responsive .responsive-hidden-large{display:none !important;}}@media only screen and (max-width: 989px){.responsive .row--responsive{margin:0 auto;}}@media only screen and (max-width: 989px){.responsive .column--responsive{float:none;width:auto;clear:both;margin:15px 0 0;padding:0;border:0;-webkit-box-shadow:none;box-shadow:none;}.responsive .column--responsive:first-child{margin-top:0;}}@media only screen and (max-width: 479px){.responsive .alert{padding:12px;border:1px solid #f15c00;font-size:14px;line-height:1.28571em;background:white;}.responsive .alert b{color:#f15c00;}}@media only screen and (max-width: 479px){.responsive .alert-message .read-more{font-size:14px;line-height:1.28571em;}}@media only screen and (max-width: 479px){.responsive .alert-content-wrapper>.arrange_unit{vertical-align:middle;}}@media only screen and (max-width: 479px){.responsive .alert-success{border-color:#41a700;}.responsive .alert-success b{color:#41a700;}}@media only screen and (max-width: 479px){.responsive .alert-error{border-color:#d32323;}.responsive .alert-error b{color:#d32323;}}@media only screen and (max-width: 479px){.responsive .alert-info{border-color:#0073bb;}.responsive .alert-info b{color:#333;}}@media only screen and (max-width: 989px){.responsive .alert--site{min-width:0;}}.arrange{display:table;min-width:100%;table-layout:auto;}.arrange.hidden{display:none;}.arrange_unit{-webkit-box-sizing:border-box;-moz-box-sizing:border-box;box-sizing:border-box;display:table-cell;vertical-align:top;}.arrange_unit--fill{width:100%;}.arrange--middle>.arrange_unit{vertical-align:middle;}.arrange--baseline>.arrange_unit{vertical-align:baseline;}.arrange--6{margin-left:-6px;margin-right:-6px;border-collapse:separate;border-spacing:6px 0;}.arrange--6.arrange--equal,.arrange--6.arrange--wrap{margin-left:-3px;margin-right:-3px;}.arrange--6>.arrange_unit{margin-left:3px;margin-right:3px;border-collapse:collapse;border-spacing:0 0;}.ie .arrange--6.arrange--equal{border-collapse:collapse;border-spacing:0 0;}.ie .arrange--6.arrange--equal>.arrange_unit,.arrange--6.arrange--wrap>.arrange_unit{margin-left:auto;margin-right:auto;padding-left:3px;padding-right:3px;}@media only screen and (max-width: 989px){.responsive .arrange--6.arrange--stack>.arrange_unit+.arrange_unit{margin-top:6px;}}@media only screen and (max-width: 989px){.responsive .arrange--stack>.arrange_unit--stack-6{margin-top:6px !important;}}.arrange--12{margin-left:-12px;margin-right:-12px;border-collapse:separate;border-spacing:12px 0;}.arrange--12.arrange--equal,.arrange--12.arrange--wrap{margin-left:-6px;margin-right:-6px;}.arrange--12>.arrange_unit{margin-left:6px;margin-right:6px;border-collapse:collapse;border-spacing:0 0;}.ie .arrange--12.arrange--equal{border-collapse:collapse;border-spacing:0 0;}.ie .arrange--12.arrange--equal>.arrange_unit,.arrange--12.arrange--wrap>.arrange_unit{margin-left:auto;margin-right:auto;padding-left:6px;padding-right:6px;}@media only screen and (max-width: 989px){.responsive .arrange--12.arrange--stack>.arrange_unit+.arrange_unit{margin-top:12px;}}@media only screen and (max-width: 989px){.responsive .arrange--stack>.arrange_unit--stack-12{margin-top:12px !important;}}.arrange--18{margin-left:-18px;margin-right:-18px;border-collapse:separate;border-spacing:18px 0;}. ...\n"
     ]
    }
   ],
   "source": [
    "with open('resource/asnlib/publicdata/yelp.htm', 'r', encoding='utf-8') as yelp_file:\n",
    "    yelp_html = yelp_file.read()\n",
    "    \n",
    "# Print first few hundred characters of this string:\n",
    "print(\"*** type(yelp_html) == {} ***\".format(type(yelp_html)))\n",
    "n = 40000\n",
    "print(\"*** Contents (first {} characters) ***\\n{} ...\".format(n, yelp_html[:n]))"
   ]
  },
  {
   "cell_type": "markdown",
   "metadata": {
    "deletable": false,
    "editable": false,
    "nbgrader": {
     "grade": false,
     "locked": true,
     "solution": false
    }
   },
   "source": [
    "Oy, what a mess! It will be great to have some code read and process the information contained within this file."
   ]
  },
  {
   "cell_type": "markdown",
   "metadata": {
    "deletable": false,
    "editable": false,
    "nbgrader": {
     "grade": false,
     "locked": true,
     "solution": false
    },
    "tags": [
     "exercise_text"
    ]
   },
   "source": [
    "## Exercise (5 points): Extracting the ranking\n",
    "\n",
    "Create a new function that will return a variable named `rankings`, which is a list of dictionaries set up as follows:\n",
    "\n",
    "* `rankings[i]` is a dictionary corresponding to the restaurant whose rank is `i+1`. For example, from the screenshot above, `rankings[0]` should be a dictionary with information about Gus's World Famous Fried Chicken.\n",
    "* Each dictionary, `rankings[i]`, should have these keys:\n",
    "    * `rankings[i]['name']`: The name of the restaurant, a string.\n",
    "    * `rankings[i]['stars']`: The star rating, as a string, e.g., `'4.5'`, `'4.0'`\n",
    "    * `rankings[i]['numrevs']`: The number of reviews, as an **integer.**\n",
    "    * `rankings[i]['price']`: The price range, as dollar signs, e.g., `'$'`, `'$$'`, `'$$$'`, or `'$$$$'`.\n",
    "    \n",
    "Of course, since the current topic is regular expressions, you might try to apply them (possibly combined with other string manipulation methods) find the particular patterns that yield the desired information."
   ]
  },
  {
   "cell_type": "code",
   "execution_count": 3,
   "metadata": {
    "collapsed": true,
    "deletable": false,
    "editable": false,
    "nbgrader": {
     "grade": false,
     "locked": true,
     "solution": false
    },
    "tags": [
     "demo_data"
    ]
   },
   "outputs": [],
   "source": [
    "### Define demo inputs\n",
    "demo_str_ex0 = yelp_html"
   ]
  },
  {
   "cell_type": "markdown",
   "metadata": {
    "deletable": false,
    "editable": false,
    "nbgrader": {
     "grade": false,
     "locked": true,
     "solution": false
    },
    "tags": [
     "demo_output_md"
    ]
   },
   "source": [
    "<!-- Expected demo output text block -->\n",
    "The demo included in the solution cell below should display the following output:\n",
    "```\n",
    "extract_ranking(demo_str_ex0) ->\n",
    "\n",
    "[{'name': 'Gus’s World Famous Fried Chicken',\n",
    "  'stars': '4.0',\n",
    "  'numrevs': 549,\n",
    "  'price': '$$'},\n",
    " {'name': 'South City Kitchen - Midtown',\n",
    "  'stars': '4.5',\n",
    "  'numrevs': 1777,\n",
    "  'price': '$$'},\n",
    " {'name': 'Mary Mac’s Tea Room',\n",
    "  'stars': '4.0',\n",
    "  'numrevs': 2241,\n",
    "  'price': '$$'},\n",
    " {'name': 'Busy Bee Cafe', 'stars': '4.0', 'numrevs': 481, 'price': '$$'},\n",
    " {'name': 'Richards’ Southern Fried',\n",
    "  'stars': '4.0',\n",
    "  'numrevs': 108,\n",
    "  'price': '$$'},\n",
    " {'name': 'Greens &amp; Gravy', 'stars': '3.5', 'numrevs': 93, 'price': '$$'},\n",
    " {'name': 'Colonnade Restaurant',\n",
    "  'stars': '4.0',\n",
    "  'numrevs': 350,\n",
    "  'price': '$$'},\n",
    " {'name': 'South City Kitchen Buckhead',\n",
    "  'stars': '4.5',\n",
    "  'numrevs': 248,\n",
    "  'price': '$$'},\n",
    " {'name': 'Poor Calvin’s', 'stars': '4.5', 'numrevs': 1558, 'price': '$$'},\n",
    " {'name': 'Rock’s Chicken &amp; Fries',\n",
    "  'stars': '4.0',\n",
    "  'numrevs': 67,\n",
    "  'price': '$'}]\n",
    "```\n",
    "<!-- Include any shout outs here -->"
   ]
  },
  {
   "cell_type": "code",
   "execution_count": 41,
   "metadata": {},
   "outputs": [
    {
     "data": {
      "text/plain": [
       "[{'name': 'Gus’s World Famous Fried Chicken',\n",
       "  'stars': '4.0',\n",
       "  'numrevs': 549,\n",
       "  'price': '$$'},\n",
       " {'name': 'South City Kitchen - Midtown',\n",
       "  'stars': '4.5',\n",
       "  'numrevs': 1777,\n",
       "  'price': '$$'},\n",
       " {'name': 'Mary Mac’s Tea Room',\n",
       "  'stars': '4.0',\n",
       "  'numrevs': 2241,\n",
       "  'price': '$$'},\n",
       " {'name': 'Busy Bee Cafe', 'stars': '4.0', 'numrevs': 481, 'price': '$$'},\n",
       " {'name': 'Richards’ Southern Fried',\n",
       "  'stars': '4.0',\n",
       "  'numrevs': 108,\n",
       "  'price': '$$'},\n",
       " {'name': 'Greens &amp; Gravy', 'stars': '3.5', 'numrevs': 93, 'price': '$$'},\n",
       " {'name': 'Colonnade Restaurant',\n",
       "  'stars': '4.0',\n",
       "  'numrevs': 350,\n",
       "  'price': '$$'},\n",
       " {'name': 'South City Kitchen Buckhead',\n",
       "  'stars': '4.5',\n",
       "  'numrevs': 248,\n",
       "  'price': '$$'},\n",
       " {'name': 'Poor Calvin’s', 'stars': '4.5', 'numrevs': 1558, 'price': '$$'},\n",
       " {'name': 'Rock’s Chicken &amp; Fries',\n",
       "  'stars': '4.0',\n",
       "  'numrevs': 67,\n",
       "  'price': '$'}]"
      ]
     },
     "execution_count": 41,
     "metadata": {},
     "output_type": "execute_result"
    }
   ],
   "source": [
    "from bs4 import BeautifulSoup\n",
    "import html\n",
    "def extract_ranking(yelp_html):\n",
    "    soup = BeautifulSoup(yelp_html, 'html.parser')\n",
    "    yelp_data = []\n",
    "\n",
    "    for media_story in soup.find_all('div', class_='media-story'):\n",
    "        # Check if this entry is marked as an ad\n",
    "        # First, ensure the h3 element exists before attempting to find the span within it\n",
    "        h3_tag = media_story.find('h3', class_='search-result-title')\n",
    "        if h3_tag:\n",
    "            ad_marker = h3_tag.find('span', class_='yloca-tip')\n",
    "            if ad_marker and ad_marker.text.strip() == 'Ad':\n",
    "                continue  # Skip this entry because it's an ad\n",
    "\n",
    "        # Proceed with data extraction only if the ad marker is not found\n",
    "        name_tag = media_story.find('a', class_='biz-name')\n",
    "        if not name_tag:\n",
    "            continue  # Skip if there's no name, or the name_tag is None\n",
    "\n",
    "        name = html.escape(name_tag.get_text())\n",
    "\n",
    "        # Extract the star rating, ensuring the element exists\n",
    "        stars_tag = media_story.find('div', class_='i-stars')\n",
    "        stars = stars_tag['title'].split(' ')[0] if stars_tag else 'N/A'\n",
    "\n",
    "        # Extract the number of reviews, ensuring the element exists\n",
    "        review_count_tag = media_story.find('span', class_='review-count')\n",
    "        numrevs = review_count_tag.text.strip().split(' ')[0] if review_count_tag else 'N/A'\n",
    "\n",
    "        # Extract the price range, ensuring the element exists\n",
    "        price_range_tag = media_story.find('span', class_='business-attribute')\n",
    "        price = price_range_tag.text.strip() if price_range_tag else 'N/A'\n",
    "\n",
    "        # Append the extracted information to the yelp_data list\n",
    "        yelp_data.append({\n",
    "            'name': name,\n",
    "            'stars': stars,\n",
    "            'numrevs': int(numrevs),\n",
    "            'price': price\n",
    "        })\n",
    "\n",
    "    return yelp_data\n",
    "\n",
    "\n",
    "extract_ranking(yelp_html)"
   ]
  },
  {
   "cell_type": "code",
   "execution_count": 35,
   "metadata": {
    "collapsed": true,
    "tags": [
     "exercise_solution"
    ]
   },
   "outputs": [],
   "source": [
    "# ### Exercise 0 solution\n",
    "# def extract_ranking(yelp_html):\n",
    "#     ###\n",
    "#     ### YOUR CODE HERE\n",
    "#     ###\n",
    "    \n",
    "# ### demo function call\n",
    "# extract_ranking(demo_str_ex0)"
   ]
  },
  {
   "cell_type": "markdown",
   "metadata": {
    "deletable": false,
    "editable": false,
    "nbgrader": {
     "grade": false,
     "locked": true,
     "solution": false
    },
    "tags": [
     "test_data_boilerplate"
    ]
   },
   "source": [
    "<!-- Test Cell Boilerplate -->\n",
    "The cell below will test your solution for Exercise 0. The testing variables will be available for debugging under the following names in a dictionary format.\n",
    "- `input_vars` - Input variables for your solution. \n",
    "- `original_input_vars` - Copy of input variables from prior to running your solution. These _should_ be the same as `input_vars` - otherwise the inputs were modified by your solution.\n",
    "- `returned_output_vars` - Outputs returned by your solution.\n",
    "- `true_output_vars` - The expected output. This _should_ \"match\" `returned_output_vars` based on the question requirements - otherwise, your solution is not returning the correct output. "
   ]
  },
  {
   "cell_type": "code",
   "execution_count": 42,
   "metadata": {
    "deletable": false,
    "editable": false,
    "nbgrader": {
     "grade": true,
     "grade_id": "ex0",
     "locked": true,
     "points": "5",
     "solution": false
    },
    "tags": []
   },
   "outputs": [
    {
     "name": "stdout",
     "output_type": "stream",
     "text": [
      "Passed! Please submit.\n"
     ]
    }
   ],
   "source": [
    "### test_cell_ex0\n",
    "from tester_fw.testers import Tester\n",
    "\n",
    "conf = {\n",
    "    'case_file':'tc_0', \n",
    "    'func': extract_ranking, # replace this with the function defined above\n",
    "    'inputs':{ # input config dict. keys are parameter names\n",
    "        'yelp_html':{\n",
    "            'dtype':'str', # data type of param.\n",
    "            'check_modified':True,\n",
    "        }\n",
    "    },\n",
    "    'outputs':{\n",
    "        'output_0':{\n",
    "            'index':0,\n",
    "            'dtype':'list',\n",
    "            'check_dtype': True,\n",
    "            'check_col_dtypes': True, # Ignored if dtype is not df\n",
    "            'check_col_order': True, # Ignored if dtype is not df\n",
    "            'check_row_order': True, # Ignored if dtype is not df\n",
    "            'check_column_type': True, # Ignored if dtype is not df\n",
    "            'float_tolerance': 10 ** (-6)\n",
    "        }\n",
    "    }\n",
    "}\n",
    "tester = Tester(conf, key=b'bcdBk1WLcJ7DmbnNvGz65Oub0ZpaNa1bnbT-5L_G0Yk=', path='resource/asnlib/publicdata/')\n",
    "for _ in range(10):\n",
    "    try:\n",
    "        tester.run_test()\n",
    "        (input_vars, original_input_vars, returned_output_vars, true_output_vars) = tester.get_test_vars()\n",
    "    except:\n",
    "        (input_vars, original_input_vars, returned_output_vars, true_output_vars) = tester.get_test_vars()\n",
    "        raise\n",
    "\n",
    "print('Passed! Please submit.')"
   ]
  },
  {
   "cell_type": "markdown",
   "metadata": {
    "deletable": false,
    "editable": false,
    "nbgrader": {
     "grade": false,
     "locked": true,
     "solution": false
    },
    "tags": [
     "fin"
    ]
   },
   "source": [
    "**Fin!** This cell marks the end of Part 1. Don't forget to save, restart and rerun all cells, and submit it. When you are done, proceed to Part 2."
   ]
  }
 ],
 "metadata": {
  "interpreter": {
   "hash": "f2b38b6e01547e8f771d473ea2b8718fd0728eea782e4c924ed8783f739d4a6c"
  },
  "kernelspec": {
   "display_name": "Python 3.8",
   "language": "python",
   "name": "python38"
  },
  "language_info": {
   "codemirror_mode": {
    "name": "ipython",
    "version": 3
   },
   "file_extension": ".py",
   "mimetype": "text/x-python",
   "name": "python",
   "nbconvert_exporter": "python",
   "pygments_lexer": "ipython3",
   "version": "3.8.7"
  }
 },
 "nbformat": 4,
 "nbformat_minor": 5
}
