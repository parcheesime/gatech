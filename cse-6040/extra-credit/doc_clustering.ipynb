{
 "cells": [
  {
   "cell_type": "markdown",
   "metadata": {},
   "source": [
    "# Document Clustering Analysis of \"War of the Worlds\" and \"Roots\" Chapters\n",
    "\n",
    "## Overview:\n",
    "In this notebook, I perform a document clustering analysis on chapters extracted from two iconic literary works: \"War of the Worlds\" by H.G. Wells and \"Roots\" by Alex Haley. The chapters from \"War of the Worlds\" were sourced from the Gutenberg website, a digital library offering free access to a vast collection of public domain texts. On the other hand, the chapters from \"Roots\" were obtained from antilogicalism.com, providing a rich and diverse selection of literary content.\n",
    "\n",
    "## Objective:\n",
    "My objective is to investigate whether document clustering algorithms can effectively organize chapters from these two distinct literary works based solely on their textual content. By applying natural language processing techniques, including text preprocessing, bag-of-words representation, and clustering algorithms, I aim to discern any thematic similarities or differences between the chapters and evaluate the clustering performance.\n",
    "\n",
    "## Methodology:\n",
    "1. **Data Acquisition:** Chapters from \"War of the Worlds\" and \"Roots\" were extracted from Project Gutenberg and Antilogicalism.com.\n",
    "2. **Preprocessing:** Text data underwent preprocessing steps, including tokenization, stopword removal, chapter separation, and other cleaning techniques.\n",
    "3. **Feature Extraction:** Chapters were represented using the bag-of-words model to transform textual data into numerical vectors.\n",
    "4. **Clustering Analysis:** Document clustering algorithms were applied to group chapters based on their content similarities.\n",
    "5. **Evaluation:** Clustering results were evaluated to assess the effectiveness of organizing chapters from different literary works.\n",
    "\n",
    "## Conclusion:\n",
    "Through this analysis, I aim to gain insights into the clustering behavior and ascertain whether chapters from \"War of the Worlds\" and \"Roots\" exhibit distinct thematic patterns that can be captured by document clustering algorithms.\n"
   ]
  },
  {
   "cell_type": "code",
   "execution_count": null,
   "metadata": {},
   "outputs": [],
   "source": []
  }
 ],
 "metadata": {
  "kernelspec": {
   "display_name": "Python 3",
   "language": "python",
   "name": "python3"
  },
  "language_info": {
   "codemirror_mode": {
    "name": "ipython",
    "version": 3
   },
   "file_extension": ".py",
   "mimetype": "text/x-python",
   "name": "python",
   "nbconvert_exporter": "python",
   "pygments_lexer": "ipython3",
   "version": "3.10.6"
  }
 },
 "nbformat": 4,
 "nbformat_minor": 2
}
