{
    "cells": [
        {
            "cell_type": "markdown",
            "metadata": {
                "deletable": false,
                "editable": false,
                "nbgrader": {
                    "grade": false,
                    "locked": true,
                    "solution": false
                }
            },
            "source": [
                "# Problem 9: Maximum likelihood and floating-point\n",
                "\n",
                "This problem concerns floating-point arithmetic, motivated by the statistical concept of maximum likelihood estimation. It has four exercises, numbered 0-3, and is worth a total of ten (10) points."
            ]
        },
        {
            "cell_type": "markdown",
            "metadata": {},
            "source": [
                "**Setup.** This problem involves a number of functions from the Python standard library. Here are some of them; run the code cell below to make them available for use."
            ]
        },
        {
            "cell_type": "code",
            "execution_count": 1,
            "metadata": {
                "collapsed": true,
                "deletable": false,
                "editable": false,
                "nbgrader": {
                    "grade": false,
                    "locked": true,
                    "solution": false
                }
            },
            "outputs": [],
            "source": [
                "# The test cells need these:\n",
                "from random import choice, randint, uniform, shuffle\n",
                "from math import isclose\n",
                "\n",
                "# You'll need these in Exercises 1 & 3:\n",
                "from math import exp, sqrt, pi, log"
            ]
        },
        {
            "cell_type": "markdown",
            "metadata": {
                "deletable": false,
                "editable": false,
                "nbgrader": {
                    "grade": false,
                    "locked": true,
                    "solution": false
                }
            },
            "source": [
                "## Products\n",
                "\n",
                "Suppose you are given a collection of $n$ data values, named $x_0$, $x_1$, $\\ldots$, $x_{n-1}$. Mathematically, we denote their sum as\n",
                "\n",
                "$$\n",
                "  x_0 + x_1 + \\cdots + x_{n-1} \\equiv \\sum_{k=0}^{n-1} x_i.\n",
                "$$\n",
                "\n",
                "In Python, it's easy to implement this formula using the `sum()` function, which can sum the elements of any iterable collection, like a list:"
            ]
        },
        {
            "cell_type": "code",
            "execution_count": 2,
            "metadata": {
                "deletable": false,
                "editable": false,
                "nbgrader": {
                    "grade": false,
                    "locked": true,
                    "solution": false
                }
            },
            "outputs": [
                {
                    "name": "stdout",
                    "output_type": "stream",
                    "text": [
                        "sum([1, 2, 3, 4, 5]) == 15\n"
                    ]
                },
                {
                    "data": {
                        "text/plain": [
                            "15"
                        ]
                    },
                    "execution_count": 2,
                    "metadata": {},
                    "output_type": "execute_result"
                }
            ],
            "source": [
                "x = [1, 2, 3, 4, 5]\n",
                "print(\"sum({}) == {}\".format(x, sum(x)))\n",
                "\n",
                "sum(x)"
            ]
        },
        {
            "cell_type": "markdown",
            "metadata": {
                "deletable": false,
                "editable": false,
                "nbgrader": {
                    "grade": false,
                    "locked": true,
                    "solution": false
                }
            },
            "source": [
                "Suppose instead that we wish to compute the _product_ of these values:\n",
                "\n",
                "$$\n",
                "    x_0 \\cdot x_1 \\cdot \\cdots \\cdot x_{n-1} \\equiv \\prod_{k=0}^{n-1} x_i.\n",
                "$$"
            ]
        },
        {
            "cell_type": "markdown",
            "metadata": {
                "deletable": false,
                "editable": false,
                "nbgrader": {
                    "grade": false,
                    "locked": true,
                    "solution": false
                }
            },
            "source": [
                "**Exercise 0** (3 points). Write a function, `product(x)`, that returns the product of a collection of numbers `x`."
            ]
        },
        {
            "cell_type": "code",
            "execution_count": 3,
            "metadata": {},
            "outputs": [
                {
                    "name": "stdout",
                    "output_type": "stream",
                    "text": [
                        "product([1, 2, 3, 4, 5]) == 120?\n"
                    ]
                }
            ],
            "source": [
                "def product(x):\n",
                "    p=1\n",
                "    for e in x:\n",
                "        p = e*p\n",
                "    return p\n",
                "    \n",
                "# Demo:\n",
                "print(\"product({}) == {}?\".format(x, product(x))) # Should be 120"
            ]
        },
        {
            "cell_type": "code",
            "execution_count": 4,
            "metadata": {
                "deletable": false,
                "editable": false,
                "nbgrader": {
                    "grade": true,
                    "grade_id": "product_test0",
                    "locked": true,
                    "points": "1",
                    "solution": false
                }
            },
            "outputs": [
                {
                    "name": "stdout",
                    "output_type": "stream",
                    "text": [
                        "5 values: [1, 2, 3, 4, 5]\n",
                        "  => Your result: 120\n",
                        "  => After dividing by input values: 1.0\n",
                        "\n",
                        "(Passed first test!)\n"
                    ]
                }
            ],
            "source": [
                "# Test cell: `product_test0` (1 point)\n",
                "\n",
                "def check_product(x_or_n):\n",
                "    import numpy as np\n",
                "    eps = np.finfo(float).eps\n",
                "    def delim_vals(x, s=', ', fmt=str):\n",
                "        return s.join([fmt(xi) for xi in x])\n",
                "    def gen_val(do_int):\n",
                "        if do_int:\n",
                "            v = randint(-100, 100)\n",
                "            while v == 0:\n",
                "                v = randint(-100, 100)\n",
                "            assert v != 0\n",
                "        else:\n",
                "            v = uniform(-10, 10)\n",
                "        return v\n",
                "    \n",
                "    if type(x_or_n) is int:\n",
                "        n = x_or_n\n",
                "        do_int = choice([False, True])\n",
                "        x = [gen_val(do_int) for _ in range(n)]\n",
                "    else:\n",
                "        x = x_or_n\n",
                "        n = len(x)\n",
                "        \n",
                "    if n > 10:\n",
                "        msg_values = \"{}, ..., {}\".format(n, delim_vals(x[:5]), delim_vals(x[-5:]))\n",
                "    else:\n",
                "        msg_values = delim_vals(x)\n",
                "    msg = \"{} values: [{}]\".format(n, msg_values)\n",
                "    print(msg)\n",
                "    p = product(x)\n",
                "    print(\"  => Your result: {}\".format(p))\n",
                "    \n",
                "    # Check\n",
                "    for xi in x:\n",
                "        p /= xi\n",
                "    abs_err = p - 1.0\n",
                "    print(\"  => After dividing by input values: {}\".format(p))\n",
                "    assert abs(p-1.0) <= (20.0 / n) * eps, \\\n",
                "           \"Dividing your result by the individual values is {}, which is a bit too far from 1.0\".format(abs_err)\n",
                "\n",
                "check_product([1, 2, 3, 4, 5]) == 120\n",
                "print(\"\\n(Passed first test!)\")"
            ]
        },
        {
            "cell_type": "code",
            "execution_count": 5,
            "metadata": {
                "deletable": false,
                "editable": false,
                "nbgrader": {
                    "grade": true,
                    "grade_id": "product_test1",
                    "locked": true,
                    "points": "2",
                    "solution": false
                }
            },
            "outputs": [
                {
                    "name": "stdout",
                    "output_type": "stream",
                    "text": [
                        "=== Test 0 ===\n",
                        "10 values: [1.0442416771892304, 4.839451708401663, -8.487521513363369, 9.495739752851698, -0.7560372986797521, 8.526111154548069, -3.7573897340219586, 6.355833398006979, -7.460760700520204, -5.176830503096317]\n",
                        "  => Your result: -2421625.0033283895\n",
                        "  => After dividing by input values: 0.9999999999999998\n",
                        "\n",
                        "=== Test 1 ===\n",
                        "10 values: [5.203155961718464, 1.8707327433597438, -4.794145789572353, -5.892431642282839, -1.9460999329644135, 3.05699948480685, 4.969980364936237, -8.659541244501243, -6.640015096714659, -0.08124736741673644]\n",
                        "  => Your result: 37981.56077295323\n",
                        "  => After dividing by input values: 0.9999999999999998\n",
                        "\n",
                        "=== Test 2 ===\n",
                        "10 values: [5.471970149858265, -3.834404223018777, 5.625153169969707, -4.4697274148912225, 2.6805762364724472, -0.4595007926993606, -2.078807137798135, -3.6231628533219844, 8.44576859209753, 6.6650632044922276]\n",
                        "  => Your result: -275497.04040165443\n",
                        "  => After dividing by input values: 1.0\n",
                        "\n",
                        "=== Test 3 ===\n",
                        "10 values: [99, 9, 86, 29, 35, -35, 94, -68, -90, -44]\n",
                        "  => Your result: 68903644593168000\n",
                        "  => After dividing by input values: 1.0\n",
                        "\n",
                        "=== Test 4 ===\n",
                        "10 values: [8.189197650865868, -6.660946114017998, 8.660522397279124, -7.480533156033893, 0.6648794777752052, -3.217486491873734, 8.24893671182815, 9.867908079727968, -7.774648861714564, 4.481241899445056]\n",
                        "  => Your result: 21439557.308486696\n",
                        "  => After dividing by input values: 1.0\n",
                        "\n",
                        "(Passed second battery of tests!)\n"
                    ]
                }
            ],
            "source": [
                "# Test cell: `product_test1` (2 points)\n",
                "for k in range(5):\n",
                "    print(\"=== Test {} ===\".format(k))\n",
                "    check_product(10)\n",
                "    print()\n",
                "print(\"(Passed second battery of tests!)\")"
            ]
        },
        {
            "cell_type": "markdown",
            "metadata": {
                "deletable": false,
                "editable": false,
                "nbgrader": {
                    "grade": false,
                    "locked": true,
                    "solution": false
                }
            },
            "source": [
                "## Gaussian distributions\n",
                "\n",
                "Recall that the probability density of a _normal_ or _Gaussian_ distribution with mean $\\mu$ and variance $\\sigma^2$ is,\n",
                "\n",
                "$$\n",
                "g(x) \\equiv \\frac{1}{\\sigma \\sqrt{2 \\pi}} \\exp\\left[ -\\frac{1}{2} \\left(\\frac{x-\\mu}{\\sigma}\\right)^2 \\right].\n",
                "$$\n",
                "\n",
                "While $\\sigma^2$ denotes the variance, the _standard deviation_ is $\\sigma$. You may assume $\\sigma > 0$."
            ]
        },
        {
            "cell_type": "markdown",
            "metadata": {
                "deletable": false,
                "editable": false,
                "nbgrader": {
                    "grade": false,
                    "locked": true,
                    "solution": false
                }
            },
            "source": [
                "**Exercise 1** (1 point). Write a function `gaussian0(x, mu, sigma)` that returns $g(x)$ given one floating-point value `x`, a mean value `mu`, and standard deviation `sigma`.\n",
                "\n",
                "For example,\n",
                "\n",
                "```python\n",
                "   gaussian0(1.0, 0.0, 1.0)\n",
                "```\n",
                "\n",
                "should return the value $\\frac{1}{\\sqrt{2\\pi}} \\exp(-0.5) \\approx 0.2419707\\ldots$.\n",
                "\n",
                "> In the signature below, `mu` and `sigma` are set to accept default values of 0.0 and 1.0, respectively. But your function should work for any value of `mu` and any `sigma > 0`."
            ]
        },
        {
            "cell_type": "code",
            "execution_count": 6,
            "metadata": {
                "nbgrader": {
                    "grade": false,
                    "locked": false,
                    "solution": false
                }
            },
            "outputs": [
                {
                    "name": "stdout",
                    "output_type": "stream",
                    "text": [
                        "0.24197072451914337\n"
                    ]
                }
            ],
            "source": [
                "import math\n",
                "def gaussian0(x, mu=0.0, sigma=1.0):\n",
                "    denom = sigma*((2*pi)**(1/2))\n",
                "    ex = math.e\n",
                "    g = -(1/2)*((x-mu)/sigma)**2\n",
                "    return (1/denom)*(ex**g)\n",
                "\n",
                "print(gaussian0(1.0)) # Should get 0.24197072451914..."
            ]
        },
        {
            "cell_type": "code",
            "execution_count": 7,
            "metadata": {},
            "outputs": [
                {
                    "data": {
                        "text/plain": [
                            "0.05309152260691058"
                        ]
                    },
                    "execution_count": 7,
                    "metadata": {},
                    "output_type": "execute_result"
                }
            ],
            "source": [
                "x=2.33760432604155\n",
                "mu=4.527248601712158\n",
                "sigma=7.172075044316745\n",
                "gaussian0(x, mu, sigma)"
            ]
        },
        {
            "cell_type": "code",
            "execution_count": 8,
            "metadata": {
                "deletable": false,
                "editable": false,
                "nbgrader": {
                    "grade": true,
                    "grade_id": "gaussian0_test",
                    "locked": true,
                    "points": "1",
                    "solution": false
                }
            },
            "outputs": [
                {
                    "name": "stdout",
                    "output_type": "stream",
                    "text": [
                        "Test case #0: x=1.0, mu=0.0, sigma=1.0\n",
                        "==> Passed.\n",
                        "Test case #1: x=-8.467156385293675, mu=-1.1770277997990526, sigma=5.973960156931857\n",
                        "==> Passed.\n",
                        "Test case #2: x=-4.2411101477002955, mu=0.034662516465370885, sigma=6.3679436133394\n",
                        "==> Passed.\n",
                        "Test case #3: x=-8.601852714587842, mu=2.645402325185362, sigma=7.737157075593329\n",
                        "==> Passed.\n",
                        "Test case #4: x=8.853998110737056, mu=4.797121292755303, sigma=1.9607421224863693\n",
                        "==> Passed.\n",
                        "Test case #5: x=-4.874793399482826, mu=-3.3662170837924865, sigma=5.809597512390849\n",
                        "==> Passed.\n",
                        "\n",
                        "(Passed!)\n"
                    ]
                }
            ],
            "source": [
                "# Test cell: `gaussian0_test` (1 point)\n",
                "\n",
                "def check_gaussian0(x=None, mu=None, sigma=None, k=None):       \n",
                "    if x is None:\n",
                "        x = uniform(-10, 10)\n",
                "    if mu is None:\n",
                "        mu = uniform(-10, 10)\n",
                "    if sigma is None:\n",
                "        sigma = uniform(1e-15, 10)\n",
                "    if k is None:\n",
                "        k_str = \"\"\n",
                "    else:\n",
                "        k_str = \" #{}\".format(k)\n",
                "    assert type(x) is float and type(mu) is float and type(sigma) is float\n",
                "    print(\"Test case{}: x={}, mu={}, sigma={}\".format(k_str, x, mu, sigma))\n",
                "    your_result = gaussian0(x, mu, sigma)\n",
                "    log_your_result = log(your_result)\n",
                "    log_true_result = -0.5*((x - mu)/sigma)**2 - log(sigma*sqrt(2*pi))\n",
                "    # Use an f-string to include variable values in the assertion message\n",
                "    assert isclose(log_your_result, log_true_result, rel_tol=1e-9), f\"Test case{k_str} failed! Your result: {log_your_result}, True result: {log_true_result}\"\n",
                "    print(\"==> Passed.\")\n",
                "    \n",
                "check_gaussian0(x=1.0, mu=0.0, sigma=1.0, k=0)\n",
                "\n",
                "for k in range(1, 6):\n",
                "    check_gaussian0(k=k)\n",
                "    \n",
                "print(\"\\n(Passed!)\")"
            ]
        },
        {
            "cell_type": "markdown",
            "metadata": {
                "deletable": false,
                "editable": false,
                "nbgrader": {
                    "grade": false,
                    "locked": true,
                    "solution": false
                }
            },
            "source": [
                "**Exercise 2** (1 point). Suppose you are now given a _list_ of values, $x_0$, $x_1$, $\\ldots$, $x_{n-1}$. Write a function, `gaussians()`, that returns the collection of $g(x_i)$ values, also as a list, given specific values of $\\mu$ and $\\sigma$.\n",
                "\n",
                "For example:\n",
                "\n",
                "```python\n",
                "gaussian0(-2, 7.0, 1.23) == 7.674273364934753e-13\n",
                "gaussian0(1, 7.0, 1.23) == 2.2075380785334786e-06\n",
                "gaussian0(3.5, 7.0, 1.23) == 0.0056592223086500545\n",
                "```\n",
                "\n",
                "Therefore,\n",
                "\n",
                "```python\n",
                "gaussians([-2, 1, 3.5], 7.0, 1.23) == [7.674273364934753e-13, 2.2075380785334786e-06, 0.0056592223086500545]\n",
                "```"
            ]
        },
        {
            "cell_type": "code",
            "execution_count": 9,
            "metadata": {},
            "outputs": [
                {
                    "name": "stdout",
                    "output_type": "stream",
                    "text": [
                        "[7.674273364934764e-13, 2.2075380785334803e-06, 0.005659222308650056]\n"
                    ]
                }
            ],
            "source": [
                "def gaussian0(x, mu=0.0, sigma=1.0):\n",
                "    denom = sigma*((2*pi)**(1/2))\n",
                "    ex = math.e\n",
                "    g = -(1/2)*((x-mu)/sigma)**2\n",
                "    return (1/denom)*(ex**g)\n",
                "\n",
                "def gaussians(X, mu=0.0, sigma=1.0):\n",
                "    assert type(X) is list\n",
                "    g_list = [gaussian0(x,mu,sigma) for x in X]\n",
                "    return g_list\n",
                "        \n",
                "    \n",
                "    \n",
                "print(gaussians([-2, 1, 3.5], 7.0, 1.23))"
            ]
        },
        {
            "cell_type": "code",
            "execution_count": 10,
            "metadata": {
                "deletable": false,
                "editable": false,
                "nbgrader": {
                    "grade": true,
                    "grade_id": "gaussians_test",
                    "locked": true,
                    "points": "1",
                    "solution": false
                }
            },
            "outputs": [
                {
                    "name": "stdout",
                    "output_type": "stream",
                    "text": [
                        "\n",
                        "(Passed!)\n"
                    ]
                }
            ],
            "source": [
                "# Test cell: `gaussians_test` (1 point)\n",
                "\n",
                "mu = uniform(-10, 10)\n",
                "sigma = uniform(1e-15, 10)\n",
                "X = [uniform(-10, 10) for _ in range(10)]\n",
                "g_X = gaussians(X, mu, sigma)\n",
                "for xi, gi in zip(X, g_X):\n",
                "    assert isclose(gi, gaussian0(xi, mu, sigma))\n",
                "\n",
                "print(\"\\n(Passed!)\")"
            ]
        },
        {
            "cell_type": "markdown",
            "metadata": {
                "deletable": false,
                "editable": false,
                "nbgrader": {
                    "grade": false,
                    "locked": true,
                    "solution": false
                }
            },
            "source": [
                "## Likelihoods and log-likelihoods\n",
                "\n",
                "In statistics, one technique to fit a function to data is a procedure known as _maximum likelihood estimation (MLE)_. At the heart of this method, one needs to calculate a special function known as the _likelihood function_, or just the _likelihood_. Here is how it is defined.\n",
                "\n",
                "Let $x_0$, $x_1$, $\\ldots$, $x_{n-1}$ denote a set of $n$ input data points. The likelihood of these data, $L(x_0, \\ldots, x_{n-1})$, is defined to be\n",
                "\n",
                "$$\n",
                "L(x_0, \\ldots, x_{n-1}) \\equiv \\prod_{k=0}^{n-1} p(x_i),\n",
                "$$\n",
                "\n",
                "where $p(x_i)$ is some probability density function that you believe is a good model of the data. The MLE procedure tries to choose model parameters that maximize $L(\\ldots)$.\n",
                "\n",
                "In this problem, let's suppose for simplicity that $p(x)$ is a normal or Gaussian distribution with mean $\\mu$ and variance $\\sigma^2$, meaning that $p(x_i) = g(x_i)$. Here is a straightforward way to implement $L(\\ldots)$ in Python."
            ]
        },
        {
            "cell_type": "code",
            "execution_count": 11,
            "metadata": {
                "deletable": false,
                "editable": false,
                "nbgrader": {
                    "grade": false,
                    "locked": true,
                    "solution": false
                }
            },
            "outputs": [
                {
                    "name": "stdout",
                    "output_type": "stream",
                    "text": [
                        "5.121487128441623e-65\n"
                    ]
                }
            ],
            "source": [
                "def likelihood_gaussian(x, mu=0.0, sigma=1.0):\n",
                "    assert type(x) is list\n",
                "    \n",
                "    g_all = gaussians(x, mu, sigma)\n",
                "    L = product(g_all)\n",
                "    return L\n",
                "\n",
                "print(likelihood_gaussian(X))"
            ]
        },
        {
            "cell_type": "markdown",
            "metadata": {
                "deletable": false,
                "editable": false,
                "nbgrader": {
                    "grade": false,
                    "locked": true,
                    "solution": false
                }
            },
            "source": [
                "The problem is that you might need to multiply many small values. Then, due to the limits of finite-precision arithmetic, the likelihood can quickly go to zero, becoming meaningless, even for a small number of data points."
            ]
        },
        {
            "cell_type": "code",
            "execution_count": 12,
            "metadata": {
                "deletable": false,
                "editable": false,
                "nbgrader": {
                    "grade": false,
                    "locked": true,
                    "solution": false
                }
            },
            "outputs": [
                {
                    "name": "stdout",
                    "output_type": "stream",
                    "text": [
                        "n=1: likelihood ~= 0.3167448662637015.\n",
                        "n=2: likelihood ~= 0.00013837849557031605.\n",
                        "n=4: likelihood ~= 3.9831573042102027e-17.\n",
                        "n=8: likelihood ~= 5.294839241922683e-21.\n",
                        "n=16: likelihood ~= 1.7405059349750127e-99.\n",
                        "n=32: likelihood ~= 4.759969036820765e-233.\n",
                        "n=64: likelihood ~= 0.0.\n",
                        "n=128: likelihood ~= 0.0.\n"
                    ]
                }
            ],
            "source": [
                "# Generate many random values\n",
                "N = [int(2**k) for k in range(8)]\n",
                "X = [uniform(-10, 10) for _ in range(max(N))]\n",
                "\n",
                "# Evaluate the likelihood for different numbers of these values:\n",
                "for n in N:\n",
                "    print(\"n={}: likelihood ~= {}.\".format(n, likelihood_gaussian(X[:n])))"
            ]
        },
        {
            "cell_type": "markdown",
            "metadata": {
                "deletable": false,
                "editable": false,
                "nbgrader": {
                    "grade": false,
                    "locked": true,
                    "solution": false
                }
            },
            "source": [
                "Recall that the smallest representable value in double-precision floating-point is $\\approx 10^{-308}$. Therefore, if the true exponent falls below that value, we cannot store it. You should see this behavior above."
            ]
        },
        {
            "cell_type": "markdown",
            "metadata": {
                "deletable": false,
                "editable": false,
                "nbgrader": {
                    "grade": false,
                    "locked": true,
                    "solution": false
                }
            },
            "source": [
                "One alternative is to compute the _log-likelihood_, which is defined simply as the (natural) logarithm of the likelihood:\n",
                "\n",
                "$$\n",
                "  \\mathcal{L}(x_0, \\ldots, x_{n-1}) \\equiv \\log L(x_0, \\ldots, x_{n-1}).\n",
                "$$\n",
                "\n",
                "Log-transforming the likelihood has a nice feature: the location of the maximum value will not change. Therefore, maximizing the log-likelihood is equivalent to maximizing the (plain) likelihood.\n",
                "\n",
                "Let's repeat the experiment above but also print the log-likelihood along with the likelihood:"
            ]
        },
        {
            "cell_type": "code",
            "execution_count": 13,
            "metadata": {
                "deletable": false,
                "editable": false,
                "nbgrader": {
                    "grade": false,
                    "locked": true,
                    "solution": false
                }
            },
            "outputs": [
                {
                    "name": "stdout",
                    "output_type": "stream",
                    "text": [
                        "n=1: likelihood ~= 0.3167448662637015 and log-likelihood ~= -1.149658667445929.\n",
                        "n=2: likelihood ~= 0.00013837849557031605 and log-likelihood ~= -8.885517905680441.\n",
                        "n=4: likelihood ~= 3.9831573042102027e-17 and log-likelihood ~= -37.7618717835775.\n",
                        "n=8: likelihood ~= 5.294839241922683e-21 and log-likelihood ~= -46.68755433463702.\n",
                        "n=16: likelihood ~= 1.7405059349750127e-99 and log-likelihood ~= -227.40174836822166.\n",
                        "n=32: likelihood ~= 4.759969036820765e-233 and log-likelihood ~= -534.94208550426.\n",
                        "n=64: likelihood ~= 0.0 and log-likelihood ~= -inf.\n",
                        "n=128: likelihood ~= 0.0 and log-likelihood ~= -inf.\n"
                    ]
                }
            ],
            "source": [
                "for n in N:\n",
                "    L_n = likelihood_gaussian(X[:n])\n",
                "    try:\n",
                "        log_L_n = log(L_n)\n",
                "    except ValueError:\n",
                "        from math import inf\n",
                "        log_L_n = -inf\n",
                "    print(\"n={}: likelihood ~= {} and log-likelihood ~= {}.\".format(n, L_n, log_L_n))"
            ]
        },
        {
            "cell_type": "markdown",
            "metadata": {
                "deletable": false,
                "editable": false,
                "nbgrader": {
                    "grade": false,
                    "locked": true,
                    "solution": false
                }
            },
            "source": [
                "At first, it looks good: the log-likelihood is much smaller than the likelihood. Therefore, you can calculate it for a much larger number of data points.\n",
                "\n",
                "But the problem persists: just taking $\\log L(\\ldots)$ doesn't help. When $L(\\ldots)$ rounds to zero, taking the $\\log$ produces minus infinity. For this last exercise, you need to fix this problem."
            ]
        },
        {
            "cell_type": "markdown",
            "metadata": {
                "deletable": false,
                "editable": false,
                "nbgrader": {
                    "grade": false,
                    "locked": true,
                    "solution": false
                }
            },
            "source": [
                "**Exercise 3** (5 points). Using the fact that $\\log$ and $\\exp$ are inverses of one another, i.e., $\\log (\\exp x) = x$, come up with a way to compute the log-likelihood that can handle larger values of `n`.\n",
                "\n",
                "For example, in the case of `n=128`, your function should produce a finite value rather than $-\\infty$.\n",
                "\n",
                "> _Hint._ In addition to the inverse relationship between $\\log$ and $\\exp$, use the algebraic fact that $\\log(a \\cdot b) = \\log a + \\log b$ to derive a different way to comptue log-likelihood."
            ]
        },
        {
            "cell_type": "code",
            "execution_count": 14,
            "metadata": {
                "collapsed": true
            },
            "outputs": [],
            "source": [
                "def log_likelihood_gaussian(X, mu=0.0, sigma=1.0):\n",
                "    def log_gaussian0(x):\n",
                "        return -0.5*((x-mu)/sigma)**2 - log(sigma*sqrt(2*pi))\n",
                "    log_gaussians = [log_gaussian0(xi) for xi in X]\n",
                "    return sum(log_gaussians)\n"
            ]
        },
        {
            "cell_type": "code",
            "execution_count": 15,
            "metadata": {
                "deletable": false,
                "editable": false,
                "nbgrader": {
                    "grade": true,
                    "grade_id": "log_likelihood_gaussian_test0",
                    "locked": true,
                    "points": "2",
                    "solution": false
                }
            },
            "outputs": [
                {
                    "name": "stdout",
                    "output_type": "stream",
                    "text": [
                        "n=1: log-likelihood ~= -1.149658667445929.\n",
                        "n=2: log-likelihood ~= -8.885517905680441.\n",
                        "n=4: log-likelihood ~= -37.761871783577504.\n",
                        "n=8: log-likelihood ~= -46.68755433463702.\n",
                        "n=16: log-likelihood ~= -227.4017483682217.\n",
                        "n=32: log-likelihood ~= -534.94208550426.\n",
                        "n=64: log-likelihood ~= -1082.2042340181447.\n",
                        "n=128: log-likelihood ~= -2302.6803534746878.\n",
                        "\n",
                        "(Passed!)\n"
                    ]
                }
            ],
            "source": [
                "# Test cell: `log_likelihood_gaussian_test0` (2 points)\n",
                "\n",
                "# Check that the experiment runs to completion (no exceptions)\n",
                "for n in N:\n",
                "    log_L_n = log_likelihood_gaussian(X[:n])\n",
                "    print(\"n={}: log-likelihood ~= {}.\".format(n, log_L_n))\n",
                "    \n",
                "print(\"\\n(Passed!)\")"
            ]
        },
        {
            "cell_type": "code",
            "execution_count": 16,
            "metadata": {
                "deletable": false,
                "editable": false,
                "nbgrader": {
                    "grade": true,
                    "grade_id": "log_likelihood_gaussian_test1",
                    "locked": true,
                    "points": "3",
                    "solution": false
                }
            },
            "outputs": [
                {
                    "name": "stdout",
                    "output_type": "stream",
                    "text": [
                        "\n",
                        "(Passed!)\n"
                    ]
                }
            ],
            "source": [
                "# Test cell: `log_likelihood_gaussian_test1` (3 points)\n",
                "\n",
                "for k in range(100):\n",
                "    mu = uniform(-10, 10)\n",
                "    sigma = uniform(1e-15, 10)\n",
                "    x0 = uniform(-10, 10)\n",
                "    nc = randint(1, 5)\n",
                "    n0s = [randint(1, 16384) for _ in range(nc)]\n",
                "    x0s = [uniform(-10, 10) for _ in range(nc)]\n",
                "    log_L_true = 0.0\n",
                "    X = []\n",
                "    for c, x0, n0 in zip(range(nc), x0s, n0s):\n",
                "        X += [x0] * n0\n",
                "        log_L_true += n0 * (-0.5*((x0 - mu)/sigma)**2 - log(sigma*sqrt(2*pi)))\n",
                "    shuffle(X)\n",
                "    log_L_you = log_likelihood_gaussian(X, mu, sigma)\n",
                "    msg = \"Test case {} failed: mu={}, sigma={}, nc={}, x0s={}, n0s={}, N={}, true={}, you={}\".format(k, mu, sigma, nc, x0s, n0s, len(X), log_L_true, log_L_you)\n",
                "    assert isclose(log_L_you, log_L_true, rel_tol=len(X)*1e-10), msg\n",
                "    \n",
                "print(\"\\n(Passed!)\")"
            ]
        },
        {
            "cell_type": "markdown",
            "metadata": {
                "deletable": false,
                "editable": false,
                "nbgrader": {
                    "grade": false,
                    "locked": true,
                    "solution": false
                }
            },
            "source": [
                "**Fin!** This cell marks the end of this problem. If everything works, congratulations! If you haven't done so already, be sure to submit it to get the credit you deserve."
            ]
        }
    ],
    "metadata": {
        "kernelspec": {
            "display_name": "Python 3",
            "language": "python",
            "name": "python3"
        },
        "language_info": {
            "codemirror_mode": {
                "name": "ipython",
                "version": 3
            },
            "file_extension": ".py",
            "mimetype": "text/x-python",
            "name": "python",
            "nbconvert_exporter": "python",
            "pygments_lexer": "ipython3",
            "version": "3.11.2"
        }
    },
    "nbformat": 4,
    "nbformat_minor": 2
}
