{
    "cells": [
        {
            "cell_type": "markdown",
            "metadata": {
                "deletable": false,
                "editable": false,
                "nbgrader": {
                    "grade": false,
                    "locked": true,
                    "solution": false
                }
            },
            "source": [
                "# Problem 21: Caption Contest\n",
                "\n",
                "_Version 1.4b_\n",
                "\n",
                "This problem is a data mining task that exercises basic data structure manipulation, strings (and maybe regex!), and translation of simple math to code. It has 5 exercises, numbered 0-4. These depend on one another as follows.\n",
                "- Exercises 0 (1 point), 1 (3 points), 2 (2 points), and 3 (2 points) are all independent from one another. Therefore, you can do any of them for partial credit.\n",
                "- Exercise 4 (2 points) depends on successful completion of Exercise 3.\n",
                "\n",
                "**Pro-tips.**\n",
                "- If your program behavior seem strange, try resetting the kernel and rerunning everything.\n",
                "- If you mess up this notebook or just want to start from scratch, save copies of all your partial responses and use `Actions` $\\rightarrow$ `Reset Assignment` to get a fresh, original copy of this notebook. (_Resetting will wipe out any answers you've written so far, so be sure to stash those somewhere safe if you intend to keep or reuse them!_)\n",
                "- If you generate excessive output (e.g., from an ill-placed `print` statement) that causes the notebook to load slowly or not at all, use `Actions` $\\rightarrow$ `Clear Notebook Output` to get a clean copy. The clean copy will retain your code but remove any generated output. **However**, it will also **rename** the notebook to `clean.xxx.ipynb`. Since the autograder expects a notebook file with the original name, you'll need to rename the clean notebook accordingly.\n",
                "\n",
                "**Good luck!**"
            ]
        },
        {
            "cell_type": "markdown",
            "metadata": {
                "deletable": false,
                "editable": false,
                "nbgrader": {
                    "grade": false,
                    "locked": true,
                    "solution": false
                }
            },
            "source": [
                "## Background\n",
                "\n",
                "Every week, the New Yorker magazine runs a cartoon caption contest. It presents readers with a cartoon having no caption, and then invites readers to submit their ideas.\n",
                "\n",
                "For example, run the following code cell to see a cartoon from a couple weeks ago:"
            ]
        },
        {
            "cell_type": "code",
            "execution_count": null,
            "metadata": {
                "deletable": false,
                "editable": false,
                "nbgrader": {
                    "grade": false,
                    "locked": true,
                    "solution": false
                }
            },
            "outputs": [],
            "source": [
                "from problem_utils import get_path, display_image\n",
                "\n",
                "display_image(get_path(\"toast/image.png\")) # Number 695 at https://www.newyorker.com/cartoons/contest"
            ]
        },
        {
            "cell_type": "markdown",
            "metadata": {
                "deletable": false,
                "editable": false,
                "nbgrader": {
                    "grade": false,
                    "locked": true,
                    "solution": false
                }
            },
            "source": [
                "You should see a picture of a piece of bread, wearing a bowtie, standing in front of a host stand at a restaurant or other event."
            ]
        },
        {
            "cell_type": "markdown",
            "metadata": {
                "deletable": false,
                "editable": false,
                "nbgrader": {
                    "grade": false,
                    "locked": true,
                    "solution": false
                }
            },
            "source": [
                "**The data.** The New Yorker allows readers to [vote on the submitted captions](http://nextml.org/captioncontest). For this problem, we scraped the voting website to get these submissions, which will serve as your dataset. (These data are just the captions, not the votes.)\n",
                "\n",
                "The data are stored in a JSON file, which Python can easily read using the [`json` module](https://docs.python.org/3/library/json.html). Run the next code cell to load the submitted caption data and inspect the first four captions:"
            ]
        },
        {
            "cell_type": "code",
            "execution_count": null,
            "metadata": {
                "deletable": false,
                "editable": false,
                "nbgrader": {
                    "grade": false,
                    "locked": true,
                    "solution": false
                }
            },
            "outputs": [],
            "source": [
                "import json\n",
                "\n",
                "with open(get_path('toast/captions.json'), 'rt', encoding='utf-8') as fp:\n",
                "    captions_json = json.load(fp)\n",
                "    \n",
                "print(f\"==> The dataset contains {len(captions_json)} captions. The first four are:\")\n",
                "captions_json[:4]"
            ]
        },
        {
            "cell_type": "markdown",
            "metadata": {
                "deletable": false,
                "editable": false,
                "nbgrader": {
                    "grade": false,
                    "locked": true,
                    "solution": false
                }
            },
            "source": [
                "Observe that the variable holding this caption data, `captions_json`, is a list of dictionaries. Each list element is the data for a single caption, where the _caption text_ itself is a string value associated with the `primary_description` key."
            ]
        },
        {
            "cell_type": "markdown",
            "metadata": {
                "deletable": false,
                "editable": false,
                "nbgrader": {
                    "grade": false,
                    "locked": true,
                    "solution": false
                }
            },
            "source": [
                "## Your task: Data mining the captions for \"comedic gold\"\n",
                "\n",
                "There are a lot of submissions (even more than the 2,400+ in the data above), but the first four captions above are kind of strange, and do not seem to match the image. Can we mine the submissions to find more relevant, and even funny, ones, automatically? That is your task in the exercises below.\n",
                "\n",
                "> When the exam is over, you should see if you can come up with even better schemes than what is developed here!"
            ]
        },
        {
            "cell_type": "markdown",
            "metadata": {
                "deletable": false,
                "editable": false,
                "nbgrader": {
                    "grade": false,
                    "locked": true,
                    "solution": false
                }
            },
            "source": [
                "### Extraction and basic cleaning"
            ]
        },
        {
            "cell_type": "markdown",
            "metadata": {
                "deletable": false,
                "editable": false,
                "nbgrader": {
                    "grade": false,
                    "locked": true,
                    "solution": false
                }
            },
            "source": [
                "**Exercise 0** (1 point). Complete the function `get_captions(captions_json)`, below, subject to these requirements:\n",
                "\n",
                "1. The input, `captions_json`, is an object just like the one loaded above (a list of dictonaries with the given keys and values).\n",
                "2. The function returns a list of just the text (string) captions.\n",
                "\n",
                "For example, after running\n",
                "\n",
                "```python\n",
                "    captions_orig = get_captions(captions_json)\n",
                "```\n",
                "\n",
                "the returned value, `captions_orig`, should look like\n",
                "\n",
                "```python\n",
                "    captions_orig == ['I told you not to pick the one from the pilot experiment...',\n",
                "                      'Well that explains the gas station',\n",
                "                      \"The dairy-free vegan soy cheese doesn't seem to be having the same effect...\",\n",
                "                      'Repeatedly, cheese demonstrated characteristics of a performance enhancing drug',\n",
                "                      ... # and so on\n",
                "                     ]\n",
                "```\n",
                "\n",
                "**Your function must return the captions in the order that they appear in the original list.**"
            ]
        },
        {
            "cell_type": "code",
            "execution_count": null,
            "metadata": {
                "collapsed": true
            },
            "outputs": [],
            "source": [
                "def get_captions(captions_json):\n",
                "    captions_list = []\n",
                "    for d in captions_json:\n",
                "      captions_list.append(d['primary_description'])\n",
                "    return captions_list\n",
                "get_captions(captions_json)"
            ]
        },
        {
            "cell_type": "code",
            "execution_count": null,
            "metadata": {
                "collapsed": true
            },
            "outputs": [],
            "source": [
                "# Demo of your function:\n",
                "captions_orig = get_captions(captions_json)\n",
                "assert captions_orig[:4] == ['I told you not to pick the one from the pilot experiment...',\n",
                "                             'Well that explains the gas station',\n",
                "                             \"The dairy-free vegan soy cheese doesn't seem to be having the same effect...\",\n",
                "                             'Repeatedly, cheese demonstrated characteristics of a performance enhancing drug']"
            ]
        },
        {
            "cell_type": "code",
            "execution_count": null,
            "metadata": {
                "deletable": false,
                "editable": false,
                "nbgrader": {
                    "grade": true,
                    "grade_id": "ex0_get_captions",
                    "locked": true,
                    "points": "1",
                    "solution": false
                }
            },
            "outputs": [],
            "source": [
                "# Test cell: `ex0_get_captions` (1 point)\n",
                "\n",
                "print(\"\"\"\n",
                "This test cell is marked as having a hidden test, but does not.\n",
                "The testing code is exposed, below, but the solution values\n",
                "are masked using hashed values.\n",
                "\"\"\")\n",
                "\n",
                "###\n",
                "### AUTOGRADER TEST - DO NOT REMOVE\n",
                "###\n",
                "\n",
                "def ex0_check__(captions):\n",
                "    from problem_utils import make_hash, check_hash\n",
                "    with open(get_path('toast/ex0_soln.csv'), 'rt') as fp:\n",
                "        solns = [s.strip() for s in fp.readlines()]\n",
                "        if len(captions) != len(solns):\n",
                "            print(f\"Your solution has {len(captions)} captions, whereas we are expecting {len(solns)}!\")\n",
                "        for k, (your_caption, hashed_soln) in enumerate(zip(captions, solns)):\n",
                "            assert check_hash(your_caption, hashed_soln), \\\n",
                "                f\"*** Your caption {k}, '{your_caption}', does not match our expected solution. ***\\n\" \\\n",
                "                f\"==> Expected hash value: {hashed_soln}\"\n",
                "\n",
                "ex0_check__(captions_orig)\n",
                "\n",
                "print(\"\\n(Passed!)\")"
            ]
        },
        {
            "cell_type": "markdown",
            "metadata": {
                "deletable": false,
                "editable": false,
                "nbgrader": {
                    "grade": false,
                    "locked": true,
                    "solution": false
                }
            },
            "source": [
                "**Words.** Given a caption, we want to analyze just the words that appear in the caption.\n",
                "\n",
                "When moving through a string from left-to-right, define each _word_ to be the longest contiguous sequence of alphabetic characters (or just _letters_), _including up to one apostrophe if that apostrophe is sandwiched between two letters_. (An apostrophe is a single quote, `'`.)\n",
                "\n",
                "For instance, consider the string caption,\n",
                "\n",
                "```python\n",
                "\"I'm sorry, sir, but this is a 'gluten-free' restaurant. We don't serve bread.\"\n",
                "```\n",
                "\n",
                "Its words are: `\"I'm\"`, `\"sorry\"`, `\"sir\"`, `\"but\"`, `\"this\"`, `\"is\"`, `\"a\"`, `\"gluten\"`, `\"free\"`, `\"restaurant\"`, `\"we\"`, `\"don't\"`, `\"serve\"`, and `\"bread\"`. Notice that `\"I'm\"` and `\"don't\"` _are_ words, since they include one apostrophe between two letters. However, observe that the substring, `\"'gluten-free'\"` becomes `\"gluten\"` and `\"free\"`: the hyphen (`\"-\"`) is treated as a separator, and the leading and trailing apostrophes do **not** become part of the word.\n",
                "\n",
                "> *Hint*: Heed the definition, \"_... including **up to one** apostrophe if that apostrophe is **sandwiched between two letters**_.\" Consider these two examples:\n",
                ">\n",
                "> ```python\n",
                "  clean(\"'tricky''case'xyz 1\") == ['tricky', \"case'xyz\"]\n",
                "  clean(\"'tricky''case'xyz'two\") == ['tricky', \"case'xyz\", \"two\"]\n",
                "  ```"
            ]
        },
        {
            "cell_type": "markdown",
            "metadata": {
                "deletable": false,
                "editable": false,
                "nbgrader": {
                    "grade": false,
                    "locked": true,
                    "solution": false
                }
            },
            "source": [
                "**Exercise 1** (3 points). Given a string caption, `s`, complete the function, `clean(s)`, so that it does the following:\n",
                "\n",
                "1. Converts `s` to lowercase.\n",
                "2. Returns a list of the words in `s`, defined as above.\n",
                "\n",
                "The list returned must contain the words in the order that they appear in the sentence.\n",
                "\n",
                "For example:\n",
                "\n",
                "```python\n",
                "assert clean(\"Please sir, that's obviously a clip-on.\") \\\n",
                "       == ['please', 'sir', \"that's\", 'obviously', 'a', 'clip', 'on']\n",
                "assert clean(\"I'm sorry, sir, but this is a 'gluten-free' restaurant. We don't serve bread.\") \\\n",
                "       == [\"i'm\", 'sorry', 'sir', 'but', 'this', 'is', 'a', 'gluten', 'free', 'restaurant', 'we', \"don't\", 'serve', 'bread']\n",
                "```\n",
                "\n",
                "> _Hint_: While its use is not required, regular expression processing is a good tool for this problem."
            ]
        },
        {
            "cell_type": "code",
            "execution_count": 2,
            "metadata": {
                "collapsed": true,
                "nbgrader": {
                    "grade": false,
                    "locked": false,
                    "solution": false
                }
            },
            "outputs": [
                {
                    "data": {
                        "text/plain": [
                            "['tricky', \"case'xyz\", 'two']"
                        ]
                    },
                    "execution_count": 2,
                    "metadata": {},
                    "output_type": "execute_result"
                }
            ],
            "source": [
                "import re\n",
                "def clean(s):\n",
                "    # Lowercase the string to simplify matching\n",
                "    s = s.lower()\n",
                "    # Find all occurrences of a-z, and ' between a-z\n",
                "    matches = re.findall(r\"[a-z]+(?:'[a-z]+)?\", s)\n",
                "    # Initialize an empty list to hold words\n",
                "    words = []\n",
                "    # Iterate over the matches and split further on hyphen, if necessary\n",
                "    for match in matches:\n",
                "        if '-' in match:\n",
                "            # Split on hyphen and extend the words list with the result\n",
                "            words.extend(match.split('-'))\n",
                "        else:\n",
                "            # Append the match directly if there's no hyphen\n",
                "            words.append(match)\n",
                "    return words\n",
                "clean(\"'tricky''case'xyz'two\")"
            ]
        },
        {
            "cell_type": "code",
            "execution_count": 3,
            "metadata": {
                "deletable": false,
                "editable": false,
                "nbgrader": {
                    "grade": true,
                    "grade_id": "ex1_clean_a",
                    "locked": true,
                    "points": "0.5",
                    "solution": false
                }
            },
            "outputs": [
                {
                    "name": "stdout",
                    "output_type": "stream",
                    "text": [
                        "\n",
                        "(Passed!)\n"
                    ]
                }
            ],
            "source": [
                "# Test cell: `ex1_clean_a` (0.5 points)\n",
                "\n",
                "# Caption 123:\n",
                "assert clean(\"Please sir, that's obviously a clip-on.\") \\\n",
                "       == ['please', 'sir', \"that's\", 'obviously', 'a', 'clip', 'on']\n",
                "\n",
                "# Caption 314:\n",
                "assert clean(\"I'm sorry, sir, but this is a 'gluten-free' restaurant. We don't serve bread.\") \\\n",
                "       == [\"i'm\", 'sorry', 'sir', 'but', 'this', 'is', 'a', 'gluten', 'free', 'restaurant', 'we', \"don't\", 'serve', 'bread']\n",
                "\n",
                "# Some other tricky cases!\n",
                "assert clean(\"'tricky''case'xyz 1\") == ['tricky', \"case'xyz\"]\n",
                "assert clean(\"'tricky''case'xyz'two\") == ['tricky', \"case'xyz\", \"two\"]\n",
                "\n",
                "print(\"\\n(Passed!)\")"
            ]
        },
        {
            "cell_type": "code",
            "execution_count": 4,
            "metadata": {
                "deletable": false,
                "editable": false,
                "nbgrader": {
                    "grade": true,
                    "grade_id": "ex1_clean_b",
                    "locked": true,
                    "points": "2.5",
                    "solution": false
                }
            },
            "outputs": [
                {
                    "name": "stdout",
                    "output_type": "stream",
                    "text": [
                        "\n",
                        "This test cell is marked as having a hidden test, but does not.\n",
                        "The testing code is exposed, below, but the solution values\n",
                        "are masked using hashed values.\n",
                        "\n",
                        "Testing 100 randomly generated cases...\n",
                        "\n",
                        "(Passed!)\n"
                    ]
                }
            ],
            "source": [
                "# Test cell: `ex1_clean_b` (2.5 points)\n",
                "\n",
                "print(\"\"\"\n",
                "This test cell is marked as having a hidden test, but does not.\n",
                "The testing code is exposed, below, but the solution values\n",
                "are masked using hashed values.\n",
                "\"\"\")\n",
                "\n",
                "###\n",
                "### AUTOGRADER TEST - DO NOT REMOVE\n",
                "###\n",
                "\n",
                "def ex1_gen_case__(n, m, s):\n",
                "    assert n >= 1 and m >= 1 and s >= 1\n",
                "    from random import randint, random, choice\n",
                "    def rand_char(): return chr(ord('a') + randint(0, 25))\n",
                "    def rand_upper(c): return c.upper() if random() <= 0.1 else c\n",
                "    def rand_chars():\n",
                "        m0 = randint(1, m)\n",
                "        return ''.join([rand_upper(rand_char()) for _ in range(m0)])\n",
                "    def rand_word():\n",
                "        a = rand_chars()\n",
                "        if random() <= 0.1:\n",
                "            a += \"'\" + rand_chars()\n",
                "        return a\n",
                "    def rand_spaces(): return ''.join([choice(' \\t\\n') for _ in range(randint(1, s))])\n",
                "    def rand_quote(): return \"'\" if random() <= 0.1 else \"\"\n",
                "    def rand_punc(): return choice(r'`~!@#$%^&*()-_=+{[]}|;:\"<>,.?/\\'') if random() <= 0.1 else \"\"\n",
                "    soln = []\n",
                "    for k in range(randint(1, n)):\n",
                "        if len(soln) == 0:\n",
                "            x = rand_spaces() if random() <= 0.2 else rand_quote()\n",
                "        else:\n",
                "            x += rand_spaces() + rand_quote()\n",
                "        w = rand_word()\n",
                "        soln.append(w.lower())\n",
                "        x += w\n",
                "        x += rand_quote() + rand_punc()\n",
                "    return x, soln\n",
                "\n",
                "def ex1_check_case__(n, m, s, verbose=False):\n",
                "    x, soln = ex1_gen_case__(n, m, s)\n",
                "    your_soln = clean(x)\n",
                "    matches = (your_soln == soln)\n",
                "    if verbose or (not matches):\n",
                "        print(\"- Input:\", repr(x))\n",
                "        print(\"- Expected solution:\", soln)\n",
                "        print(\"- Your solution:\", your_soln)\n",
                "        assert matches, \"*** Failed on a random test case: see above ***\"\n",
                "    \n",
                "print(\"Testing 100 randomly generated cases...\")\n",
                "for _ in range(100):\n",
                "    ex1_check_case__(10, 8, 3)\n",
                "    \n",
                "print(\"\\n(Passed!)\")"
            ]
        },
        {
            "cell_type": "markdown",
            "metadata": {
                "deletable": false,
                "editable": false,
                "nbgrader": {
                    "grade": false,
                    "locked": true,
                    "solution": false
                }
            },
            "source": [
                "**Cleaned captions.** In case you can't get your function above working, we have prepared a file of pre-cleaned captions. Below, the variable `captions_clean` is a list of _strings_, with the \"clean\" tokens separated by a single space, making them easy to split back into words. The subsequent exercises will use this variable (so don't modify it!)."
            ]
        },
        {
            "cell_type": "code",
            "execution_count": null,
            "metadata": {
                "deletable": false,
                "editable": false,
                "nbgrader": {
                    "grade": false,
                    "locked": true,
                    "solution": false
                }
            },
            "outputs": [],
            "source": [
                "with open(get_path('toast/captions_cleaned.txt')) as fp:\n",
                "    captions_clean = [c.strip() for c in fp.readlines()]\n",
                "print(repr(captions_clean[123]))\n",
                "print(repr(captions_clean[314]))"
            ]
        },
        {
            "cell_type": "markdown",
            "metadata": {
                "deletable": false,
                "editable": false,
                "nbgrader": {
                    "grade": false,
                    "locked": true,
                    "solution": false
                }
            },
            "source": [
                "### Captions as \"bags of words\"\n",
                "\n",
                "Next, let's convert the captions into a \"standard form,\" to help simplify our subsequent analysis."
            ]
        },
        {
            "cell_type": "markdown",
            "metadata": {
                "deletable": false,
                "editable": false,
                "nbgrader": {
                    "grade": false,
                    "locked": true,
                    "solution": false
                }
            },
            "source": [
                "**Stop words.** First, not all words in a caption carry meaning. For example, the word `\"the\"` occurs commonly, but let's assume$^\\dagger$ that it isn't useful. In the area of natural language processing, such words are called _stop words_.\n",
                "\n",
                "Run the code cell below, which will create a list of stop words in an object named `stopwords`. Observe its type and contents.\n",
                "\n",
                "> $^\\dagger$ This assumption may or may not be reasonable in the case of jokes, where these words can sometimes completely change the nuance of a joke. But for this problem, let's just go with it."
            ]
        },
        {
            "cell_type": "code",
            "execution_count": null,
            "metadata": {
                "deletable": false,
                "editable": false,
                "nbgrader": {
                    "grade": false,
                    "locked": true,
                    "solution": false
                }
            },
            "outputs": [],
            "source": [
                "from stopwords import stopwords\n",
                "\n",
                "print(type(stopwords), \":\", stopwords)\n",
                "\n",
                "print(\"\\nExamples:\")\n",
                "for ex in [\"shouldn't\", \"toast\"]:\n",
                "    is_or_isnt = \"is\" + (\"\" if ex in stopwords else \" *not*\")\n",
                "    print(f'- \"{ex}\"', is_or_isnt, \"a stop word.\")"
            ]
        },
        {
            "cell_type": "markdown",
            "metadata": {
                "deletable": false,
                "editable": false,
                "nbgrader": {
                    "grade": false,
                    "locked": true,
                    "solution": false
                }
            },
            "source": [
                "**The \"bag of words\" model.** Let `c` be a **cleaned** caption. That is, assume it is *already* cleaned per Exercise 1 above. Its bag-of-words representation is the _set_ of its words that are **not** stop words.\n",
                "\n",
                "For example, if `c` is the cleaned caption,\n",
                "\n",
                "```python\n",
                "    c == \"you're in luck a slot for you just opened up in our kitchen\"\n",
                "```\n",
                "\n",
                "then its bag of words representation is a Python set of the form,\n",
                "\n",
                "```python\n",
                "    {'just', 'kitchen', 'luck', 'opened', 'slot'}\n",
                "```\n",
                "\n",
                "Notice that the words, `\"you're\"`, `\"in\"`, `\"a\"`, `\"for\"`, `\"you\"`, `\"up\"`, and `\"our\"` are all omitted from the bag of words representation, since they are all stop words. Also, since `c` is clean, it is easy to identify words by using simple spaces as delimiters.\n",
                "\n",
                "> The bag-of-words representation is a _set_. Therefore, even if a caption repeats a non-stop word, that word will appear at most once \"in the bag.\""
            ]
        },
        {
            "cell_type": "markdown",
            "metadata": {
                "deletable": false,
                "editable": false,
                "nbgrader": {
                    "grade": false,
                    "locked": true,
                    "solution": false
                }
            },
            "source": [
                "**Exercise 2** (2 points). Implement the function, `bag_of_words(c)`, so that it returns the bag-of-words representation of `c` as a Python set.\n",
                "\n",
                "For example:\n",
                "\n",
                "```python\n",
                "    assert bag_of_words(\"you're in luck a slot for you just opened up in our kitchen\") \\\n",
                "           == {'just', 'kitchen', 'luck', 'opened', 'slot'}\n",
                "    assert bag_of_words(\"i'm sorry the toastmasters gala is for members only\") \\\n",
                "           == {'gala', 'members', 'sorry', 'toastmasters'}\n",
                "```"
            ]
        },
        {
            "cell_type": "code",
            "execution_count": 5,
            "metadata": {
                "collapsed": true
            },
            "outputs": [
                {
                    "data": {
                        "text/plain": [
                            "{'just', 'kitchen', 'luck', 'opened', 'slot'}"
                        ]
                    },
                    "execution_count": 5,
                    "metadata": {},
                    "output_type": "execute_result"
                }
            ],
            "source": [
                "from stopwords import stopwords\n",
                "\n",
                "def bag_of_words(c):\n",
                "    # Assume `c` is already clean per Exercise 1\n",
                "    c_list = c.split()\n",
                "    bag = [b for b in c_list if b not in stopwords]\n",
                "    bag_set = set(bag)\n",
                "    return bag_set\n",
                "bag_of_words(\"you're in luck a slot for you just opened up in our kitchen\")"
            ]
        },
        {
            "cell_type": "code",
            "execution_count": null,
            "metadata": {},
            "outputs": [],
            "source": [
                "# Demo of your function:\n",
                "print(bag_of_words(\"you're in luck a slot for you just opened up in our kitchen\"))\n",
                "print(bag_of_words(\"i'm sorry the toastmasters gala is for members only\"))"
            ]
        },
        {
            "cell_type": "code",
            "execution_count": null,
            "metadata": {
                "deletable": false,
                "editable": false,
                "nbgrader": {
                    "grade": true,
                    "grade_id": "ex2_bag_of_words",
                    "locked": true,
                    "points": "2",
                    "solution": false
                },
                "scrolled": false
            },
            "outputs": [],
            "source": [
                "# Test cell: `ex2_bag_of_words` (2 points)\n",
                "\n",
                "print(\"\"\"\n",
                "This test cell is marked as having a hidden test, but does not.\n",
                "The testing code is exposed, below, and uses randomly generated\n",
                "test cases to evaluate your implementation.\n",
                "\"\"\")\n",
                "\n",
                "###\n",
                "### AUTOGRADER TEST - DO NOT REMOVE\n",
                "###\n",
                "\n",
                "def ex2_gen_case__(n, m):\n",
                "    assert n >= 1 and m >= 1\n",
                "    from random import randint, random, choice\n",
                "    def rand_char(): return chr(ord('a') + randint(0, 25))\n",
                "    def rand_chars():\n",
                "        m0 = randint(1, m)\n",
                "        return ''.join([rand_char() for _ in range(m0)])\n",
                "    def rand_word():\n",
                "        if random() <= 0.2:\n",
                "            return choice(list(stopwords))\n",
                "        a = rand_chars()\n",
                "        if random() <= 0.1:\n",
                "            a += \"'\" + rand_chars()\n",
                "        return a\n",
                "    soln = set()\n",
                "    x = ''\n",
                "    for k in range(randint(1, n)):\n",
                "        if len(x) > 0:\n",
                "            x += ' '\n",
                "        w = rand_word()\n",
                "        if w not in stopwords:\n",
                "            soln = soln | {w}\n",
                "        x += w\n",
                "    return x, soln\n",
                "\n",
                "def ex2_check_case__(n, m, verbose=False):\n",
                "    x, soln = ex2_gen_case__(n, m)\n",
                "    your_soln = bag_of_words(x)\n",
                "    matches = (your_soln == soln)\n",
                "    if verbose or (not matches):\n",
                "        print(\"- Input:\", repr(x))\n",
                "        print(\"- Expected solution:\", soln)\n",
                "        print(\"- Your solution:\", your_soln)\n",
                "        print(\"- Symmetric difference:\", soln ^ your_soln)\n",
                "        assert matches, \"*** Failed on a random test case: see above ***\"\n",
                "    \n",
                "for _ in range(100):\n",
                "    ex2_check_case__(10, 8)\n",
                "\n",
                "print(\"\\n(Passed!)\")"
            ]
        },
        {
            "cell_type": "markdown",
            "metadata": {
                "deletable": false,
                "editable": false,
                "nbgrader": {
                    "grade": false,
                    "locked": true,
                    "solution": false
                }
            },
            "source": [
                "**Calculating all bags.** In case your `bag_of_words()` is not working, we've pre-computed the bags for all cleaned captions. The code cell below will load these results from a file into a variable called, `caption_bags`, which is a list of bags. The subsequent exercises will use it (so don't modify it!)."
            ]
        },
        {
            "cell_type": "code",
            "execution_count": null,
            "metadata": {
                "deletable": false,
                "editable": false,
                "nbgrader": {
                    "grade": false,
                    "locked": true,
                    "solution": false
                }
            },
            "outputs": [],
            "source": [
                "def load_bags(infilename=\"toast/caption_bags.pickle\"):\n",
                "    from pickle import load\n",
                "    full_path = get_path(infilename)\n",
                "    print(f\"Loading caption bags from '{full_path}'...\")\n",
                "    with open(full_path, \"rb\") as fp:\n",
                "        bags = load(fp)\n",
                "    return bags\n",
                "\n",
                "caption_bags = load_bags()\n",
                "print(\"- Bag for caption 123:\", caption_bags[123])\n",
                "print(\"- Bag for caption 314:\", caption_bags[314])"
            ]
        },
        {
            "cell_type": "markdown",
            "metadata": {
                "deletable": false,
                "editable": false,
                "nbgrader": {
                    "grade": false,
                    "locked": true,
                    "solution": false
                }
            },
            "source": [
                "### `Counter` objects\n",
                "\n",
                "The Python `collections` module defines a handy object called a `Counter` that can help you count the how many times a value occurs in any iterable collection. It's like a histogram, and it produces a dictionary-like result.\n",
                "\n",
                "To see how it works, read and run this example:"
            ]
        },
        {
            "cell_type": "code",
            "execution_count": null,
            "metadata": {
                "deletable": false,
                "editable": false,
                "nbgrader": {
                    "grade": false,
                    "locked": true,
                    "solution": false
                }
            },
            "outputs": [],
            "source": [
                "from collections import Counter\n",
                "\n",
                "# Three example sets:\n",
                "A = {'cat', 'hat', 'fish', 'red', 'blue'}\n",
                "B = {'dog', 'beret', 'one', 'fish', 'two', 'red', 'blue'}\n",
                "C = {'dog', 'cat', 'fish'}\n",
                "\n",
                "# Count value occurrences in `A`, `B`, and `C`\n",
                "K_A = Counter(A)\n",
                "K_B = Counter(B)\n",
                "K_C = Counter(C)\n",
                "\n",
                "print(K_A, \"==>\", K_A['fish'], K_A['dog'])\n",
                "print(K_B, \"==>\", K_B['fish'], K_B['dog'])\n",
                "print(K_C, \"==>\", K_C['fish'], K_C['dog'])\n",
                "\n",
                "# Combine occurrence counts by simple addition!\n",
                "K_D = K_A + K_B + K_C\n",
                "print(K_D, \"==>\", K_D['fish'], K_D['dog'])"
            ]
        },
        {
            "cell_type": "markdown",
            "metadata": {
                "deletable": false,
                "editable": false,
                "nbgrader": {
                    "grade": false,
                    "locked": true,
                    "solution": false
                }
            },
            "source": [
                "Observe how each application of `Counter(X)` produces a dictionary-like object containing the number of occurrences of each value in `X`. Moreover, you can add two `Counter()` objects to combine their counts -- neat!"
            ]
        },
        {
            "cell_type": "markdown",
            "metadata": {
                "deletable": false,
                "editable": false,
                "nbgrader": {
                    "grade": false,
                    "locked": true,
                    "solution": false
                }
            },
            "source": [
                "**Exercise 3** (2 points). Suppose you are given a list `bags` containing caption bags, and you want to know how many bags contain a given word. We'll call the number of bags that contain a given word that word's _frequency_. Write a function, `count_freq(bags)`, that returns a `Counter()` object containing word frequencies for all words.\n",
                "\n",
                "Here is an example:\n",
                "\n",
                "```python\n",
                "bags = [{'cat', 'hat', 'fish', 'red', 'blue'},\n",
                "        {'dog', 'beret', 'one', 'fish', 'two', 'red', 'blue'},\n",
                "        {'dog', 'cat', 'fish'}]\n",
                "print(count_freq(bags))\n",
                "```\n",
                "\n",
                "would produce\n",
                "\n",
                "```\n",
                "Counter({'fish': 3, 'cat': 2, 'blue': 2, 'red': 2, 'dog': 2, 'hat': 1, 'one': 1, 'two': 1, 'beret': 1})\n",
                "```\n",
                "\n",
                "> There are two demo cells, below. The first one helps you debug; the second one runs your function to generate the word frequencies across all the actual caption bags. The test cell will check it, and subsequent exercises will use it."
            ]
        },
        {
            "cell_type": "code",
            "execution_count": null,
            "metadata": {
                "collapsed": true
            },
            "outputs": [],
            "source": [
                "from collections import Counter\n",
                "bags = [{'cat', 'hat', 'fish', 'red', 'blue'},\n",
                "        {'dog', 'beret', 'one', 'fish', 'two', 'red', 'blue'},\n",
                "        {'dog', 'cat', 'fish'}]\n",
                "\n",
                "def count_freq(bags):\n",
                "    k_d = Counter()\n",
                "    for bag in bags:\n",
                "        b_ct = Counter(bag)\n",
                "        k_d = k_d + b_ct\n",
                "    return k_d\n",
                "count_freq(bags)"
            ]
        },
        {
            "cell_type": "code",
            "execution_count": null,
            "metadata": {},
            "outputs": [],
            "source": [
                "# Demo 0:\n",
                "bags = [{'cat', 'hat', 'fish', 'red', 'blue'},\n",
                "        {'dog', 'beret', 'one', 'fish', 'two', 'red', 'blue'},\n",
                "        {'dog', 'cat', 'fish'}]\n",
                "print(count_freq(bags))"
            ]
        },
        {
            "cell_type": "code",
            "execution_count": null,
            "metadata": {
                "nbgrader": {
                    "grade": false,
                    "locked": false,
                    "solution": false
                }
            },
            "outputs": [],
            "source": [
                "# Demo 1: Use your function on the caption bags!\n",
                "\n",
                "word_freq = count_freq(caption_bags)\n",
                "\n",
                "print(\"Top 5 (word, frequency) pairs:\")\n",
                "print(word_freq.most_common(5))\n",
                "\n",
                "print(\"\\nLeast frequent words:\")\n",
                "print(word_freq.most_common()[-5::])"
            ]
        },
        {
            "cell_type": "code",
            "execution_count": null,
            "metadata": {
                "deletable": false,
                "editable": false,
                "nbgrader": {
                    "grade": true,
                    "grade_id": "ex3_count_words",
                    "locked": true,
                    "points": "2",
                    "solution": false
                }
            },
            "outputs": [],
            "source": [
                "# Test cell: `ex3_count_words` (2 points)\n",
                "\n",
                "def ex3_gen_bag__(m, vocab, counts):\n",
                "    from random import randint, choices\n",
                "    m0 = randint(1, m)\n",
                "    words = set(choices(list(vocab), k=m0))\n",
                "    for w in words:\n",
                "        if w not in counts:\n",
                "            counts[w] = 0\n",
                "        counts[w] += 1\n",
                "    return words\n",
                "\n",
                "def ex3_check__(n, m, vocab):\n",
                "    from random import randint\n",
                "    from collections import Counter\n",
                "    soln = {}\n",
                "    bags = []\n",
                "    for _ in range(randint(1, n)):\n",
                "        bags.append(ex3_gen_bag__(m, vocab, soln))\n",
                "    your_soln = count_freq(bags)\n",
                "    assert isinstance(your_soln, Counter), \\\n",
                "           f\"Your function returns an object of type `{type(your_soln)}` rather than a `Counter`.\"\n",
                "    soln_keys = set(soln.keys())\n",
                "    your_keys = set(your_soln.keys())\n",
                "    detected_error = (your_keys != soln_keys)\n",
                "    if detected_error:\n",
                "        print(\"*** Failed test case ***\")\n",
                "        missing_keys = (soln_keys - your_keys)\n",
                "        if missing_keys:\n",
                "            print(f\"- Your returned `Counter` is missing these keys:\\n{missing_keys}\")\n",
                "        extra_keys = (your_keys - soln_keys)\n",
                "        if extra_keys:\n",
                "            print(f\"- Your returned `Counter` has extra keys:\\n{extra_keys})\")\n",
                "    common_keys = (soln_keys & your_keys)\n",
                "    for key in common_keys:\n",
                "        your_value = your_soln[key]\n",
                "        true_value = soln[key]\n",
                "        if your_value != true_value:\n",
                "            print(f\"- Count mismatch on key {repr(key)}: Your value is {your_value} vs. true value of {true_value}.\")\n",
                "            detected_error = True\n",
                "    if detected_error:\n",
                "        print(\"\\n==> Problematic test input:\\n\")\n",
                "        print('[' + ',\\n'.join([repr(b) for b in bags]) + ']')\n",
                "        assert False, \"*** Please see above for errors. ***\"\n",
                "\n",
                "def ex3_check_bunch__(k):\n",
                "    W = {'bottle', 'stumptown', 'la', 'ethical', 'vhs', 'tousled', 'synth', 'diy', 'deep', 'table', 'banh', 'batch', 'farm', 'knausgaard', 'listicle', 'lorem', 'poutine', 'flannel', 'croix', 'lyft', 'marfa', 'fund', 'franzen', 'typewriter', 'forage', 'fashion', 'ipsum', 'amet', 'sriracha', 'mi', 'tumeric', 'dolor', 'pinterest', 'art', 'scenester', 'whatever', 'street', 'axe', 'small', 'mustache', 'trust', 'level', 'snackwave', 'shaman', 'blue', 'next', 'hammock'}\n",
                "    for _ in range(k):\n",
                "        ex3_check__(20, 5, W)\n",
                "        \n",
                "ex3_check_bunch__(10)\n",
                "\n",
                "print(\"\\n(Passed!)\")"
            ]
        },
        {
            "cell_type": "markdown",
            "metadata": {
                "deletable": false,
                "editable": false,
                "nbgrader": {
                    "grade": false,
                    "locked": true,
                    "solution": false
                }
            },
            "source": [
                "## Scoring captions\n",
                "\n",
                "In the final part of this problem, let's try to identify \"interesting\" or \"relevant\" captions by assigning each one a score, using the bag-of-words model and the frequencies defined above."
            ]
        },
        {
            "cell_type": "markdown",
            "metadata": {
                "deletable": false,
                "editable": false,
                "nbgrader": {
                    "grade": false,
                    "locked": true,
                    "solution": false
                }
            },
            "source": [
                "**Idea 0: Frequency-proportional scores.** One natural idea is to score bags more highly if they contain more frequent words. In particular, suppose we simply add up the frequencies of all words in the bag and use that as the bag's score.\n",
                "\n",
                "For instance, suppose our word frequences are:\n",
                "\n",
                "```python\n",
                "Counter({'fish': 3, 'cat': 2, 'blue': 2, 'red': 2, 'dog': 2, 'hat': 1, 'one': 1, 'two': 1, 'beret': 1})\n",
                "```\n",
                "\n",
                "Then the bag,\n",
                "\n",
                "```python\n",
                "{'blue', 'cat', 'fish'}\n",
                "```\n",
                "\n",
                "has a score of 2+2+3 = 7. By contrast, the bag,\n",
                "\n",
                "```python\n",
                "{'one', 'two', 'beret', 'hat', 'dog'}\n",
                "```\n",
                "\n",
                "has a score of 1+1+1+1+2 = 6. Even though the second bag has more words, the first bag has more frequent words, and the sum of its frequencies happens to be higher."
            ]
        },
        {
            "cell_type": "markdown",
            "metadata": {
                "deletable": false,
                "editable": false,
                "nbgrader": {
                    "grade": false,
                    "locked": true,
                    "solution": false
                }
            },
            "source": [
                "Here is an implementation of this idea as a score. The function takes as input one bag (a Python `set()`) and a frequency table (as a `Counter()` object), and returns the score described above.\n",
                "\n",
                "**Be sure you understand its implementation, which should be simple, before moving on!** "
            ]
        },
        {
            "cell_type": "code",
            "execution_count": null,
            "metadata": {
                "deletable": false,
                "editable": false,
                "nbgrader": {
                    "grade": false,
                    "locked": true,
                    "solution": false
                }
            },
            "outputs": [],
            "source": [
                "def score_bag_common(bag, freq):\n",
                "    return sum([freq[word] for word in bag])\n",
                "\n",
                "K = Counter({'fish': 3, 'cat': 2, 'blue': 2, 'red': 2, 'dog': 2, 'hat': 1, 'one': 1, 'two': 1, 'beret': 1})\n",
                "print(score_bag_common({'blue', 'cat', 'fish'}, K))\n",
                "print(score_bag_common({'one', 'two', 'beret', 'hat', 'dog'}, K))"
            ]
        },
        {
            "cell_type": "markdown",
            "metadata": {
                "deletable": false,
                "editable": false,
                "nbgrader": {
                    "grade": false,
                    "locked": true,
                    "solution": false
                }
            },
            "source": [
                "Let's see what the \"top 10 captions\" are if we use this score, by running the code cell below."
            ]
        },
        {
            "cell_type": "code",
            "execution_count": null,
            "metadata": {
                "deletable": false,
                "editable": false,
                "nbgrader": {
                    "grade": false,
                    "locked": true,
                    "solution": false
                }
            },
            "outputs": [],
            "source": [
                "def score_all(bags, scoring_fun, freq):\n",
                "    return [scoring_fun(bag, freq) for bag in bags]\n",
                "\n",
                "def get_order(scores, max_rank=None):\n",
                "    if max_rank is None:\n",
                "        max_rank = len(scores)\n",
                "    # https://stackoverflow.com/questions/7851077/how-to-return-index-of-a-sorted-list\n",
                "    return sorted(range(len(scores)), key=lambda k: scores[k], reverse=True)[:max_rank]\n",
                "\n",
                "def print_top_captions(scores, captions, max_rank=10):\n",
                "    for rank, k in enumerate(get_order(scores, max_rank)):\n",
                "        print(f\"{rank+1} [{scores[k]:.3f}]: '{k}. {captions[k]}'\")\n",
                "        \n",
                "scores_common = score_all(caption_bags, score_bag_common, word_freq)\n",
                "print_top_captions(scores_common, captions_orig, max_rank=5)"
            ]
        },
        {
            "cell_type": "markdown",
            "metadata": {
                "deletable": false,
                "editable": false,
                "nbgrader": {
                    "grade": false,
                    "locked": true,
                    "solution": false
                }
            },
            "source": [
                "**Idea 1: Maximize \"surprise.\"** The captions above are all relevant, which is good, but they are also very similar. They lack the \"surprise\" that can make a caption funnier.\n",
                "\n",
                "So, a different idea is to reward rare words. Here is a simple implementation of this idea, and its results. It _inverts_ the frequency of each word in the bag, and sums those."
            ]
        },
        {
            "cell_type": "code",
            "execution_count": null,
            "metadata": {
                "deletable": false,
                "editable": false,
                "nbgrader": {
                    "grade": false,
                    "locked": true,
                    "solution": false
                }
            },
            "outputs": [],
            "source": [
                "def score_bag_rare(b, freq):\n",
                "    return sum([1/freq[w] for w in b])\n",
                "\n",
                "scores_rare = score_all(caption_bags, score_bag_rare, word_freq)\n",
                "print_top_captions(scores_rare, captions_orig, max_rank=5)"
            ]
        },
        {
            "cell_type": "markdown",
            "metadata": {
                "deletable": false,
                "editable": false,
                "nbgrader": {
                    "grade": false,
                    "locked": true,
                    "solution": false
                }
            },
            "source": [
                "**What the...?** If you are like most people, you find these captions to be a bit too surprising. There are two issues:\n",
                "\n",
                "1. Using overly rare words appears to lead to irrelevant captions.\n",
                "2. Having scores sum all words in the bag tends to reward captions merely because they are longer."
            ]
        },
        {
            "cell_type": "markdown",
            "metadata": {
                "deletable": false,
                "editable": false,
                "nbgrader": {
                    "grade": false,
                    "locked": true,
                    "solution": false
                }
            },
            "source": [
                "**Exercise 4** (2 points). Let's try to implement a score that rewards a mix of common and surprising words, along with captions that are both not too short and not too long.\n",
                "\n",
                "In particular, here is what your colleague has suggested.\n",
                "\n",
                "- Suppose a bag has $m$ words.\n",
                "- Suppose these $m$ words have frequencies $f = [f_0, f_1, \\ldots, f_{m-1}]$.\n",
                "- Let $\\frac{1}{f} \\equiv \\left[\\frac{1}{f_0}, \\frac{1}{f_1}, \\ldots, \\frac{1}{f_{m-1}}\\right]$ denote the inverse of these frequencies.\n",
                "\n",
                "From these, let $s(f)$ be the score of the bag, defined using the following two-part formula:\n",
                "\n",
                "$$\n",
                "\\begin{eqnarray}\n",
                "  s(f) & = & \\mathrm{pstdev}\\left(\\frac{1}{f}\\right) \\cdot w(m) \\\\\n",
                "  w(m) & = & \\frac{m}{\\mu} \\exp\\left( - \\frac{|m - \\mu|}{\\mu} \\right),\n",
                "\\end{eqnarray}\n",
                "$$\n",
                "\n",
                "where $\\mathrm{pstdev}(1 / f)$ is the _(population) standard deviation_ of the inverse-frequencies, and $\\mu$ is a constant. Note the use of an absolute value in the definition of $w(m)$.\n",
                "\n",
                "Here is your colleague's reasoning.\n",
                "\n",
                "- The standard deviation rewards bags that have highly variable frequencies, i.e., a diverse mix of rare and common words.\n",
                "- The $w(m)$ factor penalizes overly short or overly long sentences. It equals 1 when $m = \\mu$, which you can interpret as a \"target\" caption length. It is less than 1 for all other values. (The function $\\exp(x)$ is $e^x$, where $e$ is the base of the natural logarithm.)\n",
                "\n",
                "Translate your colleague's formula into code, implementing it as `score_bag_mixed(bag, freq, mu)`, below, where\n",
                "\n",
                "- `bag` is the bag of a caption;\n",
                "- `freq` is a `Counter()` object, where `freq[w]` is the frequency of word `w` for any `w` in `bag`;\n",
                "- `mu` is the target caption length, whose default value is 5.\n",
                "\n",
                "> **Hint 0:** The code cell imports a functions to compute the population standard deviation (`statistics.pstdev`) and exponential.\n",
                ">\n",
                "> **Hint 1:** The population standard deviation is only well-defined when computed on at least one value. So if therre are no values, then let $\\mathrm{pstdev}(\\cdot) = 0$."
            ]
        },
        {
            "cell_type": "code",
            "execution_count": 6,
            "metadata": {
                "collapsed": true
            },
            "outputs": [],
            "source": [
                "from statistics import pstdev # https://docs.python.org/3/library/statistics.html#statistics.stdev\n",
                "from math import exp\n",
                "\n",
                "def score_bag_mixed(bag, freq, mu=5):\n",
                "    m = len(bag)\n",
                "    if m == 0:\n",
                "        return 0\n",
                "    f_inv = [1/freq[word] for word in bag]\n",
                "    w = (m/mu)*exp(-abs(m-mu)/mu)\n",
                "    return pstdev(f_inv)*w"
            ]
        },
        {
            "cell_type": "code",
            "execution_count": 8,
            "metadata": {},
            "outputs": [],
            "source": [
                "# Demo:\n",
                "# scores_mixed = score_all(caption_bags, score_bag_mixed, word_freq)\n",
                "# print_top_captions(scores_mixed, captions_orig)\n",
                "\n",
                "# If you are on the right track, the top three captions should be:\n",
                "#\n",
                "# 1 [0.488]: '297. I'm sorry, but this is the gluten-free keynote address.'\n",
                "# 2 [0.485]: '1575. I'm afraid it's one of those modern weddings and there won't be a toast.'\n",
                "# 3 [0.484]: '796. Sorry,Captain Picard's dog's name is not \"Toast\".'"
            ]
        },
        {
            "cell_type": "code",
            "execution_count": null,
            "metadata": {
                "deletable": false,
                "editable": false,
                "nbgrader": {
                    "grade": true,
                    "grade_id": "ex4_score_bag_mixed",
                    "locked": true,
                    "points": "2",
                    "solution": false
                }
            },
            "outputs": [],
            "source": [
                "# Test cell: `ex4_score_bag_mixed` (2s points)\n",
                "\n",
                "print(\"\"\"\n",
                "This test cell is marked as having a hidden test, but does not.\n",
                "The testing code is exposed, below, but the solution values\n",
                "are masked using hashed values.\n",
                "\"\"\")\n",
                "\n",
                "###\n",
                "### AUTOGRADER TEST - DO NOT REMOVE\n",
                "###\n",
                "\n",
                "def ex4_check__(scores, captions):\n",
                "    from problem_utils import make_hash, check_hash\n",
                "    with open(get_path('toast/ex4_soln.csv'), 'rt') as fp:\n",
                "        print(\"==> Checking the top 100 captions...\")\n",
                "        solns = [s.strip() for s in fp.readlines()]\n",
                "        order = get_order(scores, max_rank=100)\n",
                "        for rank, k in enumerate(order):\n",
                "            c_soln_hashed = solns[rank]\n",
                "            c_your_soln = captions[k]\n",
                "            assert check_hash(c_your_soln, c_soln_hashed), \\\n",
                "                f\"*** Your solution at rank={rank}, {repr(c_your_soln)} (#{k}), does not match our expected solution. ***\\n\" \\\n",
                "                f\"==> Expected hash value: {repr(c_soln_hashed)}\"\n",
                "\n",
                "ex4_check__(scores_mixed, captions_orig)\n",
                "\n",
                "print(\"\\n(Passed!)\")"
            ]
        },
        {
            "cell_type": "markdown",
            "metadata": {
                "deletable": false,
                "editable": false,
                "nbgrader": {
                    "grade": false,
                    "locked": true,
                    "solution": false
                }
            },
            "source": [
                "**Epilogue.** The previous exercise concludes this problem. In case you are curious, the top three user-submitted captions were:\n",
                "\n",
                "- #1282: \"_Yes, we seated a potato, but he had a jacket._\" (Richard Berman, Amherst, Massachusetts)\n",
                "- #121: \"_You're in luck. A slot just opened up for you in the kitchen._\" (Sean Kirk, Bellingham, Washington)\n",
                "- #1126: \"_I'm sorry, sir. We no longer serve bread._\" (Myles Gordon, Austerlitz, New York).\n",
                "\n",
                "So, the automated methods here clearly miss the mark in some way. You'll learn many other potential methods throughout the MSA program!"
            ]
        },
        {
            "cell_type": "markdown",
            "metadata": {
                "deletable": false,
                "editable": false,
                "nbgrader": {
                    "grade": false,
                    "locked": true,
                    "solution": false
                }
            },
            "source": [
                "**Fin!** You’ve reached the end of this part. Don’t forget to restart and run all cells again to make sure it’s all working when run in sequence; and make sure your work passes the submission process. Good luck!"
            ]
        }
    ],
    "metadata": {
        "kernelspec": {
            "display_name": "Python 3",
            "language": "python",
            "name": "python3"
        },
        "language_info": {
            "codemirror_mode": {
                "name": "ipython",
                "version": 3
            },
            "file_extension": ".py",
            "mimetype": "text/x-python",
            "name": "python",
            "nbconvert_exporter": "python",
            "pygments_lexer": "ipython3",
            "version": "3.11.2"
        }
    },
    "nbformat": 4,
    "nbformat_minor": 2
}
