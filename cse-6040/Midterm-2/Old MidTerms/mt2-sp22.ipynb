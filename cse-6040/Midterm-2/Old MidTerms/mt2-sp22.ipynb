{
 "cells": [
  {
   "cell_type": "markdown",
   "metadata": {},
   "source": [
    "# Midterm 2, Spring 2022: Actor Network Analysis\n",
    "_Version 1.0.1_\n",
    "\n",
    "_Change History_\n",
    "\n",
    "- 1.0 - Initial Release\n",
    "- 1.0.1 - Corrected Typo in ex8 demo cell.\n",
    "\n",
    "This problem builds on your knowledge of Pandas, base Python data structures, and using new tools. (Some exercises require you to use _very basic_ features of the `networkx` package, which is well documented.) It has 9 exercises, numbered 0 to 8. There are **17** available points. However, to earn 100% the threshold is **14** points. (Therefore, once you hit **14** points, you can stop. There is no extra credit for exceeding this threshold.)\n",
    "\n",
    "Each exercise builds logically on previous exercises, but you may solve them in any order. That is, if you can't solve an exercise, you can still move on and try the next one. Use this to your advantage, as the exercises are **not** necessarily ordered in terms of difficulty. Higher point values generally indicate more difficult exercises. \n",
    "\n",
    "Code cells starting with the comment `### define demo inputs` load results from prior exercises applied to the entire data set and use those to build demo inputs. These must be run for subsequent demos to work properly, but they do not affect the test cells. The data loaded in these cells may be rather large (at least in terms of human readability). You are free to print or otherwise use Python to explore them, but we did not print them in the starter code.\n",
    "\n",
    "The point values of individual exercises are as follows:\n",
    "\n",
    "- Exercise 0: 1 point (This one is a freebie!)\n",
    "- Exercise 1: 1 point  \n",
    "- Exercise 2: 2 point  \n",
    "- Exercise 3: 1 point  \n",
    "- Exercise 4: 2 point  \n",
    "- Exercise 5: 4 point\n",
    "- Exercise 6: 1 point\n",
    "- Exercise 7: 2 point\n",
    "- Exercise 8: 3 point  \n",
    "\n",
    "<a href=\"mt1-sp22.html\" target=\"_blank\">Solution</a>"
   ]
  },
  {
   "cell_type": "markdown",
   "metadata": {
    "deletable": false,
    "editable": false,
    "nbgrader": {
     "grade": false,
     "locked": true,
     "solution": false
    }
   },
   "source": [
    "## Exercise 0 (1 point): "
   ]
  },
  {
   "cell_type": "markdown",
   "metadata": {
    "deletable": false,
    "editable": false,
    "nbgrader": {
     "grade": false,
     "locked": true,
     "solution": false
    },
    "tags": [
     "exercise_text_ex0"
    ]
   },
   "source": [
    "Before we can do any analysis, we have to read the data from the file it is stored in. We have defined `load_data` and are using it to read from the data file. "
   ]
  },
  {
   "cell_type": "code",
   "execution_count": 1,
   "metadata": {
    "collapsed": true,
    "deletable": false,
    "editable": false,
    "nbgrader": {
     "grade": false,
     "locked": true,
     "solution": false
    },
    "tags": [
     "exercise_solution_ex0"
    ]
   },
   "outputs": [],
   "source": [
    "###\n",
    "### AUTOGRADER TEST - DO NOT REMOVE\n",
    "###\n",
    "def load_data(path):\n",
    "    import pandas as pd\n",
    "    return pd.read_csv(path, names=['film_id', 'film_name', 'actor', 'year'], skiprows=1)"
   ]
  },
  {
   "cell_type": "markdown",
   "metadata": {
    "deletable": false,
    "editable": false,
    "nbgrader": {
     "grade": false,
     "locked": true,
     "solution": false
    }
   },
   "source": [
    "<!-- Test Cell Boilerplate -->\n",
    "The cell below will test your solution for Exercise 0. The testing variables will be available for debugging under the following names in a dictionary format.\n",
    "- `input_vars` - Input variables for your solution. \n",
    "- `original_input_vars` - Copy of input variables from prior to running your solution. These _should_ be the same as `input_vars` - otherwise the inputs were modified by your solution.\n",
    "- `returned_output_vars` - Outputs returned by your solution.\n",
    "- `true_output_vars` - The expected output. This _should_ \"match\" `returned_output_vars` based on the question requirements - otherwise, your solution is not returning the correct output. "
   ]
  },
  {
   "cell_type": "code",
   "execution_count": 2,
   "metadata": {
    "deletable": false,
    "editable": false,
    "nbgrader": {
     "grade": true,
     "grade_id": "ex0",
     "locked": true,
     "points": "1",
     "solution": false
    }
   },
   "outputs": [
    {
     "name": "stdout",
     "output_type": "stream",
     "text": [
      "initializing tester_fw.tester_6040\n",
      "Passed! Please submit.\n"
     ]
    }
   ],
   "source": [
    "### test_cell_ex0\n",
    "from tester_fw.testers import Tester_ex0\n",
    "tester = Tester_ex0()\n",
    "for _ in range(20):\n",
    "    try:\n",
    "        tester.run_test(load_data)\n",
    "        (input_vars, original_input_vars, returned_output_vars, true_output_vars) = tester.get_test_vars()\n",
    "    except:\n",
    "        (input_vars, original_input_vars, returned_output_vars, true_output_vars) = tester.get_test_vars()\n",
    "        raise\n",
    "\n",
    "###\n",
    "### AUTOGRADER TEST - DO NOT REMOVE\n",
    "###\n",
    "print('Passed! Please submit.')"
   ]
  },
  {
   "cell_type": "markdown",
   "metadata": {
    "deletable": false,
    "editable": false,
    "nbgrader": {
     "grade": false,
     "locked": true,
     "solution": false
    }
   },
   "source": [
    "## Exercise 1 (1 Point): "
   ]
  },
  {
   "cell_type": "markdown",
   "metadata": {
    "deletable": false,
    "editable": false,
    "nbgrader": {
     "grade": false,
     "locked": true,
     "solution": false
    },
    "tags": [
     "exercise_text_ex1"
    ]
   },
   "source": [
    "Next we need to explore our data. Complete the function `explore_data` to return a tuple, `t`, with the following elements.\n",
    "- `t[0]` - `tuple` - the shape of `df`\n",
    "- `t[1]` - `pd.DataFrame` - the first five rows of `df`\n",
    "- `t[2]` - `dict` - mapping year (`int`) to the number of films released that year (`int`)\n",
    "\n",
    "The input `df` is a `pd.DataFrame` with the following columns:\n",
    "- `'film_id'` - unique integer associated with a film\n",
    "- `'film_name'` - the name of a film\n",
    "- `'actor'` - the name of an actor who starred in the film\n",
    "- `'year'` - the year which the film was released\n",
    "\n",
    "Each row in `df` indicates an instance of an actor starring in a film, so it is possible that there will be multiple rows with the same `'film_name'` and `'film_id'`."
   ]
  },
  {
   "cell_type": "code",
   "execution_count": 3,
   "metadata": {
    "collapsed": true,
    "tags": [
     "exercise_solution_ex1"
    ]
   },
   "outputs": [],
   "source": [
    "def explore_data(df):\n",
    "    ###\n",
    "    return df.shape\\\n",
    "        , df.head(5)\\\n",
    "        , df.groupby('year').apply(\n",
    "            lambda group:\n",
    "                group['film_id'].unique().shape[0]\n",
    "        ).to_dict()\n",
    "    ###\n"
   ]
  },
  {
   "cell_type": "markdown",
   "metadata": {
    "deletable": false,
    "editable": false,
    "nbgrader": {
     "grade": false,
     "locked": true,
     "solution": false
    },
    "tags": [
     "demo_output_md_ex1"
    ]
   },
   "source": [
    "<!-- Expected demo output text block -->\n",
    "The demo cell below should display the following output:\n",
    "```\n",
    "((15, 4),\n",
    "        film_id                              film_name                 actor  \\\n",
    " 8277      1599                          Before I Fall       Medalion Rahimi   \n",
    " 6730      1150      A Million Ways to Die in the West       Seth MacFarlane   \n",
    " 5770       934  The Mortal Instruments: City of Bones  Jamie Campbell Bower   \n",
    " 10007     1883                 Avengers: Infinity War           Chris Pratt   \n",
    " 9831      1855                           Isle of Dogs           Bob Balaban   \n",
    " \n",
    "        year  \n",
    " 8277   2017  \n",
    " 6730   2014  \n",
    " 5770   2013  \n",
    " 10007  2018  \n",
    " 9831   2018  ,\n",
    " {2011: 2, 2012: 1, 2013: 2, 2014: 1, 2016: 1, 2017: 3, 2018: 4, 2019: 1})\n",
    "```"
   ]
  },
  {
   "cell_type": "code",
   "execution_count": 4,
   "metadata": {
    "collapsed": true,
    "deletable": false,
    "editable": false,
    "nbgrader": {
     "grade": false,
     "locked": true,
     "solution": false
    },
    "tags": [
     "demo_inputs_ex1"
    ]
   },
   "outputs": [],
   "source": [
    "### define demo inputs\n",
    "import pickle\n",
    "with open('resource/asnlib/publicdata/movie_data.pkl', 'rb') as f:\n",
    "    movie_data = pickle.load(f)\n",
    "demo_df_ex1 = movie_data.sample(15, random_state=6040)"
   ]
  },
  {
   "cell_type": "code",
   "execution_count": 5,
   "metadata": {
    "deletable": false,
    "editable": false,
    "nbgrader": {
     "grade": false,
     "locked": true,
     "solution": false
    },
    "tags": [
     "demo_run_ex1"
    ]
   },
   "outputs": [
    {
     "data": {
      "text/plain": [
       "((15, 4),\n",
       "        film_id                              film_name                 actor  \\\n",
       " 8277      1599                          Before I Fall       Medalion Rahimi   \n",
       " 6730      1150      A Million Ways to Die in the West       Seth MacFarlane   \n",
       " 5770       934  The Mortal Instruments: City of Bones  Jamie Campbell Bower   \n",
       " 10007     1883                 Avengers: Infinity War           Chris Pratt   \n",
       " 9831      1855                           Isle of Dogs           Bob Balaban   \n",
       " \n",
       "        year  \n",
       " 8277   2017  \n",
       " 6730   2014  \n",
       " 5770   2013  \n",
       " 10007  2018  \n",
       " 9831   2018  ,\n",
       " {2011: 2, 2012: 1, 2013: 2, 2014: 1, 2016: 1, 2017: 3, 2018: 4, 2019: 1})"
      ]
     },
     "execution_count": 5,
     "metadata": {},
     "output_type": "execute_result"
    }
   ],
   "source": [
    "### call demo funtion\n",
    "explore_data(demo_df_ex1)"
   ]
  },
  {
   "cell_type": "markdown",
   "metadata": {
    "deletable": false,
    "editable": false,
    "nbgrader": {
     "grade": false,
     "locked": true,
     "solution": false
    }
   },
   "source": [
    "<!-- Test Cell Boilerplate -->\n",
    "The cell below will test your solution for Exercise 1. The testing variables will be available for debugging under the following names in a dictionary format.\n",
    "- `input_vars` - Input variables for your solution. \n",
    "- `original_input_vars` - Copy of input variables from prior to running your solution. These _should_ be the same as `input_vars` - otherwise the inputs were modified by your solution.\n",
    "- `returned_output_vars` - Outputs returned by your solution.\n",
    "- `true_output_vars` - The expected output. This _should_ \"match\" `returned_output_vars` based on the question requirements - otherwise, your solution is not returning the correct output. "
   ]
  },
  {
   "cell_type": "code",
   "execution_count": 6,
   "metadata": {
    "deletable": false,
    "editable": false,
    "nbgrader": {
     "grade": true,
     "grade_id": "ex1",
     "locked": true,
     "points": "1",
     "solution": false
    }
   },
   "outputs": [
    {
     "name": "stdout",
     "output_type": "stream",
     "text": [
      "initializing tester_fw.tester_6040\n",
      "Passed! Please submit.\n"
     ]
    }
   ],
   "source": [
    "### test_cell_ex1\n",
    "\n",
    "###\n",
    "### AUTOGRADER TEST - DO NOT REMOVE\n",
    "###\n",
    "\n",
    "from tester_fw.testers import Tester_ex1\n",
    "tester = Tester_ex1()\n",
    "for _ in range(20):\n",
    "    try:\n",
    "        tester.run_test(explore_data)\n",
    "        (input_vars, original_input_vars, returned_output_vars, true_output_vars) = tester.get_test_vars()\n",
    "    except:\n",
    "        (input_vars, original_input_vars, returned_output_vars, true_output_vars) = tester.get_test_vars()\n",
    "        raise\n",
    "\n",
    "###\n",
    "### AUTOGRADER TEST - DO NOT REMOVE\n",
    "###\n",
    "print('Passed! Please submit.')"
   ]
  },
  {
   "cell_type": "markdown",
   "metadata": {
    "deletable": false,
    "editable": false,
    "nbgrader": {
     "grade": false,
     "locked": true,
     "solution": false
    }
   },
   "source": [
    "## Exercise 2 (2 Points): "
   ]
  },
  {
   "cell_type": "markdown",
   "metadata": {
    "deletable": false,
    "editable": false,
    "nbgrader": {
     "grade": false,
     "locked": true,
     "solution": false
    },
    "tags": [
     "exercise_text_ex2"
    ]
   },
   "source": [
    "We will continue our exploration by identifying prolific actors. Complete the function `top_10_actors` to accomplish the following:\n",
    "- Determine how many films each actor has appeared in.\n",
    "- Return a DataFrame containing the top 10 actors who have appeared in the most films.\n",
    "  - Should have columns `'actor'` (string) and `'count'` (int) indicating the actor's name and the number of films they have appeared in.\n",
    "  - Should be sorted by `'count'`\n",
    "  - In the event of ties (multiple actors appearing in the same number of films), sort actor names in alphabetical order.\n",
    "  - Actors should not be excluded based on their name only. More specifically if the 10th most prolific actor has appeared in $X$ films, all actors appearing in at least $X$ films should be included.\n",
    "    - This may result in more than 10 actors in the output.\n",
    "  - The index of the result should be sequential numbers, starting with 0.\n",
    "\n",
    "The input `df` will be as described in exercise 1."
   ]
  },
  {
   "cell_type": "code",
   "execution_count": 7,
   "metadata": {
    "collapsed": true,
    "tags": [
     "exercise_solution_ex2"
    ]
   },
   "outputs": [],
   "source": [
    "def top_10_actors(df):\n",
    "    ###\n",
    "    df = df\n",
    "    df['actor'] = df['actor'].astype('string')\n",
    "    return df.groupby('actor', as_index=False)\\\n",
    "        .apply(lambda group: group.shape[0])\\\n",
    "        .rename(columns={None:'count'})\\\n",
    "        .sort_values(['count', 'actor'], ascending=[False, True])\\\n",
    "        .nlargest(\n",
    "            n=10\n",
    "            , columns='count'\n",
    "            , keep='all'\n",
    "        )\\\n",
    "        .reset_index(drop=True)\n",
    "    ###"
   ]
  },
  {
   "cell_type": "markdown",
   "metadata": {
    "deletable": false,
    "editable": false,
    "nbgrader": {
     "grade": false,
     "locked": true,
     "solution": false
    },
    "tags": [
     "demo_output_md_ex2"
    ]
   },
   "source": [
    "<!-- Expected demo output text block -->\n",
    "The demo cell below should display the following output:\n",
    "```\n",
    "                  actor  count\n",
    "0    Chloë Grace Moretz      8\n",
    "1         Anna Kendrick      7\n",
    "2     Jennifer Lawrence      7\n",
    "3            Kevin Hart      7\n",
    "4          Kristen Wiig      7\n",
    "5           Melissa Leo      7\n",
    "6      Melissa McCarthy      7\n",
    "7         Ryan Reynolds      7\n",
    "8            Bill Hader      6\n",
    "9        Bryan Cranston      6\n",
    "10  Christina Hendricks      6\n",
    "11          Dan Stevens      6\n",
    "12         Danny Glover      6\n",
    "13           Idris Elba      6\n",
    "14         James McAvoy      6\n",
    "15         Maya Rudolph      6\n",
    "16       Morgan Freeman      6\n",
    "17         Nicolas Cage      6\n",
    "18           Rose Byrne      6\n",
    "19   Sylvester Stallone      6\n",
    "```\n",
    "\n",
    "Notice how all of the actors appearing in 6 or more movies are included."
   ]
  },
  {
   "cell_type": "code",
   "execution_count": 8,
   "metadata": {
    "collapsed": true,
    "deletable": false,
    "editable": false,
    "nbgrader": {
     "grade": false,
     "locked": true,
     "solution": false
    },
    "tags": [
     "demo_inputs_ex2"
    ]
   },
   "outputs": [],
   "source": [
    "### define demo inputs\n",
    "import pickle\n",
    "with open('resource/asnlib/publicdata/movie_data.pkl', 'rb') as f:\n",
    "    movie_data = pickle.load(f)\n",
    "demo_df_ex2 = movie_data.sample(3000, random_state=6040)"
   ]
  },
  {
   "cell_type": "code",
   "execution_count": 9,
   "metadata": {
    "deletable": false,
    "editable": false,
    "nbgrader": {
     "grade": false,
     "locked": true,
     "solution": false
    },
    "tags": [
     "demo_run_ex2"
    ]
   },
   "outputs": [
    {
     "name": "stdout",
     "output_type": "stream",
     "text": [
      "                  actor  count\n",
      "0    Chloë Grace Moretz      8\n",
      "1         Anna Kendrick      7\n",
      "2     Jennifer Lawrence      7\n",
      "3            Kevin Hart      7\n",
      "4          Kristen Wiig      7\n",
      "5           Melissa Leo      7\n",
      "6      Melissa McCarthy      7\n",
      "7         Ryan Reynolds      7\n",
      "8            Bill Hader      6\n",
      "9        Bryan Cranston      6\n",
      "10  Christina Hendricks      6\n",
      "11          Dan Stevens      6\n",
      "12         Danny Glover      6\n",
      "13           Idris Elba      6\n",
      "14         James McAvoy      6\n",
      "15         Maya Rudolph      6\n",
      "16       Morgan Freeman      6\n",
      "17         Nicolas Cage      6\n",
      "18           Rose Byrne      6\n",
      "19   Sylvester Stallone      6\n"
     ]
    }
   ],
   "source": [
    "### call demo funtion\n",
    "print(top_10_actors(demo_df_ex2))"
   ]
  },
  {
   "cell_type": "markdown",
   "metadata": {
    "deletable": false,
    "editable": false,
    "nbgrader": {
     "grade": false,
     "locked": true,
     "solution": false
    }
   },
   "source": [
    "<!-- Test Cell Boilerplate -->\n",
    "The cell below will test your solution for Exercise 2. The testing variables will be available for debugging under the following names in a dictionary format.\n",
    "- `input_vars` - Input variables for your solution. \n",
    "- `original_input_vars` - Copy of input variables from prior to running your solution. These _should_ be the same as `input_vars` - otherwise the inputs were modified by your solution.\n",
    "- `returned_output_vars` - Outputs returned by your solution.\n",
    "- `true_output_vars` - The expected output. This _should_ \"match\" `returned_output_vars` based on the question requirements - otherwise, your solution is not returning the correct output. "
   ]
  },
  {
   "cell_type": "code",
   "execution_count": 10,
   "metadata": {
    "deletable": false,
    "editable": false,
    "nbgrader": {
     "grade": true,
     "grade_id": "ex2",
     "locked": true,
     "points": "2",
     "solution": false
    }
   },
   "outputs": [
    {
     "name": "stdout",
     "output_type": "stream",
     "text": [
      "initializing tester_fw.tester_6040\n",
      "Passed! Please submit.\n"
     ]
    }
   ],
   "source": [
    "### test_cell_ex2\n",
    "\n",
    "###\n",
    "### AUTOGRADER TEST - DO NOT REMOVE\n",
    "###\n",
    "\n",
    "from tester_fw.testers import Tester_ex2\n",
    "tester = Tester_ex2()\n",
    "for _ in range(50):\n",
    "    try:\n",
    "        tester.run_test(top_10_actors)\n",
    "        (input_vars, original_input_vars, returned_output_vars, true_output_vars) = tester.get_test_vars()\n",
    "    except:\n",
    "        (input_vars, original_input_vars, returned_output_vars, true_output_vars) = tester.get_test_vars()\n",
    "        raise\n",
    "\n",
    "###\n",
    "### AUTOGRADER TEST - DO NOT REMOVE\n",
    "###\n",
    "print('Passed! Please submit.')"
   ]
  },
  {
   "cell_type": "markdown",
   "metadata": {
    "deletable": false,
    "editable": false,
    "nbgrader": {
     "grade": false,
     "locked": true,
     "solution": false
    }
   },
   "source": [
    "## Exercise 3 (1 Point): "
   ]
  },
  {
   "cell_type": "markdown",
   "metadata": {
    "deletable": false,
    "editable": false,
    "nbgrader": {
     "grade": false,
     "locked": true,
     "solution": false
    },
    "tags": [
     "exercise_text_ex3"
    ]
   },
   "source": [
    "We will continue our exploration with a look at which years an actor has appeared in movies. Complete the function `actor_years` to determine which years the given `actor` has appeared in movies based off of the data in `df`. Your output should meet the following requirements:\n",
    "- Output is a `dict` mapping the actor's name to a `list` of integers (`int`) containing the years in which this actor appeared in films.\n",
    "- There should not be any duplicate years. If an actor has appeared in one or more films in a year, that year should be included **once** in the list.\n",
    "- The list of years should be sorted in **ascending** order.\n",
    "\n",
    "The input `df` is a `pd.DataFrame` of the same form denoted in exercise 1.\n"
   ]
  },
  {
   "cell_type": "code",
   "execution_count": 12,
   "metadata": {
    "collapsed": true,
    "tags": [
     "exercise_solution_ex3"
    ]
   },
   "outputs": [],
   "source": [
    "def actor_years(df, actor):\n",
    "    ###\n",
    "    import numpy as np\n",
    "    return {actor: df.loc[df['actor'] == actor, 'year'].sort_values().unique().tolist()}\n",
    "    ###\n"
   ]
  },
  {
   "cell_type": "markdown",
   "metadata": {
    "deletable": false,
    "editable": false,
    "nbgrader": {
     "grade": false,
     "locked": true,
     "solution": false
    },
    "tags": [
     "demo_output_md_ex3"
    ]
   },
   "source": [
    "<!-- Expected demo output text block -->\n",
    "The demo cell below should display the following output:\n",
    "```\n",
    "{'James Franco': [2012, 2013]}\n",
    "```"
   ]
  },
  {
   "cell_type": "code",
   "execution_count": 13,
   "metadata": {
    "collapsed": true,
    "deletable": false,
    "editable": false,
    "nbgrader": {
     "grade": false,
     "locked": true,
     "solution": false
    },
    "tags": [
     "demo_inputs_ex3"
    ]
   },
   "outputs": [],
   "source": [
    "### define demo inputs\n",
    "import pickle\n",
    "with open('resource/asnlib/publicdata/movie_data.pkl', 'rb') as f:\n",
    "    movie_data = pickle.load(f)\n",
    "demo_df_ex3 = movie_data.sample(3000, random_state=6040)"
   ]
  },
  {
   "cell_type": "code",
   "execution_count": 14,
   "metadata": {
    "deletable": false,
    "editable": false,
    "nbgrader": {
     "grade": false,
     "locked": true,
     "solution": false
    },
    "tags": [
     "demo_run_ex3"
    ]
   },
   "outputs": [
    {
     "data": {
      "text/plain": [
       "{'James Franco': [2012, 2013]}"
      ]
     },
     "execution_count": 14,
     "metadata": {},
     "output_type": "execute_result"
    }
   ],
   "source": [
    "### call demo funtion\n",
    "actor_years(demo_df_ex3, 'James Franco')"
   ]
  },
  {
   "cell_type": "markdown",
   "metadata": {
    "deletable": false,
    "editable": false,
    "nbgrader": {
     "grade": false,
     "locked": true,
     "solution": false
    }
   },
   "source": [
    "<!-- Test Cell Boilerplate -->\n",
    "The cell below will test your solution for Exercise 3. The testing variables will be available for debugging under the following names in a dictionary format.\n",
    "- `input_vars` - Input variables for your solution. \n",
    "- `original_input_vars` - Copy of input variables from prior to running your solution. These _should_ be the same as `input_vars` - otherwise the inputs were modified by your solution.\n",
    "- `returned_output_vars` - Outputs returned by your solution.\n",
    "- `true_output_vars` - The expected output. This _should_ \"match\" `returned_output_vars` based on the question requirements - otherwise, your solution is not returning the correct output. "
   ]
  },
  {
   "cell_type": "code",
   "execution_count": 15,
   "metadata": {
    "deletable": false,
    "editable": false,
    "nbgrader": {
     "grade": true,
     "grade_id": "ex3",
     "locked": true,
     "points": "1",
     "solution": false
    }
   },
   "outputs": [
    {
     "name": "stdout",
     "output_type": "stream",
     "text": [
      "initializing tester_fw.tester_6040\n",
      "Passed! Please submit.\n"
     ]
    }
   ],
   "source": [
    "### test_cell_ex3\n",
    "\n",
    "###\n",
    "### AUTOGRADER TEST - DO NOT REMOVE\n",
    "###\n",
    "\n",
    "from tester_fw.testers import Tester_ex3\n",
    "tester = Tester_ex3()\n",
    "for _ in range(20):\n",
    "    try:\n",
    "        tester.run_test(actor_years)\n",
    "        (input_vars, original_input_vars, returned_output_vars, true_output_vars) = tester.get_test_vars()\n",
    "    except:\n",
    "        (input_vars, original_input_vars, returned_output_vars, true_output_vars) = tester.get_test_vars()\n",
    "        raise\n",
    "\n",
    "###\n",
    "### AUTOGRADER TEST - DO NOT REMOVE\n",
    "###\n",
    "print('Passed! Please submit.')"
   ]
  },
  {
   "cell_type": "markdown",
   "metadata": {
    "deletable": false,
    "editable": false,
    "nbgrader": {
     "grade": false,
     "locked": true,
     "solution": false
    }
   },
   "source": [
    "## Exercise 4 (2 Points):"
   ]
  },
  {
   "cell_type": "markdown",
   "metadata": {
    "deletable": false,
    "editable": false,
    "nbgrader": {
     "grade": false,
     "locked": true,
     "solution": false
    },
    "tags": [
     "exercise_text_ex4"
    ]
   },
   "source": [
    "For our last exercise in exploration, we want to see some summary statistics on how many actors participated in a movie. Complete the funciton `movie_size_by_year` to accomplish the following:\n",
    "- Determine the size of each film in terms of the number of actors in that film. In other words, if there are $X$ actors in film $Y$ then the size of film $Y$ is $X$.\n",
    "- For each year, determine the minimum, maximum, and mean sizes of films released that year. All values in the \"inner\" dictionaries should be of type `int`.\n",
    "- Return the results as a nested dictionary \n",
    "  - {`year`: {'min': minimum size, 'max': maximum size, 'mean': mean size (rounded to the nearest integer)}}"
   ]
  },
  {
   "cell_type": "code",
   "execution_count": 16,
   "metadata": {
    "collapsed": true,
    "tags": [
     "exercise_solution_ex4"
    ]
   },
   "outputs": [],
   "source": [
    "### Define movie_size_by_year\n",
    "def movie_size_by_year(df):\n",
    "    ###\n",
    "    import pandas as pd\n",
    "    def summarize_year(group):\n",
    "        counts = group[['film_id']].groupby('film_id').apply(lambda x: len(x))\n",
    "        return pd.Series({\n",
    "            'min': counts.min(),\n",
    "            'max': counts.max(),\n",
    "            'mean': round(counts.mean())\n",
    "        })\n",
    "    return df.groupby(['year'])\\\n",
    "        .apply(summarize_year)\\\n",
    "        .to_dict('index')\n",
    "    ###\n"
   ]
  },
  {
   "cell_type": "markdown",
   "metadata": {
    "deletable": false,
    "editable": false,
    "nbgrader": {
     "grade": false,
     "locked": true,
     "solution": false
    },
    "tags": [
     "demo_output_md_ex4"
    ]
   },
   "source": [
    "<!-- Expected demo output text block -->\n",
    "The demo cell below should display the following output:\n",
    "```\n",
    "{2010: {'min': 1, 'max': 8, 'mean': 2},\n",
    " 2011: {'min': 1, 'max': 7, 'mean': 2},\n",
    " 2012: {'min': 1, 'max': 8, 'mean': 2},\n",
    " 2013: {'min': 1, 'max': 13, 'mean': 2},\n",
    " 2014: {'min': 1, 'max': 4, 'mean': 1},\n",
    " 2015: {'min': 1, 'max': 4, 'mean': 1},\n",
    " 2016: {'min': 1, 'max': 2, 'mean': 1},\n",
    " 2017: {'min': 1, 'max': 6, 'mean': 2},\n",
    " 2018: {'min': 1, 'max': 6, 'mean': 2},\n",
    " 2019: {'min': 1, 'max': 6, 'mean': 2}}\n",
    "```"
   ]
  },
  {
   "cell_type": "code",
   "execution_count": 17,
   "metadata": {
    "collapsed": true,
    "deletable": false,
    "editable": false,
    "nbgrader": {
     "grade": false,
     "locked": true,
     "solution": false
    },
    "tags": [
     "demo_inputs_ex4"
    ]
   },
   "outputs": [],
   "source": [
    "### define demo inputs\n",
    "import pickle\n",
    "with open('resource/asnlib/publicdata/movie_data.pkl', 'rb') as f:\n",
    "    movie_data = pickle.load(f)\n",
    "demo_df_ex4 = movie_data.sample(3000, random_state=6040)"
   ]
  },
  {
   "cell_type": "code",
   "execution_count": 18,
   "metadata": {
    "deletable": false,
    "editable": false,
    "nbgrader": {
     "grade": false,
     "locked": true,
     "solution": false
    },
    "tags": [
     "demo_run_ex4"
    ]
   },
   "outputs": [
    {
     "data": {
      "text/plain": [
       "{2010: {'min': 1, 'max': 8, 'mean': 2},\n",
       " 2011: {'min': 1, 'max': 7, 'mean': 2},\n",
       " 2012: {'min': 1, 'max': 8, 'mean': 2},\n",
       " 2013: {'min': 1, 'max': 13, 'mean': 2},\n",
       " 2014: {'min': 1, 'max': 4, 'mean': 1},\n",
       " 2015: {'min': 1, 'max': 4, 'mean': 1},\n",
       " 2016: {'min': 1, 'max': 2, 'mean': 1},\n",
       " 2017: {'min': 1, 'max': 6, 'mean': 2},\n",
       " 2018: {'min': 1, 'max': 6, 'mean': 2},\n",
       " 2019: {'min': 1, 'max': 6, 'mean': 2}}"
      ]
     },
     "execution_count": 18,
     "metadata": {},
     "output_type": "execute_result"
    }
   ],
   "source": [
    "movie_size_by_year(demo_df_ex4)"
   ]
  },
  {
   "cell_type": "markdown",
   "metadata": {
    "deletable": false,
    "editable": false,
    "nbgrader": {
     "grade": false,
     "locked": true,
     "solution": false
    }
   },
   "source": [
    "<!-- Test Cell Boilerplate -->\n",
    "The cell below will test your solution for Exercise 4. The testing variables will be available for debugging under the following names in a dictionary format.\n",
    "- `input_vars` - Input variables for your solution. \n",
    "- `original_input_vars` - Copy of input variables from prior to running your solution. These _should_ be the same as `input_vars` - otherwise the inputs were modified by your solution.\n",
    "- `returned_output_vars` - Outputs returned by your solution.\n",
    "- `true_output_vars` - The expected output. This _should_ \"match\" `returned_output_vars` based on the question requirements - otherwise, your solution is not returning the correct output. "
   ]
  },
  {
   "cell_type": "code",
   "execution_count": 19,
   "metadata": {
    "deletable": false,
    "editable": false,
    "nbgrader": {
     "grade": true,
     "grade_id": "ex4",
     "locked": true,
     "points": "2",
     "solution": false
    }
   },
   "outputs": [
    {
     "name": "stdout",
     "output_type": "stream",
     "text": [
      "initializing tester_fw.tester_6040\n",
      "Passed! Please submit.\n"
     ]
    }
   ],
   "source": [
    "### test_cell_ex4\n",
    "\n",
    "###\n",
    "### AUTOGRADER TEST - DO NOT REMOVE\n",
    "###\n",
    "\n",
    "from tester_fw.testers import Tester_ex4\n",
    "tester = Tester_ex4()\n",
    "for _ in range(20):\n",
    "    try:\n",
    "        tester.run_test(movie_size_by_year)\n",
    "        (input_vars, original_input_vars, returned_output_vars, true_output_vars) = tester.get_test_vars()\n",
    "    except:\n",
    "        (input_vars, original_input_vars, returned_output_vars, true_output_vars) = tester.get_test_vars()\n",
    "        raise\n",
    "\n",
    "###\n",
    "### AUTOGRADER TEST - DO NOT REMOVE\n",
    "###\n",
    "print('Passed! Please submit.')"
   ]
  },
  {
   "cell_type": "markdown",
   "metadata": {
    "deletable": false,
    "editable": false,
    "nbgrader": {
     "grade": false,
     "locked": true,
     "solution": false
    }
   },
   "source": [
    "## Exercise 5 (4 Point): "
   ]
  },
  {
   "cell_type": "markdown",
   "metadata": {
    "deletable": false,
    "editable": false,
    "nbgrader": {
     "grade": false,
     "locked": true,
     "solution": false
    },
    "tags": [
     "exercise_text_ex5"
    ]
   },
   "source": [
    "We want to ultimately do some network analytics using this data. Our first task to that end is to define our data in terms of a network. Here's the particulars of what we want in the network.\n",
    "- Un-weighted, un-directed graph structure with no self-edges.\n",
    "- Actors are nodes and there is an edge between two actors if they have starred in the same film.\n",
    "\n",
    "Complete the function `make_network_dict` to process the data from `df` into this graph structure. The graph should be returned in a nested \"dictionary of sets\" structure.\n",
    "- The keys are actor names, and the values are a set of the key actor's co-stars.\n",
    "- To avoid storing duplicate data, all co-actors should be alphabetically after the key actor. If following this rule results in an key actor having an empty set of costars, that actor should not be included as a key actor. This means that actors who only appear in films without costars would not be included.\n",
    "  - For example `{'Alice':{'Bob', 'Alice', 'Charlie'}, 'Bob':{'Alice', 'Bob', 'Charlie'}, 'Charlie: {'Alice', 'Bob', 'Charlie'}}` indicates that there is an edge between Alice and Bob, an edge between Bob and Charlie, and an edge between Alice and Charlie. Instead of storing all the redundant information, we would store just `{'Alice': {'Bob', 'Charlie'}, 'Bob': {'Charlie'}}`.\n",
    "- **Hint:** Think about how you could use `merge` to determine all pairs of costars. Once you have that, you can worry about taking out the redundant information."
   ]
  },
  {
   "cell_type": "code",
   "execution_count": 20,
   "metadata": {
    "collapsed": true,
    "tags": [
     "exercise_solution_ex5"
    ]
   },
   "outputs": [],
   "source": [
    "def make_network_dict(df):\n",
    "    ###\n",
    "    from collections import defaultdict\n",
    "    d = defaultdict(set)\n",
    "    actor_pairs = df[['film_id', 'actor']]\\\n",
    "        .merge(df[['film_id', 'actor']]\n",
    "            , how = 'inner'\n",
    "            , on= 'film_id'\n",
    "        )\\\n",
    "        .query('actor_x < actor_y')\\\n",
    "        .drop(columns='film_id')\n",
    "    for row in actor_pairs.itertuples():\n",
    "        d[row[1]].add(row[2])\n",
    "    return {k: v for k, v in d.items()}\n",
    "    ###\n"
   ]
  },
  {
   "cell_type": "markdown",
   "metadata": {
    "deletable": false,
    "editable": false,
    "nbgrader": {
     "grade": false,
     "locked": true,
     "solution": false
    },
    "tags": [
     "demo_output_md_ex5"
    ]
   },
   "source": [
    "<!-- Expected demo output text block -->\n",
    "The demo cell below should display the following output:\n",
    "```\n",
    "{'Kian Lawley': {'Medalion Rahimi'},\n",
    " 'Maria Dizzia': {'Wendell Pierce'},\n",
    " 'Chosen Jacobs': {'Sophia Lillis'},\n",
    " 'David Ogden Stiers': {'Jesse Corti'},\n",
    " 'Jason Clarke': {'Kate Mara'},\n",
    " 'Reese Witherspoon': {'Sarah Paulson'},\n",
    " 'Olivia Munn': {'Zach Woods'},\n",
    " 'Faye Dunaway': {'Lucien Laviscount'},\n",
    " 'Alec Baldwin': {'Rebecca Ferguson'},\n",
    " 'Pierce Brosnan': {'Steve Coogan'},\n",
    " 'Dakota Johnson': {'Rhys Ifans'},\n",
    " 'Bokeem Woodbine': {'Flea'},\n",
    " 'Nicolas Cage': {'Robert Sheehan'},\n",
    " 'Bruce Dern': {'Kerry Washington'},\n",
    " 'Richard Jenkins': {'Sam Shepard'},\n",
    " 'Jessica Madsen': {'Vanessa Grasse'},\n",
    " 'Jason White': {'Kristen Wiig'},\n",
    " 'Robert Davi': {'Stephen Dorff'},\n",
    " 'Maggie Gyllenhaal': {'Marianne Jean-Baptiste'},\n",
    " 'Katherine Langford': {'Keiynan Lonsdale'},\n",
    " \"Denis O'Hare\": {'Judi Dench'},\n",
    " 'Katherine Heigl': {'Michelle Pfeiffer', 'Simon Kassianides'},\n",
    " 'Craig Robinson': {'Emma Watson'},\n",
    " 'Colton Dunn': {'Nichole Bloom'},\n",
    " 'Daniel Sunjata': {'Jennifer Carpenter'},\n",
    " 'Aly Michalka': {'Cheri Oteri'},\n",
    " 'John Lithgow': {'Mark Duplass'},\n",
    " 'Ewan McGregor': {'Julianne Nicholson'},\n",
    " 'Chris Pine': {'Kathryn Hahn'},\n",
    " 'David Warner': {'Jonathan Hyde'}}\n",
    "```"
   ]
  },
  {
   "cell_type": "code",
   "execution_count": 21,
   "metadata": {
    "collapsed": true,
    "deletable": false,
    "editable": false,
    "nbgrader": {
     "grade": false,
     "locked": true,
     "solution": false
    },
    "tags": [
     "demo_inputs_ex5"
    ]
   },
   "outputs": [],
   "source": [
    "### define demo inputs\n",
    "import pickle\n",
    "with open('resource/asnlib/publicdata/movie_data.pkl', 'rb') as f:\n",
    "    movie_data = pickle.load(f)\n",
    "demo_df_ex5 = movie_data.sample(300, random_state=6040)"
   ]
  },
  {
   "cell_type": "code",
   "execution_count": 22,
   "metadata": {
    "deletable": false,
    "editable": false,
    "nbgrader": {
     "grade": false,
     "locked": true,
     "solution": false
    },
    "tags": [
     "demo_run_ex5"
    ]
   },
   "outputs": [
    {
     "data": {
      "text/plain": [
       "{'Kian Lawley': {'Medalion Rahimi'},\n",
       " 'Maria Dizzia': {'Wendell Pierce'},\n",
       " 'Chosen Jacobs': {'Sophia Lillis'},\n",
       " 'David Ogden Stiers': {'Jesse Corti'},\n",
       " 'Jason Clarke': {'Kate Mara'},\n",
       " 'Reese Witherspoon': {'Sarah Paulson'},\n",
       " 'Olivia Munn': {'Zach Woods'},\n",
       " 'Faye Dunaway': {'Lucien Laviscount'},\n",
       " 'Alec Baldwin': {'Rebecca Ferguson'},\n",
       " 'Pierce Brosnan': {'Steve Coogan'},\n",
       " 'Dakota Johnson': {'Rhys Ifans'},\n",
       " 'Bokeem Woodbine': {'Flea'},\n",
       " 'Nicolas Cage': {'Robert Sheehan'},\n",
       " 'Bruce Dern': {'Kerry Washington'},\n",
       " 'Richard Jenkins': {'Sam Shepard'},\n",
       " 'Jessica Madsen': {'Vanessa Grasse'},\n",
       " 'Jason White': {'Kristen Wiig'},\n",
       " 'Robert Davi': {'Stephen Dorff'},\n",
       " 'Maggie Gyllenhaal': {'Marianne Jean-Baptiste'},\n",
       " 'Katherine Langford': {'Keiynan Lonsdale'},\n",
       " \"Denis O'Hare\": {'Judi Dench'},\n",
       " 'Katherine Heigl': {'Michelle Pfeiffer', 'Simon Kassianides'},\n",
       " 'Craig Robinson': {'Emma Watson'},\n",
       " 'Colton Dunn': {'Nichole Bloom'},\n",
       " 'Daniel Sunjata': {'Jennifer Carpenter'},\n",
       " 'Aly Michalka': {'Cheri Oteri'},\n",
       " 'John Lithgow': {'Mark Duplass'},\n",
       " 'Ewan McGregor': {'Julianne Nicholson'},\n",
       " 'Chris Pine': {'Kathryn Hahn'},\n",
       " 'David Warner': {'Jonathan Hyde'}}"
      ]
     },
     "execution_count": 22,
     "metadata": {},
     "output_type": "execute_result"
    }
   ],
   "source": [
    "### call demo funtion\n",
    "make_network_dict(demo_df_ex5)"
   ]
  },
  {
   "cell_type": "markdown",
   "metadata": {
    "deletable": false,
    "editable": false,
    "nbgrader": {
     "grade": false,
     "locked": true,
     "solution": false
    }
   },
   "source": [
    "<!-- Test Cell Boilerplate -->\n",
    "The cell below will test your solution for Exercise 5. The testing variables will be available for debugging under the following names in a dictionary format.\n",
    "- `input_vars` - Input variables for your solution. \n",
    "- `original_input_vars` - Copy of input variables from prior to running your solution. These _should_ be the same as `input_vars` - otherwise the inputs were modified by your solution.\n",
    "- `returned_output_vars` - Outputs returned by your solution.\n",
    "- `true_output_vars` - The expected output. This _should_ \"match\" `returned_output_vars` based on the question requirements - otherwise, your solution is not returning the correct output. "
   ]
  },
  {
   "cell_type": "code",
   "execution_count": 23,
   "metadata": {
    "deletable": false,
    "editable": false,
    "nbgrader": {
     "grade": true,
     "grade_id": "ex5",
     "locked": true,
     "points": "4",
     "solution": false
    }
   },
   "outputs": [
    {
     "name": "stdout",
     "output_type": "stream",
     "text": [
      "initializing tester_fw.tester_6040\n",
      "Passed! Please submit.\n"
     ]
    }
   ],
   "source": [
    "### test_cell_ex5\n",
    "\n",
    "###\n",
    "### AUTOGRADER TEST - DO NOT REMOVE\n",
    "###\n",
    "\n",
    "from tester_fw.testers import Tester_ex5\n",
    "tester = Tester_ex5()\n",
    "for _ in range(20):\n",
    "    try:\n",
    "        tester.run_test(make_network_dict)\n",
    "        (input_vars, original_input_vars, returned_output_vars, true_output_vars) = tester.get_test_vars()\n",
    "    except:\n",
    "        (input_vars, original_input_vars, returned_output_vars, true_output_vars) = tester.get_test_vars()\n",
    "        raise\n",
    "\n",
    "###\n",
    "### AUTOGRADER TEST - DO NOT REMOVE\n",
    "###\n",
    "print('Passed! Please submit.')"
   ]
  },
  {
   "cell_type": "markdown",
   "metadata": {
    "deletable": false,
    "editable": false,
    "nbgrader": {
     "grade": false,
     "locked": true,
     "solution": false
    }
   },
   "source": [
    "## Exercise 6 (1 Points): "
   ]
  },
  {
   "cell_type": "markdown",
   "metadata": {
    "deletable": false,
    "editable": false,
    "nbgrader": {
     "grade": false,
     "locked": true,
     "solution": false
    },
    "tags": [
     "exercise_text_ex6"
    ]
   },
   "source": [
    "Now that we have our dictionary which maps actor names to a `set` of that actor's costars, we are going to use the `networkx` package to perform some graph analysis. The `networkx` framework is based on the `Graph` object - a `Graph` holds data about the graph structure, which is made of `nodes` and `edges` among other attributes. Your task for this exercise will be to add edges to a `networkx.Graph` object based on a `dict` of `sets`.\n",
    "\n",
    "Complete the function `to_nx(dos)`. Your solution should iterate through the parameter `dos`, a `dict` which maps actors to a `set` of their costars. For each costar pair implied by the input, add an edge to the `Graph` object, `g`. We have provided some \"wrapper\" code to take care of constructing a `Graph` object, `g`, and returning it. All you have to do is add edges to it.\n",
    "\n",
    "**Note:** Check the `networkx` documentation to find how to add edges to a graph. Part of what this exercise is evaluating is your ability to find, read, and understand information on new packages well enough to get started performing its basic tasks. The information is easy to find and straight-forward in this case."
   ]
  },
  {
   "cell_type": "code",
   "execution_count": 24,
   "metadata": {
    "collapsed": true,
    "tags": [
     "exercise_solution_ex6"
    ]
   },
   "outputs": [],
   "source": [
    "import networkx as nx\n",
    "def to_nx(dos):\n",
    "    g = nx.Graph()\n",
    "    ### BEGIN SOLUTION\n",
    "    for actor_x, costars in dos.items():\n",
    "        for actor_y in costars:\n",
    "            g.add_edge(actor_x, actor_y)\n",
    "    ### END SOLUTION\n",
    "    return g"
   ]
  },
  {
   "cell_type": "markdown",
   "metadata": {
    "deletable": false,
    "editable": false,
    "nbgrader": {
     "grade": false,
     "locked": true,
     "solution": false
    },
    "tags": [
     "demo_output_md_ex6"
    ]
   },
   "source": [
    "<!-- Expected demo output text block -->\n",
    "The demo cell below should display the following output:\n",
    "```\n",
    "{('Aaron Eckhart', 'Bill Nighy'),\n",
    " ('Aaron Eckhart', 'Cory Hardrict'),\n",
    " ('Aaron Eckhart', 'Nicole Kidman'),\n",
    " ('Aaron Eckhart', 'Ramón Rodríguez'),\n",
    " ('Akie Kotabe', 'Salma Hayek'),\n",
    " ('Akie Kotabe', 'Togo Igawa'),\n",
    " ('Akiva Schaffer', 'Cheri Oteri'),\n",
    " ('Akiva Schaffer', 'Jon Lovitz'),\n",
    " ('Akiva Schaffer', 'Nick Swardson'),\n",
    " ('Akiva Schaffer', \"Shaquille O'Neal\"),\n",
    " ('Alan Tudyk', 'Gal Gadot'),\n",
    " ('Alan Tudyk', 'Jennifer Lopez'),\n",
    " ('Alan Tudyk', 'John Leguizamo'),\n",
    " ('Alan Tudyk', 'Nicki Minaj'),\n",
    " ('Albert Tsai', 'Chloe Bennet'),\n",
    " ('Albert Tsai', 'Eddie Izzard'),\n",
    " ('Albert Tsai', 'Sarah Paulson'),\n",
    " ('Albert Tsai', 'Tenzing Norgay Trainor'),\n",
    " ('Chris Marquette', 'Alice Braga'),\n",
    " ('Chris Marquette', 'Ciarán Hinds'),\n",
    " ('Chris Marquette', 'Michael Sheen'),\n",
    " ('Chris Marquette', 'Rutger Hauer'),\n",
    " ('Chris Marquette', 'Stana Katic'),\n",
    " ('David Cross', 'Alison Brie'),\n",
    " ('David Cross', 'Gary Oldman'),\n",
    " ('David Cross', 'Jason Lee'),\n",
    " ('David Cross', 'Jesse Plemons'),\n",
    " ('David Cross', 'Michelle Yeoh'),\n",
    " ('Jeffrey Johnson', 'Bailee Madison'),\n",
    " ('Jeffrey Johnson', 'Ralph Waite'),\n",
    " ('Jeffrey Johnson', 'Robyn Lively'),\n",
    " ('Jeffrey Johnson', 'Tanner Maguire'),\n",
    " ('Jennifer Sipes', 'Christy Carlson Romano'),\n",
    " ('Jennifer Sipes', 'Nick Stahl'),\n",
    " ('Jennifer Sipes', 'Stephanie Honoré'),\n",
    " ('Jesse Bernstein', 'Johnny Sneed'),\n",
    " ('Megan Mullally', 'Aaron Paul'),\n",
    " ('Megan Mullally', 'Natalie Dreyfuss'),\n",
    " ('Megan Mullally', 'Octavia Spencer'),\n",
    " ('Megan Mullally', 'Richmond Arquette'),\n",
    " ('Mia Kirshner', 'Allie MacDonald'),\n",
    " ('Payman Maadi', 'Adria Arjona'),\n",
    " ('Payman Maadi', 'Ben Hardy'),\n",
    " ('Payman Maadi', 'Dave Franco'),\n",
    " ('Sophie Lowe', \"James D'Arcy\"),\n",
    " ('Sophie Lowe', 'Rhys Wakefield'),\n",
    " ('Zoe Saldana', 'Andrea Libman'),\n",
    " ('Zoe Saldana', 'Casey Affleck'),\n",
    " ('Zoe Saldana', 'Idris Elba'),\n",
    " ('Zoe Saldana', 'Method Man'),\n",
    " ('Zoe Saldana', 'Sylvester Stallone')}\n",
    "```"
   ]
  },
  {
   "cell_type": "code",
   "execution_count": 25,
   "metadata": {
    "collapsed": true,
    "deletable": false,
    "editable": false,
    "nbgrader": {
     "grade": false,
     "locked": true,
     "solution": false
    },
    "tags": [
     "demo_inputs_ex6"
    ]
   },
   "outputs": [],
   "source": [
    "### define demo inputs\n",
    "import pickle\n",
    "import numpy as np\n",
    "rng = np.random.default_rng(6040)\n",
    "with open('resource/asnlib/publicdata/network_dict.pkl', 'rb') as f:\n",
    "    network_dict = pickle.load(f)\n",
    "demo_dos_ex6 = {k: {v for v in rng.choice(network_dict[k], 5)} for k in rng.choice(list(network_dict.keys()), 15)}\n"
   ]
  },
  {
   "cell_type": "code",
   "execution_count": 26,
   "metadata": {
    "deletable": false,
    "editable": false,
    "nbgrader": {
     "grade": false,
     "locked": true,
     "solution": false
    },
    "tags": [
     "demo_run_ex6"
    ]
   },
   "outputs": [
    {
     "data": {
      "text/plain": [
       "{('Aaron Eckhart', 'Bill Nighy'),\n",
       " ('Aaron Eckhart', 'Cory Hardrict'),\n",
       " ('Aaron Eckhart', 'Nicole Kidman'),\n",
       " ('Aaron Eckhart', 'Ramón Rodríguez'),\n",
       " ('Akie Kotabe', 'Salma Hayek'),\n",
       " ('Akie Kotabe', 'Togo Igawa'),\n",
       " ('Akiva Schaffer', 'Cheri Oteri'),\n",
       " ('Akiva Schaffer', 'Jon Lovitz'),\n",
       " ('Akiva Schaffer', 'Nick Swardson'),\n",
       " ('Akiva Schaffer', \"Shaquille O'Neal\"),\n",
       " ('Alan Tudyk', 'Gal Gadot'),\n",
       " ('Alan Tudyk', 'Jennifer Lopez'),\n",
       " ('Alan Tudyk', 'John Leguizamo'),\n",
       " ('Alan Tudyk', 'Nicki Minaj'),\n",
       " ('Albert Tsai', 'Chloe Bennet'),\n",
       " ('Albert Tsai', 'Eddie Izzard'),\n",
       " ('Albert Tsai', 'Sarah Paulson'),\n",
       " ('Albert Tsai', 'Tenzing Norgay Trainor'),\n",
       " ('Chris Marquette', 'Alice Braga'),\n",
       " ('Chris Marquette', 'Ciarán Hinds'),\n",
       " ('Chris Marquette', 'Michael Sheen'),\n",
       " ('Chris Marquette', 'Rutger Hauer'),\n",
       " ('Chris Marquette', 'Stana Katic'),\n",
       " ('David Cross', 'Alison Brie'),\n",
       " ('David Cross', 'Gary Oldman'),\n",
       " ('David Cross', 'Jason Lee'),\n",
       " ('David Cross', 'Jesse Plemons'),\n",
       " ('David Cross', 'Michelle Yeoh'),\n",
       " ('Jeffrey Johnson', 'Bailee Madison'),\n",
       " ('Jeffrey Johnson', 'Ralph Waite'),\n",
       " ('Jeffrey Johnson', 'Robyn Lively'),\n",
       " ('Jeffrey Johnson', 'Tanner Maguire'),\n",
       " ('Jennifer Sipes', 'Christy Carlson Romano'),\n",
       " ('Jennifer Sipes', 'Nick Stahl'),\n",
       " ('Jennifer Sipes', 'Stephanie Honoré'),\n",
       " ('Jesse Bernstein', 'Johnny Sneed'),\n",
       " ('Megan Mullally', 'Aaron Paul'),\n",
       " ('Megan Mullally', 'Natalie Dreyfuss'),\n",
       " ('Megan Mullally', 'Octavia Spencer'),\n",
       " ('Megan Mullally', 'Richmond Arquette'),\n",
       " ('Mia Kirshner', 'Allie MacDonald'),\n",
       " ('Payman Maadi', 'Adria Arjona'),\n",
       " ('Payman Maadi', 'Ben Hardy'),\n",
       " ('Payman Maadi', 'Dave Franco'),\n",
       " ('Sophie Lowe', \"James D'Arcy\"),\n",
       " ('Sophie Lowe', 'Rhys Wakefield'),\n",
       " ('Zoe Saldana', 'Andrea Libman'),\n",
       " ('Zoe Saldana', 'Casey Affleck'),\n",
       " ('Zoe Saldana', 'Idris Elba'),\n",
       " ('Zoe Saldana', 'Method Man'),\n",
       " ('Zoe Saldana', 'Sylvester Stallone')}"
      ]
     },
     "execution_count": 26,
     "metadata": {},
     "output_type": "execute_result"
    }
   ],
   "source": [
    "### call demo funtion\n",
    "set(to_nx(demo_dos_ex6).edges)"
   ]
  },
  {
   "cell_type": "markdown",
   "metadata": {
    "deletable": false,
    "editable": false,
    "nbgrader": {
     "grade": false,
     "locked": true,
     "solution": false
    }
   },
   "source": [
    "<!-- Test Cell Boilerplate -->\n",
    "The cell below will test your solution for Exercise 6. The testing variables will be available for debugging under the following names in a dictionary format.\n",
    "- `input_vars` - Input variables for your solution. \n",
    "- `original_input_vars` - Copy of input variables from prior to running your solution. These _should_ be the same as `input_vars` - otherwise the inputs were modified by your solution.\n",
    "- `returned_output_vars` - Outputs returned by your solution.\n",
    "- `true_output_vars` - The expected output. This _should_ \"match\" `returned_output_vars` based on the question requirements - otherwise, your solution is not returning the correct output. "
   ]
  },
  {
   "cell_type": "code",
   "execution_count": 27,
   "metadata": {
    "deletable": false,
    "editable": false,
    "nbgrader": {
     "grade": true,
     "grade_id": "ex6",
     "locked": true,
     "points": "1",
     "solution": false
    }
   },
   "outputs": [
    {
     "name": "stdout",
     "output_type": "stream",
     "text": [
      "initializing tester_fw.tester_6040\n",
      "Passed! Please submit.\n"
     ]
    }
   ],
   "source": [
    "### test_cell_ex6\n",
    "\n",
    "###\n",
    "### AUTOGRADER TEST - DO NOT REMOVE\n",
    "###\n",
    "\n",
    "from tester_fw.testers import Tester_ex6\n",
    "tester = Tester_ex6()\n",
    "for _ in range(20):\n",
    "    try:\n",
    "        tester.run_test(to_nx)\n",
    "        (input_vars, original_input_vars, returned_output_vars, true_output_vars) = tester.get_test_vars()\n",
    "    except:\n",
    "        (input_vars, original_input_vars, returned_output_vars, true_output_vars) = tester.get_test_vars()\n",
    "        raise\n",
    "\n",
    "###\n",
    "### AUTOGRADER TEST - DO NOT REMOVE\n",
    "###\n",
    "print('Passed! Please submit.')"
   ]
  },
  {
   "cell_type": "markdown",
   "metadata": {
    "deletable": false,
    "editable": false,
    "nbgrader": {
     "grade": false,
     "locked": true,
     "solution": false
    }
   },
   "source": [
    "## Exercise 7 (2 Points): "
   ]
  },
  {
   "cell_type": "markdown",
   "metadata": {
    "deletable": false,
    "editable": false,
    "nbgrader": {
     "grade": false,
     "locked": true,
     "solution": false
    },
    "tags": [
     "exercise_text_ex7"
    ]
   },
   "source": [
    "One thing that the `networkx` package makes relatively easy is calculating the _degree_ of each of the nodes in our graph. Here degree would be interpreted as the number of unique costars each actor has. If you have a graph `g` then `g.degree()` will return an object that maps each node to its degree (see note). \n",
    "\n",
    "Complete the function `high_degree_actors(g, n)`:\n",
    "Given the inputs described below, determine the degree of each actor in the graph, `g`. Return a `pd.DataFrame` with 2 columns (`'actor'` and `'degree'`), indicating an actor's name and degree. The output should have records for only the actors with the `n` highest degrees. In the case of ties (two or more actors having the same degree), all of the actors with the lowest included degree should be included. (for example if there's a 3-way tie for 10th place and `n`=10 then all 3 of the actors involved in the tie should be included in the output). If `n` is `None`, all of the actors should be included.\n",
    "\n",
    "Sort your results by degree (descending order) and break ties (multiple actors w/ same degree) by sorting them in alphabetical order based on the actor's name.\n",
    "\n",
    "\n",
    "The index of the result should be sequential numbers, starting with 0.\n",
    "\n",
    "\n",
    "- input `g` - a `networkx` graph object having actor names as nodes and edges indicating whether the actors were costars based on our data. \n",
    "- input `n` - `int` indicating how many actors to return. This argument is optional for the user and has a default value of `None`. \n",
    "\n",
    "**Note:** One complication is that `g.degree()` isn't a `dict`. Keep in mind that it _can_ be _cast_ to a `dict`."
   ]
  },
  {
   "cell_type": "code",
   "execution_count": 28,
   "metadata": {
    "collapsed": true,
    "tags": [
     "exercise_solution_ex7"
    ]
   },
   "outputs": [],
   "source": [
    "def high_degree_actors(g, n=None):\n",
    "    ### BEGIN SOLUTION\n",
    "    import pandas as pd\n",
    "    actor_df = pd.DataFrame(dict(g.degree()).items(), columns=['actor', 'degree'])\n",
    "    if n is None:\n",
    "        n = actor_df.shape[0]\n",
    "    return actor_df.nlargest(n, 'degree', 'all').sort_values(['degree', 'actor'], ascending=[False, True]).reset_index(drop=True)"
   ]
  },
  {
   "cell_type": "markdown",
   "metadata": {
    "deletable": false,
    "editable": false,
    "nbgrader": {
     "grade": false,
     "locked": true,
     "solution": false
    },
    "tags": [
     "demo_output_md_ex7"
    ]
   },
   "source": [
    "<!-- Expected demo output text block -->\n",
    "The demo cell below should display the following output:\n",
    "```\n",
    "             actor  degree\n",
    "0  Elizabeth Banks       9\n",
    "1       Emma Stone       9\n",
    "2   Bradley Cooper       8\n",
    "3   Anthony Mackie       7\n",
    "4     Michael Peña       7\n",
    "5     Maya Rudolph       6\n",
    "6  Richard Jenkins       6\n",
    "7    Stanley Tucci       6\n",
    "8     Steve Carell       6\n",
    "```\n",
    "\n",
    "Notice how 9 actors are included even though `n = 7`."
   ]
  },
  {
   "cell_type": "code",
   "execution_count": 29,
   "metadata": {
    "collapsed": true,
    "deletable": false,
    "editable": false,
    "nbgrader": {
     "grade": false,
     "locked": true,
     "solution": false
    },
    "tags": [
     "demo_inputs_ex7"
    ]
   },
   "outputs": [],
   "source": [
    "### define demo inputs\n",
    "import pickle\n",
    "with open('resource/asnlib/publicdata/movie_network.pkl', 'rb') as f:\n",
    "    movie_network = pickle.load(f)\n",
    "demo_g_ex7 = movie_network.subgraph({a for a, _ in sorted(movie_network.degree, key=lambda t:-t[1])[:20]})\n",
    "demo_n_ex7 = 7"
   ]
  },
  {
   "cell_type": "code",
   "execution_count": 30,
   "metadata": {
    "deletable": false,
    "editable": false,
    "nbgrader": {
     "grade": false,
     "locked": true,
     "solution": false
    },
    "tags": [
     "demo_run_ex7"
    ]
   },
   "outputs": [
    {
     "name": "stdout",
     "output_type": "stream",
     "text": [
      "             actor  degree\n",
      "0  Elizabeth Banks       9\n",
      "1       Emma Stone       9\n",
      "2   Bradley Cooper       8\n",
      "3   Anthony Mackie       7\n",
      "4     Michael Peña       7\n",
      "5     Maya Rudolph       6\n",
      "6  Richard Jenkins       6\n",
      "7    Stanley Tucci       6\n",
      "8     Steve Carell       6\n"
     ]
    }
   ],
   "source": [
    "### call demo funtion\n",
    "print(high_degree_actors(demo_g_ex7, demo_n_ex7))"
   ]
  },
  {
   "cell_type": "markdown",
   "metadata": {
    "deletable": false,
    "editable": false,
    "nbgrader": {
     "grade": false,
     "locked": true,
     "solution": false
    }
   },
   "source": [
    "<!-- Test Cell Boilerplate -->\n",
    "The cell below will test your solution for Exercise 7. The testing variables will be available for debugging under the following names in a dictionary format.\n",
    "- `input_vars` - Input variables for your solution. \n",
    "- `original_input_vars` - Copy of input variables from prior to running your solution. These _should_ be the same as `input_vars` - otherwise the inputs were modified by your solution.\n",
    "- `returned_output_vars` - Outputs returned by your solution.\n",
    "- `true_output_vars` - The expected output. This _should_ \"match\" `returned_output_vars` based on the question requirements - otherwise, your solution is not returning the correct output. "
   ]
  },
  {
   "cell_type": "code",
   "execution_count": 31,
   "metadata": {
    "deletable": false,
    "editable": false,
    "nbgrader": {
     "grade": true,
     "grade_id": "ex7",
     "locked": true,
     "points": "2",
     "solution": false
    }
   },
   "outputs": [
    {
     "name": "stdout",
     "output_type": "stream",
     "text": [
      "initializing tester_fw.tester_6040\n",
      "Passed! Please submit.\n"
     ]
    }
   ],
   "source": [
    "### test_cell_ex7\n",
    "\n",
    "###\n",
    "### AUTOGRADER TEST - DO NOT REMOVE\n",
    "###\n",
    "\n",
    "\n",
    "from tester_fw.testers import Tester_ex7\n",
    "tester = Tester_ex7()\n",
    "for _ in range(20):\n",
    "    try:\n",
    "        tester.run_test(high_degree_actors)\n",
    "        (input_vars, original_input_vars, returned_output_vars, true_output_vars) = tester.get_test_vars()\n",
    "    except:\n",
    "        (input_vars, original_input_vars, returned_output_vars, true_output_vars) = tester.get_test_vars()\n",
    "        raise\n",
    "\n",
    "###\n",
    "### AUTOGRADER TEST - DO NOT REMOVE\n",
    "###\n",
    "print('Passed! Please submit.')"
   ]
  },
  {
   "cell_type": "markdown",
   "metadata": {
    "deletable": false,
    "editable": false,
    "nbgrader": {
     "grade": false,
     "locked": true,
     "solution": false
    }
   },
   "source": [
    "## Exercise 8 (3 Points): "
   ]
  },
  {
   "cell_type": "markdown",
   "metadata": {
    "deletable": false,
    "editable": false,
    "nbgrader": {
     "grade": false,
     "locked": true,
     "solution": false
    },
    "tags": [
     "exercise_text_ex8"
    ]
   },
   "source": [
    "Another place where `networkx` shines is in its built-in graph algorithms, like community detection. We have calculated the communities using `networkx` (check the docs for info on how to do this yourself) and have the `communities` variable set to a `list` of `sets` (you can iterate over `communities` like a list, and each set is the names of all the actors in one community). \n",
    "\n",
    "Given \n",
    "- `communities` - a `list` containing `sets` indicating membership to a particular community. The communities are a partition of the actors, so you can safely assume that an actor will only appear in one of these sets.\n",
    "- `degrees` - A `pd.DataFrame` with columns `'actor'` and `'degree'` indicating the degree of each actor in the DataFrame\n",
    "- `actor` - an actor's name\n",
    "\n",
    "Complete the function `notable_actors_in_comm`. Your solution should accomplish the following:\n",
    "\n",
    "1. Determine which community the given actor belongs to. \n",
    "2. Return a `pd.DataFrame` with two columns ('actor' and 'degree') including the top 10 actors in the same community as the given actor. \n",
    "  - We must handle cases where there are fewer than 10 actors in a community. In such cases, all actors in the community should be included in the result without raising an error.\n",
    "3. Output should be sorted in descending order of degree with ties (two or more actors with same degree) broken by sorting alphabetically by actor name.\n",
    "4. Include only actors with degree >= the 10th highest degree. This may mean that there are more than 10 actors in the result.\n",
    "5. The index of the result should be sequential numbers, starting with 0."
   ]
  },
  {
   "cell_type": "code",
   "execution_count": 32,
   "metadata": {
    "collapsed": true,
    "tags": [
     "exercise_solution_ex8"
    ]
   },
   "outputs": [],
   "source": [
    "def notable_actors_in_comm(communities, degrees, actor):\n",
    "    assert actor in {a for c in communities for a in c}, 'The given actor was not found in any of the communities!'\n",
    "    ###\n",
    "    degrees = degrees\n",
    "    for c in communities:\n",
    "        if actor in c: break\n",
    "    degrees = degrees[degrees['actor'].isin(c)].nlargest(10, 'degree', 'all').reset_index(drop=True)\n",
    "    return degrees\n",
    "    ###\n"
   ]
  },
  {
   "cell_type": "markdown",
   "metadata": {
    "deletable": false,
    "editable": false,
    "nbgrader": {
     "grade": false,
     "locked": true,
     "solution": false
    },
    "tags": [
     "demo_output_md_ex8"
    ]
   },
   "source": [
    "<!-- Expected demo output text block -->\n",
    "The demo cell below should display the following output:\n",
    "```\n",
    "              actor  degree\n",
    "0    Bryan Cranston     135\n",
    "1    Anthony Mackie     116\n",
    "2       Johnny Depp     115\n",
    "3        Idris Elba     112\n",
    "4     Joel Edgerton     109\n",
    "5      James Franco     107\n",
    "6  Jessica Chastain     107\n",
    "7     Jeremy Renner     105\n",
    "8   Chris Hemsworth     104\n",
    "9       Zoe Saldana     104\n",
    "```"
   ]
  },
  {
   "cell_type": "code",
   "execution_count": 33,
   "metadata": {
    "collapsed": true,
    "deletable": false,
    "editable": false,
    "nbgrader": {
     "grade": false,
     "locked": true,
     "solution": false
    },
    "tags": [
     "demo_inputs_ex8"
    ]
   },
   "outputs": [],
   "source": [
    "### define demo inputs\n",
    "import pickle\n",
    "path = 'resource/asnlib/publicdata/communities.pkl'\n",
    "with open(path, 'rb') as f:\n",
    "    communities = pickle.load(f)\n",
    "path = 'resource/asnlib/publicdata/degrees.pkl'\n",
    "with open(path, 'rb') as f:\n",
    "    degrees = pickle.load(f)\n",
    "demo_actor_ex8 = 'Christian Bale'"
   ]
  },
  {
   "cell_type": "code",
   "execution_count": 34,
   "metadata": {
    "deletable": false,
    "editable": false,
    "nbgrader": {
     "grade": false,
     "locked": true,
     "solution": false
    },
    "tags": [
     "demo_run_ex8"
    ]
   },
   "outputs": [
    {
     "name": "stdout",
     "output_type": "stream",
     "text": [
      "              actor  degree\n",
      "0    Bryan Cranston     135\n",
      "1    Anthony Mackie     116\n",
      "2       Johnny Depp     115\n",
      "3        Idris Elba     112\n",
      "4     Joel Edgerton     109\n",
      "5      James Franco     107\n",
      "6  Jessica Chastain     107\n",
      "7     Jeremy Renner     105\n",
      "8   Chris Hemsworth     104\n",
      "9       Zoe Saldana     104\n"
     ]
    }
   ],
   "source": [
    "### call demo funtion\n",
    "print(notable_actors_in_comm(communities, degrees, demo_actor_ex8))"
   ]
  },
  {
   "cell_type": "markdown",
   "metadata": {
    "deletable": false,
    "editable": false,
    "nbgrader": {
     "grade": false,
     "locked": true,
     "solution": false
    }
   },
   "source": [
    "<!-- Test Cell Boilerplate -->\n",
    "The cell below will test your solution for Exercise 8. The testing variables will be available for debugging under the following names in a dictionary format.\n",
    "- `input_vars` - Input variables for your solution. \n",
    "- `original_input_vars` - Copy of input variables from prior to running your solution. These _should_ be the same as `input_vars` - otherwise the inputs were modified by your solution.\n",
    "- `returned_output_vars` - Outputs returned by your solution.\n",
    "- `true_output_vars` - The expected output. This _should_ \"match\" `returned_output_vars` based on the question requirements - otherwise, your solution is not returning the correct output. "
   ]
  },
  {
   "cell_type": "code",
   "execution_count": 35,
   "metadata": {
    "deletable": false,
    "editable": false,
    "nbgrader": {
     "grade": true,
     "grade_id": "ex8",
     "locked": true,
     "points": "3",
     "solution": false
    }
   },
   "outputs": [
    {
     "name": "stdout",
     "output_type": "stream",
     "text": [
      "initializing tester_fw.tester_6040\n",
      "Passed! Please submit.\n"
     ]
    }
   ],
   "source": [
    "### test_cell_ex8\n",
    "\n",
    "###\n",
    "### AUTOGRADER TEST - DO NOT REMOVE\n",
    "###\n",
    "\n",
    "from tester_fw.testers import Tester_ex8\n",
    "tester = Tester_ex8()\n",
    "for _ in range(20):\n",
    "    try:\n",
    "        tester.run_test(notable_actors_in_comm)\n",
    "        (input_vars, original_input_vars, returned_output_vars, true_output_vars) = tester.get_test_vars()\n",
    "    except:\n",
    "        (input_vars, original_input_vars, returned_output_vars, true_output_vars) = tester.get_test_vars()\n",
    "        raise\n",
    "\n",
    "###\n",
    "### AUTOGRADER TEST - DO NOT REMOVE\n",
    "###\n",
    "print('Passed! Please submit.')"
   ]
  },
  {
   "cell_type": "markdown",
   "metadata": {
    "deletable": false,
    "editable": false,
    "nbgrader": {
     "grade": false,
     "locked": true,
     "solution": false
    }
   },
   "source": [
    "**Fin**. This is the end of the exam. If you haven't already, submit your work."
   ]
  }
 ],
 "metadata": {
  "interpreter": {
   "hash": "f2b38b6e01547e8f771d473ea2b8718fd0728eea782e4c924ed8783f739d4a6c"
  },
  "kernelspec": {
   "display_name": "Python 3.8",
   "language": "python",
   "name": "python38"
  },
  "language_info": {
   "codemirror_mode": {
    "name": "ipython",
    "version": 3
   },
   "file_extension": ".py",
   "mimetype": "text/x-python",
   "name": "python",
   "nbconvert_exporter": "python",
   "pygments_lexer": "ipython3",
   "version": "3.8.7"
  }
 },
 "nbformat": 4,
 "nbformat_minor": 5
}
