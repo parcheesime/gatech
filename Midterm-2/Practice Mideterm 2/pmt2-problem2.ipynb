{
 "cells": [
  {
   "cell_type": "markdown",
   "metadata": {
    "deletable": false,
    "editable": false,
    "nbgrader": {
     "grade": false,
     "grade_id": "cell-4960e9244a6283b9",
     "locked": true,
     "schema_version": 1,
     "solution": false
    }
   },
   "source": [
    "## Problem 2: Numpy\n",
    "\n",
    "This problem consists of Numpy exercises. You are asked to implement a simulator for a system known as [Conway's Game of Life](https://en.wikipedia.org/wiki/Conway%27s_Game_of_Life)."
   ]
  },
  {
   "cell_type": "code",
   "execution_count": 1,
   "metadata": {
    "nbgrader": {
     "grade": false,
     "grade_id": "cell-1ec9de049e476318",
     "locked": false,
     "schema_version": 1,
     "solution": false
    }
   },
   "outputs": [
    {
     "name": "stderr",
     "output_type": "stream",
     "text": [
      "Matplotlib is building the font cache; this may take a moment.\n"
     ]
    }
   ],
   "source": [
    "import numpy as np\n",
    "import pandas as pd\n",
    "\n",
    "from IPython.display import display\n",
    "\n",
    "import matplotlib.pyplot as plt # Core plotting support\n",
    "\n",
    "def show_board(grid, title=None, **args):\n",
    "    plt.matshow(grid, **args)\n",
    "    if title is not None:\n",
    "        plt.title(title)\n",
    "    plt.show()"
   ]
  },
  {
   "cell_type": "markdown",
   "metadata": {
    "deletable": false,
    "editable": false,
    "nbgrader": {
     "grade": false,
     "grade_id": "cell-d635df19316734e3",
     "locked": true,
     "schema_version": 1,
     "solution": false
    }
   },
   "source": [
    "**Important convention.** To pass the test cells, your Numpy array should store *integer* values. The simplest way to convert a Numpy array of any type into one with integers is to use `astype()`. For example, consider the following boolean array, `B`:"
   ]
  },
  {
   "cell_type": "code",
   "execution_count": 2,
   "metadata": {
    "deletable": false,
    "editable": false,
    "nbgrader": {
     "grade": false,
     "grade_id": "cell-71714e177f5df8eb",
     "locked": true,
     "schema_version": 1,
     "solution": false
    }
   },
   "outputs": [
    {
     "data": {
      "text/plain": [
       "array([[False,  True, False],\n",
       "       [False, False,  True],\n",
       "       [ True,  True, False]])"
      ]
     },
     "execution_count": 2,
     "metadata": {},
     "output_type": "execute_result"
    }
   ],
   "source": [
    "B = np.array([[False, True,  False],\n",
    "              [False, False, True],\n",
    "              [True,  True,  False]])\n",
    "B"
   ]
  },
  {
   "cell_type": "markdown",
   "metadata": {
    "deletable": false,
    "editable": false,
    "nbgrader": {
     "grade": false,
     "grade_id": "cell-dad81ac27f89466b",
     "locked": true,
     "schema_version": 1,
     "solution": false
    }
   },
   "source": [
    "To convert it into an array of integers, use `astype()`:"
   ]
  },
  {
   "cell_type": "code",
   "execution_count": 3,
   "metadata": {
    "deletable": false,
    "editable": false,
    "nbgrader": {
     "grade": false,
     "grade_id": "cell-4c23c8a52e61c8a2",
     "locked": true,
     "schema_version": 1,
     "solution": false
    }
   },
   "outputs": [
    {
     "name": "stdout",
     "output_type": "stream",
     "text": [
      "[[0 1 0]\n",
      " [0 0 1]\n",
      " [1 1 0]]\n"
     ]
    }
   ],
   "source": [
    "A = B.astype(int)\n",
    "print(A)"
   ]
  },
  {
   "cell_type": "markdown",
   "metadata": {
    "deletable": false,
    "editable": false,
    "nbgrader": {
     "grade": false,
     "grade_id": "cell-8454e03b8d71901f",
     "locked": true,
     "schema_version": 1,
     "solution": false
    }
   },
   "source": [
    "In this case, the conversion is done using Python's default for booleans to integers (`False` goes to 0, `True` goes to 1)."
   ]
  },
  {
   "cell_type": "markdown",
   "metadata": {
    "deletable": false,
    "editable": false,
    "nbgrader": {
     "grade": false,
     "locked": true,
     "solution": false
    }
   },
   "source": [
    "## Data/test sets\n",
    "\n",
    "Run the following code cell, which will download the missing data or solution files, if any."
   ]
  },
  {
   "cell_type": "code",
   "execution_count": 4,
   "metadata": {
    "deletable": false,
    "editable": false,
    "nbgrader": {
     "grade": false,
     "locked": true,
     "solution": false
    }
   },
   "outputs": [
    {
     "name": "stdout",
     "output_type": "stream",
     "text": [
      "'board_of_life_soln2.csv' is ready!\n",
      "'life.csv' is ready!\n",
      "'step.csv' is ready!\n",
      "\n",
      "(All data appears to be ready.)\n"
     ]
    }
   ],
   "source": [
    "from cse6040utils import download_all\n",
    "\n",
    "datasets = {'board_of_life_soln2.csv': '360fade983415eb884fa6354cfcfd56d',\n",
    "            'life.csv': '93a9bc33328c46e226baabdac6a88321',\n",
    "            'step.csv': 'b959690bbf59fb87ab27178eeccb15b8'}\n",
    "\n",
    "DATA_SUFFIX = \"gol/\"\n",
    "data_paths = download_all(datasets, local_suffix=DATA_SUFFIX, url_suffix=DATA_SUFFIX)\n",
    "\n",
    "print(\"\\n(All data appears to be ready.)\")"
   ]
  },
  {
   "cell_type": "markdown",
   "metadata": {
    "deletable": false,
    "editable": false,
    "nbgrader": {
     "grade": false,
     "grade_id": "cell-8ca47b4cdafd30b8",
     "locked": true,
     "schema_version": 1,
     "solution": false
    }
   },
   "source": [
    "## Background\n",
    "\n",
    "In Conway's Game of Life, you have an $n \\times n$ board (or grid). Let's call this board $B$. Each grid cell of the board, $b_{i,j}$, exists in one of two states: alive or dead.\n",
    "\n",
    "Starting from some initial configuration of living and dead cells, the cells evolve in discrete time steps according to the following rules:\n",
    "\n",
    "- **Rule 0.** If the cell is alive at time $t$ and has exactly two or three neighbors, it will remain alive at time $t+1$.\n",
    "- **Rule 1.** If the cell is alive at time $t$ and has only zero or one living neighbors, it will die from loneliness at time $t+1$.\n",
    "- **Rule 2.** If the cell is alive at time $t$ and has more than three living neighbors, it will die from overcrowding at time $t+1$.\n",
    "- **Rule 3.** If the cell is dead at time $t$ and has exactly three living neighbors, it will come alive at $t+1$.\n",
    "\n",
    "Note that the cell changes happen _simultaneously_. That is, the board at time $t+1$ depends only on the board configuration at time $t$."
   ]
  },
  {
   "cell_type": "markdown",
   "metadata": {
    "deletable": false,
    "editable": false,
    "nbgrader": {
     "grade": false,
     "grade_id": "cell-8469f114c6cfedf3",
     "locked": true,
     "schema_version": 1,
     "solution": false
    }
   },
   "source": [
    "**Example.** Suppose the board is a $3 \\times 3$ grid with the following initial configuration. (\"1\" is alive, \"0\" is dead.)\n",
    "\n",
    "      0   1   2    <-- columns\n",
    "    +---+---+---+\n",
    "    | 0 | 1 | 1 |  row 0\n",
    "    +---+---+---+\n",
    "    | 0 | 1 | 0 |  row 1\n",
    "    +---+---+---+\n",
    "    | 1 | 0 | 0 |  row 2\n",
    "    +---+---+---+\n",
    "    \n",
    "At the next time step, the cell at positions (row 0, column 1) will be alive by Rule 0 because it has two living neighbors: at (0, 2) and (1, 1). Similarly, the cells at (1, 1) and (0, 2) will remain alive. However, the cell at (2, 0) will die from lonelieness by Rule 1. As for the currently dead cells, only (1, 0) and (1, 2) have exactly three neighbors, so by Rule 3 they will be resurrected at the next time step. The other dead cells will stay dead. Thus, the final configuration is as follows:\n",
    "\n",
    "      0   1   2    <-- columns\n",
    "    +---+---+---+\n",
    "    | 0 | 1 | 1 |  row 0\n",
    "    +---+---+---+\n",
    "    | 1 | 1 | 1 |  row 1\n",
    "    +---+---+---+\n",
    "    | 0 | 0 | 0 |  row 2\n",
    "    +---+---+---+\n",
    "    \n",
    "If you were to evolve this new configuration, Rule 2 would come into play since the cell at (1, 1) has four living neighbors, and so it would have to die from overcrowding in the next time step."
   ]
  },
  {
   "cell_type": "markdown",
   "metadata": {
    "deletable": false,
    "editable": false,
    "nbgrader": {
     "grade": false,
     "grade_id": "cell-7b411a12f23e5548",
     "locked": true,
     "schema_version": 1,
     "solution": false
    }
   },
   "source": [
    "# Exercises\n",
    "\n",
    "The initial configuration of live cells are stored in a comma-separated values (CSV) file. Only the coordinates of live cells are stored in this file. Here is what the file looks like, when read in and stored as a Pandas dataframe."
   ]
  },
  {
   "cell_type": "code",
   "execution_count": 5,
   "metadata": {
    "deletable": false,
    "editable": false,
    "nbgrader": {
     "grade": false,
     "grade_id": "cell-cd9b17be2a52d82f",
     "locked": true,
     "schema_version": 1,
     "solution": false
    }
   },
   "outputs": [
    {
     "data": {
      "text/html": [
       "<div>\n",
       "<style scoped>\n",
       "    .dataframe tbody tr th:only-of-type {\n",
       "        vertical-align: middle;\n",
       "    }\n",
       "\n",
       "    .dataframe tbody tr th {\n",
       "        vertical-align: top;\n",
       "    }\n",
       "\n",
       "    .dataframe thead th {\n",
       "        text-align: right;\n",
       "    }\n",
       "</style>\n",
       "<table border=\"1\" class=\"dataframe\">\n",
       "  <thead>\n",
       "    <tr style=\"text-align: right;\">\n",
       "      <th></th>\n",
       "      <th>x</th>\n",
       "      <th>y</th>\n",
       "    </tr>\n",
       "  </thead>\n",
       "  <tbody>\n",
       "    <tr>\n",
       "      <th>0</th>\n",
       "      <td>4</td>\n",
       "      <td>5</td>\n",
       "    </tr>\n",
       "    <tr>\n",
       "      <th>1</th>\n",
       "      <td>4</td>\n",
       "      <td>6</td>\n",
       "    </tr>\n",
       "    <tr>\n",
       "      <th>2</th>\n",
       "      <td>4</td>\n",
       "      <td>7</td>\n",
       "    </tr>\n",
       "    <tr>\n",
       "      <th>3</th>\n",
       "      <td>5</td>\n",
       "      <td>5</td>\n",
       "    </tr>\n",
       "    <tr>\n",
       "      <th>4</th>\n",
       "      <td>6</td>\n",
       "      <td>5</td>\n",
       "    </tr>\n",
       "  </tbody>\n",
       "</table>\n",
       "</div>"
      ],
      "text/plain": [
       "   x  y\n",
       "0  4  5\n",
       "1  4  6\n",
       "2  4  7\n",
       "3  5  5\n",
       "4  6  5"
      ]
     },
     "execution_count": 5,
     "metadata": {},
     "output_type": "execute_result"
    }
   ],
   "source": [
    "board_coords = pd.read_csv(data_paths['life.csv'])\n",
    "board_coords.head()"
   ]
  },
  {
   "cell_type": "markdown",
   "metadata": {
    "deletable": false,
    "editable": false,
    "nbgrader": {
     "grade": false,
     "grade_id": "cell-6999228a3ac90a10",
     "locked": true,
     "schema_version": 1,
     "solution": false
    }
   },
   "source": [
    "**Exercise 0** (2 points). Implement a function to convert a coordinates dataframe, like the one shown above, into a dense 2-D array that represents the grid.\n",
    "\n",
    "The function has the signature,\n",
    "\n",
    "```python\n",
    "    def make_board(coords_df, n):\n",
    "        ...\n",
    "```\n",
    "\n",
    "where `coords_df` is a dataframe with `'x'` and `'y'` columns corresponding to the row and column coordinates of a living cell, and `n` is the dimension of the board (i.e., the board is of size `n`-by-`n`).\n",
    "\n",
    "This function should return an `n`-by-`n` Numpy array of 0 and 1 values, where 1 means \"alive\" and 0 means dead. Per the note above, be sure its entries are of integer type.\n",
    "\n",
    "For example, suppose you call your function on the above dataframe as follows.\n",
    "\n",
    "```python\n",
    "    board = make_board(board_coords)\n",
    "```\n",
    "\n",
    "Then `board` should have `board[4][5] == 1`, `board[4][6] == 1`, `board[4][7] == 1`, `board[5][5] == 1`, etc."
   ]
  },
  {
   "cell_type": "code",
   "execution_count": 6,
   "metadata": {
    "nbgrader": {
     "grade": false,
     "grade_id": "make_board",
     "locked": false,
     "schema_version": 1,
     "solution": true
    }
   },
   "outputs": [
    {
     "name": "stdout",
     "output_type": "stream",
     "text": [
      "Board dimensions: (50, 50)\n",
      "\n",
      "Upper 10x20 corner:\n",
      " [[0. 0. 0. 0. 0. 0. 0. 0. 0. 0. 0. 0. 0. 0. 0. 0. 0. 0. 0. 0.]\n",
      " [0. 0. 0. 0. 0. 0. 0. 0. 0. 0. 0. 0. 0. 0. 0. 0. 0. 0. 0. 0.]\n",
      " [0. 0. 0. 0. 0. 0. 0. 0. 0. 0. 0. 0. 0. 0. 0. 0. 0. 0. 0. 0.]\n",
      " [0. 0. 0. 0. 0. 0. 0. 0. 0. 0. 0. 0. 0. 0. 0. 0. 0. 0. 0. 0.]\n",
      " [0. 0. 0. 0. 0. 1. 1. 1. 0. 1. 1. 1. 0. 1. 0. 1. 0. 1. 1. 1.]\n",
      " [0. 0. 0. 0. 0. 1. 0. 0. 0. 1. 0. 1. 0. 1. 0. 1. 0. 1. 0. 1.]\n",
      " [0. 0. 0. 0. 0. 1. 0. 0. 0. 1. 0. 1. 0. 1. 0. 1. 0. 1. 0. 1.]\n",
      " [0. 0. 0. 0. 0. 1. 1. 1. 0. 1. 0. 1. 0. 1. 1. 1. 0. 1. 0. 1.]\n",
      " [0. 0. 0. 0. 0. 1. 0. 1. 0. 1. 0. 1. 0. 0. 0. 1. 0. 1. 0. 1.]\n",
      " [0. 0. 0. 0. 0. 1. 0. 1. 0. 1. 0. 1. 0. 0. 0. 1. 0. 1. 0. 1.]]\n"
     ]
    }
   ],
   "source": [
    "import numpy as np\n",
    "import pandas as pd\n",
    "from scipy.sparse import coo_matrix\n",
    "\n",
    "def make_board(coords_df, n=50):\n",
    "    ###\n",
    "    dense_array = np.zeros((n,n))\n",
    "    \n",
    "    for index, row in coords_df.iterrows():\n",
    "        x = row['x']\n",
    "        y = row['y']\n",
    "        dense_array[x,y] = 1\n",
    "        \n",
    "    return dense_array\n",
    "    ###\n",
    "\n",
    "board_of_life = make_board(board_coords)\n",
    "print(\"Board dimensions:\", board_of_life.shape)\n",
    "print(\"\\nUpper 10x20 corner:\\n\", board_of_life[:10, :20])"
   ]
  },
  {
   "cell_type": "code",
   "execution_count": 7,
   "metadata": {
    "deletable": false,
    "editable": false,
    "nbgrader": {
     "grade": true,
     "grade_id": "make_board_test",
     "locked": true,
     "points": 2,
     "schema_version": 1,
     "solution": false
    }
   },
   "outputs": [
    {
     "name": "stdout",
     "output_type": "stream",
     "text": [
      "\n",
      "(Passed!)\n"
     ]
    }
   ],
   "source": [
    "# Test cell: `make_board_test`\n",
    "\n",
    "if False:\n",
    "    np.savetxt(\"board_of_life_soln2.csv\", board_of_life, fmt=\"%d\", delimiter=\",\")\n",
    "\n",
    "board_of_life_soln = np.loadtxt(data_paths[\"board_of_life_soln2.csv\"], delimiter=\",\", dtype=int)\n",
    "compare_boards = (board_of_life == board_of_life_soln)\n",
    "mismatches_coords = np.where(compare_boards == False)\n",
    "mismatches_df = pd.DataFrame(np.array([mismatches_coords[0], mismatches_coords[1]]).T, columns=['x', 'y'])\n",
    "if len(mismatches_df) > 0:\n",
    "    display(mismatches_df)\n",
    "    assert False, \"Your solution does not match the instructor solution at these following positions.\"\n",
    "\n",
    "print(\"\\n(Passed!)\") "
   ]
  },
  {
   "cell_type": "markdown",
   "metadata": {
    "deletable": false,
    "editable": false,
    "nbgrader": {
     "grade": false,
     "grade_id": "cell-3fda4bbecd98e2df",
     "locked": true,
     "schema_version": 1,
     "solution": false
    }
   },
   "source": [
    "To aid our debugging, here is a convenience function for displaying the board as a graphic image. Depending on your system, purple or blue cells represent zeros; yellow or red cells represent ones."
   ]
  },
  {
   "cell_type": "code",
   "execution_count": 8,
   "metadata": {
    "deletable": false,
    "editable": false,
    "nbgrader": {
     "grade": false,
     "grade_id": "cell-3a50c51a73719301",
     "locked": true,
     "schema_version": 1,
     "solution": false
    }
   },
   "outputs": [
    {
     "data": {
      "image/png": "[encoded data removed]",
      "text/plain": [
       "<Figure size 288x288 with 1 Axes>"
      ]
     },
     "metadata": {
      "needs_background": "light"
     },
     "output_type": "display_data"
    }
   ],
   "source": [
    "show_board(board_of_life)"
   ]
  },
  {
   "cell_type": "markdown",
   "metadata": {
    "deletable": false,
    "editable": false,
    "nbgrader": {
     "grade": false,
     "grade_id": "cell-6e256a42a4a8b1d7",
     "locked": true,
     "schema_version": 1,
     "solution": false
    }
   },
   "source": [
    "**Exercise 1** (3 points). Implement a function that counts the number of living neighbors for each cell. The function should have the signature,\n",
    "\n",
    "```python\n",
    "    def count_living_neighbors(board):\n",
    "        ...\n",
    "```\n",
    "\n",
    "It should return a new 2-D Numpy array of the same size as `board`. However, this array should contain a count of living neighbors at each position `(i, j)`. For example, suppose the board is the following:\n",
    "\n",
    "      0   1   2    <-- columns\n",
    "    +---+---+---+\n",
    "    | 0 | 1 | 1 |  row 0\n",
    "    +---+---+---+\n",
    "    | 0 | 1 | 0 |  row 1\n",
    "    +---+---+---+\n",
    "    | 1 | 0 | 0 |  row 2\n",
    "    +---+---+---+\n",
    "\n",
    "Then `count_living_neighbors()` should return the following Numpy array:\n",
    "\n",
    "      0   1   2    <-- columns\n",
    "    +---+---+---+\n",
    "    | 2 | 2 | 2 |  row 0\n",
    "    +---+---+---+\n",
    "    | 3 | 3 | 3 |  row 1\n",
    "    +---+---+---+\n",
    "    | 1 | 2 | 1 |  row 2\n",
    "    +---+---+---+\n",
    "    \n",
    "To help you get started, the code below initializes an output board. Your task is to figure out how to update it to count the neighbors of every cell. You may assume the board is square and of size 3 x 3 or larger."
   ]
  },
  {
   "cell_type": "code",
   "execution_count": 9,
   "metadata": {
    "nbgrader": {
     "grade": false,
     "grade_id": "count_living_neighbors",
     "locked": false,
     "schema_version": 1,
     "solution": true
    }
   },
   "outputs": [
    {
     "name": "stdout",
     "output_type": "stream",
     "text": [
      "==> Demo board:\n",
      "[[0 1 1]\n",
      " [0 1 0]\n",
      " [1 0 0]]\n",
      "\n",
      "==> Counts:\n",
      "[[2 2 2]\n",
      " [3 3 3]\n",
      " [1 2 1]]\n"
     ]
    }
   ],
   "source": [
    "def count_living_neighbors(board):\n",
    "    assert board.shape[0] == board.shape[1], \"`board` must be square.\"\n",
    "    assert board.shape[0] >= 3, \"`board` must be at least 3 x 3.\"\n",
    "\n",
    "    # Initialize a count array of the same shape as the board\n",
    "    count = np.zeros(board.shape, dtype=int)\n",
    "\n",
    "    # Define the relative positions of the 8 neighbors\n",
    "    neighbor_positions = [(-1, -1), (-1, 0), (-1, 1),  # Upper row\n",
    "                          (0, -1),           (0, 1),   # Same row\n",
    "                          (1, -1), (1, 0), (1, 1)]    # Lower row\n",
    "    \n",
    "    n = board.shape[0]  # Since the board is square, this is both the number of rows and columns\n",
    "\n",
    "    # Iterate over each cell in the board\n",
    "    for row in range(n):\n",
    "        for col in range(n):\n",
    "            # For each cell, count its living neighbors\n",
    "            live_neighbors = 0\n",
    "            for dr, dc in neighbor_positions:\n",
    "                r, c = row + dr, col + dc\n",
    "                # Check if the neighbor is within the array bounds\n",
    "                if 0 <= r < n and 0 <= c < n:\n",
    "                    live_neighbors += board[r, c]\n",
    "            \n",
    "            # Assign the count of live neighbors to the count array\n",
    "            count[row, col] = live_neighbors\n",
    "\n",
    "    return count\n",
    "\n",
    "demo_board = np.array([[0, 1, 1],\n",
    "                       [0, 1, 0],\n",
    "                       [1, 0, 0]])\n",
    "print(\"==> Demo board:\\n{}\".format(demo_board))\n",
    "print(\"\\n==> Counts:\\n{}\".format(count_living_neighbors(demo_board)))"
   ]
  },
  {
   "cell_type": "code",
   "execution_count": 10,
   "metadata": {
    "deletable": false,
    "editable": false,
    "nbgrader": {
     "grade": true,
     "grade_id": "count_living_neighbors_test1",
     "locked": true,
     "points": 1,
     "schema_version": 1,
     "solution": false
    }
   },
   "outputs": [
    {
     "name": "stdout",
     "output_type": "stream",
     "text": [
      "\n",
      "(Passed, part 1.)\n"
     ]
    }
   ],
   "source": [
    "# Test cell: `count_living_neighbors_test1`\n",
    "\n",
    "your_demo_count = count_living_neighbors(demo_board)\n",
    "demo_count_soln = np.array([[2, 2, 2],\n",
    "                            [3, 3, 3],\n",
    "                            [1, 2, 1]])\n",
    "\n",
    "assert type(your_demo_count) is np.ndarray, \"Your function needs to return an Numpy array.\"\n",
    "assert your_demo_count.shape == demo_count_soln.shape, \\\n",
    "       \"Your counts have the wrong shape: it's {} instead of {}.\".format(your_demo_count.shape,\n",
    "                                                                         demo_count_soln.shape)\n",
    "    \n",
    "assert your_demo_count.dtype == 'int64', \\\n",
    "       \"Make sure your count array has integer elements (they appear to be {} instead).\".format(your_demo_count.dtype)\n",
    "\n",
    "matches = (your_demo_count == demo_count_soln)\n",
    "assert matches.all(), \\\n",
    "       \"Counts for `demo_board` does not match expected counts, which are\\n==>\\n{}\".format(demo_count_soln)\n",
    "\n",
    "print(\"\\n(Passed, part 1.)\")"
   ]
  },
  {
   "cell_type": "code",
   "execution_count": 11,
   "metadata": {
    "deletable": false,
    "editable": false,
    "nbgrader": {
     "grade": true,
     "grade_id": "count_living_neighbors_test2",
     "locked": true,
     "points": 2,
     "schema_version": 1,
     "solution": false
    }
   },
   "outputs": [
    {
     "name": "stdout",
     "output_type": "stream",
     "text": [
      "\n",
      "(Passed, part 2.)\n"
     ]
    }
   ],
   "source": [
    "# Test cell: `count_living_neighbors_test2`\n",
    "\n",
    "board_of_life_counts = count_living_neighbors(board_of_life)\n",
    "assert board_of_life_counts.shape == board_of_life.shape, \\\n",
    "       \"Counts shape, {}, does not match original board, {}.\".format(board_of_life_count.shape,\n",
    "                                                                     board_of_life.shape)\n",
    "\n",
    "from numpy.random import choice\n",
    "for i in choice(board_of_life.shape[0], replace=False, size=7):\n",
    "    ii_range = range(max(0, i-1), min(board_of_life.shape[0], i+2)) \n",
    "    for j in choice(board_of_life.shape[1], replace=False, size=7):\n",
    "        jj_range = range(max(0, j-1), min(board_of_life.shape[1], j+2))\n",
    "        your_count = board_of_life_counts[i][j]\n",
    "        true_count = 0\n",
    "        for ii in ii_range:\n",
    "            for jj in jj_range:\n",
    "                if not (ii == i and jj == j):\n",
    "                    true_count += int(board_of_life[ii, jj])\n",
    "                    \n",
    "        err_msg = \"Your count at {} should be {} but is instead {}. Check the neighborhood:\\n==> {}\"\n",
    "        ij_neighborhood = board_of_life[min(ii_range):max(ii_range)+1, min(jj_range):max(jj_range)+1]\n",
    "        assert your_count == true_count, \\\n",
    "               err_msg.format((i, j), true_count, your_count, ij_neighborhood)\n",
    "\n",
    "print(\"\\n(Passed, part 2.)\")"
   ]
  },
  {
   "cell_type": "markdown",
   "metadata": {
    "deletable": false,
    "editable": false,
    "nbgrader": {
     "grade": false,
     "grade_id": "cell-78b9a63172b2710d",
     "locked": true,
     "schema_version": 1,
     "solution": false
    }
   },
   "source": [
    "Recall the rules of the game:\n",
    "- **Rule 0.** If the cell is alive at time $t$ and has exactly two or three neighbors, it will remain alive at time $t+1$.\n",
    "- **Rule 1.** If the cell is alive at time $t$ and has only zero or one living neighbors, it will die from loneliness at time $t+1$.\n",
    "- **Rule 2.** If the cell is alive at time $t$ and has more than three living neighbors, it will die from overcrowding at time $t+1$.\n",
    "- **Rule 3.** If the cell is dead at time $t$ and has exactly three living neighbors, it will come alive at $t+1$."
   ]
  },
  {
   "cell_type": "markdown",
   "metadata": {
    "deletable": false,
    "editable": false,
    "nbgrader": {
     "grade": false,
     "grade_id": "cell-a67029e6fda67b1f",
     "locked": true,
     "schema_version": 1,
     "solution": false
    }
   },
   "source": [
    "**Exercise 2** (4 point). Suppose you are given a board at time $t$. Compute the board at time $t+1$, according to the rules above.\n",
    "\n",
    "You should specifically complete the function,\n",
    "\n",
    "```python\n",
    "    def step(board):\n",
    "        ...\n",
    "```\n",
    "\n",
    "It should return the new board after applying the four rules. To help you out, we've implemented the first rule (Rule 0).\n",
    "\n",
    "For example, given this `board`,\n",
    "\n",
    "      0   1   2    <-- columns\n",
    "    +---+---+---+\n",
    "    | 0 | 1 | 1 |  row 0\n",
    "    +---+---+---+\n",
    "    | 0 | 1 | 0 |  row 1\n",
    "    +---+---+---+\n",
    "    | 1 | 0 | 0 |  row 2\n",
    "    +---+---+---+\n",
    "\n",
    "your function should return this board:\n",
    "\n",
    "      0   1   2    <-- columns\n",
    "    +---+---+---+\n",
    "    | 0 | 1 | 1 |  row 0\n",
    "    +---+---+---+\n",
    "    | 1 | 1 | 1 |  row 1\n",
    "    +---+---+---+\n",
    "    | 0 | 0 | 0 |  row 2\n",
    "    +---+---+---+\n",
    "\n",
    "> _Hint_: Boolean operations can help simplify the logic and checking for this problem:\n",
    ">\n",
    "> ```python\n",
    ">     # Boolean \"and\"\n",
    ">     assert (0 & 0) == 0  # Also: (False and False) == False\n",
    ">     assert (0 & 1) == 0  #       (False and True) == True\n",
    ">     assert (1 & 0) == 0  #       (True and False) == True\n",
    ">     assert (1 & 1) == 1  #       (True and True) == True\n",
    ">\n",
    ">     # Boolean \"or\"\n",
    ">     assert (0 | 0) == 0\n",
    ">     assert (0 | 1) == 1\n",
    ">     assert (1 | 0) == 1\n",
    ">     assert (1 | 1) == 1\n",
    ">\n",
    ">     # Boolean \"exclusive-or.\" Same as \"not equal\"\n",
    ">     assert (0 ^ 0) == 0\n",
    ">     assert (0 ^ 1) == 1\n",
    ">     assert (1 ^ 0) == 1\n",
    ">     assert (1 ^ 1) == 0\n",
    ">\n",
    ">     # Boolean \"not\"\n",
    ">     np.logical_not(0) == True  # np.logical_not(0).astype(int) == 1\n",
    ">     np.logical_not(1) == False # np.logical_not(1).astype(int) == 0\n",
    "> ```"
   ]
  },
  {
   "cell_type": "code",
   "execution_count": 12,
   "metadata": {
    "nbgrader": {
     "grade": false,
     "grade_id": "step",
     "locked": false,
     "schema_version": 1,
     "solution": true
    }
   },
   "outputs": [
    {
     "data": {
      "image/png": "[encoded data removed]",
      "text/plain": [
       "<Figure size 288x288 with 1 Axes>"
      ]
     },
     "metadata": {
      "needs_background": "light"
     },
     "output_type": "display_data"
    },
    {
     "data": {
      "image/png": "[encoded data removed]",
      "text/plain": [
       "<Figure size 288x288 with 1 Axes>"
      ]
     },
     "metadata": {
      "needs_background": "light"
     },
     "output_type": "display_data"
    }
   ],
   "source": [
    "def step(board):\n",
    "    board = board.astype(int)\n",
    "    def not_array(x):\n",
    "        return np.logical_not(x).astype(x.dtype)\n",
    "    \n",
    "    counts = count_living_neighbors(board)\n",
    "    new_board = board.copy()\n",
    "    # Rule 0. Alive with two or three neighbors ==> lives.\n",
    "    new_board |= board & ((counts == 2) | (counts == 3))\n",
    "    \n",
    "    # Rule 1. Alive with fewer than two living neighbors ==> dies from loneliness.\n",
    "    new_board &= not_array((board == 1) & (counts < 2))\n",
    "    \n",
    "    # Rule 2. Alive with more than three living neighbors ==> dies from overcrowding.\n",
    "    new_board &= not_array((board == 1) & (counts > 3))\n",
    "    \n",
    "    # Rule 3. Dead with exactly three living neighbors ==> becomes alive.\n",
    "    new_board |= not_array(board) & (counts == 3)\n",
    "    \n",
    "    return new_board\n",
    "    \n",
    "\n",
    "show_board(demo_board, title='Before (0=purple, 1=yellow):')\n",
    "\n",
    "new_demo_board = step(demo_board)\n",
    "show_board(new_demo_board, title = 'After (0=purple, 1=yellow):')"
   ]
  },
  {
   "cell_type": "code",
   "execution_count": 13,
   "metadata": {
    "deletable": false,
    "editable": false,
    "nbgrader": {
     "grade": true,
     "grade_id": "step_test1",
     "locked": true,
     "points": 1,
     "schema_version": 1,
     "solution": false
    }
   },
   "outputs": [
    {
     "name": "stdout",
     "output_type": "stream",
     "text": [
      "\n",
      "(Passed, part 1.)\n"
     ]
    }
   ],
   "source": [
    "# Test cell: `step_test1`\n",
    "\n",
    "assert (new_demo_board == np.array([[0, 1, 1],\n",
    "                                    [1, 1, 1],\n",
    "                                    [0, 0, 0]])).all()\n",
    "\n",
    "print(\"\\n(Passed, part 1.)\")"
   ]
  },
  {
   "cell_type": "code",
   "execution_count": 14,
   "metadata": {
    "deletable": false,
    "editable": false,
    "nbgrader": {
     "grade": true,
     "grade_id": "step_test2",
     "locked": true,
     "points": 4,
     "schema_version": 1,
     "solution": false
    }
   },
   "outputs": [
    {
     "name": "stdout",
     "output_type": "stream",
     "text": [
      "\n",
      "(Passed!)\n"
     ]
    }
   ],
   "source": [
    "# Test cell: `step_test2`\n",
    "\n",
    "step_soln = np.loadtxt(data_paths['step.csv'], delimiter=',', dtype=int)\n",
    "your_step = step(board_of_life)\n",
    "\n",
    "matches = (your_step == step_soln)\n",
    "if not matches.all():\n",
    "    print(\"*** Detected mismatches. ***\")\n",
    "    mismatches = np.where(~matches)\n",
    "    for i, j in zip(mismatches[0], mismatches[1]):\n",
    "        print(\"({}, {}) was {} instead of {}.\".format(i, j, your_step[i, j], step_soln[i, j]))\n",
    "    assert False\n",
    "    \n",
    "print(\"\\n(Passed!)\")"
   ]
  },
  {
   "cell_type": "markdown",
   "metadata": {
    "deletable": false,
    "editable": false,
    "nbgrader": {
     "grade": false,
     "grade_id": "cell-736ec45398de3d9f",
     "locked": true,
     "schema_version": 1,
     "solution": false
    }
   },
   "source": [
    "### Full simulation\n",
    "\n",
    "The following code creates a widget that allows you to step through many iterations of the game. There is nothing to write here; it's just for your edification to see that you've completed a working implementation. The initial \"6040\" pattern from above will eventually converge to a repeating pattern."
   ]
  },
  {
   "cell_type": "code",
   "execution_count": 15,
   "metadata": {},
   "outputs": [
    {
     "data": {
      "application/vnd.jupyter.widget-view+json": {
       "model_id": "c447973188e5496db251c8b1b2fc23b1",
       "version_major": 2,
       "version_minor": 0
      },
      "text/plain": [
       "interactive(children=(IntSlider(value=0, continuous_update=False, description='t', max=74), Output()), _dom_cl…"
      ]
     },
     "metadata": {},
     "output_type": "display_data"
    }
   ],
   "source": [
    "MAX_STEPS = 75\n",
    "N = board_of_life.shape[0]\n",
    "all_boards = np.zeros((N, N, MAX_STEPS), dtype=int)\n",
    "\n",
    "all_boards[:, :, 0] = board_of_life\n",
    "for t in range(1, MAX_STEPS):\n",
    "    all_boards[:, :, t] = step(all_boards[:, :, t-1])\n",
    "    \n",
    "def display_board(t=0):\n",
    "    show_board(all_boards[:, :, t])\n",
    "\n",
    "from ipywidgets import interact, IntSlider\n",
    "interact(display_board, t=IntSlider(value=0, min=0, max=MAX_STEPS-1, step=1, continuous_update=False));"
   ]
  },
  {
   "cell_type": "markdown",
   "metadata": {
    "collapsed": true,
    "deletable": false,
    "editable": false,
    "nbgrader": {
     "grade": false,
     "grade_id": "cell-8fd6c759fea208fc",
     "locked": true,
     "schema_version": 1,
     "solution": false
    }
   },
   "source": [
    "**Fin!**"
   ]
  }
 ],
 "metadata": {
  "celltoolbar": "Create Assignment",
  "kernel_info": {
   "name": "python3"
  },
  "kernelspec": {
   "display_name": "Python 3.8",
   "language": "python",
   "name": "python38"
  },
  "language_info": {
   "codemirror_mode": {
    "name": "ipython",
    "version": 3
   },
   "file_extension": ".py",
   "mimetype": "text/x-python",
   "name": "python",
   "nbconvert_exporter": "python",
   "pygments_lexer": "ipython3",
   "version": "3.8.7"
  },
  "nteract": {
   "version": "0.11.9"
  }
 },
 "nbformat": 4,
 "nbformat_minor": 2
}
