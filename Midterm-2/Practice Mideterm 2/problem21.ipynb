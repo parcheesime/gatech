{
 "cells": [
  {
   "cell_type": "markdown",
   "metadata": {
    "deletable": false,
    "editable": false,
    "nbgrader": {
     "grade": false,
     "locked": true,
     "solution": false
    }
   },
   "source": [
    "# Midterm 2, Spring 2021: Taxi Data #\n",
    "\n",
    "_Version 1.1_\n",
    "\n",
    "This problem builds on your knowledge of Pandas and Numpy. It has **8** exercises, numbered 0 to **7**. There are **13 available points.** However, to earn 100%, the threshold is just **11 points.** (Therefore, once you hit **11** points, you can stop. There is no extra credit for exceeding this threshold.)\n",
    "\n",
    "Each exercise builds logically on the previous one, but you may solve them in any order. That is, if you can't solve an exercise, you can still move on and try the next one. **However, if you see a code cell introduced by the phrase, \"Sample result for ...\", please run it.** Some demo cells in the notebook may depend on these precomputed results.\n",
    "\n",
    "The point values of individual exercises are as follows:\n",
    "\n",
    "- Exercises 0-3: 1 point (4 points total)\n",
    "- Exercise 4: 3 points\n",
    "- Exercise 5: 2 points\n",
    "- Exercise 6: 2 points\n",
    "- Exercise 7: 2 points\n",
    "\n",
    "**Pro-tips.**\n",
    "- Many or all test cells use **randomly generated inputs.** Therefore, try your best to write solutions that do not assume too much. To help you debug, when a test cell does fail, it will often tell you exactly what inputs it was using and what output it expected, compared to yours.\n",
    "- If your program behavior seem strange, try resetting the kernel and rerunning everything.\n",
    "- If you mess up this notebook or just want to start from scratch, save copies of all your partial responses and use `Actions` $\\rightarrow$ `Reset Assignment` to get a fresh, original copy of this notebook. _(Resetting will wipe out any answers you've written so far, so be sure to stash those somewhere safe if you intend to keep or reuse them!)_\n",
    "- If you generate excessive output (e.g., from an ill-placed `print` statement) that causes the notebook to load slowly or not at all, use `Actions` $\\rightarrow$ `Clear Notebook Output` to get a clean copy. The clean copy will retain your code but remove any generated output. **However**, it will also **rename** the notebook to `clean.xxx.ipynb`. Since the autograder expects a notebook file with the original name, you'll need to rename the clean notebook accordingly. Be forewarned: we won't manually grade \"cleaned\" notebooks if you forget!\n",
    "\n",
    "**Good luck!**"
   ]
  },
  {
   "cell_type": "markdown",
   "metadata": {
    "deletable": false,
    "editable": false,
    "nbgrader": {
     "grade": false,
     "locked": true,
     "solution": false
    }
   },
   "source": [
    "## Goal: Implement some basic analyses of NYC Taxi Cab data ##\n",
    "\n",
    "In this problem, we'll use real New York City Yellow Taxi fare and travel data to some simple analyses, including an analysis of routes or \"paths\" in the data.\n",
    "\n",
    "Once you've loaded the data, the overall workflow consists of the following steps:\n",
    "\n",
    "1. Basic data cleaning and filtering\n",
    "2. Some simple date-time processing\n",
    "3. Carry out some simple descriptive analysis related of taxi fares and travel times\n",
    "4. Interface the data with a graph/network analysis module, to do a simple path analysis\n",
    "5. Interface the data with a geospatial mapping module, to visualize certain routes\n",
    "\n",
    "This problem is designed to test your fluency with pandas and Numpy, as well as your ability to quickly connect what you know with new tools."
   ]
  },
  {
   "cell_type": "markdown",
   "metadata": {
    "deletable": false,
    "editable": false,
    "nbgrader": {
     "grade": false,
     "locked": true,
     "solution": false
    }
   },
   "source": [
    "## Setup ##\n",
    "\n",
    "Run the code cell below to load some modules that subsequent cells will need."
   ]
  },
  {
   "cell_type": "code",
   "execution_count": 1,
   "metadata": {
    "deletable": false,
    "editable": false,
    "nbgrader": {
     "grade": true,
     "grade_id": "ignore_me_ungraded_setup",
     "locked": true,
     "points": "0",
     "solution": false
    }
   },
   "outputs": [
    {
     "name": "stderr",
     "output_type": "stream",
     "text": [
      "Matplotlib is building the font cache; this may take a moment.\n"
     ]
    },
    {
     "name": "stdout",
     "output_type": "stream",
     "text": [
      "Opening pickle from './resource/asnlib/publicdata/zones_dict.pickle' ...\n",
      "Opening pickle from './resource/asnlib/publicdata/trips.pickle' ...\n",
      "Opening pickle from './resource/asnlib/publicdata/trips_dt.pickle' ...\n",
      "Opening pickle from './resource/asnlib/publicdata/filtered.pickle' ...\n",
      "Opening pickle from './resource/asnlib/publicdata/trip_counts.pickle' ...\n",
      "Opening pickle from './resource/asnlib/publicdata/part_of_day.pickle' ...\n",
      "Opening pickle from './resource/asnlib/publicdata/csr.pickle' ...\n"
     ]
    }
   ],
   "source": [
    "###\n",
    "### AUTOGRADER TEST - DO NOT REMOVE\n",
    "###\n",
    "\n",
    "import pandas as pd\n",
    "import numpy as np\n",
    "import scipy as sp\n",
    "\n",
    "from matplotlib.pyplot import figure, subplot, plot\n",
    "from matplotlib.pyplot import text, title, xlabel\n",
    "from seaborn import histplot\n",
    "\n",
    "from pprint import pprint # For pretty-printing native Python data structures\n",
    "from testing_tools import load_df, load_geopandas"
   ]
  },
  {
   "cell_type": "markdown",
   "metadata": {
    "deletable": false,
    "editable": false,
    "nbgrader": {
     "grade": false,
     "locked": true,
     "solution": false
    }
   },
   "source": [
    "## Part A: Taxi Zones and Paths (Exercises 0 and 1) ##"
   ]
  },
  {
   "cell_type": "markdown",
   "metadata": {
    "deletable": false,
    "editable": false,
    "nbgrader": {
     "grade": false,
     "locked": true,
     "solution": false
    }
   },
   "source": [
    "The NYC Taxi Dataset that you will analyze contains records for taxi rides or _trips._ Each trip starts in one \"zone\" and ends in another. The NYC Metropolitan area is divided into 266 \"zones.\"\n",
    "\n",
    "Run the cell below, which loads a pandas dataframe holding metadata about these zones, which are stored in the dataframe named `zones`."
   ]
  },
  {
   "cell_type": "code",
   "execution_count": 2,
   "metadata": {
    "deletable": false,
    "editable": false,
    "nbgrader": {
     "grade": false,
     "locked": true,
     "solution": false
    }
   },
   "outputs": [
    {
     "name": "stdout",
     "output_type": "stream",
     "text": [
      "Reading a regular pandas dataframe from './resource/asnlib/publicdata/nyc-taxi-data/taxi+_zone_lookup.csv' ...\n"
     ]
    },
    {
     "data": {
      "text/html": [
       "<div>\n",
       "<style scoped>\n",
       "    .dataframe tbody tr th:only-of-type {\n",
       "        vertical-align: middle;\n",
       "    }\n",
       "\n",
       "    .dataframe tbody tr th {\n",
       "        vertical-align: top;\n",
       "    }\n",
       "\n",
       "    .dataframe thead th {\n",
       "        text-align: right;\n",
       "    }\n",
       "</style>\n",
       "<table border=\"1\" class=\"dataframe\">\n",
       "  <thead>\n",
       "    <tr style=\"text-align: right;\">\n",
       "      <th></th>\n",
       "      <th>LocationID</th>\n",
       "      <th>Borough</th>\n",
       "      <th>Zone</th>\n",
       "    </tr>\n",
       "  </thead>\n",
       "  <tbody>\n",
       "    <tr>\n",
       "      <th>0</th>\n",
       "      <td>1</td>\n",
       "      <td>EWR</td>\n",
       "      <td>Newark Airport</td>\n",
       "    </tr>\n",
       "    <tr>\n",
       "      <th>1</th>\n",
       "      <td>2</td>\n",
       "      <td>Queens</td>\n",
       "      <td>Jamaica Bay</td>\n",
       "    </tr>\n",
       "    <tr>\n",
       "      <th>2</th>\n",
       "      <td>3</td>\n",
       "      <td>Bronx</td>\n",
       "      <td>Allerton/Pelham Gardens</td>\n",
       "    </tr>\n",
       "    <tr>\n",
       "      <th>3</th>\n",
       "      <td>4</td>\n",
       "      <td>Manhattan</td>\n",
       "      <td>Alphabet City</td>\n",
       "    </tr>\n",
       "    <tr>\n",
       "      <th>4</th>\n",
       "      <td>5</td>\n",
       "      <td>Staten Island</td>\n",
       "      <td>Arden Heights</td>\n",
       "    </tr>\n",
       "  </tbody>\n",
       "</table>\n",
       "</div>"
      ],
      "text/plain": [
       "   LocationID        Borough                     Zone\n",
       "0           1            EWR           Newark Airport\n",
       "1           2         Queens              Jamaica Bay\n",
       "2           3          Bronx  Allerton/Pelham Gardens\n",
       "3           4      Manhattan            Alphabet City\n",
       "4           5  Staten Island            Arden Heights"
      ]
     },
     "execution_count": 2,
     "metadata": {},
     "output_type": "execute_result"
    }
   ],
   "source": [
    "zones = load_df('nyc-taxi-data/taxi+_zone_lookup.csv').drop('service_zone', axis=1).fillna('Unknown')\n",
    "zones.head()"
   ]
  },
  {
   "cell_type": "markdown",
   "metadata": {
    "deletable": false,
    "editable": false,
    "nbgrader": {
     "grade": false,
     "locked": true,
     "solution": false
    }
   },
   "source": [
    "Each zone has a unique integer ID (the `LocationID` column), a name (`Zone`), and an administrative district (`Borough`).\n",
    "\n",
    "Note that all location IDs from 1 to `len(zones)` are represented in this dataframe. However, you should not assume that in the exercises below."
   ]
  },
  {
   "cell_type": "code",
   "execution_count": 3,
   "metadata": {
    "deletable": false,
    "editable": false,
    "nbgrader": {
     "grade": false,
     "locked": true,
     "solution": false
    }
   },
   "outputs": [
    {
     "name": "stdout",
     "output_type": "stream",
     "text": [
      "# of unique location IDs: 265\n",
      "Some stats on location IDs:\n"
     ]
    },
    {
     "data": {
      "text/plain": [
       "count    265.000000\n",
       "mean     133.000000\n",
       "std       76.643112\n",
       "min        1.000000\n",
       "25%       67.000000\n",
       "50%      133.000000\n",
       "75%      199.000000\n",
       "max      265.000000\n",
       "Name: LocationID, dtype: float64"
      ]
     },
     "execution_count": 3,
     "metadata": {},
     "output_type": "execute_result"
    }
   ],
   "source": [
    "print(\"# of unique location IDs:\", len(zones['LocationID'].unique()))\n",
    "print(\"Some stats on location IDs:\")\n",
    "zones['LocationID'].describe()"
   ]
  },
  {
   "cell_type": "markdown",
   "metadata": {
    "deletable": false,
    "editable": false,
    "nbgrader": {
     "grade": false,
     "locked": true,
     "solution": false
    }
   },
   "source": [
    "### Exercise 0: `zones_to_dict` (1 point) ###\n",
    "\n",
    "Complete the function, `zones_to_dict(zones)`, below. The input, `zones`, will be a dataframe of taxi zones like the one above, having columns `LocationID`, `Borough`, and `Zone`. Your function should return a Python dictionary where\n",
    "\n",
    "- each key is a location ID, stored as an integer;\n",
    "- and each corresponding value is a string of the form, `\"{zone}, {borough}\"`, that is, the zone (**stripped of any leading or trailing whitespace**) concatenated with the borough (also stripped of leading or trailing whitespace), separated by a comma plus a space.\n",
    "\n",
    "For example, if `zones` is the following:\n",
    "\n",
    "|    |   LocationID | Borough       | Zone                    |\n",
    "|---:|-------------:|:--------------|:------------------------|\n",
    "|  0 |            1 | EWR           | Newark Airport          |\n",
    "|  1 |            2 | Queens        | Jamaica Bay             |\n",
    "|  2 |            3 | Bronx         | Allerton/Pelham Gardens |\n",
    "\n",
    "then the function should return\n",
    "\n",
    "```python\n",
    "{1: 'Newark Airport, EWR', 2: 'Jamaica Bay, Queens', 3: 'Allerton/Pelham Gardens, Bronx'}\n",
    "```\n",
    "\n",
    "> _Note:_ Your function must _not_ modify the input dataframe, `zones`. The test cell will check for that and may fail with an error if it detects a change."
   ]
  },
  {
   "cell_type": "code",
   "execution_count": 4,
   "metadata": {
    "collapsed": true,
    "nbgrader": {
     "grade": false,
     "locked": false,
     "solution": false
    }
   },
   "outputs": [],
   "source": [
    "def zones_to_dict(zones):\n",
    "    locs = zones['LocationID']\n",
    "    zbstrings = zones['Zone'].str.strip() + ', ' + zones['Borough'].str.strip()\n",
    "    from random import random\n",
    "    return {loc: zbs for loc, zbs in zip(locs, zbstrings)}\n"
   ]
  },
  {
   "cell_type": "code",
   "execution_count": 5,
   "metadata": {
    "nbgrader": {
     "grade": false,
     "locked": false,
     "solution": false
    }
   },
   "outputs": [
    {
     "data": {
      "text/plain": [
       "{1: 'Newark Airport, EWR',\n",
       " 2: 'Jamaica Bay, Queens',\n",
       " 3: 'Allerton/Pelham Gardens, Bronx'}"
      ]
     },
     "execution_count": 5,
     "metadata": {},
     "output_type": "execute_result"
    }
   ],
   "source": [
    "# Demo:\n",
    "zones_to_dict(zones.iloc[:3]) # Sample output on the first three examples of `zones`"
   ]
  },
  {
   "cell_type": "code",
   "execution_count": 6,
   "metadata": {
    "deletable": false,
    "editable": false,
    "nbgrader": {
     "grade": true,
     "grade_id": "mt2_ex0_zones_to_dict",
     "locked": true,
     "points": "1",
     "solution": false
    }
   },
   "outputs": [
    {
     "name": "stdout",
     "output_type": "stream",
     "text": [
      "Testing...\n",
      "\n",
      "(Passed!)\n"
     ]
    }
   ],
   "source": [
    "# Test: `mt2_ex0_zones_to_dict` (1 point)\n",
    "\n",
    "###\n",
    "### AUTOGRADER TEST - DO NOT REMOVE\n",
    "###\n",
    "\n",
    "from testing_tools import mt2_ex0__check\n",
    "print(\"Testing...\")\n",
    "for trial in range(250):\n",
    "    mt2_ex0__check(zones_to_dict)\n",
    "\n",
    "zones_to_dict__passed = True\n",
    "print(\"\\n(Passed!)\")"
   ]
  },
  {
   "cell_type": "markdown",
   "metadata": {
    "deletable": false,
    "editable": false,
    "nbgrader": {
     "grade": false,
     "locked": true,
     "solution": false
    }
   },
   "source": [
    "### Sample results for Exercise 0: `zones_to_dict` $\\implies$ `zones_dict` ###\n",
    "\n",
    "If you had a working solution to Exercise 0, then in principle you could use it to generate a zone-name dictionary for the full `zones` input. We have precomputed these for you; run the cell below to load this dictionary, which will be stored in the global variable, `zones_dict`.\n",
    "\n",
    "> **Read and run this cell even if you skipped or otherwise did not complete Exercise 0.**"
   ]
  },
  {
   "cell_type": "code",
   "execution_count": 7,
   "metadata": {
    "deletable": false,
    "editable": false,
    "nbgrader": {
     "grade": false,
     "locked": true,
     "solution": false
    }
   },
   "outputs": [
    {
     "name": "stdout",
     "output_type": "stream",
     "text": [
      "\n",
      "Examples:\n",
      "* Location 1 => Newark Airport, EWR\n",
      "* Location 2 => Jamaica Bay, Queens\n",
      "* Location 3 => Allerton/Pelham Gardens, Bronx\n",
      "* Location 4 => Alphabet City, Manhattan\n",
      "* Location 5 => Arden Heights, Staten Island\n"
     ]
    }
   ],
   "source": [
    "from testing_tools import mt2_zones_dict as zones_dict\n",
    "\n",
    "print(\"\\nExamples:\")\n",
    "for loc_id in range(1, 6):\n",
    "    print(\"* Location\", loc_id, \"=>\", zones_dict[loc_id])"
   ]
  },
  {
   "cell_type": "markdown",
   "metadata": {
    "deletable": false,
    "editable": false,
    "nbgrader": {
     "grade": false,
     "locked": true,
     "solution": false
    }
   },
   "source": [
    "### Exercise 1: `path_to_zones` (1 point) ###\n",
    "\n",
    "A _path_ is a sequence of zones. For example, if a taxi takes the path `p = [3, 2, 1]`, that means it starts at location 3 (`\"Allerton/Pelham Gardens, Bronx\"`), then visits location 2 (`\"Jamaica Bay, Queens\"`), and ends at location 1 (`\"Newark Airport, EWR\"`).\n",
    "\n",
    "Complete the function, `path_to_zones(p, zones_dict)`, below. It takes as input two objects:\n",
    "\n",
    "- `p`: a path, given as an iterable sequence of integer location IDs;\n",
    "- `zones_dict`: a dictionary that might be produced by `zones_to_dict` (Exercise 0), mapping location IDs to string values.\n",
    "\n",
    "It should output a Python list of zone names, in the same sequence as they appear in the path `p`. However, these zone names should be formatted to include the location ID, using the specific format, `\"{loc_id}. {zone_borough_name}\"`. For example,\n",
    "\n",
    "```python\n",
    "    path_to_zones([3, 2, 1], zones_dict) == [\"3. Allerton/Pelham Gardens, Bronx\",\n",
    "                                             \"2. Jamaica Bay, Queens\",\n",
    "                                             \"1. Newark Airport, EWR\"]\n",
    "```"
   ]
  },
  {
   "cell_type": "code",
   "execution_count": 8,
   "metadata": {
    "collapsed": true
   },
   "outputs": [],
   "source": [
    "def path_to_zones(p, zones_dict):\n",
    "    ###\n",
    "    from random import random\n",
    "    return [f\"{i}. {zones_dict[i]}\" for i in p]\n",
    "    ###\n"
   ]
  },
  {
   "cell_type": "code",
   "execution_count": 9,
   "metadata": {},
   "outputs": [
    {
     "data": {
      "text/plain": [
       "['3. Allerton/Pelham Gardens, Bronx',\n",
       " '2. Jamaica Bay, Queens',\n",
       " '1. Newark Airport, EWR']"
      ]
     },
     "execution_count": 9,
     "metadata": {},
     "output_type": "execute_result"
    }
   ],
   "source": [
    "# Demo:\n",
    "path_to_zones([3, 2, 1], zones_dict)"
   ]
  },
  {
   "cell_type": "code",
   "execution_count": 10,
   "metadata": {
    "deletable": false,
    "editable": false,
    "nbgrader": {
     "grade": true,
     "grade_id": "mt2_ex1_path_to_zones",
     "locked": true,
     "points": "1",
     "solution": false
    }
   },
   "outputs": [
    {
     "name": "stdout",
     "output_type": "stream",
     "text": [
      "Testing...\n",
      "\n",
      "(Passed!)\n"
     ]
    }
   ],
   "source": [
    "# Test: `mt2_ex1_path_to_zones` (1 point)\n",
    "\n",
    "from testing_tools import mt2_ex1__check\n",
    "print(\"Testing...\")\n",
    "for trial in range(250):\n",
    "    mt2_ex1__check(path_to_zones)\n",
    "\n",
    "zones_to_dict__passed = True\n",
    "print(\"\\n(Passed!)\")"
   ]
  },
  {
   "cell_type": "markdown",
   "metadata": {
    "deletable": false,
    "editable": false,
    "nbgrader": {
     "grade": false,
     "locked": true,
     "solution": false
    }
   },
   "source": [
    "## Part B: Taxi trip data (Exercise 2) ##\n",
    "\n",
    "The next piece of data you'll need is the taxi trip data. The data covers rides during June 2019. Run the next two cells to load these data into a dataframe named `taxi_trips_raw`."
   ]
  },
  {
   "cell_type": "code",
   "execution_count": 11,
   "metadata": {
    "deletable": false,
    "editable": false,
    "nbgrader": {
     "grade": false,
     "locked": true,
     "solution": false
    }
   },
   "outputs": [
    {
     "name": "stdout",
     "output_type": "stream",
     "text": [
      "Tue 02 Apr 2024 05:24:28 AM PDT\n",
      "Reading a regular pandas dataframe from './resource/asnlib/publicdata/nyc-taxi-data/yellow_tripdata_2019-06.csv' ...\n",
      "Tue 02 Apr 2024 05:24:45 AM PDT\n"
     ]
    }
   ],
   "source": [
    "!date\n",
    "taxi_trips_raw_dfs = []\n",
    "for month in ['06']: #, '07', '08']:\n",
    "    taxi_trips_raw_dfs.append(load_df(f\"nyc-taxi-data/yellow_tripdata_2019-{month}.csv\",\n",
    "                                      parse_dates=['tpep_pickup_datetime', 'tpep_dropoff_datetime']))\n",
    "taxi_trips_raw = pd.concat(taxi_trips_raw_dfs)\n",
    "del taxi_trips_raw_dfs # Save some memory\n",
    "!date"
   ]
  },
  {
   "cell_type": "code",
   "execution_count": 12,
   "metadata": {
    "deletable": false,
    "editable": false,
    "nbgrader": {
     "grade": false,
     "locked": true,
     "solution": false
    },
    "scrolled": true
   },
   "outputs": [
    {
     "name": "stdout",
     "output_type": "stream",
     "text": [
      "The raw taxi trips data has 6,941,024 records (rows). Here's a sample:\n"
     ]
    },
    {
     "data": {
      "text/html": [
       "<div>\n",
       "<style scoped>\n",
       "    .dataframe tbody tr th:only-of-type {\n",
       "        vertical-align: middle;\n",
       "    }\n",
       "\n",
       "    .dataframe tbody tr th {\n",
       "        vertical-align: top;\n",
       "    }\n",
       "\n",
       "    .dataframe thead th {\n",
       "        text-align: right;\n",
       "    }\n",
       "</style>\n",
       "<table border=\"1\" class=\"dataframe\">\n",
       "  <thead>\n",
       "    <tr style=\"text-align: right;\">\n",
       "      <th></th>\n",
       "      <th>VendorID</th>\n",
       "      <th>tpep_pickup_datetime</th>\n",
       "      <th>tpep_dropoff_datetime</th>\n",
       "      <th>passenger_count</th>\n",
       "      <th>trip_distance</th>\n",
       "      <th>RatecodeID</th>\n",
       "      <th>store_and_fwd_flag</th>\n",
       "      <th>PULocationID</th>\n",
       "      <th>DOLocationID</th>\n",
       "      <th>payment_type</th>\n",
       "      <th>fare_amount</th>\n",
       "      <th>extra</th>\n",
       "      <th>mta_tax</th>\n",
       "      <th>tip_amount</th>\n",
       "      <th>tolls_amount</th>\n",
       "      <th>improvement_surcharge</th>\n",
       "      <th>total_amount</th>\n",
       "      <th>congestion_surcharge</th>\n",
       "    </tr>\n",
       "  </thead>\n",
       "  <tbody>\n",
       "    <tr>\n",
       "      <th>0</th>\n",
       "      <td>1</td>\n",
       "      <td>2019-06-01 00:55:13</td>\n",
       "      <td>2019-06-01 00:56:17</td>\n",
       "      <td>1</td>\n",
       "      <td>0.0</td>\n",
       "      <td>1</td>\n",
       "      <td>N</td>\n",
       "      <td>145</td>\n",
       "      <td>145</td>\n",
       "      <td>2</td>\n",
       "      <td>3.0</td>\n",
       "      <td>0.5</td>\n",
       "      <td>0.5</td>\n",
       "      <td>0.00</td>\n",
       "      <td>0.0</td>\n",
       "      <td>0.3</td>\n",
       "      <td>4.30</td>\n",
       "      <td>0.0</td>\n",
       "    </tr>\n",
       "    <tr>\n",
       "      <th>1</th>\n",
       "      <td>1</td>\n",
       "      <td>2019-06-01 00:06:31</td>\n",
       "      <td>2019-06-01 00:06:52</td>\n",
       "      <td>1</td>\n",
       "      <td>0.0</td>\n",
       "      <td>1</td>\n",
       "      <td>N</td>\n",
       "      <td>262</td>\n",
       "      <td>263</td>\n",
       "      <td>2</td>\n",
       "      <td>2.5</td>\n",
       "      <td>3.0</td>\n",
       "      <td>0.5</td>\n",
       "      <td>0.00</td>\n",
       "      <td>0.0</td>\n",
       "      <td>0.3</td>\n",
       "      <td>6.30</td>\n",
       "      <td>2.5</td>\n",
       "    </tr>\n",
       "    <tr>\n",
       "      <th>2</th>\n",
       "      <td>1</td>\n",
       "      <td>2019-06-01 00:17:05</td>\n",
       "      <td>2019-06-01 00:36:38</td>\n",
       "      <td>1</td>\n",
       "      <td>4.4</td>\n",
       "      <td>1</td>\n",
       "      <td>N</td>\n",
       "      <td>74</td>\n",
       "      <td>7</td>\n",
       "      <td>2</td>\n",
       "      <td>17.5</td>\n",
       "      <td>0.5</td>\n",
       "      <td>0.5</td>\n",
       "      <td>0.00</td>\n",
       "      <td>0.0</td>\n",
       "      <td>0.3</td>\n",
       "      <td>18.80</td>\n",
       "      <td>0.0</td>\n",
       "    </tr>\n",
       "    <tr>\n",
       "      <th>3</th>\n",
       "      <td>1</td>\n",
       "      <td>2019-06-01 00:59:02</td>\n",
       "      <td>2019-06-01 00:59:12</td>\n",
       "      <td>0</td>\n",
       "      <td>0.8</td>\n",
       "      <td>1</td>\n",
       "      <td>N</td>\n",
       "      <td>145</td>\n",
       "      <td>145</td>\n",
       "      <td>2</td>\n",
       "      <td>2.5</td>\n",
       "      <td>1.0</td>\n",
       "      <td>0.5</td>\n",
       "      <td>0.00</td>\n",
       "      <td>0.0</td>\n",
       "      <td>0.3</td>\n",
       "      <td>4.30</td>\n",
       "      <td>0.0</td>\n",
       "    </tr>\n",
       "    <tr>\n",
       "      <th>4</th>\n",
       "      <td>1</td>\n",
       "      <td>2019-06-01 00:03:25</td>\n",
       "      <td>2019-06-01 00:15:42</td>\n",
       "      <td>1</td>\n",
       "      <td>1.7</td>\n",
       "      <td>1</td>\n",
       "      <td>N</td>\n",
       "      <td>113</td>\n",
       "      <td>148</td>\n",
       "      <td>1</td>\n",
       "      <td>9.5</td>\n",
       "      <td>3.0</td>\n",
       "      <td>0.5</td>\n",
       "      <td>2.65</td>\n",
       "      <td>0.0</td>\n",
       "      <td>0.3</td>\n",
       "      <td>15.95</td>\n",
       "      <td>2.5</td>\n",
       "    </tr>\n",
       "  </tbody>\n",
       "</table>\n",
       "</div>"
      ],
      "text/plain": [
       "   VendorID tpep_pickup_datetime tpep_dropoff_datetime  passenger_count  \\\n",
       "0         1  2019-06-01 00:55:13   2019-06-01 00:56:17                1   \n",
       "1         1  2019-06-01 00:06:31   2019-06-01 00:06:52                1   \n",
       "2         1  2019-06-01 00:17:05   2019-06-01 00:36:38                1   \n",
       "3         1  2019-06-01 00:59:02   2019-06-01 00:59:12                0   \n",
       "4         1  2019-06-01 00:03:25   2019-06-01 00:15:42                1   \n",
       "\n",
       "   trip_distance  RatecodeID store_and_fwd_flag  PULocationID  DOLocationID  \\\n",
       "0            0.0           1                  N           145           145   \n",
       "1            0.0           1                  N           262           263   \n",
       "2            4.4           1                  N            74             7   \n",
       "3            0.8           1                  N           145           145   \n",
       "4            1.7           1                  N           113           148   \n",
       "\n",
       "   payment_type  fare_amount  extra  mta_tax  tip_amount  tolls_amount  \\\n",
       "0             2          3.0    0.5      0.5        0.00           0.0   \n",
       "1             2          2.5    3.0      0.5        0.00           0.0   \n",
       "2             2         17.5    0.5      0.5        0.00           0.0   \n",
       "3             2          2.5    1.0      0.5        0.00           0.0   \n",
       "4             1          9.5    3.0      0.5        2.65           0.0   \n",
       "\n",
       "   improvement_surcharge  total_amount  congestion_surcharge  \n",
       "0                    0.3          4.30                   0.0  \n",
       "1                    0.3          6.30                   2.5  \n",
       "2                    0.3         18.80                   0.0  \n",
       "3                    0.3          4.30                   0.0  \n",
       "4                    0.3         15.95                   2.5  "
      ]
     },
     "execution_count": 12,
     "metadata": {},
     "output_type": "execute_result"
    }
   ],
   "source": [
    "print(f\"The raw taxi trips data has {len(taxi_trips_raw):,} records (rows). Here's a sample:\")\n",
    "taxi_trips_raw.head()"
   ]
  },
  {
   "cell_type": "markdown",
   "metadata": {
    "deletable": false,
    "editable": false,
    "nbgrader": {
     "grade": false,
     "locked": true,
     "solution": false
    }
   },
   "source": [
    "Let's start by \"focusing\" our attention on just the columns we'll need in this problem."
   ]
  },
  {
   "cell_type": "markdown",
   "metadata": {
    "deletable": false,
    "editable": false,
    "nbgrader": {
     "grade": false,
     "locked": true,
     "solution": false
    }
   },
   "source": [
    "### Exercise 2: `focus` (1 point) ###\n",
    "\n",
    "Complete the function, `focus(trips_raw)`, below, so that it returns a new dataframe with only the columns listed below. In the new dataframe, each column should be renamed as indicated.\n",
    "\n",
    "1. Pick-up location ID, `'PULocationID'`, which should be renamed to `'I'` in the new dataframe.\n",
    "2. Drop-off location ID, `'DOLocationID'`, which should be renamed to `'J'`.\n",
    "3. Trip distance in miles, `'trip_distance'`, which should be renamed to `'D'` (for \"distance\").\n",
    "4. The fare amount (cost) in dollars, `'fare_amount'`, which should be renamed to `'C'` (for \"cost\").\n",
    "5. The pick-up time, `'tpep_pickup_datetime'`, which should be renamed to `'T_start'`.\n",
    "6. The drop-off time, `'tpep_dropoff_datetime'`, which should be renamed to `'T_end'`."
   ]
  },
  {
   "cell_type": "markdown",
   "metadata": {
    "deletable": false,
    "editable": false,
    "nbgrader": {
     "grade": false,
     "locked": true,
     "solution": false
    }
   },
   "source": [
    "For instance, if the input is\n",
    "\n",
    "|    |   VendorID | tpep_pickup_datetime   | tpep_dropoff_datetime   |   passenger_count |   trip_distance |   RatecodeID | store_and_fwd_flag   |   PULocationID |   DOLocationID |   payment_type |   fare_amount |   extra |   mta_tax |   tip_amount |   tolls_amount |   improvement_surcharge |   total_amount |   congestion_surcharge |\n",
    "|---:|-----------:|:-----------------------|:------------------------|------------------:|----------------:|-------------:|:---------------------|---------------:|---------------:|---------------:|--------------:|--------:|----------:|-------------:|---------------:|------------------------:|---------------:|-----------------------:|\n",
    "|  0 |          1 | 2019-06-01 00:55:13    | 2019-06-01 00:56:17     |                 1 |             0   |            1 | N                    |            145 |            145 |              2 |           3   |     0.5 |       0.5 |            0 |              0 |                     0.3 |            4.3 |                    0   |\n",
    "|  1 |          1 | 2019-06-01 00:06:31    | 2019-06-01 00:06:52     |                 1 |             0   |            1 | N                    |            262 |            263 |              2 |           2.5 |     3   |       0.5 |            0 |              0 |                     0.3 |            6.3 |                    2.5 |\n",
    "|  2 |          1 | 2019-06-01 00:17:05    | 2019-06-01 00:36:38     |                 1 |             4.4 |            1 | N                    |             74 |              7 |              2 |          17.5 |     0.5 |       0.5 |            0 |              0 |                     0.3 |           18.8 |                    0   |\n",
    "\n",
    "then your function would return\n",
    "\n",
    "|    |   I |   J |   D |    C | T_start             | T_end               |\n",
    "|---:|----:|----:|----:|-----:|:--------------------|:--------------------|\n",
    "|  0 | 145 | 145 | 0   |  3   | 2019-06-01 00:55:13 | 2019-06-01 00:56:17 |\n",
    "|  1 | 262 | 263 | 0   |  2.5 | 2019-06-01 00:06:31 | 2019-06-01 00:06:52 |\n",
    "|  2 |  74 |   7 | 4.4 | 17.5 | 2019-06-01 00:17:05 | 2019-06-01 00:36:38 |\n",
    "\n",
    "\n",
    "> _Note 0:_ The test code will use randomly generated columns and values. Your function should depend _only_ the columns you need to keep. It should not depend on the order of columns or specific column names other than those in the list above. For instance, the example above contains a column named `'VendorID'`; since that is not a column we need for the output, your solution should work whether or not the input has a column named `'VendorID'`.\n",
    ">\n",
    "> _Note 1:_ The order of columns or rows in the returned dataframe will not matter, since the test code uses a tibble-equivalency test to check your answer against the reference solution."
   ]
  },
  {
   "cell_type": "code",
   "execution_count": 13,
   "metadata": {
    "collapsed": true
   },
   "outputs": [],
   "source": [
    "def focus(trips_raw):\n",
    "    ###\n",
    "    renames = {'PULocationID': 'I',\n",
    "           'DOLocationID': 'J',\n",
    "           'trip_distance': 'D',\n",
    "           'fare_amount': 'C',\n",
    "           'tpep_pickup_datetime': 'T_start',\n",
    "           'tpep_dropoff_datetime': 'T_end'}\n",
    "    return trips_raw[list(renames.keys())].rename(columns=renames)\n",
    "    ###\n"
   ]
  },
  {
   "cell_type": "code",
   "execution_count": 14,
   "metadata": {},
   "outputs": [
    {
     "data": {
      "text/html": [
       "<div>\n",
       "<style scoped>\n",
       "    .dataframe tbody tr th:only-of-type {\n",
       "        vertical-align: middle;\n",
       "    }\n",
       "\n",
       "    .dataframe tbody tr th {\n",
       "        vertical-align: top;\n",
       "    }\n",
       "\n",
       "    .dataframe thead th {\n",
       "        text-align: right;\n",
       "    }\n",
       "</style>\n",
       "<table border=\"1\" class=\"dataframe\">\n",
       "  <thead>\n",
       "    <tr style=\"text-align: right;\">\n",
       "      <th></th>\n",
       "      <th>I</th>\n",
       "      <th>J</th>\n",
       "      <th>D</th>\n",
       "      <th>C</th>\n",
       "      <th>T_start</th>\n",
       "      <th>T_end</th>\n",
       "    </tr>\n",
       "  </thead>\n",
       "  <tbody>\n",
       "    <tr>\n",
       "      <th>0</th>\n",
       "      <td>145</td>\n",
       "      <td>145</td>\n",
       "      <td>0.0</td>\n",
       "      <td>3.0</td>\n",
       "      <td>2019-06-01 00:55:13</td>\n",
       "      <td>2019-06-01 00:56:17</td>\n",
       "    </tr>\n",
       "    <tr>\n",
       "      <th>1</th>\n",
       "      <td>262</td>\n",
       "      <td>263</td>\n",
       "      <td>0.0</td>\n",
       "      <td>2.5</td>\n",
       "      <td>2019-06-01 00:06:31</td>\n",
       "      <td>2019-06-01 00:06:52</td>\n",
       "    </tr>\n",
       "    <tr>\n",
       "      <th>2</th>\n",
       "      <td>74</td>\n",
       "      <td>7</td>\n",
       "      <td>4.4</td>\n",
       "      <td>17.5</td>\n",
       "      <td>2019-06-01 00:17:05</td>\n",
       "      <td>2019-06-01 00:36:38</td>\n",
       "    </tr>\n",
       "  </tbody>\n",
       "</table>\n",
       "</div>"
      ],
      "text/plain": [
       "     I    J    D     C             T_start               T_end\n",
       "0  145  145  0.0   3.0 2019-06-01 00:55:13 2019-06-01 00:56:17\n",
       "1  262  263  0.0   2.5 2019-06-01 00:06:31 2019-06-01 00:06:52\n",
       "2   74    7  4.4  17.5 2019-06-01 00:17:05 2019-06-01 00:36:38"
      ]
     },
     "execution_count": 14,
     "metadata": {},
     "output_type": "execute_result"
    }
   ],
   "source": [
    "# Demo:\n",
    "focus(taxi_trips_raw.iloc[:3])"
   ]
  },
  {
   "cell_type": "code",
   "execution_count": 15,
   "metadata": {
    "deletable": false,
    "editable": false,
    "nbgrader": {
     "grade": true,
     "grade_id": "mt2_ex2_focus",
     "locked": true,
     "points": "1",
     "solution": false
    }
   },
   "outputs": [
    {
     "name": "stdout",
     "output_type": "stream",
     "text": [
      "Testing...\n",
      "\n",
      "(Passed!)\n"
     ]
    }
   ],
   "source": [
    "# Test cell: `mt2_ex2_focus` (1 point)\n",
    "\n",
    "###\n",
    "### AUTOGRADER TEST - DO NOT REMOVE\n",
    "###\n",
    "\n",
    "from testing_tools import mt2_ex2__check\n",
    "print(\"Testing...\")\n",
    "for trial in range(100):\n",
    "    mt2_ex2__check(focus)\n",
    "\n",
    "focus__passed = True\n",
    "print(\"\\n(Passed!)\")"
   ]
  },
  {
   "cell_type": "markdown",
   "metadata": {
    "deletable": false,
    "editable": false,
    "nbgrader": {
     "grade": false,
     "locked": true,
     "solution": false
    }
   },
   "source": [
    "### Sample results for Exercise 2: `focus` $\\implies$ `trips` ###\n",
    "\n",
    "If you had a working solution to Exercise 2, then in principle you could use it to generate a focused version of the full `taxi_trips_raw` input. We have precomputed that for you; run the cell below to load this dataframe, which will be stored in the global variable, `trips`.\n",
    "\n",
    "> **Read and run this cell even if you skipped or otherwise did not complete Exercise 2.**"
   ]
  },
  {
   "cell_type": "code",
   "execution_count": 16,
   "metadata": {
    "deletable": false,
    "editable": false,
    "nbgrader": {
     "grade": false,
     "locked": true,
     "solution": false
    }
   },
   "outputs": [
    {
     "data": {
      "text/html": [
       "<div>\n",
       "<style scoped>\n",
       "    .dataframe tbody tr th:only-of-type {\n",
       "        vertical-align: middle;\n",
       "    }\n",
       "\n",
       "    .dataframe tbody tr th {\n",
       "        vertical-align: top;\n",
       "    }\n",
       "\n",
       "    .dataframe thead th {\n",
       "        text-align: right;\n",
       "    }\n",
       "</style>\n",
       "<table border=\"1\" class=\"dataframe\">\n",
       "  <thead>\n",
       "    <tr style=\"text-align: right;\">\n",
       "      <th></th>\n",
       "      <th>I</th>\n",
       "      <th>J</th>\n",
       "      <th>D</th>\n",
       "      <th>C</th>\n",
       "      <th>T_start</th>\n",
       "      <th>T_end</th>\n",
       "    </tr>\n",
       "  </thead>\n",
       "  <tbody>\n",
       "    <tr>\n",
       "      <th>0</th>\n",
       "      <td>145</td>\n",
       "      <td>145</td>\n",
       "      <td>0.0</td>\n",
       "      <td>3.0</td>\n",
       "      <td>2019-06-01 00:55:13</td>\n",
       "      <td>2019-06-01 00:56:17</td>\n",
       "    </tr>\n",
       "    <tr>\n",
       "      <th>1</th>\n",
       "      <td>262</td>\n",
       "      <td>263</td>\n",
       "      <td>0.0</td>\n",
       "      <td>2.5</td>\n",
       "      <td>2019-06-01 00:06:31</td>\n",
       "      <td>2019-06-01 00:06:52</td>\n",
       "    </tr>\n",
       "    <tr>\n",
       "      <th>2</th>\n",
       "      <td>74</td>\n",
       "      <td>7</td>\n",
       "      <td>4.4</td>\n",
       "      <td>17.5</td>\n",
       "      <td>2019-06-01 00:17:05</td>\n",
       "      <td>2019-06-01 00:36:38</td>\n",
       "    </tr>\n",
       "    <tr>\n",
       "      <th>3</th>\n",
       "      <td>145</td>\n",
       "      <td>145</td>\n",
       "      <td>0.8</td>\n",
       "      <td>2.5</td>\n",
       "      <td>2019-06-01 00:59:02</td>\n",
       "      <td>2019-06-01 00:59:12</td>\n",
       "    </tr>\n",
       "    <tr>\n",
       "      <th>4</th>\n",
       "      <td>113</td>\n",
       "      <td>148</td>\n",
       "      <td>1.7</td>\n",
       "      <td>9.5</td>\n",
       "      <td>2019-06-01 00:03:25</td>\n",
       "      <td>2019-06-01 00:15:42</td>\n",
       "    </tr>\n",
       "  </tbody>\n",
       "</table>\n",
       "</div>"
      ],
      "text/plain": [
       "     I    J    D     C             T_start               T_end\n",
       "0  145  145  0.0   3.0 2019-06-01 00:55:13 2019-06-01 00:56:17\n",
       "1  262  263  0.0   2.5 2019-06-01 00:06:31 2019-06-01 00:06:52\n",
       "2   74    7  4.4  17.5 2019-06-01 00:17:05 2019-06-01 00:36:38\n",
       "3  145  145  0.8   2.5 2019-06-01 00:59:02 2019-06-01 00:59:12\n",
       "4  113  148  1.7   9.5 2019-06-01 00:03:25 2019-06-01 00:15:42"
      ]
     },
     "metadata": {},
     "output_type": "display_data"
    }
   ],
   "source": [
    "from testing_tools import mt2_trips as trips\n",
    "display(trips.head())"
   ]
  },
  {
   "cell_type": "markdown",
   "metadata": {
    "deletable": false,
    "editable": false,
    "nbgrader": {
     "grade": false,
     "locked": true,
     "solution": false
    }
   },
   "source": [
    "## Part C: Date/Time objects (Exercise 3) ##\n",
    "\n",
    "Our \"focused\" dataframe includes two columns with trip start and stop times. These are stored as native Python `datetime` objects, which you would have encountered if you did the recommended Practice Midterm 2, Problem 18 (pmt2.18). By way of review, here is how they work.\n",
    "\n",
    "Recall the first few rows of the `trips` dataframe:"
   ]
  },
  {
   "cell_type": "code",
   "execution_count": 17,
   "metadata": {
    "deletable": false,
    "editable": false,
    "nbgrader": {
     "grade": false,
     "locked": true,
     "solution": false
    }
   },
   "outputs": [
    {
     "data": {
      "text/html": [
       "<div>\n",
       "<style scoped>\n",
       "    .dataframe tbody tr th:only-of-type {\n",
       "        vertical-align: middle;\n",
       "    }\n",
       "\n",
       "    .dataframe tbody tr th {\n",
       "        vertical-align: top;\n",
       "    }\n",
       "\n",
       "    .dataframe thead th {\n",
       "        text-align: right;\n",
       "    }\n",
       "</style>\n",
       "<table border=\"1\" class=\"dataframe\">\n",
       "  <thead>\n",
       "    <tr style=\"text-align: right;\">\n",
       "      <th></th>\n",
       "      <th>I</th>\n",
       "      <th>J</th>\n",
       "      <th>D</th>\n",
       "      <th>C</th>\n",
       "      <th>T_start</th>\n",
       "      <th>T_end</th>\n",
       "    </tr>\n",
       "  </thead>\n",
       "  <tbody>\n",
       "    <tr>\n",
       "      <th>0</th>\n",
       "      <td>145</td>\n",
       "      <td>145</td>\n",
       "      <td>0.0</td>\n",
       "      <td>3.0</td>\n",
       "      <td>2019-06-01 00:55:13</td>\n",
       "      <td>2019-06-01 00:56:17</td>\n",
       "    </tr>\n",
       "    <tr>\n",
       "      <th>1</th>\n",
       "      <td>262</td>\n",
       "      <td>263</td>\n",
       "      <td>0.0</td>\n",
       "      <td>2.5</td>\n",
       "      <td>2019-06-01 00:06:31</td>\n",
       "      <td>2019-06-01 00:06:52</td>\n",
       "    </tr>\n",
       "    <tr>\n",
       "      <th>2</th>\n",
       "      <td>74</td>\n",
       "      <td>7</td>\n",
       "      <td>4.4</td>\n",
       "      <td>17.5</td>\n",
       "      <td>2019-06-01 00:17:05</td>\n",
       "      <td>2019-06-01 00:36:38</td>\n",
       "    </tr>\n",
       "  </tbody>\n",
       "</table>\n",
       "</div>"
      ],
      "text/plain": [
       "     I    J    D     C             T_start               T_end\n",
       "0  145  145  0.0   3.0 2019-06-01 00:55:13 2019-06-01 00:56:17\n",
       "1  262  263  0.0   2.5 2019-06-01 00:06:31 2019-06-01 00:06:52\n",
       "2   74    7  4.4  17.5 2019-06-01 00:17:05 2019-06-01 00:36:38"
      ]
     },
     "execution_count": 17,
     "metadata": {},
     "output_type": "execute_result"
    }
   ],
   "source": [
    "trips.head(3)"
   ]
  },
  {
   "cell_type": "markdown",
   "metadata": {
    "deletable": false,
    "editable": false,
    "nbgrader": {
     "grade": false,
     "locked": true,
     "solution": false
    }
   },
   "source": [
    "Suppose we want to know the _duration_ of the very first ride (row 0). The contents of the `T_start` and `T_end` columns are special objects for storing date/timestamps:"
   ]
  },
  {
   "cell_type": "code",
   "execution_count": 18,
   "metadata": {
    "deletable": false,
    "editable": false,
    "nbgrader": {
     "grade": false,
     "locked": true,
     "solution": false
    }
   },
   "outputs": [
    {
     "name": "stdout",
     "output_type": "stream",
     "text": [
      "<class 'pandas._libs.tslibs.timestamps.Timestamp'>\n"
     ]
    }
   ],
   "source": [
    "print(type(trips['T_start'].iloc[0]))"
   ]
  },
  {
   "cell_type": "markdown",
   "metadata": {
    "deletable": false,
    "editable": false,
    "nbgrader": {
     "grade": false,
     "locked": true,
     "solution": false
    }
   },
   "source": [
    "You can use simple arithmetic to compute the time difference, which produces a special `timedelta` object [[documentation link](https://pandas.pydata.org/docs/reference/api/pandas.Timedelta.html)]:"
   ]
  },
  {
   "cell_type": "code",
   "execution_count": 19,
   "metadata": {
    "deletable": false,
    "editable": false,
    "nbgrader": {
     "grade": false,
     "locked": true,
     "solution": false
    }
   },
   "outputs": [
    {
     "name": "stdout",
     "output_type": "stream",
     "text": [
      "0 days 00:01:04 <== <class 'pandas._libs.tslibs.timedeltas.Timedelta'>\n"
     ]
    }
   ],
   "source": [
    "t_start_demo = trips['T_start'].iloc[0]\n",
    "t_end_demo = trips['T_end'].iloc[0]\n",
    "dt_demo = t_end_demo - t_start_demo\n",
    "print(dt_demo, \"<==\", type(dt_demo))"
   ]
  },
  {
   "cell_type": "markdown",
   "metadata": {
    "deletable": false,
    "editable": false,
    "nbgrader": {
     "grade": false,
     "locked": true,
     "solution": false
    }
   },
   "source": [
    "This ride was evidently a short one, lasting just over 1 minute (1 minute and 4 seconds).\n",
    "\n",
    "These timedelta objects have special accessor fields, too. For example, if you want to convert this value to seconds, you can use the `.total_seconds()` function [[docs](https://pandas.pydata.org/docs/reference/api/pandas.Timedelta.total_seconds.html)]:"
   ]
  },
  {
   "cell_type": "code",
   "execution_count": 20,
   "metadata": {
    "deletable": false,
    "editable": false,
    "nbgrader": {
     "grade": false,
     "locked": true,
     "solution": false
    }
   },
   "outputs": [
    {
     "data": {
      "text/plain": [
       "64.0"
      ]
     },
     "execution_count": 20,
     "metadata": {},
     "output_type": "execute_result"
    }
   ],
   "source": [
    "dt_demo.total_seconds()"
   ]
  },
  {
   "cell_type": "markdown",
   "metadata": {
    "deletable": false,
    "editable": false,
    "nbgrader": {
     "grade": false,
     "locked": true,
     "solution": false
    }
   },
   "source": [
    "**Vectorized datetime accessors via `.dt`.** Beyond one-at-a-time access, there is another, faster way to do operations on any datetime or timedelta `Series` object using the `.dt` accessor. For example, here we calculate the time differences and extract the seconds for the first 3 rows:"
   ]
  },
  {
   "cell_type": "code",
   "execution_count": 21,
   "metadata": {
    "deletable": false,
    "editable": false,
    "nbgrader": {
     "grade": false,
     "locked": true,
     "solution": false
    }
   },
   "outputs": [
    {
     "name": "stdout",
     "output_type": "stream",
     "text": [
      "Trip times for the first three rows:\n",
      "\n"
     ]
    },
    {
     "data": {
      "text/plain": [
       "0   0 days 00:01:04\n",
       "1   0 days 00:00:21\n",
       "2   0 days 00:19:33\n",
       "dtype: timedelta64[ns]"
      ]
     },
     "metadata": {},
     "output_type": "display_data"
    },
    {
     "name": "stdout",
     "output_type": "stream",
     "text": [
      "\n",
      "Converting to total number of seconds:\n"
     ]
    },
    {
     "data": {
      "text/plain": [
       "0      64.0\n",
       "1      21.0\n",
       "2    1173.0\n",
       "dtype: float64"
      ]
     },
     "metadata": {},
     "output_type": "display_data"
    }
   ],
   "source": [
    "print(\"Trip times for the first three rows:\\n\")\n",
    "dt_series_demo = (trips['T_end'] - trips['T_start']).iloc[:3]\n",
    "display(dt_series_demo)\n",
    "\n",
    "print(\"\\nConverting to total number of seconds:\")\n",
    "display(dt_series_demo.dt.total_seconds())"
   ]
  },
  {
   "cell_type": "markdown",
   "metadata": {
    "deletable": false,
    "editable": false,
    "nbgrader": {
     "grade": false,
     "locked": true,
     "solution": false
    }
   },
   "source": [
    "### Exercise 3: `get_minutes` (1 point) ###\n",
    "\n",
    "Complete the function, `get_minutes(trips)`, below. It should take a \"focused\" trips dataframe, like `trips` above with `'T_start'` and `'T_end'` columns, as input. It should then return a **pandas `Series` object** of floating-point values corresponding to the total number of **minutes** that elapsed between the trip start and end.\n",
    "\n",
    "For example, suppose `trips` is as follows:\n",
    "\n",
    "|    |   I |   J |   D |    C | T_start             | T_end               |\n",
    "|---:|----:|----:|----:|-----:|:--------------------|:--------------------|\n",
    "|  0 | 145 | 145 | 0   |  3   | 2019-06-01 00:55:13 | 2019-06-01 00:56:17 |\n",
    "|  1 | 262 | 263 | 0   |  2.5 | 2019-06-01 00:06:31 | 2019-06-01 00:06:52 |\n",
    "|  2 |  74 |   7 | 4.4 | 17.5 | 2019-06-01 00:17:05 | 2019-06-01 00:36:38 |\n",
    "\n",
    "Then your function would return the Series,\n",
    "\n",
    "```\n",
    "0     1.066667\n",
    "1     0.350000\n",
    "2    19.550000\n",
    "dtype: float64\n",
    "```\n",
    "\n",
    "> _Note 0:_ Timedelta objects have both `.total_seconds()` and `.seconds` accessors. However, it is **not** correct to use `.seconds` for this problem.\n",
    ">\n",
    "> _Note 1:_ The index of your `Series` should match the index of the input `trips`."
   ]
  },
  {
   "cell_type": "code",
   "execution_count": 22,
   "metadata": {
    "collapsed": true,
    "nbgrader": {
     "grade": false,
     "locked": false,
     "solution": false
    }
   },
   "outputs": [],
   "source": [
    "def get_minutes(trips):\n",
    "    ###\n",
    "    mins = (trips['T_end'] - trips['T_start']).dt.total_seconds() / 60\n",
    "    return mins\n",
    "    ###\n"
   ]
  },
  {
   "cell_type": "code",
   "execution_count": 23,
   "metadata": {},
   "outputs": [
    {
     "data": {
      "text/plain": [
       "0     1.066667\n",
       "1     0.350000\n",
       "2    19.550000\n",
       "dtype: float64"
      ]
     },
     "execution_count": 23,
     "metadata": {},
     "output_type": "execute_result"
    }
   ],
   "source": [
    "# Demo:\n",
    "get_minutes(trips.head(3))"
   ]
  },
  {
   "cell_type": "code",
   "execution_count": 24,
   "metadata": {
    "deletable": false,
    "editable": false,
    "nbgrader": {
     "grade": true,
     "grade_id": "mt2_ex3_get_minutes",
     "locked": true,
     "points": "1",
     "solution": false
    }
   },
   "outputs": [
    {
     "name": "stdout",
     "output_type": "stream",
     "text": [
      "Testing...\n",
      "\n",
      "(Passed!)\n"
     ]
    }
   ],
   "source": [
    "# Test cell: `mt2_ex3_get_minutes` (1 point)\n",
    "\n",
    "###\n",
    "### AUTOGRADER TEST - DO NOT REMOVE\n",
    "###\n",
    "\n",
    "from testing_tools import mt2_ex3__check\n",
    "print(\"Testing...\")\n",
    "for trial in range(100):\n",
    "    mt2_ex3__check(get_minutes)\n",
    "\n",
    "get_minutes__passed = True\n",
    "print(\"\\n(Passed!)\")"
   ]
  },
  {
   "cell_type": "markdown",
   "metadata": {
    "deletable": false,
    "editable": false,
    "nbgrader": {
     "grade": false,
     "locked": true,
     "solution": false
    }
   },
   "source": [
    "### Sample results for Exercise 3: `get_minutes` $\\implies$ updated `trips` ###\n",
    "\n",
    "If you had a working solution to Exercise 3, then in principle you could use it to generate trip times and add them as a new column to the `trips` dataframe. We have precomputed that for you; run the cell below to load this dataframe, which will add a column named `'T'` to the `trips` dataframe.\n",
    "\n",
    "> **Read and run this cell even if you skipped or otherwise did not complete Exercise 3.**"
   ]
  },
  {
   "cell_type": "code",
   "execution_count": 25,
   "metadata": {
    "deletable": false,
    "editable": false,
    "nbgrader": {
     "grade": false,
     "locked": true,
     "solution": false
    }
   },
   "outputs": [
    {
     "data": {
      "text/html": [
       "<div>\n",
       "<style scoped>\n",
       "    .dataframe tbody tr th:only-of-type {\n",
       "        vertical-align: middle;\n",
       "    }\n",
       "\n",
       "    .dataframe tbody tr th {\n",
       "        vertical-align: top;\n",
       "    }\n",
       "\n",
       "    .dataframe thead th {\n",
       "        text-align: right;\n",
       "    }\n",
       "</style>\n",
       "<table border=\"1\" class=\"dataframe\">\n",
       "  <thead>\n",
       "    <tr style=\"text-align: right;\">\n",
       "      <th></th>\n",
       "      <th>I</th>\n",
       "      <th>J</th>\n",
       "      <th>D</th>\n",
       "      <th>C</th>\n",
       "      <th>T_start</th>\n",
       "      <th>T_end</th>\n",
       "      <th>T</th>\n",
       "    </tr>\n",
       "  </thead>\n",
       "  <tbody>\n",
       "    <tr>\n",
       "      <th>0</th>\n",
       "      <td>145</td>\n",
       "      <td>145</td>\n",
       "      <td>0.0</td>\n",
       "      <td>3.0</td>\n",
       "      <td>2019-06-01 00:55:13</td>\n",
       "      <td>2019-06-01 00:56:17</td>\n",
       "      <td>1.066667</td>\n",
       "    </tr>\n",
       "    <tr>\n",
       "      <th>1</th>\n",
       "      <td>262</td>\n",
       "      <td>263</td>\n",
       "      <td>0.0</td>\n",
       "      <td>2.5</td>\n",
       "      <td>2019-06-01 00:06:31</td>\n",
       "      <td>2019-06-01 00:06:52</td>\n",
       "      <td>0.350000</td>\n",
       "    </tr>\n",
       "    <tr>\n",
       "      <th>2</th>\n",
       "      <td>74</td>\n",
       "      <td>7</td>\n",
       "      <td>4.4</td>\n",
       "      <td>17.5</td>\n",
       "      <td>2019-06-01 00:17:05</td>\n",
       "      <td>2019-06-01 00:36:38</td>\n",
       "      <td>19.550000</td>\n",
       "    </tr>\n",
       "    <tr>\n",
       "      <th>3</th>\n",
       "      <td>145</td>\n",
       "      <td>145</td>\n",
       "      <td>0.8</td>\n",
       "      <td>2.5</td>\n",
       "      <td>2019-06-01 00:59:02</td>\n",
       "      <td>2019-06-01 00:59:12</td>\n",
       "      <td>0.166667</td>\n",
       "    </tr>\n",
       "    <tr>\n",
       "      <th>4</th>\n",
       "      <td>113</td>\n",
       "      <td>148</td>\n",
       "      <td>1.7</td>\n",
       "      <td>9.5</td>\n",
       "      <td>2019-06-01 00:03:25</td>\n",
       "      <td>2019-06-01 00:15:42</td>\n",
       "      <td>12.283333</td>\n",
       "    </tr>\n",
       "  </tbody>\n",
       "</table>\n",
       "</div>"
      ],
      "text/plain": [
       "     I    J    D     C             T_start               T_end          T\n",
       "0  145  145  0.0   3.0 2019-06-01 00:55:13 2019-06-01 00:56:17   1.066667\n",
       "1  262  263  0.0   2.5 2019-06-01 00:06:31 2019-06-01 00:06:52   0.350000\n",
       "2   74    7  4.4  17.5 2019-06-01 00:17:05 2019-06-01 00:36:38  19.550000\n",
       "3  145  145  0.8   2.5 2019-06-01 00:59:02 2019-06-01 00:59:12   0.166667\n",
       "4  113  148  1.7   9.5 2019-06-01 00:03:25 2019-06-01 00:15:42  12.283333"
      ]
     },
     "metadata": {},
     "output_type": "display_data"
    }
   ],
   "source": [
    "from testing_tools import mt2_trip_times as trip_times\n",
    "trips['T'] = trip_times\n",
    "display(trips.head())"
   ]
  },
  {
   "cell_type": "markdown",
   "metadata": {
    "deletable": false,
    "editable": false,
    "nbgrader": {
     "grade": false,
     "locked": true,
     "solution": false
    }
   },
   "source": [
    "## Part D: Filtering (Exercises 4 and 5) ##\n",
    "\n",
    "Our data has several issues, which basic descriptive statistics reveals:"
   ]
  },
  {
   "cell_type": "code",
   "execution_count": 26,
   "metadata": {
    "deletable": false,
    "editable": false,
    "nbgrader": {
     "grade": false,
     "locked": true,
     "solution": false
    }
   },
   "outputs": [
    {
     "data": {
      "text/html": [
       "<div>\n",
       "<style scoped>\n",
       "    .dataframe tbody tr th:only-of-type {\n",
       "        vertical-align: middle;\n",
       "    }\n",
       "\n",
       "    .dataframe tbody tr th {\n",
       "        vertical-align: top;\n",
       "    }\n",
       "\n",
       "    .dataframe thead th {\n",
       "        text-align: right;\n",
       "    }\n",
       "</style>\n",
       "<table border=\"1\" class=\"dataframe\">\n",
       "  <thead>\n",
       "    <tr style=\"text-align: right;\">\n",
       "      <th></th>\n",
       "      <th>D</th>\n",
       "      <th>C</th>\n",
       "      <th>T</th>\n",
       "    </tr>\n",
       "  </thead>\n",
       "  <tbody>\n",
       "    <tr>\n",
       "      <th>count</th>\n",
       "      <td>6.941024e+06</td>\n",
       "      <td>6.941024e+06</td>\n",
       "      <td>6.941024e+06</td>\n",
       "    </tr>\n",
       "    <tr>\n",
       "      <th>mean</th>\n",
       "      <td>3.078505e+00</td>\n",
       "      <td>1.366414e+01</td>\n",
       "      <td>1.871131e+01</td>\n",
       "    </tr>\n",
       "    <tr>\n",
       "      <th>std</th>\n",
       "      <td>1.790048e+01</td>\n",
       "      <td>1.323297e+02</td>\n",
       "      <td>7.207988e+01</td>\n",
       "    </tr>\n",
       "    <tr>\n",
       "      <th>min</th>\n",
       "      <td>0.000000e+00</td>\n",
       "      <td>-3.050000e+02</td>\n",
       "      <td>-4.279383e+03</td>\n",
       "    </tr>\n",
       "    <tr>\n",
       "      <th>25%</th>\n",
       "      <td>1.000000e+00</td>\n",
       "      <td>6.500000e+00</td>\n",
       "      <td>6.866667e+00</td>\n",
       "    </tr>\n",
       "    <tr>\n",
       "      <th>50%</th>\n",
       "      <td>1.680000e+00</td>\n",
       "      <td>9.500000e+00</td>\n",
       "      <td>1.160000e+01</td>\n",
       "    </tr>\n",
       "    <tr>\n",
       "      <th>75%</th>\n",
       "      <td>3.140000e+00</td>\n",
       "      <td>1.500000e+01</td>\n",
       "      <td>1.916667e+01</td>\n",
       "    </tr>\n",
       "    <tr>\n",
       "      <th>max</th>\n",
       "      <td>4.597722e+04</td>\n",
       "      <td>3.469500e+05</td>\n",
       "      <td>1.503383e+03</td>\n",
       "    </tr>\n",
       "  </tbody>\n",
       "</table>\n",
       "</div>"
      ],
      "text/plain": [
       "                  D             C             T\n",
       "count  6.941024e+06  6.941024e+06  6.941024e+06\n",
       "mean   3.078505e+00  1.366414e+01  1.871131e+01\n",
       "std    1.790048e+01  1.323297e+02  7.207988e+01\n",
       "min    0.000000e+00 -3.050000e+02 -4.279383e+03\n",
       "25%    1.000000e+00  6.500000e+00  6.866667e+00\n",
       "50%    1.680000e+00  9.500000e+00  1.160000e+01\n",
       "75%    3.140000e+00  1.500000e+01  1.916667e+01\n",
       "max    4.597722e+04  3.469500e+05  1.503383e+03"
      ]
     },
     "execution_count": 26,
     "metadata": {},
     "output_type": "execute_result"
    }
   ],
   "source": [
    "assert 'trip_times' in globals(), \"*** Be sure you ran the 'sample results' cell for Exercise 3 ***\"\n",
    "\n",
    "trips[['D', 'C', 'T']].describe()"
   ]
  },
  {
   "cell_type": "markdown",
   "metadata": {
    "deletable": false,
    "editable": false,
    "nbgrader": {
     "grade": false,
     "locked": true,
     "solution": false
    }
   },
   "source": [
    "Here are just a few of the immediate problems:\n",
    "\n",
    "- The trip-distances column (`'D'`) has distances as small as 0 miles (`min` value) and as large as 45,000 miles (`max` value).\n",
    "- The fare-amount or cost column (`'C'`) includes _negative_ costs (-305 US dollars) and costs as large as 346,949.99 USD. _(Sure, NYC is expensive, but ... seriously?)_\n",
    "- The trip-times data also includes negative values, as well as times as high as 1,500 minutes (over 24 hours!).\n",
    "\n",
    "It's possible these are legitimate data points. But to avoid skewing our later analyses too much, let's get rid of them."
   ]
  },
  {
   "cell_type": "markdown",
   "metadata": {
    "deletable": false,
    "editable": false,
    "nbgrader": {
     "grade": false,
     "locked": true,
     "solution": false
    }
   },
   "source": [
    "### Exercise 4: `filter_bounds` (3 points) ###\n",
    "\n",
    "Let's write a function that can determine which values of a pandas `Series` lie within a desired interval.\n",
    "\n",
    "For instance, we might want to keep a value $x$ only if it lies in the right-open interval $[4, 20)$, meaning greater than or equal to 4 and strictly less than 20 ($4 \\leq x < 20$). Or perhaps we only want $x \\in [-3, 5]$, meaning between -3 and 5 inclusive ($-3 \\leq x \\leq 5$). Or maybe $x \\in (10, \\infty)$ meaning strictly greater than 10 with no upper-bound ($10 < x$)."
   ]
  },
  {
   "cell_type": "markdown",
   "metadata": {
    "deletable": false,
    "editable": false,
    "nbgrader": {
     "grade": false,
     "locked": true,
     "solution": false
    }
   },
   "source": [
    "**Your task.** Complete the function,\n",
    "\n",
    "```python\n",
    "def filter_bounds(s, lower=None, upper=None, include_lower=False, include_upper=False):\n",
    "    ...\n",
    "```\n",
    "\n",
    "so that it can implement bounds-based filters like those shown above. (Note the use of default values.)\n",
    "\n",
    "This function's inputs are:\n",
    "\n",
    "- `s`: A pandas `Series` to analyze.\n",
    "- `lower`: A lower-bound on desired values, or `None` for no lower-bound (i.e., a \"bound\" of $-\\infty$).\n",
    "- `upper`: An upper-bound on desired values, or `None` for no upper-bound (i.e., $+\\infty$).\n",
    "- `include_lower`: A flag set to `True` if the lower-bound is _inclusive_, or `False` if it is _strict_. (See below.)\n",
    "- `include_upper`: A flag set to `True` if the upper-bound is inclusive, or `False` if it is strict.\n",
    "\n",
    "An interval may be empty. For instance, the interval $(3, 2)$ has its \"lower\" bound of 3 greater than its \"upper\" bound of 2. In instances like this one, your function should return all `False` values.\n",
    "\n",
    "> By \"inclusive\" versus \"strict,\" we mean the following. Suppose `lower=4.5`. Then setting `include_lower=True` means we want to keep any value that is greater than **or equal to** 4.5; setting it to `False` means we only want values that are **strictly greater than** 4.5. The upper-bound is treated similarly. Therefore, a right-open bound like $[4, 20)$ becomes `lower=4, upper=20, include_lower=True`, `include_upper=False`; and a bound like $(10, \\infty)$ becomes `lower=10, upper=None`. (When `lower` or `upper` are `None`, the `include_lower` and `include_upper` flags, respectively, can be ignored.)\n",
    "\n",
    "Your function should return a **pandas `Series` of boolean** values (`True` or `False`), where an entry is `True` only if the corresponding value of `s` lies within the desired bounds. For example, suppose `s` is the pandas `Series`,\n",
    "\n",
    "```python\n",
    "s = pd.Series([10, 2, -10, -2, -9, 9, 5, 1, 2, 8])\n",
    "```\n",
    "\n",
    "Then filtering by $[-2, 4]$ (i.e., $-2 \\leq x \\leq 4$) becomes\n",
    "\n",
    "```python\n",
    "filter_bounds(s, lower=-2, upper=4, include_lower=True, include_upper=True) \\\n",
    "  == pd.Series([False, True, False, True, False, False, False, True, True, False])\n",
    "              #    10,    2,   -10,   -2,    -9,     9,     5,    1,    2,     8\n",
    "```\n",
    "\n",
    "and filtering by $(2, \\infty)$ (i.e., $2 < x$) becomes\n",
    "\n",
    "```python\n",
    "filter_bounds(ex4_s_demo, lower=2) \\\n",
    "  == pd.Series([True, False, False, False, False, True, True, False, False, True])\n",
    "              #   10,     2,   -10,    -2,    -9,    9,    5,     1,     2,    8\n",
    "```\n",
    "\n",
    "> _Note:_ Your `Series` should have the same index as the input `s`."
   ]
  },
  {
   "cell_type": "code",
   "execution_count": 27,
   "metadata": {
    "collapsed": true,
    "nbgrader": {
     "grade": false,
     "locked": false,
     "solution": false
    }
   },
   "outputs": [],
   "source": [
    "def filter_bounds(s, lower=None, upper=None, include_lower=False, include_upper=False):\n",
    "    ###\n",
    "    from pandas import Series\n",
    "    mask = Series([True] * len(s), index=s.index) # Keep everything initially\n",
    "    if lower is not None:\n",
    "        mask &= (s >= lower) if include_lower else (s > lower)\n",
    "    if upper is not None:\n",
    "        mask &= (s <= upper) if include_upper else (s < upper)\n",
    "    return mask\n",
    "    ###\n"
   ]
  },
  {
   "cell_type": "code",
   "execution_count": 28,
   "metadata": {},
   "outputs": [
    {
     "name": "stdout",
     "output_type": "stream",
     "text": [
      "Input:\n",
      "[ 10   2 -10  -2  -9   9   5   1   2   8]\n",
      "\n",
      "* [-2, 4], i.e., -2 <= x <= 4:\n",
      "[False  True False  True False False False  True  True False]\n",
      "\n",
      "* (2, infinity), i.e., 2 < x:\n",
      "[ True False False False False  True  True False False  True]\n"
     ]
    }
   ],
   "source": [
    "# Demo\n",
    "ex4_s_demo = pd.Series([10, 2, -10, -2, -9, 9, 5, 1, 2, 8])\n",
    "print(f\"Input:\\n{ex4_s_demo.values}\")\n",
    "\n",
    "ex4_demo1 = filter_bounds(ex4_s_demo, lower=-2, upper=4, include_lower=True, include_upper=True)\n",
    "print(f\"\\n* [-2, 4], i.e., -2 <= x <= 4:\\n{ex4_demo1.values}\")\n",
    "\n",
    "ex4_demo2 = filter_bounds(ex4_s_demo, lower=2)\n",
    "print(f\"\\n* (2, infinity), i.e., 2 < x:\\n{ex4_demo2.values}\")"
   ]
  },
  {
   "cell_type": "markdown",
   "metadata": {
    "deletable": false,
    "editable": false,
    "nbgrader": {
     "grade": false,
     "locked": true,
     "solution": false
    }
   },
   "source": [
    "> _Note:_ There are three test cells below for Exercise 4, meaning it is possible to get partial credit if only a subset pass."
   ]
  },
  {
   "cell_type": "code",
   "execution_count": 29,
   "metadata": {
    "deletable": false,
    "editable": false,
    "nbgrader": {
     "grade": true,
     "grade_id": "mt2_ex4a_filter_bounds",
     "locked": true,
     "points": "1.5",
     "solution": false
    }
   },
   "outputs": [
    {
     "name": "stdout",
     "output_type": "stream",
     "text": [
      "Testing...\n",
      "\n",
      "(Passed!)\n"
     ]
    }
   ],
   "source": [
    "# Test cell: `mt2_ex4a_filter_bounds` (1.5 points)\n",
    "\n",
    "def mt2_ex4a_filter_bounds_check():\n",
    "    from testing_tools import mt2_ex4__check\n",
    "    print(\"Testing...\")\n",
    "    for trial in range(100):\n",
    "        mt2_ex4__check(filter_bounds, lower=True, include_lower=True, upper=True, include_upper=True)\n",
    "        mt2_ex4__check(filter_bounds, lower=True, include_lower=True, upper=True, include_upper=False)\n",
    "        mt2_ex4__check(filter_bounds, lower=True, include_lower=False, upper=True, include_upper=True)\n",
    "        mt2_ex4__check(filter_bounds, lower=True, include_lower=False, upper=True, include_upper=False)\n",
    "\n",
    "mt2_ex4a_filter_bounds_check()\n",
    "filter_bounds_a__passed = True\n",
    "print(\"\\n(Passed!)\")"
   ]
  },
  {
   "cell_type": "code",
   "execution_count": 30,
   "metadata": {
    "deletable": false,
    "editable": false,
    "nbgrader": {
     "grade": true,
     "grade_id": "mt2_ex4b_filter_bounds",
     "locked": true,
     "points": "1",
     "solution": false
    }
   },
   "outputs": [
    {
     "name": "stdout",
     "output_type": "stream",
     "text": [
      "Testing...\n",
      "\n",
      "(Passed!)\n"
     ]
    }
   ],
   "source": [
    "# Test cell: `mt2_ex4b_filter_bounds` (1 point)\n",
    "\n",
    "def mt2_ex4b_filter_bounds_check():\n",
    "    from testing_tools import mt2_ex4__check\n",
    "    print(\"Testing...\")\n",
    "    for trial in range(50):\n",
    "        mt2_ex4__check(filter_bounds, lower=False, include_lower=True, upper=True, include_upper=True)\n",
    "        mt2_ex4__check(filter_bounds, lower=False, include_lower=True, upper=True, include_upper=False)\n",
    "        mt2_ex4__check(filter_bounds, lower=False, include_lower=False, upper=True, include_upper=True)\n",
    "        mt2_ex4__check(filter_bounds, lower=False, include_lower=False, upper=True, include_upper=False)\n",
    "        mt2_ex4__check(filter_bounds, lower=True, include_lower=True, upper=False, include_upper=True)\n",
    "        mt2_ex4__check(filter_bounds, lower=True, include_lower=True, upper=False, include_upper=False)\n",
    "        mt2_ex4__check(filter_bounds, lower=True, include_lower=False, upper=False, include_upper=True)\n",
    "        mt2_ex4__check(filter_bounds, lower=True, include_lower=False, upper=False, include_upper=False)\n",
    "        mt2_ex4__check(filter_bounds, lower=False, include_lower=False, upper=False, include_upper=False)\n",
    "\n",
    "mt2_ex4b_filter_bounds_check()\n",
    "filter_bounds_b__passed = True\n",
    "print(\"\\n(Passed!)\")"
   ]
  },
  {
   "cell_type": "code",
   "execution_count": 31,
   "metadata": {
    "deletable": false,
    "editable": false,
    "nbgrader": {
     "grade": true,
     "grade_id": "mt2_ex4c_filter_bounds",
     "locked": true,
     "points": "0.5",
     "solution": false
    }
   },
   "outputs": [
    {
     "name": "stdout",
     "output_type": "stream",
     "text": [
      "Testing...\n",
      "\n",
      "(Passed!)\n"
     ]
    }
   ],
   "source": [
    "# Test cell: `mt2_ex4c_filter_bounds` (0.5 points)\n",
    "\n",
    "###\n",
    "### AUTOGRADER TEST - DO NOT REMOVE\n",
    "###\n",
    "\n",
    "def mt2_ex4c_filter_bounds_check():\n",
    "    from testing_tools import mt2_ex4__check\n",
    "    print(\"Testing...\")\n",
    "    for trial in range(50):\n",
    "        mt2_ex4__check(filter_bounds, lower=False, include_lower=False, upper=False, include_upper=False)\n",
    "\n",
    "mt2_ex4c_filter_bounds_check()\n",
    "filter_bounds_c__passed = True\n",
    "print(\"\\n(Passed!)\")"
   ]
  },
  {
   "cell_type": "markdown",
   "metadata": {
    "deletable": false,
    "editable": false,
    "nbgrader": {
     "grade": false,
     "locked": true,
     "solution": false
    }
   },
   "source": [
    "### Sample results for Exercise 4: `filter_bounds` $\\implies$ updated `trips_clean` ###\n",
    "\n",
    "If you had a working solution to Exercise 4, then in principle you could use it to filter the outlier data mentioned previously.\n",
    "\n",
    "We did this filtering for you. In particular, we kept trips such that\n",
    "- the distance $d \\in [0.5, 100)$ miles;\n",
    "- the fare cost $c \\in (2.50, 100)$ US dollars;\n",
    "- and the trip time $t \\in (0, 180)$ minutes $= (0, 3)$ hours.\n",
    "\n",
    "This filtering can be accomplished for a working `filter_bounds` by the call,\n",
    "\n",
    "```python\n",
    "    mask = filter_bounds(trips['D'], lower=0.5, upper=100, include_lower=True, include_upper=False) \\\n",
    "           & filter_bounds(trips['C'], lower=2.5, upper=100, include_lower=False, include_upper=False) \\\n",
    "           & filter_bounds(trips['T'], lower=0, upper=180, include_lower=False, include_upper=False)\n",
    "    trips_clean = trips[mask]\n",
    "```\n",
    "\n",
    "The code cell below loads a precomputed `trips_clean`. Observe from its descriptive statistics, below, that these bounds are indeed satisfied.\n",
    "\n",
    "> **Read and run this cell even if you skipped or otherwise did not complete Exercise 4.**"
   ]
  },
  {
   "cell_type": "code",
   "execution_count": 32,
   "metadata": {
    "deletable": false,
    "editable": false,
    "nbgrader": {
     "grade": false,
     "locked": true,
     "solution": false
    }
   },
   "outputs": [
    {
     "name": "stdout",
     "output_type": "stream",
     "text": [
      "6,546,034 of 6,941,024 trips remain after bounds filtering (~ 94.3%).\n"
     ]
    },
    {
     "data": {
      "text/html": [
       "<div>\n",
       "<style scoped>\n",
       "    .dataframe tbody tr th:only-of-type {\n",
       "        vertical-align: middle;\n",
       "    }\n",
       "\n",
       "    .dataframe tbody tr th {\n",
       "        vertical-align: top;\n",
       "    }\n",
       "\n",
       "    .dataframe thead th {\n",
       "        text-align: right;\n",
       "    }\n",
       "</style>\n",
       "<table border=\"1\" class=\"dataframe\">\n",
       "  <thead>\n",
       "    <tr style=\"text-align: right;\">\n",
       "      <th></th>\n",
       "      <th>D</th>\n",
       "      <th>C</th>\n",
       "      <th>T</th>\n",
       "    </tr>\n",
       "  </thead>\n",
       "  <tbody>\n",
       "    <tr>\n",
       "      <th>count</th>\n",
       "      <td>6.546034e+06</td>\n",
       "      <td>6.546034e+06</td>\n",
       "      <td>6.546034e+06</td>\n",
       "    </tr>\n",
       "    <tr>\n",
       "      <th>mean</th>\n",
       "      <td>3.196179e+00</td>\n",
       "      <td>1.376594e+01</td>\n",
       "      <td>1.563992e+01</td>\n",
       "    </tr>\n",
       "    <tr>\n",
       "      <th>std</th>\n",
       "      <td>3.923776e+00</td>\n",
       "      <td>1.126200e+01</td>\n",
       "      <td>1.240244e+01</td>\n",
       "    </tr>\n",
       "    <tr>\n",
       "      <th>min</th>\n",
       "      <td>5.000000e-01</td>\n",
       "      <td>2.600000e+00</td>\n",
       "      <td>1.666667e-02</td>\n",
       "    </tr>\n",
       "    <tr>\n",
       "      <th>25%</th>\n",
       "      <td>1.100000e+00</td>\n",
       "      <td>7.000000e+00</td>\n",
       "      <td>7.466667e+00</td>\n",
       "    </tr>\n",
       "    <tr>\n",
       "      <th>50%</th>\n",
       "      <td>1.770000e+00</td>\n",
       "      <td>1.000000e+01</td>\n",
       "      <td>1.211667e+01</td>\n",
       "    </tr>\n",
       "    <tr>\n",
       "      <th>75%</th>\n",
       "      <td>3.300000e+00</td>\n",
       "      <td>1.550000e+01</td>\n",
       "      <td>1.960000e+01</td>\n",
       "    </tr>\n",
       "    <tr>\n",
       "      <th>max</th>\n",
       "      <td>6.384000e+01</td>\n",
       "      <td>9.980000e+01</td>\n",
       "      <td>1.798500e+02</td>\n",
       "    </tr>\n",
       "  </tbody>\n",
       "</table>\n",
       "</div>"
      ],
      "text/plain": [
       "                  D             C             T\n",
       "count  6.546034e+06  6.546034e+06  6.546034e+06\n",
       "mean   3.196179e+00  1.376594e+01  1.563992e+01\n",
       "std    3.923776e+00  1.126200e+01  1.240244e+01\n",
       "min    5.000000e-01  2.600000e+00  1.666667e-02\n",
       "25%    1.100000e+00  7.000000e+00  7.466667e+00\n",
       "50%    1.770000e+00  1.000000e+01  1.211667e+01\n",
       "75%    3.300000e+00  1.550000e+01  1.960000e+01\n",
       "max    6.384000e+01  9.980000e+01  1.798500e+02"
      ]
     },
     "execution_count": 32,
     "metadata": {},
     "output_type": "execute_result"
    }
   ],
   "source": [
    "from testing_tools import mt2_trips_clean as trips_clean\n",
    "\n",
    "print(f\"{len(trips_clean):,} of {len(trips):,} trips remain \"\n",
    "      f\"after bounds filtering (~ {len(trips_clean)/len(trips)*100:.1f}%).\")\n",
    "\n",
    "trips_clean[['D', 'C', 'T']].describe()"
   ]
  },
  {
   "cell_type": "markdown",
   "metadata": {
    "deletable": false,
    "editable": false,
    "nbgrader": {
     "grade": false,
     "locked": true,
     "solution": false
    }
   },
   "source": [
    "### Exercise 5: `count_trips` (2 points) ###\n",
    "\n",
    "For the next filtering step, we need to count how many trips there are between pairs of zones. Recall that the `'I'` and `'J'` columns of `trips` (and `trips_clean`) indicate the starting and ending zones, respectively.\n",
    "\n",
    "Let `trip_coords` be a dataframe consisting of just two columns, `'I'`, and `'J'`, taken from `trips` or `trips_clean`, for instance. Complete the function, `count_trips(trip_coords, min_trips=0)`, so that it counts the number of start/end pairs **and** retains only those where the count is at least a certain value.\n",
    "\n",
    "That is, the inputs are\n",
    "\n",
    "- `trip_coords`: a pandas `DataFrame` with two columns, `'I'` and `'J'`, indicating start/end zone pairs\n",
    "- `min_trips`: the minimum number of trips to consider (the default is 0, meaning include all pairs)\n",
    "\n",
    "The function should return a pandas `DataFrame` object with three columns derived from the input `trip_coords`:\n",
    "\n",
    "- `'I'`: the starting zone;\n",
    "- `'J'`: the ending zone; and\n",
    "- `'N'`: the number of trips originating at `'I'` and ending at `'J'`.\n",
    "\n",
    "Your function should only include start-end pairs where `'N'` >= `min_trips`.\n",
    "\n",
    "For instance, suppose the input dataframe `trip_coords` is the following:\n",
    "\n",
    "|   I |   J |\n",
    "|----:|----:|\n",
    "| 139 |  28 |\n",
    "| 169 |  51 |\n",
    "| 231 | 128 |\n",
    "| 169 |  51 |\n",
    "| 169 |  51 |\n",
    "| 169 |  51 |\n",
    "| 139 |  28 |\n",
    "|  85 | 217 |\n",
    "| 231 | 128 |\n",
    "| 231 | 128 |\n",
    "\n",
    "Then if `min_trips=3`, your function would return\n",
    "\n",
    "|   I |   J |   N |\n",
    "|----:|----:|----:|\n",
    "| 169 |  51 |   4 |\n",
    "| 231 | 128 |   3 |\n",
    "\n",
    "which omits the pairs (85, 217) and (139, 28) since they appear only once and twice, respectively.\n",
    "\n",
    "> _Note:_ If no pair meets the minimum trips threshold, your function should return a `DataFrame` with the required columns but no rows."
   ]
  },
  {
   "cell_type": "code",
   "execution_count": 33,
   "metadata": {
    "collapsed": true,
    "nbgrader": {
     "grade": false,
     "locked": false,
     "solution": false
    }
   },
   "outputs": [],
   "source": [
    "def count_trips(trip_coords, min_trips=0):\n",
    "    ###\n",
    "    df_n = trip_coords.groupby(['I', 'J']) \\\n",
    "                      .size() \\\n",
    "                      .reset_index() \\\n",
    "                      .rename(columns={0: 'N'})\n",
    "    df_n = df_n[df_n['N'] >= min_trips]\n",
    "    return df_n\n",
    "    ###"
   ]
  },
  {
   "cell_type": "code",
   "execution_count": 34,
   "metadata": {},
   "outputs": [
    {
     "data": {
      "text/html": [
       "<div>\n",
       "<style scoped>\n",
       "    .dataframe tbody tr th:only-of-type {\n",
       "        vertical-align: middle;\n",
       "    }\n",
       "\n",
       "    .dataframe tbody tr th {\n",
       "        vertical-align: top;\n",
       "    }\n",
       "\n",
       "    .dataframe thead th {\n",
       "        text-align: right;\n",
       "    }\n",
       "</style>\n",
       "<table border=\"1\" class=\"dataframe\">\n",
       "  <thead>\n",
       "    <tr style=\"text-align: right;\">\n",
       "      <th></th>\n",
       "      <th>I</th>\n",
       "      <th>J</th>\n",
       "    </tr>\n",
       "  </thead>\n",
       "  <tbody>\n",
       "    <tr>\n",
       "      <th>0</th>\n",
       "      <td>169</td>\n",
       "      <td>51</td>\n",
       "    </tr>\n",
       "    <tr>\n",
       "      <th>1</th>\n",
       "      <td>231</td>\n",
       "      <td>128</td>\n",
       "    </tr>\n",
       "    <tr>\n",
       "      <th>2</th>\n",
       "      <td>139</td>\n",
       "      <td>28</td>\n",
       "    </tr>\n",
       "    <tr>\n",
       "      <th>3</th>\n",
       "      <td>231</td>\n",
       "      <td>128</td>\n",
       "    </tr>\n",
       "    <tr>\n",
       "      <th>4</th>\n",
       "      <td>169</td>\n",
       "      <td>51</td>\n",
       "    </tr>\n",
       "    <tr>\n",
       "      <th>5</th>\n",
       "      <td>139</td>\n",
       "      <td>28</td>\n",
       "    </tr>\n",
       "    <tr>\n",
       "      <th>6</th>\n",
       "      <td>231</td>\n",
       "      <td>128</td>\n",
       "    </tr>\n",
       "    <tr>\n",
       "      <th>7</th>\n",
       "      <td>85</td>\n",
       "      <td>217</td>\n",
       "    </tr>\n",
       "    <tr>\n",
       "      <th>8</th>\n",
       "      <td>169</td>\n",
       "      <td>51</td>\n",
       "    </tr>\n",
       "    <tr>\n",
       "      <th>9</th>\n",
       "      <td>169</td>\n",
       "      <td>51</td>\n",
       "    </tr>\n",
       "  </tbody>\n",
       "</table>\n",
       "</div>"
      ],
      "text/plain": [
       "     I    J\n",
       "0  169   51\n",
       "1  231  128\n",
       "2  139   28\n",
       "3  231  128\n",
       "4  169   51\n",
       "5  139   28\n",
       "6  231  128\n",
       "7   85  217\n",
       "8  169   51\n",
       "9  169   51"
      ]
     },
     "metadata": {},
     "output_type": "display_data"
    },
    {
     "data": {
      "text/html": [
       "<div>\n",
       "<style scoped>\n",
       "    .dataframe tbody tr th:only-of-type {\n",
       "        vertical-align: middle;\n",
       "    }\n",
       "\n",
       "    .dataframe tbody tr th {\n",
       "        vertical-align: top;\n",
       "    }\n",
       "\n",
       "    .dataframe thead th {\n",
       "        text-align: right;\n",
       "    }\n",
       "</style>\n",
       "<table border=\"1\" class=\"dataframe\">\n",
       "  <thead>\n",
       "    <tr style=\"text-align: right;\">\n",
       "      <th></th>\n",
       "      <th>I</th>\n",
       "      <th>J</th>\n",
       "      <th>N</th>\n",
       "    </tr>\n",
       "  </thead>\n",
       "  <tbody>\n",
       "    <tr>\n",
       "      <th>2</th>\n",
       "      <td>169</td>\n",
       "      <td>51</td>\n",
       "      <td>4</td>\n",
       "    </tr>\n",
       "    <tr>\n",
       "      <th>3</th>\n",
       "      <td>231</td>\n",
       "      <td>128</td>\n",
       "      <td>3</td>\n",
       "    </tr>\n",
       "  </tbody>\n",
       "</table>\n",
       "</div>"
      ],
      "text/plain": [
       "     I    J  N\n",
       "2  169   51  4\n",
       "3  231  128  3"
      ]
     },
     "execution_count": 34,
     "metadata": {},
     "output_type": "execute_result"
    }
   ],
   "source": [
    "# Demo:\n",
    "ex5_df = trips_clean[((trips_clean['I'] == 85) & (trips_clean['J'] == 217))\n",
    "                     | ((trips_clean['I'] == 139) & (trips_clean['J'] == 28))\n",
    "                     | ((trips_clean['I'] == 231) & (trips_clean['J'] == 128))\n",
    "                     | ((trips_clean['I'] == 169) & (trips_clean['J'] == 51))] \\\n",
    "                    [['I', 'J']] \\\n",
    "                    .reset_index(drop=True)\n",
    "display(ex5_df)\n",
    "count_trips(ex5_df, min_trips=3)"
   ]
  },
  {
   "cell_type": "code",
   "execution_count": 35,
   "metadata": {
    "deletable": false,
    "editable": false,
    "nbgrader": {
     "grade": true,
     "grade_id": "mt2_ex5_count_trips",
     "locked": true,
     "points": "2",
     "solution": false
    },
    "scrolled": false
   },
   "outputs": [
    {
     "name": "stdout",
     "output_type": "stream",
     "text": [
      "Testing...\n",
      "\n",
      "(Passed!)\n"
     ]
    }
   ],
   "source": [
    "# Test cell: mt2_ex5_count_trips (2 points)\n",
    "\n",
    "###\n",
    "### AUTOGRADER TEST - DO NOT REMOVE\n",
    "###\n",
    "\n",
    "from testing_tools import mt2_ex5__check\n",
    "print(\"Testing...\")\n",
    "for trial in range(100):\n",
    "    mt2_ex5__check(count_trips)\n",
    "\n",
    "count_trips__passed = True\n",
    "print(\"\\n(Passed!)\")"
   ]
  },
  {
   "cell_type": "markdown",
   "metadata": {
    "deletable": false,
    "editable": false,
    "nbgrader": {
     "grade": false,
     "locked": true,
     "solution": false
    }
   },
   "source": [
    "### Sample results for Exercise 5: `count_trips` $\\implies$ updated `trip_counts` ###\n",
    "\n",
    "If you had a working solution to Exercise 5, then in principle you could apply it to the `trips_clean` data. We have precomputed these counts for you and filtered them to include only zone pairs with at least 100 trips.\n",
    "\n",
    "The code cell below loads that result into the global object `trip_counts` (as distinct from your `count_trips()` function).\n",
    "\n",
    "> **Read and run this cell even if you skipped or otherwise did not complete Exercise 5.**"
   ]
  },
  {
   "cell_type": "code",
   "execution_count": 36,
   "metadata": {
    "deletable": false,
    "editable": false,
    "nbgrader": {
     "grade": false,
     "locked": true,
     "solution": false
    }
   },
   "outputs": [
    {
     "data": {
      "text/html": [
       "<div>\n",
       "<style scoped>\n",
       "    .dataframe tbody tr th:only-of-type {\n",
       "        vertical-align: middle;\n",
       "    }\n",
       "\n",
       "    .dataframe tbody tr th {\n",
       "        vertical-align: top;\n",
       "    }\n",
       "\n",
       "    .dataframe thead th {\n",
       "        text-align: right;\n",
       "    }\n",
       "</style>\n",
       "<table border=\"1\" class=\"dataframe\">\n",
       "  <thead>\n",
       "    <tr style=\"text-align: right;\">\n",
       "      <th></th>\n",
       "      <th>I</th>\n",
       "      <th>J</th>\n",
       "      <th>N</th>\n",
       "    </tr>\n",
       "  </thead>\n",
       "  <tbody>\n",
       "    <tr>\n",
       "      <th>13940</th>\n",
       "      <td>138</td>\n",
       "      <td>218</td>\n",
       "      <td>103</td>\n",
       "    </tr>\n",
       "    <tr>\n",
       "      <th>24439</th>\n",
       "      <td>232</td>\n",
       "      <td>148</td>\n",
       "      <td>277</td>\n",
       "    </tr>\n",
       "    <tr>\n",
       "      <th>14374</th>\n",
       "      <td>141</td>\n",
       "      <td>107</td>\n",
       "      <td>1914</td>\n",
       "    </tr>\n",
       "    <tr>\n",
       "      <th>19756</th>\n",
       "      <td>186</td>\n",
       "      <td>140</td>\n",
       "      <td>3260</td>\n",
       "    </tr>\n",
       "    <tr>\n",
       "      <th>10263</th>\n",
       "      <td>100</td>\n",
       "      <td>140</td>\n",
       "      <td>1537</td>\n",
       "    </tr>\n",
       "  </tbody>\n",
       "</table>\n",
       "</div>"
      ],
      "text/plain": [
       "         I    J     N\n",
       "13940  138  218   103\n",
       "24439  232  148   277\n",
       "14374  141  107  1914\n",
       "19756  186  140  3260\n",
       "10263  100  140  1537"
      ]
     },
     "metadata": {},
     "output_type": "display_data"
    },
    {
     "name": "stdout",
     "output_type": "stream",
     "text": [
      "==> Descriptive statistics on trip counts:\n"
     ]
    },
    {
     "data": {
      "text/plain": [
       "count     4515.000000\n",
       "mean      1392.024142\n",
       "std       2315.544401\n",
       "min        100.000000\n",
       "25%        206.000000\n",
       "50%        502.000000\n",
       "75%       1546.000000\n",
       "max      40526.000000\n",
       "Name: N, dtype: float64"
      ]
     },
     "execution_count": 36,
     "metadata": {},
     "output_type": "execute_result"
    }
   ],
   "source": [
    "from testing_tools import mt2_trip_counts as trip_counts\n",
    "\n",
    "display(trip_counts.sample(5))\n",
    "\n",
    "print(\"==> Descriptive statistics on trip counts:\")\n",
    "trip_counts['N'].describe()"
   ]
  },
  {
   "cell_type": "markdown",
   "metadata": {
    "deletable": false,
    "editable": false,
    "nbgrader": {
     "grade": false,
     "locked": true,
     "solution": false
    }
   },
   "source": [
    "## Part E: Basic analysis (Exercise 6) ##\n",
    "\n",
    "Having cleaned the data, let's conduct some simple analyses. As a warm-up, let's visualize the distributions of distance, time, and cost."
   ]
  },
  {
   "cell_type": "code",
   "execution_count": 37,
   "metadata": {
    "deletable": false,
    "editable": false,
    "nbgrader": {
     "grade": false,
     "locked": true,
     "solution": false
    }
   },
   "outputs": [
    {
     "data": {
      "image/png": "[encoded data removed]",
      "text/plain": [
       "<Figure size 1296x432 with 3 Axes>"
      ]
     },
     "metadata": {
      "needs_background": "light"
     },
     "output_type": "display_data"
    }
   ],
   "source": [
    "figure(figsize=(18, 6))\n",
    "subplot(1, 3, 1)\n",
    "histplot(data=trips_clean, x='D', stat='density')\n",
    "xlabel(\"Distance (miles)\")\n",
    "subplot(1, 3, 2)\n",
    "histplot(data=trips_clean, x='T', stat='density')\n",
    "xlabel(\"Time (minutes)\")\n",
    "subplot(1, 3, 3)\n",
    "histplot(data=trips_clean, x='C', stat='density')\n",
    "xlabel(\"Cost (US Dollars)\")\n",
    "pass"
   ]
  },
  {
   "cell_type": "markdown",
   "metadata": {
    "deletable": false,
    "editable": false,
    "nbgrader": {
     "grade": false,
     "locked": true,
     "solution": false
    }
   },
   "source": [
    "### Exercise 6: `part_of_day` (2 points) ###\n",
    "\n",
    "A natural question is whether trip distance, time, and cost vary with the time of day. To help check, complete the function, `part_of_day(tss)`, below.\n",
    "\n",
    "The input `tss` is a pandas `Series` containing datetime objects, just like `trips_clean['T_start']` or `trips_clean['T_end']`.\n",
    "\n",
    "Your function should determine the **hour**, as an integer between 0-23 inclusive, corresponding to a 24-hour clock. _Hint:_ Per Exercise 3, recall that a datetime `Series` `s` has an accessor `s.dt`; the attribute `s.dt.hour` will return the hour as a value in the interval [0, 23]; see [this link](https://pandas.pydata.org/docs/reference/api/pandas.Series.dt.hour.html) if you need details.\n",
    "\n",
    "Your function should then return a new pandas `Series` object with hour ranges converted to strings as follows:\n",
    "\n",
    "- Hours 0-5 inclusive => `'wee hours'`\n",
    "- Hours 6-11 inclusive => `'morning'`\n",
    "- Hours 12-17 inclusive => `'afternoon'`\n",
    "- Hours 18-23 inclusive => `'evening'`\n",
    "\n",
    "_Example._ Suppose `tss` is the `Series` object,\n",
    "```\n",
    "23       2019-06-01 00:30:42\n",
    "39781    2019-06-01 06:42:38\n",
    "164505   2019-06-01 17:40:07\n",
    "404098   2019-06-02 18:35:08\n",
    "Name: T_start, dtype: datetime64[ns]\n",
    "```\n",
    "_(The leftmost column of this example shows hypothetical index values.)_ Observe that the hours are 0, 6, 17, and 18. Therefore, your function would return a `Series` with these values:\n",
    "```\n",
    "23        wee hours\n",
    "39781       morning\n",
    "164505    afternoon\n",
    "404098      evening\n",
    "Name: T_start, dtype: object\n",
    "```\n",
    "\n",
    "> _Note:_ Your `Series` should have the same index as the input `tss`, as suggested by the example above."
   ]
  },
  {
   "cell_type": "code",
   "execution_count": 38,
   "metadata": {
    "collapsed": true
   },
   "outputs": [],
   "source": [
    "def part_of_day(tss):\n",
    "    ###\n",
    "    segments = tss.dt.hour // 6 # Divide 24-hour day into 4 segments\n",
    "    pod = segments.map({0: 'wee hours',\n",
    "                        1: 'morning',\n",
    "                        2: 'afternoon',\n",
    "                        3: 'evening'}) # remap to descriptions\n",
    "    return pod\n",
    "    ###\n"
   ]
  },
  {
   "cell_type": "code",
   "execution_count": 39,
   "metadata": {},
   "outputs": [
    {
     "name": "stdout",
     "output_type": "stream",
     "text": [
      "* Sample input `Series`:\n"
     ]
    },
    {
     "data": {
      "text/plain": [
       "23       2019-06-01 00:30:42\n",
       "39781    2019-06-01 06:42:38\n",
       "164505   2019-06-01 17:40:07\n",
       "404098   2019-06-02 18:35:08\n",
       "Name: T_start, dtype: datetime64[ns]"
      ]
     },
     "metadata": {},
     "output_type": "display_data"
    },
    {
     "name": "stdout",
     "output_type": "stream",
     "text": [
      "\n",
      "* Your output:\n"
     ]
    },
    {
     "data": {
      "text/plain": [
       "23        wee hours\n",
       "39781       morning\n",
       "164505    afternoon\n",
       "404098      evening\n",
       "Name: T_start, dtype: object"
      ]
     },
     "execution_count": 39,
     "metadata": {},
     "output_type": "execute_result"
    }
   ],
   "source": [
    "# Demo:\n",
    "print(\"* Sample input `Series`:\")\n",
    "ex6_demo = trips_clean['T_start'].iloc[[20, 37752, 155816, 382741]]\n",
    "display(ex6_demo)\n",
    "\n",
    "print(\"\\n* Your output:\")\n",
    "part_of_day(ex6_demo)"
   ]
  },
  {
   "cell_type": "code",
   "execution_count": 40,
   "metadata": {
    "deletable": false,
    "editable": false,
    "nbgrader": {
     "grade": true,
     "grade_id": "mt2_ex6_part_of_day",
     "locked": true,
     "points": "2",
     "solution": false
    }
   },
   "outputs": [
    {
     "name": "stdout",
     "output_type": "stream",
     "text": [
      "Testing...\n",
      "\n",
      "(Passed!)\n"
     ]
    }
   ],
   "source": [
    "# Test cell: mt2_ex6_part_of_day (2 points)\n",
    "\n",
    "###\n",
    "### AUTOGRADER TEST - DO NOT REMOVE\n",
    "###\n",
    "\n",
    "from testing_tools import mt2_ex6__check\n",
    "print(\"Testing...\")\n",
    "for trial in range(100):\n",
    "    mt2_ex6__check(part_of_day)\n",
    "\n",
    "part_of_day__passed = True\n",
    "print(\"\\n(Passed!)\")"
   ]
  },
  {
   "cell_type": "markdown",
   "metadata": {
    "deletable": false,
    "editable": false,
    "nbgrader": {
     "grade": false,
     "locked": true,
     "solution": false
    }
   },
   "source": [
    "### Sample results for Exercise 6: `part_of_day` $\\implies$ `trips_pod` ###\n",
    "\n",
    "If you had a working solution to Exercise 6, then in principle you could apply it to the `trips_clean` data to determine the part of the day in which each ride starts. We have precomputed these values for you.\n",
    "\n",
    "The code cell below loads that result into the global object `trips_pod` and runs a simple aggregation query to summarize the median distances, costs, and trip times by part-of-day.\n",
    "\n",
    "> **Read and run this cell even if you skipped or otherwise did not complete Exercise 6.**"
   ]
  },
  {
   "cell_type": "code",
   "execution_count": 41,
   "metadata": {
    "deletable": false,
    "editable": false,
    "nbgrader": {
     "grade": false,
     "locked": true,
     "solution": false
    }
   },
   "outputs": [
    {
     "data": {
      "text/html": [
       "<div>\n",
       "<style scoped>\n",
       "    .dataframe tbody tr th:only-of-type {\n",
       "        vertical-align: middle;\n",
       "    }\n",
       "\n",
       "    .dataframe tbody tr th {\n",
       "        vertical-align: top;\n",
       "    }\n",
       "\n",
       "    .dataframe thead th {\n",
       "        text-align: right;\n",
       "    }\n",
       "</style>\n",
       "<table border=\"1\" class=\"dataframe\">\n",
       "  <thead>\n",
       "    <tr style=\"text-align: right;\">\n",
       "      <th></th>\n",
       "      <th>D</th>\n",
       "      <th>C</th>\n",
       "      <th>T</th>\n",
       "    </tr>\n",
       "    <tr>\n",
       "      <th>P</th>\n",
       "      <th></th>\n",
       "      <th></th>\n",
       "      <th></th>\n",
       "    </tr>\n",
       "  </thead>\n",
       "  <tbody>\n",
       "    <tr>\n",
       "      <th>afternoon</th>\n",
       "      <td>1.63</td>\n",
       "      <td>10.0</td>\n",
       "      <td>13.333333</td>\n",
       "    </tr>\n",
       "    <tr>\n",
       "      <th>evening</th>\n",
       "      <td>1.86</td>\n",
       "      <td>10.0</td>\n",
       "      <td>11.833333</td>\n",
       "    </tr>\n",
       "    <tr>\n",
       "      <th>morning</th>\n",
       "      <td>1.63</td>\n",
       "      <td>9.5</td>\n",
       "      <td>11.750000</td>\n",
       "    </tr>\n",
       "    <tr>\n",
       "      <th>wee hours</th>\n",
       "      <td>2.30</td>\n",
       "      <td>10.0</td>\n",
       "      <td>10.500000</td>\n",
       "    </tr>\n",
       "  </tbody>\n",
       "</table>\n",
       "</div>"
      ],
      "text/plain": [
       "              D     C          T\n",
       "P                               \n",
       "afternoon  1.63  10.0  13.333333\n",
       "evening    1.86  10.0  11.833333\n",
       "morning    1.63   9.5  11.750000\n",
       "wee hours  2.30  10.0  10.500000"
      ]
     },
     "execution_count": 41,
     "metadata": {},
     "output_type": "execute_result"
    }
   ],
   "source": [
    "from testing_tools import mt2_parts_of_day as pod\n",
    "\n",
    "trips_pod = trips_clean.copy()\n",
    "trips_pod['P'] = pod\n",
    "trips_pod[['P', 'D', 'C', 'T']].groupby('P').agg('median')"
   ]
  },
  {
   "cell_type": "markdown",
   "metadata": {
    "deletable": false,
    "editable": false,
    "nbgrader": {
     "grade": false,
     "locked": true,
     "solution": false
    }
   },
   "source": [
    "Perhaps unsurprisingly, people tend to travel longer distances in the \"wee hours,\" but it takes less time to do so (presumably due to less traffic)."
   ]
  },
  {
   "cell_type": "markdown",
   "metadata": {
    "deletable": false,
    "editable": false,
    "nbgrader": {
     "grade": false,
     "locked": true,
     "solution": false
    }
   },
   "source": [
    "## Part F: Path finding (Exercise 7, the last exercise) ##\n",
    "\n",
    "For the last exercise, we'll see if we can identify potential paths through the city that are cheaper or faster than we might otherwise have guessed.\n",
    "\n",
    "By analogy, when you are shopping for flights, you might sometimes find that a route through a particular city (e.g., New York to Houston to Los Angeles) is cheaper than flying directly from New York to Los Angeles. Are there such _potential_ routes in the taxi dataset?"
   ]
  },
  {
   "cell_type": "markdown",
   "metadata": {
    "deletable": false,
    "editable": false,
    "nbgrader": {
     "grade": false,
     "locked": true,
     "solution": false
    }
   },
   "source": [
    "**Direct \"routes.\"** The taxi dataset itself contains \"direct routes\" between pairs of zones.\n",
    "\n",
    "To start, for each pair of zones, let's calculate the median trip cost."
   ]
  },
  {
   "cell_type": "code",
   "execution_count": 42,
   "metadata": {
    "deletable": false,
    "editable": false,
    "nbgrader": {
     "grade": false,
     "locked": true,
     "solution": false
    }
   },
   "outputs": [
    {
     "data": {
      "text/html": [
       "<div>\n",
       "<style scoped>\n",
       "    .dataframe tbody tr th:only-of-type {\n",
       "        vertical-align: middle;\n",
       "    }\n",
       "\n",
       "    .dataframe tbody tr th {\n",
       "        vertical-align: top;\n",
       "    }\n",
       "\n",
       "    .dataframe thead th {\n",
       "        text-align: right;\n",
       "    }\n",
       "</style>\n",
       "<table border=\"1\" class=\"dataframe\">\n",
       "  <thead>\n",
       "    <tr style=\"text-align: right;\">\n",
       "      <th></th>\n",
       "      <th>I</th>\n",
       "      <th>J</th>\n",
       "      <th>C</th>\n",
       "    </tr>\n",
       "  </thead>\n",
       "  <tbody>\n",
       "    <tr>\n",
       "      <th>0</th>\n",
       "      <td>1</td>\n",
       "      <td>1</td>\n",
       "      <td>89.0</td>\n",
       "    </tr>\n",
       "    <tr>\n",
       "      <th>1</th>\n",
       "      <td>1</td>\n",
       "      <td>158</td>\n",
       "      <td>30.0</td>\n",
       "    </tr>\n",
       "    <tr>\n",
       "      <th>2</th>\n",
       "      <td>1</td>\n",
       "      <td>161</td>\n",
       "      <td>8.5</td>\n",
       "    </tr>\n",
       "    <tr>\n",
       "      <th>3</th>\n",
       "      <td>1</td>\n",
       "      <td>162</td>\n",
       "      <td>55.0</td>\n",
       "    </tr>\n",
       "    <tr>\n",
       "      <th>4</th>\n",
       "      <td>1</td>\n",
       "      <td>163</td>\n",
       "      <td>75.0</td>\n",
       "    </tr>\n",
       "  </tbody>\n",
       "</table>\n",
       "</div>"
      ],
      "text/plain": [
       "   I    J     C\n",
       "0  1    1  89.0\n",
       "1  1  158  30.0\n",
       "2  1  161   8.5\n",
       "3  1  162  55.0\n",
       "4  1  163  75.0"
      ]
     },
     "execution_count": 42,
     "metadata": {},
     "output_type": "execute_result"
    }
   ],
   "source": [
    "pair_costs = trips_clean[['I', 'J', 'C']].groupby(['I', 'J']).median().reset_index()\n",
    "pair_costs.head()"
   ]
  },
  {
   "cell_type": "markdown",
   "metadata": {
    "deletable": false,
    "editable": false,
    "nbgrader": {
     "grade": false,
     "locked": true,
     "solution": false
    }
   },
   "source": [
    "In the sample output above, the columns `'I'` and `'J'` are the starting and ending zones, and `C` is the median (dollar) cost to travel from zone `'I'` to zone `'J'`. Here are the most expensive zone-to-zone trips:"
   ]
  },
  {
   "cell_type": "code",
   "execution_count": 43,
   "metadata": {
    "deletable": false,
    "editable": false,
    "nbgrader": {
     "grade": false,
     "locked": true,
     "solution": false
    }
   },
   "outputs": [
    {
     "data": {
      "text/html": [
       "<div>\n",
       "<style scoped>\n",
       "    .dataframe tbody tr th:only-of-type {\n",
       "        vertical-align: middle;\n",
       "    }\n",
       "\n",
       "    .dataframe tbody tr th {\n",
       "        vertical-align: top;\n",
       "    }\n",
       "\n",
       "    .dataframe thead th {\n",
       "        text-align: right;\n",
       "    }\n",
       "</style>\n",
       "<table border=\"1\" class=\"dataframe\">\n",
       "  <thead>\n",
       "    <tr style=\"text-align: right;\">\n",
       "      <th></th>\n",
       "      <th>I</th>\n",
       "      <th>J</th>\n",
       "      <th>C</th>\n",
       "    </tr>\n",
       "  </thead>\n",
       "  <tbody>\n",
       "    <tr>\n",
       "      <th>8321</th>\n",
       "      <td>83</td>\n",
       "      <td>1</td>\n",
       "      <td>99.0</td>\n",
       "    </tr>\n",
       "    <tr>\n",
       "      <th>3256</th>\n",
       "      <td>39</td>\n",
       "      <td>244</td>\n",
       "      <td>99.0</td>\n",
       "    </tr>\n",
       "    <tr>\n",
       "      <th>2938</th>\n",
       "      <td>37</td>\n",
       "      <td>1</td>\n",
       "      <td>98.5</td>\n",
       "    </tr>\n",
       "    <tr>\n",
       "      <th>15997</th>\n",
       "      <td>151</td>\n",
       "      <td>86</td>\n",
       "      <td>98.0</td>\n",
       "    </tr>\n",
       "    <tr>\n",
       "      <th>2180</th>\n",
       "      <td>28</td>\n",
       "      <td>1</td>\n",
       "      <td>97.5</td>\n",
       "    </tr>\n",
       "  </tbody>\n",
       "</table>\n",
       "</div>"
      ],
      "text/plain": [
       "         I    J     C\n",
       "8321    83    1  99.0\n",
       "3256    39  244  99.0\n",
       "2938    37    1  98.5\n",
       "15997  151   86  98.0\n",
       "2180    28    1  97.5"
      ]
     },
     "execution_count": 43,
     "metadata": {},
     "output_type": "execute_result"
    }
   ],
   "source": [
    "pair_costs.sort_values(by='C', ascending=False).head()"
   ]
  },
  {
   "cell_type": "markdown",
   "metadata": {
    "deletable": false,
    "editable": false,
    "nbgrader": {
     "grade": false,
     "locked": true,
     "solution": false
    }
   },
   "source": [
    "For the path analysis, we'll need to convert `pair_costs` into a sparse matrix representation. That is your next (and final) task."
   ]
  },
  {
   "cell_type": "markdown",
   "metadata": {
    "deletable": false,
    "editable": false,
    "nbgrader": {
     "grade": false,
     "locked": true,
     "solution": false
    }
   },
   "source": [
    "### Exercise 7: `make_csr` (2 points) ###\n",
    "\n",
    "Complete the function, `make_csr(pair_costs, n)`, below. It should take as input a pair-costs dataframe, like the one shown above, as well as the matrix dimension, `n`.\n",
    "\n",
    "It should return a Scipy sparse matrix in CSR (compressed sparse row) format. For the nonzero coordinates, use the zone IDs, `pair_costs['I']` and `pair_costs['J']` _as-is_. For the nonzero values, use the cost, `pair_costs['C']`.\n",
    "\n",
    "_Example:_ Suppose `pair_costs` is the following:\n",
    "\n",
    "|   I |   J |   C |\n",
    "|----:|----:|----:|\n",
    "|   1 |   1 |  89 |\n",
    "|   3 |   3 |  10 |\n",
    "|   4 |   1 |  70 |\n",
    "|   4 |   3 |  46 |\n",
    "|   4 |   4 |   5 |\n",
    "\n",
    "The matrix dimension must be `n >= 5`; suppose we take it to be `n=5`. Then the corresponding sparse matrix is, logically, as follows (blanks are zeroes):\n",
    "\n",
    "|   | 0    | 1    | 2 | 3    | 4    |\n",
    "|:-:|:----:|:----:|:-:|:----:|:----:|\n",
    "| 0 |      |      |   |      |      |\n",
    "| 1 |      | 89.0 |   |      |      |\n",
    "| 2 |      |      |   |      |      |\n",
    "| 3 |      |      |   | 10.0 |      |\n",
    "| 4 |      | 70.0 |   | 46.0 | 5.0  |\n",
    "\n",
    "You need to construct this matrix and store it as a Scipy CSR sparse matrix object.\n",
    "\n",
    "> _Note:_ Assume coordinates start at 0 and end at `n-1`, inclusive. If any zones IDs are missing, which may have happened during our filtering, those will simply become zero rows and columns in the matrix, as shown in the above example where there are no coordinates for row/column 0 or row/column 2."
   ]
  },
  {
   "cell_type": "code",
   "execution_count": 44,
   "metadata": {
    "collapsed": true
   },
   "outputs": [],
   "source": [
    "def make_csr(pair_costs, n):\n",
    "    ###\n",
    "    from scipy.sparse import csr_matrix\n",
    "    I = pair_costs['I']\n",
    "    J = pair_costs['J']\n",
    "    V = pair_costs['C']\n",
    "    G = csr_matrix((V, (I, J)), shape=(n, n))\n",
    "    return G\n",
    "    ###\n"
   ]
  },
  {
   "cell_type": "code",
   "execution_count": 45,
   "metadata": {},
   "outputs": [
    {
     "data": {
      "text/html": [
       "<div>\n",
       "<style scoped>\n",
       "    .dataframe tbody tr th:only-of-type {\n",
       "        vertical-align: middle;\n",
       "    }\n",
       "\n",
       "    .dataframe tbody tr th {\n",
       "        vertical-align: top;\n",
       "    }\n",
       "\n",
       "    .dataframe thead th {\n",
       "        text-align: right;\n",
       "    }\n",
       "</style>\n",
       "<table border=\"1\" class=\"dataframe\">\n",
       "  <thead>\n",
       "    <tr style=\"text-align: right;\">\n",
       "      <th></th>\n",
       "      <th>I</th>\n",
       "      <th>J</th>\n",
       "      <th>C</th>\n",
       "    </tr>\n",
       "  </thead>\n",
       "  <tbody>\n",
       "    <tr>\n",
       "      <th>0</th>\n",
       "      <td>1</td>\n",
       "      <td>1</td>\n",
       "      <td>89.0</td>\n",
       "    </tr>\n",
       "    <tr>\n",
       "      <th>19</th>\n",
       "      <td>3</td>\n",
       "      <td>3</td>\n",
       "      <td>10.0</td>\n",
       "    </tr>\n",
       "    <tr>\n",
       "      <th>71</th>\n",
       "      <td>4</td>\n",
       "      <td>1</td>\n",
       "      <td>70.0</td>\n",
       "    </tr>\n",
       "    <tr>\n",
       "      <th>72</th>\n",
       "      <td>4</td>\n",
       "      <td>3</td>\n",
       "      <td>46.0</td>\n",
       "    </tr>\n",
       "    <tr>\n",
       "      <th>73</th>\n",
       "      <td>4</td>\n",
       "      <td>4</td>\n",
       "      <td>5.0</td>\n",
       "    </tr>\n",
       "  </tbody>\n",
       "</table>\n",
       "</div>"
      ],
      "text/plain": [
       "    I  J     C\n",
       "0   1  1  89.0\n",
       "19  3  3  10.0\n",
       "71  4  1  70.0\n",
       "72  4  3  46.0\n",
       "73  4  4   5.0"
      ]
     },
     "metadata": {},
     "output_type": "display_data"
    },
    {
     "data": {
      "image/png": "[encoded data removed]",
      "text/plain": [
       "<Figure size 432x288 with 1 Axes>"
      ]
     },
     "metadata": {
      "needs_background": "light"
     },
     "output_type": "display_data"
    }
   ],
   "source": [
    "# Demo:\n",
    "ex7_demo = pair_costs[(pair_costs['I'] <= 4) & (pair_costs['J'] <= 4)]\n",
    "display(ex7_demo)\n",
    "\n",
    "# Call your code to convert:\n",
    "ex7_csr = make_csr(ex7_demo, 5)\n",
    "assert isinstance(ex7_csr, sp.sparse.csr.csr_matrix), \"Not a Scipy CSR sparse matrix?\"\n",
    "\n",
    "# Try to visualize:\n",
    "from matplotlib.pyplot import spy\n",
    "spy(ex7_csr);"
   ]
  },
  {
   "cell_type": "code",
   "execution_count": 46,
   "metadata": {
    "deletable": false,
    "editable": false,
    "nbgrader": {
     "grade": true,
     "grade_id": "mt2_ex7_make_csr",
     "locked": true,
     "points": "2",
     "solution": false
    }
   },
   "outputs": [
    {
     "name": "stdout",
     "output_type": "stream",
     "text": [
      "Testing...\n",
      "\n",
      "(Passed!)\n"
     ]
    }
   ],
   "source": [
    "# Test cell: mt2_ex7_make_csr (2 points)\n",
    "\n",
    "###\n",
    "### AUTOGRADER TEST - DO NOT REMOVE\n",
    "###\n",
    "\n",
    "from testing_tools import mt2_ex7__check\n",
    "print(\"Testing...\")\n",
    "for trial in range(100):\n",
    "    mt2_ex7__check(make_csr)\n",
    "\n",
    "make_csr__passed = True\n",
    "print(\"\\n(Passed!)\")"
   ]
  },
  {
   "cell_type": "markdown",
   "metadata": {
    "deletable": false,
    "editable": false,
    "nbgrader": {
     "grade": false,
     "locked": true,
     "solution": false
    }
   },
   "source": [
    "### Sample results for Exercise 7: `make_csr` $\\implies$ `Cost_matrix` ###\n",
    "\n",
    "If you had a working solution to Exercise 7, then in principle you could apply it to the `pair_costs` data to construct a CSR sparse matrix. We have precomputed this matrix for you.\n",
    "\n",
    "The code cell below loads that result into the global object `Cost_matrix`.\n",
    "\n",
    "> **Read and run this cell even if you skipped or otherwise did not complete Exercise 7.**"
   ]
  },
  {
   "cell_type": "code",
   "execution_count": 47,
   "metadata": {
    "deletable": false,
    "editable": false,
    "nbgrader": {
     "grade": false,
     "locked": true,
     "solution": false
    }
   },
   "outputs": [
    {
     "name": "stdout",
     "output_type": "stream",
     "text": [
      "The precomputed `Cost_matrix` is 266 x 266.\n",
      "It has 29,048 nonzeros, which makes it about 41.1% sparse.\n"
     ]
    },
    {
     "data": {
      "image/png": "[encoded data removed]",
      "text/plain": [
       "<Figure size 432x288 with 1 Axes>"
      ]
     },
     "metadata": {
      "needs_background": "light"
     },
     "output_type": "display_data"
    }
   ],
   "source": [
    "from testing_tools import mt2_csr_matrix as Cost_matrix\n",
    "\n",
    "print(f\"The precomputed `Cost_matrix` is {Cost_matrix.shape[0]:,} x {Cost_matrix.shape[1]:,}.\")\n",
    "print(f\"It has {Cost_matrix.nnz:,} nonzeros, which makes it about {Cost_matrix.nnz/Cost_matrix.shape[0]/Cost_matrix.shape[1]*100:.1f}% sparse.\")\n",
    "\n",
    "spy(Cost_matrix, markersize=0.02); # Quick viz"
   ]
  },
  {
   "cell_type": "markdown",
   "metadata": {
    "deletable": false,
    "editable": false,
    "nbgrader": {
     "grade": false,
     "locked": true,
     "solution": false
    }
   },
   "source": [
    "## Fin! And a visual epilogue ##"
   ]
  },
  {
   "cell_type": "markdown",
   "metadata": {
    "deletable": false,
    "editable": false,
    "nbgrader": {
     "grade": false,
     "locked": true,
     "solution": false
    }
   },
   "source": [
    "Congrats, you’ve reached the end of this exam problem. Don’t forget to restart and run all cells again to make sure it’s all working when run in sequence; and make sure your work passes the submission process. Good luck!"
   ]
  },
  {
   "cell_type": "markdown",
   "metadata": {
    "deletable": false,
    "editable": false,
    "nbgrader": {
     "grade": false,
     "locked": true,
     "solution": false
    }
   },
   "source": [
    "**Epilogue.** If you have some time to spare, the rest of this notebook shows you how to use the infrastructure you just built to do an interesting analysis, namely, looking for indirect paths between locations that might be _cheaper_ than going \"directly\" between those locations.\n",
    "\n",
    "This analysis relies on a standard Python module for graph analysis called [NetworkX](https://networkx.org/). Recall that a sparse matrix can be interpreted as a weighted graph of interconnected vertices, where we can assign a cost or _weight_ to each edge that directly connects two vertices. Let's start by constructing this graph."
   ]
  },
  {
   "cell_type": "code",
   "execution_count": 48,
   "metadata": {
    "collapsed": true,
    "deletable": false,
    "editable": false,
    "nbgrader": {
     "grade": false,
     "locked": true,
     "solution": false
    }
   },
   "outputs": [],
   "source": [
    "from networkx import from_scipy_sparse_matrix\n",
    "\n",
    "Cost_graph = from_scipy_sparse_matrix(Cost_matrix)"
   ]
  },
  {
   "cell_type": "markdown",
   "metadata": {
    "deletable": false,
    "editable": false,
    "nbgrader": {
     "grade": false,
     "locked": true,
     "solution": false
    }
   },
   "source": [
    "The _weight_ of every edge of this graph is the value of the corresponding entry of the sparse matrix. For instance:"
   ]
  },
  {
   "cell_type": "code",
   "execution_count": 49,
   "metadata": {
    "deletable": false,
    "editable": false,
    "nbgrader": {
     "grade": false,
     "locked": true,
     "solution": false
    }
   },
   "outputs": [
    {
     "name": "stdout",
     "output_type": "stream",
     "text": [
      "Matrix entry (83, 1): 99.0\n",
      "Graph edge (83, 1): 99.0\n"
     ]
    }
   ],
   "source": [
    "print(\"Matrix entry (83, 1):\", Cost_matrix[83, 1])\n",
    "print(\"Graph edge (83, 1):\", Cost_graph[83][1]['weight'])"
   ]
  },
  {
   "cell_type": "markdown",
   "metadata": {
    "deletable": false,
    "editable": false,
    "nbgrader": {
     "grade": false,
     "locked": true,
     "solution": false
    }
   },
   "source": [
    "**Shortest paths.** One cool aspect of the NetworkX graph representation is that we can perform graph queries. For example, here is a function that will look for the shortest path---that is, the sequence of vertices such that traversing their edges yields a path whose total weight is the smallest among all possible paths. Indeed, that path can be _smaller_ than the direct path, as you'll see momentarily!\n",
    "\n",
    "The function `get_shortest_path(G, i, j)` finds the shortest path in the graph `G` going between `i` and `j`, and returns the path as a list of vertices along with the length of that path:"
   ]
  },
  {
   "cell_type": "code",
   "execution_count": 50,
   "metadata": {
    "deletable": false,
    "editable": false,
    "nbgrader": {
     "grade": false,
     "locked": true,
     "solution": false
    }
   },
   "outputs": [
    {
     "name": "stdout",
     "output_type": "stream",
     "text": [
      "Path: [83, 233, 156, 1]\n",
      "Length 69.5 via the above path vs. 99.0 (\"direct\")\n"
     ]
    }
   ],
   "source": [
    "def get_shortest_path(G, i, j):\n",
    "    from networkx import shortest_path, shortest_path_length\n",
    "    p = shortest_path(G, source=i, target=j, weight='weight')\n",
    "    l = shortest_path_length(G, source=i, target=j, weight='weight')\n",
    "    return p, l\n",
    "\n",
    "# Demo: Check out the shortest path between 83 and 1\n",
    "path_83_1, length_83_1 = get_shortest_path(Cost_graph, 83, 1)\n",
    "print(\"Path:\", path_83_1)\n",
    "print(\"Length\", length_83_1, \"via the above path vs.\", Cost_matrix[83, 1], '(\"direct\")')"
   ]
  },
  {
   "cell_type": "markdown",
   "metadata": {
    "deletable": false,
    "editable": false,
    "nbgrader": {
     "grade": false,
     "locked": true,
     "solution": false
    }
   },
   "source": [
    "In the example above, the path starting at 83 and going through 233 and 156 before arriving at 1 has a cost of 69.5. Compare that to the direct path cost of 99!"
   ]
  },
  {
   "cell_type": "markdown",
   "metadata": {
    "deletable": false,
    "editable": false,
    "nbgrader": {
     "grade": false,
     "locked": true,
     "solution": false
    }
   },
   "source": [
    "Here is a visual representation of that path (run the next two cells)."
   ]
  },
  {
   "cell_type": "code",
   "execution_count": 51,
   "metadata": {
    "deletable": false,
    "editable": false,
    "nbgrader": {
     "grade": false,
     "locked": true,
     "solution": false
    }
   },
   "outputs": [
    {
     "name": "stdout",
     "output_type": "stream",
     "text": [
      "Opening geopandas data file, './resource/asnlib/publicdata/nyc-taxi-data/zone-shapes/geo_export_28967859-3b38-43de-a1a2-26aee980d05c.shp' ...\n"
     ]
    }
   ],
   "source": [
    "shapes = load_geopandas('nyc-taxi-data/zone-shapes/geo_export_28967859-3b38-43de-a1a2-26aee980d05c.shp')\n",
    "shapes['location_i'] = shapes['location_i'].astype(int)"
   ]
  },
  {
   "cell_type": "code",
   "execution_count": 52,
   "metadata": {
    "deletable": false,
    "editable": false,
    "nbgrader": {
     "grade": false,
     "locked": true,
     "solution": false
    }
   },
   "outputs": [
    {
     "name": "stdout",
     "output_type": "stream",
     "text": [
      "['83. Elmhurst/Maspeth, Queens',\n",
      " '233. UN/Turtle Bay South, Manhattan',\n",
      " '156. Mariners Harbor, Staten Island',\n",
      " '1. Newark Airport, EWR']\n",
      "==> Cost is 69.5 compared to the direct cost of 99.0\n"
     ]
    },
    {
     "data": {
      "text/plain": [
       "[83, 233, 156, 1]"
      ]
     },
     "execution_count": 52,
     "metadata": {},
     "output_type": "execute_result"
    },
    {
     "data": {
      "image/png": "[encoded data removed]",
      "text/plain": [
       "<Figure size 720x720 with 1 Axes>"
      ]
     },
     "metadata": {
      "needs_background": "light"
     },
     "output_type": "display_data"
    }
   ],
   "source": [
    "from testing_tools import plot_path\n",
    "\n",
    "demo_i, demo_j = 83, 1\n",
    "demo_path, demo_length = get_shortest_path(Cost_graph, demo_i, demo_j)\n",
    "pprint(path_to_zones(demo_path, zones_dict))\n",
    "print(f\"==> Cost is {demo_length} compared to the direct cost of {Cost_graph[demo_i][demo_j]['weight']}\")\n",
    "plot_path(demo_path, shapes)"
   ]
  },
  {
   "cell_type": "markdown",
   "metadata": {
    "deletable": false,
    "editable": false,
    "nbgrader": {
     "grade": false,
     "locked": true,
     "solution": false
    }
   },
   "source": [
    "This example is just a teaser; we hope you'll find some time to explore examples like this one in your own projects."
   ]
  }
 ],
 "metadata": {
  "kernelspec": {
   "display_name": "Python 3.8",
   "language": "python",
   "name": "python38"
  },
  "language_info": {
   "codemirror_mode": {
    "name": "ipython",
    "version": 3
   },
   "file_extension": ".py",
   "mimetype": "text/x-python",
   "name": "python",
   "nbconvert_exporter": "python",
   "pygments_lexer": "ipython3",
   "version": "3.8.7"
  },
  "toc": {
   "base_numbering": 1,
   "nav_menu": [],
   "number_sections": true,
   "sideBar": true,
   "skip_h1_title": false,
   "title_cell": "Table of Contents",
   "title_sidebar": "Contents",
   "toc_cell": false,
   "toc_position": [],
   "toc_section_display": true,
   "toc_window_display": false
  }
 },
 "nbformat": 4,
 "nbformat_minor": 2
}
